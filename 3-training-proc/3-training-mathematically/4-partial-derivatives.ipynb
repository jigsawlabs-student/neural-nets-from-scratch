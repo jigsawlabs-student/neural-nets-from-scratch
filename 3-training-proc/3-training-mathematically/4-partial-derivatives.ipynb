{
 "cells": [
  {
   "cell_type": "markdown",
   "metadata": {},
   "source": [
    "# Partial Derivatives"
   ]
  },
  {
   "cell_type": "markdown",
   "metadata": {},
   "source": [
    "### Introduction"
   ]
  },
  {
   "cell_type": "markdown",
   "metadata": {},
   "source": [
    "In previous lessons, we saw that we could use gradient descent to approach the minimum of a cost curve by repeatedly taking steps in the direction of the steepest descent.  To do this our procedure is the following: \n",
    "\n",
    "1. We begin by assigning a random value to each parameter.  \n",
    "2. Then we calculate the slope the of the cost curve as we change each parameter separately\n",
    "3. We update the parameters by changing them in proportion to the slope"
   ]
  },
  {
   "cell_type": "markdown",
   "metadata": {},
   "source": [
    "Now to perform step 2, we need to find the partial derivative.  The partial derivative allows us to determine instantaneous rate of change (ie. the derivative)  of a multi-parameter function as we change just one of the parameters.\n",
    "\n",
    "Let's see how we can find the partial derivative of a function by way of example."
   ]
  },
  {
   "cell_type": "markdown",
   "metadata": {},
   "source": [
    "### Finding the partial derivative"
   ]
  },
  {
   "cell_type": "markdown",
   "metadata": {},
   "source": [
    "Let's say that we have the following function:"
   ]
  },
  {
   "cell_type": "markdown",
   "metadata": {},
   "source": [
    "$f(x,y) = 3x^4y^2$"
   ]
  },
  {
   "cell_type": "markdown",
   "metadata": {},
   "source": [
    "> The notation for the partial derivative of $y$ is: \n",
    "> $$\\frac{\\delta f}{\\delta y}$$\n",
    "> That is, the change in our output of the function $f$ as we change our input $y$.\n",
    "> This is also worded as, the change in the function $f$, **with respect to** $y$."
   ]
  },
  {
   "cell_type": "markdown",
   "metadata": {},
   "source": [
    "We calculate our partial derivative similarly to how we previously calculated the derivative.  \n",
    "\n",
    "Remember, that if we have a function: \n",
    "\n",
    "* $g(x) = 3x^2$\n",
    "* $g'(x) = 6x$."
   ]
  },
  {
   "cell_type": "markdown",
   "metadata": {},
   "source": [
    "Now with partial derivatives, if we have a function:"
   ]
  },
  {
   "cell_type": "markdown",
   "metadata": {},
   "source": [
    "* $f(x,y) = 3x^4y^2$, then"
   ]
  },
  {
   "cell_type": "markdown",
   "metadata": {},
   "source": [
    "* $\\frac{\\delta f}{\\delta y} = 2*3x^4y = 6x^4y$"
   ]
  },
  {
   "cell_type": "markdown",
   "metadata": {},
   "source": [
    "Do you see how we got there?  Let's see it again.\n",
    "\n",
    "* $f(x,y) = (3x^4)*y^2$\n",
    "* $\\frac{\\delta f}{\\delta y} = (3x^4)*2*y^1 = 6x^4y$"
   ]
  },
  {
   "cell_type": "markdown",
   "metadata": {},
   "source": [
    "So we found the partial derivative by only differentiating with respect to *one* of the variables.  Because we are finding $\\frac{\\delta h}{\\delta y}$, we differentiate with respect to $y$.  Every other variable is treated as a constant, and so we just apply the same rules we would apply to a constant."
   ]
  },
  {
   "cell_type": "markdown",
   "metadata": {},
   "source": [
    "Let's do one more example."
   ]
  },
  {
   "cell_type": "markdown",
   "metadata": {},
   "source": [
    "We'll start use the same function $f(x,y) = 3x^4y^2$, but this time find $\\frac{\\delta f}{\\delta x}$.  What's the answer?"
   ]
  },
  {
   "cell_type": "markdown",
   "metadata": {},
   "source": [
    "> Hint: This time, we would treat $3*y^2$ as a constant."
   ]
  },
  {
   "cell_type": "markdown",
   "metadata": {},
   "source": [
    "So our answer is:"
   ]
  },
  {
   "cell_type": "markdown",
   "metadata": {},
   "source": [
    "$\\frac{\\delta f}{\\delta x} = 12x^3y^2$.  Do you see why?\n",
    "\n",
    "Here we just treat $3y^2$ as our constant, and then multiply $3y^2$ by $4x^3$ giving us $12x^3y^2$."
   ]
  },
  {
   "cell_type": "markdown",
   "metadata": {},
   "source": [
    "### What this means\n",
    "\n",
    "When we say that we have the partial derivative,  $\\frac{\\delta f}{\\delta y} = 6x^4y$, what we mean is that we can calculate the rate of change in the $y$ direction, by simply calculating $6x^4y$ at that point.  So the rate of change in the $y$ direction at point $x = 2, y = 1$ is $6x^4*3 = 18x^4$.  \n",
    "\n",
    "So once we calculate the our partial derivative, we can then just plug in our values of $x$ and $y$ to find the instantaneous rate of change in a given direction."
   ]
  },
  {
   "cell_type": "markdown",
   "metadata": {},
   "source": [
    "### Summary"
   ]
  },
  {
   "cell_type": "markdown",
   "metadata": {},
   "source": [
    "In this lesson, we learned the procedure for finding the partial the partial derivative.  When finding the partial derivative we only differentiate with respect to one of the variables, and we treat the rest of the variables as a constant. "
   ]
  }
 ],
 "metadata": {
  "kernelspec": {
   "display_name": "Python 3",
   "language": "python",
   "name": "python3"
  },
  "language_info": {
   "codemirror_mode": {
    "name": "ipython",
    "version": 3
   },
   "file_extension": ".py",
   "mimetype": "text/x-python",
   "name": "python",
   "nbconvert_exporter": "python",
   "pygments_lexer": "ipython3",
   "version": "3.7.4"
  }
 },
 "nbformat": 4,
 "nbformat_minor": 4
}
