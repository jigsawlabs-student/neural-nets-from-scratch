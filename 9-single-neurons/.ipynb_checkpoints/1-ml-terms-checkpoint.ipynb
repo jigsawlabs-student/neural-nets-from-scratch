{
 "cells": [
  {
   "cell_type": "markdown",
   "metadata": {},
   "source": [
    "# Machine learning Terms"
   ]
  },
  {
   "cell_type": "markdown",
   "metadata": {},
   "source": [
    "### 1. Gather the data\n",
    "\n",
    "\n",
    "Whenever we are faced with a machine learning algorithm, our first step is to gather data related to the outcome we are trying to predict.  For example, one of the most famous datasets is the breast cancer cell dataset created in 1992 by Dr. Wolberg at the University of Wisconsin.  Dr. Wolberg had look at images of different cells, write down characteristics about them, and then specify whether the cells were cancerous or not.  The idea was to gain learn more information about what characteristics could help to predict whether a cell would become cancerous."
   ]
  },
  {
   "cell_type": "markdown",
   "metadata": {},
   "source": [
    "For example this is a portion of the data he collected."
   ]
  },
  {
   "cell_type": "markdown",
   "metadata": {},
   "source": [
    "| mean area        | mean concavity    | cancerous\n",
    "| ------------- |:-------------:| :-------------:| \n",
    "|    458.7        |0.02383  | 1  | \n",
    "|    1509       |0.42640 | 0 | \n",
    "|    298.3        |0.06154 | 1 | \n",
    "|    530.2     | 0.20710 | 0 | \n",
    "|    612.2     | 0.81678 | 1 | \n",
    "|    420.8     | 0.4578 | 0 | "
   ]
  },
  {
   "cell_type": "markdown",
   "metadata": {},
   "source": [
    "Above is what we'll call this data our **training data**.  Gathering our training data is the first step in machine learning.  "
   ]
  },
  {
   "cell_type": "markdown",
   "metadata": {},
   "source": [
    "> Our **training data** is a set of previous examples or observations, almost like a series of experiments.  \n",
    "\n",
    "Our training data includes: \n",
    "\n",
    "1. Potential inputs to what we are trying to predict, and \n",
    "2. The past outcomes associated with these different inputs"
   ]
  },
  {
   "cell_type": "markdown",
   "metadata": {},
   "source": [
    "### 2. Defining Terms"
   ]
  },
  {
   "cell_type": "markdown",
   "metadata": {},
   "source": [
    "1. Observations"
   ]
  },
  {
   "cell_type": "markdown",
   "metadata": {},
   "source": [
    "Another word we'll use for training data is **observations**.  So the first row of our data is our first *observation*, where we observed mean area of 458, mean concavity of .023 and that the corresponding cell is cancerous - as indicated by a 1."
   ]
  },
  {
   "cell_type": "markdown",
   "metadata": {},
   "source": [
    "2. Target"
   ]
  },
  {
   "cell_type": "markdown",
   "metadata": {},
   "source": [
    "Our target is what we are trying to predict.  To here our target is `cancerous`.  Given information about a cell, our goal is to be able to predict whether or not that cell is cancerous."
   ]
  },
  {
   "cell_type": "markdown",
   "metadata": {},
   "source": [
    "3. Features \n",
    "\n",
    "The features are the *inputs*, or the factors involved in making our prediction.  So above, our features are `mean area` and `mean concavity`.  This is what we are currently considering when making our prediction."
   ]
  }
 ],
 "metadata": {
  "kernelspec": {
   "display_name": "Python 3",
   "language": "python",
   "name": "python3"
  },
  "language_info": {
   "codemirror_mode": {
    "name": "ipython",
    "version": 3
   },
   "file_extension": ".py",
   "mimetype": "text/x-python",
   "name": "python",
   "nbconvert_exporter": "python",
   "pygments_lexer": "ipython3",
   "version": "3.7.4"
  }
 },
 "nbformat": 4,
 "nbformat_minor": 4
}
