{
 "cells": [
  {
   "cell_type": "markdown",
   "metadata": {},
   "source": [
    "# Intro to Deep Learning"
   ]
  },
  {
   "cell_type": "markdown",
   "metadata": {},
   "source": [
    "### Introduction"
   ]
  },
  {
   "cell_type": "markdown",
   "metadata": {},
   "source": [
    "The structure of a neural network is inspired by the structure of the human brain itself.  And by using this structure, neural networks have been able to bring new applications to the field of machine learning - like labeling pictures, text, or sound waves.  It sounds pretty intimidating - building a software program that inspired by the brain that can achieve such feats.  But as we begin to interpret neural networks, we'll see that many of the core ideas, and what makes a neural a network function are fairly intuitive.  Let's get started."
   ]
  },
  {
   "cell_type": "markdown",
   "metadata": {},
   "source": [
    "### From network to neuron"
   ]
  },
  {
   "cell_type": "markdown",
   "metadata": {},
   "source": [
    "This is part of a real neural network."
   ]
  },
  {
   "cell_type": "markdown",
   "metadata": {},
   "source": [
    "<img src=\"./mit-neurons.jpg\" width=\"60%\">"
   ]
  },
  {
   "cell_type": "markdown",
   "metadata": {},
   "source": [
    "This set of spheres and squiggly lines is the mechanism by which humans interpret the world and think.  Each of those blue spheres is the cell body of a different neuron, where each neuron either fires or does not fire by generating an electrochemical signal.  The firing of an individual neuron influences the firing of a neuron it is connected to.  And this combination of firings or not firings is what composes our thoughts.  So let's start with an individual neuron, an artificial neuron, and develop an understanding for how and what it means for a neuron to fire."
   ]
  },
  {
   "cell_type": "markdown",
   "metadata": {},
   "source": [
    "### A simple neuron: Inputs and Output"
   ]
  },
  {
   "cell_type": "markdown",
   "metadata": {},
   "source": [
    "Ok, here's our artificial neuron."
   ]
  },
  {
   "cell_type": "markdown",
   "metadata": {},
   "source": [
    "<img src=\"./simple-neuron.png\" width=\"60%\" >"
   ]
  },
  {
   "cell_type": "markdown",
   "metadata": {},
   "source": [
    "What the diagram above expresses is that we need to represent something that takes multiple inputs and has one output.  The output is either a zero or one depending on whether the inputs it receives are strong enough.  In this way, our neuron is similar to a judge, weighing up different pieces of evidence and coming to a yes or no verdict if the evidence reaches a certain threshold."
   ]
  },
  {
   "cell_type": "markdown",
   "metadata": {},
   "source": [
    "Ok, let's build our neuron."
   ]
  },
  {
   "cell_type": "code",
   "execution_count": 14,
   "metadata": {},
   "outputs": [],
   "source": [
    "def neuron(evidence):\n",
    "    threshold = 5 # Any number would do here\n",
    "    if sum(evidence) >= threshold:\n",
    "        return 1\n",
    "    else:\n",
    "        return 0"
   ]
  },
  {
   "cell_type": "markdown",
   "metadata": {},
   "source": [
    "Ok, that's it.  We (arbitrarily) set a threshold equal to 5, and then if the sum of the evidence exceeds the threshold we return 1 to signal our neuron firing, and return 0 when the threshold isn't reached. "
   ]
  },
  {
   "cell_type": "markdown",
   "metadata": {},
   "source": [
    "We can imagine our neuron detecting sweetness.  It might take inputs of `sweet taste` and `sweet smell` to determine if something is sweet."
   ]
  },
  {
   "cell_type": "code",
   "execution_count": 21,
   "metadata": {},
   "outputs": [
    {
     "data": {
      "text/plain": [
       "1"
      ]
     },
     "execution_count": 21,
     "metadata": {},
     "output_type": "execute_result"
    }
   ],
   "source": [
    "# dark chocolate sweetness\n",
    "# tastes sweet: 6 \n",
    "# smells sweet: 3 \n",
    "dark_choc_sweetness = [6, 3]\n",
    "\n",
    "neuron(dark_choc_sweetness)"
   ]
  },
  {
   "cell_type": "code",
   "execution_count": 20,
   "metadata": {},
   "outputs": [
    {
     "data": {
      "text/plain": [
       "0"
      ]
     },
     "execution_count": 20,
     "metadata": {},
     "output_type": "execute_result"
    }
   ],
   "source": [
    "# coffee sweetness\n",
    "# tastes sweet: 3\n",
    "# smells sweet: 1 \n",
    "\n",
    "coffee_sweetness = [3, 1]\n",
    "neuron(coffee_sweetness)"
   ]
  },
  {
   "cell_type": "markdown",
   "metadata": {},
   "source": [
    "Mathematically, we can represent our neuron as the following:"
   ]
  },
  {
   "cell_type": "markdown",
   "metadata": {},
   "source": [
    "\\begin{equation}\n",
    "  f(x)=\\left\\{\n",
    "  \\begin{array}{@{}ll@{}}\n",
    "    1, & \\text{if}\\ x_1 + x_2 > threshold \\\\\n",
    "    0, & \\text{otherwise}\n",
    "  \\end{array}\\right.\n",
    "\\end{equation} "
   ]
  },
  {
   "cell_type": "markdown",
   "metadata": {},
   "source": [
    "Where $x_1$ and $x_2$ represent our inputs -- here sweet and smell."
   ]
  },
  {
   "cell_type": "markdown",
   "metadata": {},
   "source": [
    "### Developing our Pallete"
   ]
  },
  {
   "cell_type": "markdown",
   "metadata": {},
   "source": [
    "Now above, we just add up sweet taste and sweet smell equally, but imagine that we want to change this.  Let's set smell to be worth twice as much as smell.  Let's again change our neuron. "
   ]
  },
  {
   "cell_type": "code",
   "execution_count": 24,
   "metadata": {},
   "outputs": [],
   "source": [
    "coffee_sweetness = [3, 1]\n",
    "# tastes sweet: 3\n",
    "# smells sweet: 1\n",
    "\n",
    "dark_choc_sweetness = [6, 3]\n",
    "# tastes sweet: 6 \n",
    "# smells sweet: 3 "
   ]
  },
  {
   "cell_type": "code",
   "execution_count": 26,
   "metadata": {},
   "outputs": [],
   "source": [
    "def sweetness_neuron(evidence):\n",
    "    threshold = 5 \n",
    "    summation = 2*evidence[0] + 1*evidence[1]\n",
    "    if summation >= threshold:\n",
    "        return 1\n",
    "    else:\n",
    "        return 0"
   ]
  },
  {
   "cell_type": "markdown",
   "metadata": {},
   "source": [
    "Notice that now, coffee, is also considered sweet, as $2*3 + 1*1 = 7$ which is greater than $5$."
   ]
  },
  {
   "cell_type": "markdown",
   "metadata": {},
   "source": [
    "So notice above, we don't just add up our evidence, but also attach *weights* to different attributes - observed sweetness is worth two times the smell, so if we rewrote the formula to our example, it would be: "
   ]
  },
  {
   "cell_type": "markdown",
   "metadata": {},
   "source": [
    "\\begin{equation}\n",
    "  f(x)=\\left\\{\n",
    "  \\begin{array}{@{}ll@{}}\n",
    "    1, & \\text{if}\\ 2x_1 + 1x_2 > 5 \\\\\n",
    "    0, & \\text{otherwise}\n",
    "  \\end{array}\\right.\n",
    "\\end{equation} "
   ]
  },
  {
   "cell_type": "markdown",
   "metadata": {},
   "source": [
    "Where $x_1$ is sweetness and $x_2$ is smell."
   ]
  },
  {
   "cell_type": "markdown",
   "metadata": {},
   "source": [
    "Writing this as a general mathematical formula, we get to the following:"
   ]
  },
  {
   "cell_type": "markdown",
   "metadata": {},
   "source": [
    "\\begin{equation}\n",
    "  f(x)=\\left\\{\n",
    "  \\begin{array}{@{}ll@{}}\n",
    "    1, & \\text{if}\\ w_1x_1 + w_2x_2 > threshold \\\\\n",
    "    0, & \\text{otherwise}\n",
    "  \\end{array}\\right.\n",
    "\\end{equation} "
   ]
  },
  {
   "cell_type": "markdown",
   "metadata": {},
   "source": [
    "What we just built above is called a perceptron."
   ]
  },
  {
   "cell_type": "markdown",
   "metadata": {},
   "source": [
    "### Refactoring the perceptron"
   ]
  },
  {
   "cell_type": "markdown",
   "metadata": {},
   "source": [
    "So currently, our general equation for a perceptron is the following:"
   ]
  },
  {
   "cell_type": "markdown",
   "metadata": {},
   "source": [
    "\\begin{equation}\n",
    "  f(x)=\\left\\{\n",
    "  \\begin{array}{@{}ll@{}}\n",
    "    1, & \\text{if}\\ w_1x_1 + w_2x_2 > threshold \\\\\n",
    "    0, & \\text{otherwise}\n",
    "  \\end{array}\\right.\n",
    "\\end{equation} "
   ]
  },
  {
   "cell_type": "markdown",
   "metadata": {},
   "source": [
    "There is one change that we would like to make to our perceptron.  We'd like to move our threshold over to the left, and we'll call it the bias."
   ]
  },
  {
   "cell_type": "markdown",
   "metadata": {},
   "source": [
    "$w_1x_1 + w_2x_2 > threshold$\n",
    "\n",
    "$w_1x_1 + w_2x_2 - threshold > threshold - threshold$\n",
    "\n",
    "$w_1x_1 + w_2x_2 - threshold > 0$"
   ]
  },
  {
   "cell_type": "markdown",
   "metadata": {},
   "source": [
    "So now we have: "
   ]
  },
  {
   "cell_type": "markdown",
   "metadata": {},
   "source": [
    "\\begin{equation}\n",
    "  f(x)=\\left\\{\n",
    "  \\begin{array}{@{}ll@{}}\n",
    "    1, & \\text{if}\\ w_1x_1 + w_2x_2 + bias > 0 \\\\\n",
    "    0, & \\text{otherwise}\n",
    "  \\end{array}\\right.\n",
    "\\end{equation} "
   ]
  },
  {
   "cell_type": "markdown",
   "metadata": {},
   "source": [
    "Where bias is negative our threshold.  So we now we can rewrite our code like so:"
   ]
  },
  {
   "cell_type": "code",
   "execution_count": 77,
   "metadata": {},
   "outputs": [],
   "source": [
    "def sweetness_neuron(evidence):\n",
    "    summation = 2*evidence[0] + 1*evidence[1] - 5\n",
    "    if summation >= 0:\n",
    "        return 1\n",
    "    else:\n",
    "        return 0"
   ]
  },
  {
   "cell_type": "markdown",
   "metadata": {},
   "source": [
    "### Summary"
   ]
  }
 ],
 "metadata": {
  "kernelspec": {
   "display_name": "Python 3",
   "language": "python",
   "name": "python3"
  },
  "language_info": {
   "codemirror_mode": {
    "name": "ipython",
    "version": 3
   },
   "file_extension": ".py",
   "mimetype": "text/x-python",
   "name": "python",
   "nbconvert_exporter": "python",
   "pygments_lexer": "ipython3",
   "version": "3.7.4"
  }
 },
 "nbformat": 4,
 "nbformat_minor": 4
}
