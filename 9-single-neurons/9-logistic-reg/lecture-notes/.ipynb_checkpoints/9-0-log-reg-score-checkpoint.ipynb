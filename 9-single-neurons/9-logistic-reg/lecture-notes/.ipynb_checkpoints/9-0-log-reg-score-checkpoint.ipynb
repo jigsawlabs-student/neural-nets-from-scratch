{
 "cells": [
  {
   "cell_type": "markdown",
   "metadata": {},
   "source": [
    "# Introduction to Logistic Regression"
   ]
  },
  {
   "cell_type": "markdown",
   "metadata": {},
   "source": [
    "### Review: The Regression Problem"
   ]
  },
  {
   "cell_type": "markdown",
   "metadata": {},
   "source": [
    "So far we have worked with the problem of linear regression.  Now we can define the problem of linear regression as the following:"
   ]
  },
  {
   "cell_type": "markdown",
   "metadata": {},
   "source": [
    "> **Regression Problem**:  Given input vectors either real or discrete values, predict a real valued output.  "
   ]
  },
  {
   "cell_type": "markdown",
   "metadata": {},
   "source": [
    "* input features\n",
    "\n",
    "$x^{(i)} \\in \\mathbb{R}^n, i = 1...m$\n",
    "\n",
    "* output labels \n",
    "\n",
    "$y^{(i)} \\in \\mathbb{R}$"
   ]
  },
  {
   "cell_type": "markdown",
   "metadata": {},
   "source": [
    "When work with linear regression, the *target variables are all numbers*."
   ]
  },
  {
   "cell_type": "markdown",
   "metadata": {},
   "source": [
    "* Domain Examples \n",
    "    * Price of airbnb listings\n",
    "    * Number of customer registrations "
   ]
  },
  {
   "cell_type": "markdown",
   "metadata": {},
   "source": [
    "* Non-Regression Domains \n",
    "    *  Will default on a loan\n",
    "    *  Will someone will purchase our product"
   ]
  },
  {
   "cell_type": "markdown",
   "metadata": {},
   "source": [
    "### The classification problem"
   ]
  },
  {
   "cell_type": "markdown",
   "metadata": {},
   "source": [
    "> **Classification Problem**:  Given input vectors either real or discrete values, predict a discrete valued output.  "
   ]
  },
  {
   "cell_type": "markdown",
   "metadata": {},
   "source": [
    "* input features\n",
    "\n",
    "$x^{(i)} \\in \\mathbb{R}^n, i = 1...m$\n",
    "\n",
    "* output labels \n",
    "\n",
    "$y^{(i)} \\in \\{ 1, 2, ..k\\}$"
   ]
  },
  {
   "cell_type": "markdown",
   "metadata": {},
   "source": [
    "**Classification questions**\n",
    "\n",
    "* Will they or won't they.\n",
    "* Is it, or is it not.\n",
    "* Which category will they fall into?\n",
    "* Which product will they choose?"
   ]
  },
  {
   "cell_type": "markdown",
   "metadata": {},
   "source": [
    "1. Binary Classification\n",
    "2. Multiclass Classification"
   ]
  },
  {
   "cell_type": "markdown",
   "metadata": {},
   "source": [
    "[logistic regression cost](https://www.internalpointers.com/post/cost-function-logistic-regression)"
   ]
  }
 ],
 "metadata": {
  "kernelspec": {
   "display_name": "Python 3",
   "language": "python",
   "name": "python3"
  },
  "language_info": {
   "codemirror_mode": {
    "name": "ipython",
    "version": 3
   },
   "file_extension": ".py",
   "mimetype": "text/x-python",
   "name": "python",
   "nbconvert_exporter": "python",
   "pygments_lexer": "ipython3",
   "version": "3.7.3"
  }
 },
 "nbformat": 4,
 "nbformat_minor": 2
}
