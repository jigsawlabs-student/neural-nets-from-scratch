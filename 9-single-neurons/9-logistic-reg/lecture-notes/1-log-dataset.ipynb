{
 "cells": [
  {
   "cell_type": "markdown",
   "metadata": {},
   "source": [
    "# Introduction to Logistic Regression"
   ]
  },
  {
   "cell_type": "markdown",
   "metadata": {},
   "source": [
    "### Working with the Breast Cancer Data"
   ]
  },
  {
   "cell_type": "code",
   "execution_count": 4,
   "metadata": {},
   "outputs": [],
   "source": [
    "from sklearn.datasets import load_breast_cancer"
   ]
  },
  {
   "cell_type": "code",
   "execution_count": 5,
   "metadata": {},
   "outputs": [],
   "source": [
    "dataset = load_breast_cancer()"
   ]
  },
  {
   "cell_type": "code",
   "execution_count": 6,
   "metadata": {},
   "outputs": [
    {
     "data": {
      "text/plain": [
       "dict_keys(['data', 'target', 'target_names', 'DESCR', 'feature_names', 'filename'])"
      ]
     },
     "execution_count": 6,
     "metadata": {},
     "output_type": "execute_result"
    }
   ],
   "source": [
    "dataset.keys()"
   ]
  },
  {
   "cell_type": "code",
   "execution_count": 7,
   "metadata": {},
   "outputs": [],
   "source": [
    "from sklearn.datasets import load_breast_cancer\n",
    "dataset = load_breast_cancer()"
   ]
  },
  {
   "cell_type": "code",
   "execution_count": 8,
   "metadata": {},
   "outputs": [],
   "source": [
    "X = dataset['data']\n",
    "y = dataset['target']"
   ]
  },
  {
   "cell_type": "code",
   "execution_count": 9,
   "metadata": {},
   "outputs": [
    {
     "data": {
      "text/plain": [
       "array(['mean radius', 'mean texture', 'mean perimeter', 'mean area',\n",
       "       'mean smoothness', 'mean compactness', 'mean concavity',\n",
       "       'mean concave points', 'mean symmetry', 'mean fractal dimension',\n",
       "       'radius error', 'texture error', 'perimeter error', 'area error',\n",
       "       'smoothness error', 'compactness error', 'concavity error',\n",
       "       'concave points error', 'symmetry error',\n",
       "       'fractal dimension error', 'worst radius', 'worst texture',\n",
       "       'worst perimeter', 'worst area', 'worst smoothness',\n",
       "       'worst compactness', 'worst concavity', 'worst concave points',\n",
       "       'worst symmetry', 'worst fractal dimension'], dtype='<U23')"
      ]
     },
     "execution_count": 9,
     "metadata": {},
     "output_type": "execute_result"
    }
   ],
   "source": [
    "dataset['feature_names']"
   ]
  },
  {
   "cell_type": "code",
   "execution_count": 10,
   "metadata": {},
   "outputs": [
    {
     "data": {
      "text/html": [
       "<div>\n",
       "<style scoped>\n",
       "    .dataframe tbody tr th:only-of-type {\n",
       "        vertical-align: middle;\n",
       "    }\n",
       "\n",
       "    .dataframe tbody tr th {\n",
       "        vertical-align: top;\n",
       "    }\n",
       "\n",
       "    .dataframe thead th {\n",
       "        text-align: right;\n",
       "    }\n",
       "</style>\n",
       "<table border=\"1\" class=\"dataframe\">\n",
       "  <thead>\n",
       "    <tr style=\"text-align: right;\">\n",
       "      <th></th>\n",
       "      <th>mean radius</th>\n",
       "      <th>mean texture</th>\n",
       "      <th>mean perimeter</th>\n",
       "      <th>mean area</th>\n",
       "      <th>mean smoothness</th>\n",
       "      <th>mean compactness</th>\n",
       "      <th>mean concavity</th>\n",
       "      <th>mean concave points</th>\n",
       "      <th>mean symmetry</th>\n",
       "      <th>mean fractal dimension</th>\n",
       "      <th>...</th>\n",
       "      <th>worst radius</th>\n",
       "      <th>worst texture</th>\n",
       "      <th>worst perimeter</th>\n",
       "      <th>worst area</th>\n",
       "      <th>worst smoothness</th>\n",
       "      <th>worst compactness</th>\n",
       "      <th>worst concavity</th>\n",
       "      <th>worst concave points</th>\n",
       "      <th>worst symmetry</th>\n",
       "      <th>worst fractal dimension</th>\n",
       "    </tr>\n",
       "  </thead>\n",
       "  <tbody>\n",
       "    <tr>\n",
       "      <td>0</td>\n",
       "      <td>17.99</td>\n",
       "      <td>10.38</td>\n",
       "      <td>122.8</td>\n",
       "      <td>1001.0</td>\n",
       "      <td>0.11840</td>\n",
       "      <td>0.27760</td>\n",
       "      <td>0.3001</td>\n",
       "      <td>0.14710</td>\n",
       "      <td>0.2419</td>\n",
       "      <td>0.07871</td>\n",
       "      <td>...</td>\n",
       "      <td>25.38</td>\n",
       "      <td>17.33</td>\n",
       "      <td>184.6</td>\n",
       "      <td>2019.0</td>\n",
       "      <td>0.1622</td>\n",
       "      <td>0.6656</td>\n",
       "      <td>0.7119</td>\n",
       "      <td>0.2654</td>\n",
       "      <td>0.4601</td>\n",
       "      <td>0.11890</td>\n",
       "    </tr>\n",
       "    <tr>\n",
       "      <td>1</td>\n",
       "      <td>20.57</td>\n",
       "      <td>17.77</td>\n",
       "      <td>132.9</td>\n",
       "      <td>1326.0</td>\n",
       "      <td>0.08474</td>\n",
       "      <td>0.07864</td>\n",
       "      <td>0.0869</td>\n",
       "      <td>0.07017</td>\n",
       "      <td>0.1812</td>\n",
       "      <td>0.05667</td>\n",
       "      <td>...</td>\n",
       "      <td>24.99</td>\n",
       "      <td>23.41</td>\n",
       "      <td>158.8</td>\n",
       "      <td>1956.0</td>\n",
       "      <td>0.1238</td>\n",
       "      <td>0.1866</td>\n",
       "      <td>0.2416</td>\n",
       "      <td>0.1860</td>\n",
       "      <td>0.2750</td>\n",
       "      <td>0.08902</td>\n",
       "    </tr>\n",
       "    <tr>\n",
       "      <td>2</td>\n",
       "      <td>19.69</td>\n",
       "      <td>21.25</td>\n",
       "      <td>130.0</td>\n",
       "      <td>1203.0</td>\n",
       "      <td>0.10960</td>\n",
       "      <td>0.15990</td>\n",
       "      <td>0.1974</td>\n",
       "      <td>0.12790</td>\n",
       "      <td>0.2069</td>\n",
       "      <td>0.05999</td>\n",
       "      <td>...</td>\n",
       "      <td>23.57</td>\n",
       "      <td>25.53</td>\n",
       "      <td>152.5</td>\n",
       "      <td>1709.0</td>\n",
       "      <td>0.1444</td>\n",
       "      <td>0.4245</td>\n",
       "      <td>0.4504</td>\n",
       "      <td>0.2430</td>\n",
       "      <td>0.3613</td>\n",
       "      <td>0.08758</td>\n",
       "    </tr>\n",
       "  </tbody>\n",
       "</table>\n",
       "<p>3 rows × 30 columns</p>\n",
       "</div>"
      ],
      "text/plain": [
       "   mean radius  mean texture  mean perimeter  mean area  mean smoothness  \\\n",
       "0        17.99         10.38           122.8     1001.0          0.11840   \n",
       "1        20.57         17.77           132.9     1326.0          0.08474   \n",
       "2        19.69         21.25           130.0     1203.0          0.10960   \n",
       "\n",
       "   mean compactness  mean concavity  mean concave points  mean symmetry  \\\n",
       "0           0.27760          0.3001              0.14710         0.2419   \n",
       "1           0.07864          0.0869              0.07017         0.1812   \n",
       "2           0.15990          0.1974              0.12790         0.2069   \n",
       "\n",
       "   mean fractal dimension  ...  worst radius  worst texture  worst perimeter  \\\n",
       "0                 0.07871  ...         25.38          17.33            184.6   \n",
       "1                 0.05667  ...         24.99          23.41            158.8   \n",
       "2                 0.05999  ...         23.57          25.53            152.5   \n",
       "\n",
       "   worst area  worst smoothness  worst compactness  worst concavity  \\\n",
       "0      2019.0            0.1622             0.6656           0.7119   \n",
       "1      1956.0            0.1238             0.1866           0.2416   \n",
       "2      1709.0            0.1444             0.4245           0.4504   \n",
       "\n",
       "   worst concave points  worst symmetry  worst fractal dimension  \n",
       "0                0.2654          0.4601                  0.11890  \n",
       "1                0.1860          0.2750                  0.08902  \n",
       "2                0.2430          0.3613                  0.08758  \n",
       "\n",
       "[3 rows x 30 columns]"
      ]
     },
     "execution_count": 10,
     "metadata": {},
     "output_type": "execute_result"
    }
   ],
   "source": [
    "import pandas as pd\n",
    "df = pd.DataFrame(X, columns=dataset['feature_names'])\n",
    "df.head(3)"
   ]
  },
  {
   "cell_type": "markdown",
   "metadata": {},
   "source": [
    "If we look at the feature names, we can see some of the features that were observed.  The dataset was created in 1992, so these features were recorded by hand for each of the 569 observations.  "
   ]
  },
  {
   "cell_type": "code",
   "execution_count": 11,
   "metadata": {},
   "outputs": [
    {
     "data": {
      "text/plain": [
       "(569, 30)"
      ]
     },
     "execution_count": 11,
     "metadata": {},
     "output_type": "execute_result"
    }
   ],
   "source": [
    "X.shape"
   ]
  },
  {
   "cell_type": "code",
   "execution_count": 12,
   "metadata": {},
   "outputs": [],
   "source": [
    "df['is_cancerous'] = y"
   ]
  },
  {
   "cell_type": "code",
   "execution_count": 13,
   "metadata": {},
   "outputs": [],
   "source": [
    "import pandas as pd\n",
    "df = pd.DataFrame(X, columns = dataset['feature_names'])\n",
    "df['is_cancerous'] = y"
   ]
  },
  {
   "cell_type": "markdown",
   "metadata": {},
   "source": [
    "## Visualizing our problem"
   ]
  },
  {
   "cell_type": "markdown",
   "metadata": {},
   "source": [
    "### 1. Plotting one dimension"
   ]
  },
  {
   "cell_type": "markdown",
   "metadata": {},
   "source": [
    "Plot is `mean area` vs `is_cancerous`."
   ]
  },
  {
   "cell_type": "code",
   "execution_count": 14,
   "metadata": {},
   "outputs": [
    {
     "data": {
      "text/html": [
       "        <script type=\"text/javascript\">\n",
       "        window.PlotlyConfig = {MathJaxConfig: 'local'};\n",
       "        if (window.MathJax) {MathJax.Hub.Config({SVG: {font: \"STIX-Web\"}});}\n",
       "        if (typeof require !== 'undefined') {\n",
       "        require.undef(\"plotly\");\n",
       "        requirejs.config({\n",
       "            paths: {\n",
       "                'plotly': ['https://cdn.plot.ly/plotly-latest.min']\n",
       "            }\n",
       "        });\n",
       "        require(['plotly'], function(Plotly) {\n",
       "            window._Plotly = Plotly;\n",
       "        });\n",
       "        }\n",
       "        </script>\n",
       "        "
      ]
     },
     "metadata": {},
     "output_type": "display_data"
    }
   ],
   "source": [
    "from graph import trace_values, plot\n",
    "\n",
    "\n",
    "layout = {'xaxis': {'title': 'mean area'}, 'yaxis': {'title': 'is cancerous'}}\n"
   ]
  },
  {
   "cell_type": "markdown",
   "metadata": {},
   "source": [
    "### Add mean concavity improve separability\n",
    "\n",
    "This time,\n",
    "\n",
    "* display a separate feature on each axis.  \n",
    "* indicate whether a cell is cancerous or not by giving our datapoints different colors. "
   ]
  },
  {
   "cell_type": "markdown",
   "metadata": {},
   "source": [
    "1. Split data based on feature"
   ]
  },
  {
   "cell_type": "code",
   "execution_count": 15,
   "metadata": {},
   "outputs": [],
   "source": [
    "scoped_df = df[['mean area', 'mean concavity']]\n",
    "\n",
    "scoped_cancerous_df = scoped_df[df.is_cancerous == 1]\n",
    "scoped_non_cancerous_df = scoped_df[df.is_cancerous != 1]"
   ]
  },
  {
   "cell_type": "markdown",
   "metadata": {},
   "source": [
    "2. Separate out x_1, and x_2 features, and plot"
   ]
  },
  {
   "cell_type": "code",
   "execution_count": 16,
   "metadata": {},
   "outputs": [],
   "source": [
    "mean_area_c = scoped_cancerous_df.iloc[:, 0]\n",
    "mean_concavity_c = scoped_cancerous_df.iloc[:, 1]\n",
    "\n",
    "mean_area_nc = scoped_non_cancerous_df.iloc[:, 0]\n",
    "mean_concavity_nc = scoped_non_cancerous_df.iloc[:, 1]"
   ]
  },
  {
   "cell_type": "code",
   "execution_count": 17,
   "metadata": {},
   "outputs": [
    {
     "data": {
      "application/vnd.plotly.v1+json": {
       "config": {
        "linkText": "Export to plot.ly",
        "plotlyServerURL": "https://plot.ly",
        "showLink": false
       },
       "data": [
        {
         "mode": "markers",
         "name": "benign",
         "text": [],
         "type": "scatter",
         "x": [
          1001,
          1326,
          1203,
          386.1,
          1297,
          477.1,
          1040,
          577.9,
          519.8,
          475.9,
          797.8,
          781,
          1123,
          782.7,
          578.3,
          658.8,
          684.5,
          798.8,
          1260,
          704.4,
          1404,
          904.6,
          912.7,
          644.8,
          1094,
          732.4,
          955.1,
          1088,
          440.6,
          899.3,
          1162,
          807.2,
          869.5,
          633,
          698.8,
          559.2,
          563,
          371.1,
          1104,
          545.2,
          531.5,
          1076,
          534.6,
          1033,
          712.8,
          1152,
          656.9,
          645.7,
          499,
          668.3,
          1130,
          929.4,
          584.1,
          817.7,
          1006,
          1245,
          1878,
          1132,
          1075,
          648.2,
          1076,
          728.2,
          705.6,
          1264,
          642.5,
          582.7,
          530.2,
          1509,
          682.5,
          782.6,
          982,
          1077,
          1761,
          572.6,
          1138,
          1192,
          748.9,
          809.8,
          1075,
          506.3,
          678.1,
          813,
          432,
          963.7,
          1157,
          1214,
          1686,
          886.3,
          984.6,
          565.4,
          736.9,
          832.9,
          2250,
          1311,
          766.6,
          710.6,
          1041,
          609.9,
          477.4,
          671.4,
          588.9,
          1024,
          1148,
          642.7,
          951.6,
          1685,
          597.8,
          716.6,
          904.3,
          1290,
          2499,
          948,
          610.7,
          578.9,
          1230,
          1223,
          761.3,
          503.2,
          895,
          1319,
          1670,
          1306,
          920.6,
          1155,
          1364,
          1206,
          928.2,
          1169,
          602.4,
          1207,
          713.3,
          773.5,
          744.9,
          1288,
          933.1,
          947.8,
          758.6,
          928.3,
          1419,
          1491,
          998.9,
          1102,
          1138,
          1145,
          805.1,
          431.1,
          1217,
          1247,
          1027,
          1274,
          1264,
          813.7,
          826.8,
          793.2,
          918.6,
          1092,
          1747,
          1194,
          758.6,
          2010,
          716.6,
          1293,
          1234,
          1546,
          1482,
          840.4,
          1386,
          1335,
          361.6,
          664.7,
          1174,
          744.7,
          1407,
          994,
          991.7,
          719.5,
          803.1,
          685,
          1250,
          1110,
          599.5,
          928.8,
          990,
          981.6,
          1384,
          1191,
          930.9,
          2501,
          980.5,
          815.8,
          1167,
          857.6,
          1007,
          1068,
          1320,
          595.9,
          1682,
          731.3,
          556.7,
          701.9,
          1052,
          1214,
          1841,
          1299,
          1308,
          629.8,
          716.9,
          1347,
          1479,
          1261,
          858.1,
          1265
         ],
         "y": [
          0.3001,
          0.0869,
          0.1974,
          0.2414,
          0.198,
          0.1578,
          0.1127,
          0.09366,
          0.1859,
          0.2273,
          0.03299,
          0.09954,
          0.2065,
          0.09938,
          0.2128,
          0.1639,
          0.07395,
          0.1722,
          0.1479,
          0.2077,
          0.1097,
          0.1525,
          0.2229,
          0.1425,
          0.149,
          0.1683,
          0.09875,
          0.2319,
          0.1218,
          0.2417,
          0.1657,
          0.1354,
          0.1348,
          0.1319,
          0.02398,
          0.1063,
          0.0311,
          0.1044,
          0.2107,
          0.09847,
          0.08259,
          0.1974,
          0.1226,
          0.1772,
          0.05253,
          0.1323,
          0.1293,
          0.2135,
          0.1128,
          0.1267,
          0.108,
          0.1692,
          0.07789,
          0.09769,
          0.1684,
          0.3754,
          0.3339,
          0.1937,
          0.1335,
          0.1204,
          0.1468,
          0.1122,
          0.17,
          0.1465,
          0.09388,
          0.08625,
          0.2071,
          0.4264,
          0.169,
          0.2133,
          0.07293,
          0.1457,
          0.4268,
          0.05285,
          0.09271,
          0.2545,
          0.1466,
          0.1043,
          0.1153,
          0.04711,
          0.1539,
          0.09447,
          0.1659,
          0.1855,
          0.1193,
          0.2508,
          0.1324,
          0.08422,
          0.2159,
          0.05858,
          0.2032,
          0.1793,
          0.2871,
          0.2487,
          0.06593,
          0.05375,
          0.08169,
          0.1981,
          0.1085,
          0.1697,
          0.1385,
          0.1103,
          0.1114,
          0.118,
          0.1036,
          0.3523,
          0.1558,
          0.0755,
          0.0695,
          0.164,
          0.3201,
          0.1682,
          0.1115,
          0.09901,
          0.1272,
          0.1145,
          0.1147,
          0.1695,
          0.191,
          0.1554,
          0.195,
          0.09042,
          0.1417,
          0.2049,
          0.2712,
          0.2417,
          0.1266,
          0.1379,
          0.09789,
          0.1784,
          0.2448,
          0.3176,
          0.1751,
          0.1519,
          0.02891,
          0.09697,
          0.04209,
          0.09061,
          0.1367,
          0.2195,
          0.05699,
          0.0802,
          0.1921,
          0.1626,
          0.1948,
          0.02685,
          0.2197,
          0.2283,
          0.113,
          0.1155,
          0.2565,
          0.1478,
          0.1799,
          0.1204,
          0.1508,
          0.106,
          0.2308,
          0.1863,
          0.2914,
          0.3368,
          0.1235,
          0.09799,
          0.1641,
          0.1168,
          0.2448,
          0.1811,
          0.1932,
          0.1527,
          0.1689,
          0.0839,
          0.1856,
          0.1891,
          0.281,
          0.3189,
          0.1201,
          0.04686,
          0.1522,
          0.2733,
          0.2133,
          0.1594,
          0.1126,
          0.1204,
          0.109,
          0.1698,
          0.1572,
          0.1655,
          0.1007,
          0.3635,
          0.2136,
          0.2236,
          0.2256,
          0.03649,
          0.117,
          0.1491,
          0.2188,
          0.1357,
          0.1676,
          0.203,
          0.1445,
          0.07486,
          0.1569,
          0.1411,
          0.231,
          0.1523,
          0.2085,
          0.1463,
          0.255,
          0.3174,
          0.2439,
          0.144,
          0.09251,
          0.3514
         ]
        },
        {
         "mode": "markers",
         "name": "cancerous",
         "text": [],
         "type": "scatter",
         "x": [
          566.3,
          520,
          273.9,
          523.8,
          201.9,
          449.3,
          561,
          427.9,
          571.8,
          437.6,
          409,
          527.2,
          224.5,
          311.9,
          221.8,
          260.9,
          269.4,
          394.1,
          250.5,
          502.5,
          244,
          470.9,
          559.2,
          506.3,
          401.5,
          520,
          443.3,
          466.1,
          651.9,
          662.7,
          551.7,
          555.1,
          451.1,
          294.5,
          412.6,
          143.5,
          458.7,
          298.3,
          336.1,
          412.5,
          466.7,
          396.5,
          290.2,
          480.4,
          629.9,
          334.2,
          230.9,
          438.6,
          245.2,
          403.3,
          640.7,
          553.5,
          588.7,
          674.5,
          455.8,
          761.7,
          423.6,
          399.8,
          384.8,
          288.5,
          398,
          512.2,
          355.3,
          432.8,
          689.5,
          640.1,
          585,
          519.4,
          203.9,
          300.2,
          381.9,
          538.9,
          460.3,
          880.2,
          448.6,
          366.8,
          419.8,
          464.5,
          690.2,
          357.6,
          685.9,
          464.1,
          372.7,
          349.6,
          227.2,
          302.4,
          526.4,
          508.8,
          402,
          317.5,
          420.3,
          428.9,
          463.7,
          507.4,
          288.1,
          516.4,
          461,
          481.9,
          295.4,
          529.4,
          725.5,
          428,
          432.2,
          321.2,
          568.9,
          561.3,
          313.1,
          546.4,
          641.2,
          329.6,
          684.5,
          496.4,
          395.7,
          386.8,
          279.6,
          603.4,
          623.9,
          575.3,
          476.5,
          389.4,
          590,
          337.7,
          541.6,
          512.2,
          347,
          406.3,
          407.4,
          346.4,
          561,
          512.2,
          344.9,
          632.6,
          388,
          289.9,
          435.6,
          396.6,
          572.3,
          587.4,
          427.3,
          516.6,
          489,
          441,
          515.9,
          394.1,
          396,
          651,
          687.3,
          513.7,
          432.7,
          492.1,
          582.7,
          363.7,
          633.1,
          334.2,
          471.3,
          334.3,
          403.1,
          417.2,
          537.3,
          246.3,
          566.2,
          530.6,
          418.7,
          664.9,
          504.1,
          409.1,
          221.2,
          481.6,
          461.4,
          244.5,
          477.3,
          324.2,
          504.8,
          457.9,
          489.9,
          616.5,
          446,
          514,
          387.3,
          390,
          464.4,
          514.3,
          310.8,
          641.2,
          280.5,
          373.9,
          420.3,
          321.6,
          445.3,
          668.7,
          402.7,
          426.7,
          421,
          384.6,
          485.8,
          512,
          593.7,
          241,
          278.6,
          491.9,
          546.1,
          496.6,
          838.1,
          552.4,
          458.4,
          711.8,
          579.1,
          788.5,
          338.3,
          562.1,
          580.6,
          386.3,
          372.7,
          447.8,
          462.9,
          541.8,
          462,
          596.6,
          392,
          321.6,
          234.3,
          446.2,
          609.1,
          558.1,
          508.3,
          378.2,
          431.9,
          442.7,
          525.2,
          507.6,
          469.1,
          370,
          800,
          514.5,
          466.1,
          399.8,
          373.2,
          268.8,
          693.7,
          433.8,
          271.2,
          495,
          380.3,
          409.7,
          656.1,
          408.2,
          575.3,
          289.7,
          307.3,
          333.6,
          359.9,
          381.1,
          501.3,
          467.8,
          673.7,
          509.2,
          611.2,
          592.6,
          606.5,
          371.5,
          585.9,
          340.9,
          441.3,
          674.8,
          659.7,
          432,
          442.5,
          644.2,
          492.9,
          557.2,
          415.1,
          537.9,
          520.2,
          290.9,
          646.1,
          412.7,
          537.3,
          542.9,
          536.9,
          286.3,
          408.8,
          289.1,
          449.9,
          686.9,
          465.4,
          358.9,
          506.9,
          618.4,
          599.4,
          404.9,
          455.3,
          602.9,
          546.3,
          571.1,
          747.2,
          476.7,
          666,
          420.5,
          466.5,
          992.1,
          477.3,
          538.7,
          680.9,
          485.6,
          480.1,
          689.4,
          476.3,
          248.7,
          272.5,
          453.1,
          366.5,
          819.8,
          426,
          680.7,
          658.8,
          391.2,
          493.1,
          493.8,
          257.8,
          388.1,
          571,
          293.2,
          221.3,
          551.1,
          468.5,
          594.2,
          445.2,
          422.9,
          416.2,
          575.5,
          365.6,
          406.4,
          178.8,
          170.4,
          402.9,
          656.4,
          668.6,
          538.4,
          584.8,
          573.2,
          324.9,
          320.8,
          285.7,
          361.6,
          360.5,
          378.4,
          507.9,
          264,
          514.3,
          321.4,
          311.7,
          271.3,
          657.1,
          403.5,
          600.4,
          386,
          181
         ],
         "y": [
          0.06664,
          0.04568,
          0.02956,
          0.02562,
          0.01588,
          0.06592,
          0.04751,
          0.01657,
          0.01857,
          0.01972,
          0.03036,
          0.000692,
          0.02061,
          0.01084,
          0.03,
          0.05988,
          0.02172,
          0.03709,
          0.313,
          0.03653,
          0.08606,
          0.03372,
          0.06877,
          0.03889,
          0.04591,
          0.1169,
          0.04151,
          0.06015,
          0.09966,
          0.03102,
          0.03261,
          0.03974,
          0.0249,
          0.006829,
          0.04196,
          0,
          0.02383,
          0.06154,
          0.02995,
          0.0707,
          0.02643,
          0.05133,
          0.04334,
          0.1065,
          0.3003,
          0.06476,
          0.04132,
          0.03328,
          0.09263,
          0.03512,
          0.08842,
          0.08092,
          0.0142,
          0.1138,
          0.02855,
          0.07135,
          0.03592,
          0.03503,
          0.04635,
          0,
          0.02031,
          0.04894,
          0.02251,
          0.0371,
          0.0905,
          0.08487,
          0.02881,
          0.03136,
          0.1321,
          0.4108,
          0.01982,
          0.09293,
          0.03885,
          0.0515,
          0.01972,
          0.00309,
          0.06843,
          0.0537,
          0.01947,
          0.02531,
          0.02602,
          0.03987,
          0.02363,
          0,
          0,
          0.1307,
          0.001595,
          0.009193,
          0.06181,
          0.001597,
          0.03809,
          0.02353,
          0.03844,
          0.03112,
          0,
          0.03873,
          0.04187,
          0.08005,
          0.01756,
          0.08705,
          0.05892,
          0.02669,
          0.06636,
          0.05774,
          0.03888,
          0.0786,
          0.01768,
          0.03554,
          0.05724,
          0.006643,
          0.06505,
          0.05438,
          0.01633,
          0.004967,
          0.01652,
          0.01462,
          0.1103,
          0.04705,
          0.01053,
          0.1548,
          0.04697,
          0.04831,
          0.04336,
          0.1374,
          0.02379,
          0.04328,
          0.02638,
          0.06387,
          0.04072,
          0.039,
          0.08448,
          0.00725,
          0.03265,
          0.01103,
          0.05929,
          0.001487,
          0.01997,
          0.04479,
          0.02245,
          0.1115,
          0.00186,
          0.06574,
          0.0226,
          0.09274,
          0.02399,
          0.1362,
          0.0594,
          0.06155,
          0.02688,
          0.01288,
          0.01063,
          0.01236,
          0.02475,
          0.02495,
          0.0683,
          0.02297,
          0.03344,
          0.01974,
          0.001461,
          0.003681,
          0.002758,
          0.004559,
          0.01583,
          0.01447,
          0.04052,
          0.01367,
          0,
          0.004473,
          0.01123,
          0.1975,
          0.01342,
          0.06726,
          0.038,
          0.01994,
          0.03193,
          0.01765,
          0.001546,
          0.07107,
          0.005006,
          0.0009737,
          0.007756,
          0.03738,
          0.02511,
          0.08007,
          0.08422,
          0.05397,
          0.04006,
          0.03581,
          0.00751,
          0.04608,
          0.02587,
          0.01171,
          0.008306,
          0.04505,
          0.103,
          0.09603,
          0.01502,
          0.04721,
          0.0271,
          0.001194,
          0.03344,
          0.02688,
          0.05862,
          0.02181,
          0.04392,
          0.03393,
          0.02556,
          0.06651,
          0.228,
          0.01271,
          0.04249,
          0.079,
          0.03546,
          0.07943,
          0.05892,
          0.05077,
          0.06839,
          0.02045,
          0.1007,
          0.01923,
          0,
          0.04783,
          0.02681,
          0.0858,
          0.0739,
          0.02712,
          0.02853,
          0.02606,
          0.04057,
          0.03296,
          0.02109,
          0.04944,
          0.055,
          0.06126,
          0.03211,
          0.02783,
          0.03046,
          0.03735,
          0.06859,
          0.02555,
          0.02047,
          0.0236,
          0.008955,
          0.05485,
          0.145,
          0.07097,
          0.09657,
          0.008934,
          0.00247,
          0.06335,
          0.03614,
          0.01369,
          0.01402,
          0.07741,
          0.03346,
          0.01797,
          0.03534,
          0.01342,
          0.02087,
          0.09457,
          0.01055,
          0.01993,
          0.05441,
          0.04069,
          0.08817,
          0.08777,
          0.04055,
          0.06895,
          0.02966,
          0.02819,
          0.0716,
          0.02772,
          0.01206,
          0.01541,
          0.03476,
          0.03367,
          0.04859,
          0.101,
          0.1085,
          0.01479,
          0.102,
          0.02948,
          0.02367,
          0.05539,
          0,
          0.05115,
          0.05835,
          0.05063,
          0.02224,
          0.05308,
          0.02916,
          0.02995,
          0.05786,
          0.04548,
          0.1191,
          0.1544,
          0.05192,
          0.04279,
          0.01714,
          0.04445,
          0.007173,
          0.018,
          0.06824,
          0.08017,
          0.03609,
          0.07721,
          0.05928,
          0.0973,
          0.1188,
          0.08175,
          0.04063,
          0.05526,
          0.06726,
          0.03416,
          0.08222,
          0.04302,
          0.04825,
          0.0388,
          0.03332,
          0.005067,
          0.05385,
          0.0233,
          0.02565,
          0.04201,
          0.02958,
          0.101,
          0.03781,
          0.05282,
          0.042,
          0.01752,
          0.05263,
          0.04515,
          0,
          0.09252,
          0.06737,
          0.1009,
          0.04105,
          0.02987,
          0.03688,
          0.02974,
          0.01012,
          0.04358,
          0.02337,
          0.01548,
          0,
          0.04824,
          0.01997,
          0.03996,
          0.06195,
          0.05999,
          0.005025,
          0,
          0.1029,
          0.1112,
          0.04462,
          0,
          0
         ]
        }
       ],
       "layout": {
        "autosize": true,
        "template": {
         "data": {
          "bar": [
           {
            "error_x": {
             "color": "#2a3f5f"
            },
            "error_y": {
             "color": "#2a3f5f"
            },
            "marker": {
             "line": {
              "color": "#E5ECF6",
              "width": 0.5
             }
            },
            "type": "bar"
           }
          ],
          "barpolar": [
           {
            "marker": {
             "line": {
              "color": "#E5ECF6",
              "width": 0.5
             }
            },
            "type": "barpolar"
           }
          ],
          "carpet": [
           {
            "aaxis": {
             "endlinecolor": "#2a3f5f",
             "gridcolor": "white",
             "linecolor": "white",
             "minorgridcolor": "white",
             "startlinecolor": "#2a3f5f"
            },
            "baxis": {
             "endlinecolor": "#2a3f5f",
             "gridcolor": "white",
             "linecolor": "white",
             "minorgridcolor": "white",
             "startlinecolor": "#2a3f5f"
            },
            "type": "carpet"
           }
          ],
          "choropleth": [
           {
            "colorbar": {
             "outlinewidth": 0,
             "ticks": ""
            },
            "type": "choropleth"
           }
          ],
          "contour": [
           {
            "colorbar": {
             "outlinewidth": 0,
             "ticks": ""
            },
            "colorscale": [
             [
              0,
              "#0d0887"
             ],
             [
              0.1111111111111111,
              "#46039f"
             ],
             [
              0.2222222222222222,
              "#7201a8"
             ],
             [
              0.3333333333333333,
              "#9c179e"
             ],
             [
              0.4444444444444444,
              "#bd3786"
             ],
             [
              0.5555555555555556,
              "#d8576b"
             ],
             [
              0.6666666666666666,
              "#ed7953"
             ],
             [
              0.7777777777777778,
              "#fb9f3a"
             ],
             [
              0.8888888888888888,
              "#fdca26"
             ],
             [
              1,
              "#f0f921"
             ]
            ],
            "type": "contour"
           }
          ],
          "contourcarpet": [
           {
            "colorbar": {
             "outlinewidth": 0,
             "ticks": ""
            },
            "type": "contourcarpet"
           }
          ],
          "heatmap": [
           {
            "colorbar": {
             "outlinewidth": 0,
             "ticks": ""
            },
            "colorscale": [
             [
              0,
              "#0d0887"
             ],
             [
              0.1111111111111111,
              "#46039f"
             ],
             [
              0.2222222222222222,
              "#7201a8"
             ],
             [
              0.3333333333333333,
              "#9c179e"
             ],
             [
              0.4444444444444444,
              "#bd3786"
             ],
             [
              0.5555555555555556,
              "#d8576b"
             ],
             [
              0.6666666666666666,
              "#ed7953"
             ],
             [
              0.7777777777777778,
              "#fb9f3a"
             ],
             [
              0.8888888888888888,
              "#fdca26"
             ],
             [
              1,
              "#f0f921"
             ]
            ],
            "type": "heatmap"
           }
          ],
          "heatmapgl": [
           {
            "colorbar": {
             "outlinewidth": 0,
             "ticks": ""
            },
            "colorscale": [
             [
              0,
              "#0d0887"
             ],
             [
              0.1111111111111111,
              "#46039f"
             ],
             [
              0.2222222222222222,
              "#7201a8"
             ],
             [
              0.3333333333333333,
              "#9c179e"
             ],
             [
              0.4444444444444444,
              "#bd3786"
             ],
             [
              0.5555555555555556,
              "#d8576b"
             ],
             [
              0.6666666666666666,
              "#ed7953"
             ],
             [
              0.7777777777777778,
              "#fb9f3a"
             ],
             [
              0.8888888888888888,
              "#fdca26"
             ],
             [
              1,
              "#f0f921"
             ]
            ],
            "type": "heatmapgl"
           }
          ],
          "histogram": [
           {
            "marker": {
             "colorbar": {
              "outlinewidth": 0,
              "ticks": ""
             }
            },
            "type": "histogram"
           }
          ],
          "histogram2d": [
           {
            "colorbar": {
             "outlinewidth": 0,
             "ticks": ""
            },
            "colorscale": [
             [
              0,
              "#0d0887"
             ],
             [
              0.1111111111111111,
              "#46039f"
             ],
             [
              0.2222222222222222,
              "#7201a8"
             ],
             [
              0.3333333333333333,
              "#9c179e"
             ],
             [
              0.4444444444444444,
              "#bd3786"
             ],
             [
              0.5555555555555556,
              "#d8576b"
             ],
             [
              0.6666666666666666,
              "#ed7953"
             ],
             [
              0.7777777777777778,
              "#fb9f3a"
             ],
             [
              0.8888888888888888,
              "#fdca26"
             ],
             [
              1,
              "#f0f921"
             ]
            ],
            "type": "histogram2d"
           }
          ],
          "histogram2dcontour": [
           {
            "colorbar": {
             "outlinewidth": 0,
             "ticks": ""
            },
            "colorscale": [
             [
              0,
              "#0d0887"
             ],
             [
              0.1111111111111111,
              "#46039f"
             ],
             [
              0.2222222222222222,
              "#7201a8"
             ],
             [
              0.3333333333333333,
              "#9c179e"
             ],
             [
              0.4444444444444444,
              "#bd3786"
             ],
             [
              0.5555555555555556,
              "#d8576b"
             ],
             [
              0.6666666666666666,
              "#ed7953"
             ],
             [
              0.7777777777777778,
              "#fb9f3a"
             ],
             [
              0.8888888888888888,
              "#fdca26"
             ],
             [
              1,
              "#f0f921"
             ]
            ],
            "type": "histogram2dcontour"
           }
          ],
          "mesh3d": [
           {
            "colorbar": {
             "outlinewidth": 0,
             "ticks": ""
            },
            "type": "mesh3d"
           }
          ],
          "parcoords": [
           {
            "line": {
             "colorbar": {
              "outlinewidth": 0,
              "ticks": ""
             }
            },
            "type": "parcoords"
           }
          ],
          "pie": [
           {
            "automargin": true,
            "type": "pie"
           }
          ],
          "scatter": [
           {
            "marker": {
             "colorbar": {
              "outlinewidth": 0,
              "ticks": ""
             }
            },
            "type": "scatter"
           }
          ],
          "scatter3d": [
           {
            "line": {
             "colorbar": {
              "outlinewidth": 0,
              "ticks": ""
             }
            },
            "marker": {
             "colorbar": {
              "outlinewidth": 0,
              "ticks": ""
             }
            },
            "type": "scatter3d"
           }
          ],
          "scattercarpet": [
           {
            "marker": {
             "colorbar": {
              "outlinewidth": 0,
              "ticks": ""
             }
            },
            "type": "scattercarpet"
           }
          ],
          "scattergeo": [
           {
            "marker": {
             "colorbar": {
              "outlinewidth": 0,
              "ticks": ""
             }
            },
            "type": "scattergeo"
           }
          ],
          "scattergl": [
           {
            "marker": {
             "colorbar": {
              "outlinewidth": 0,
              "ticks": ""
             }
            },
            "type": "scattergl"
           }
          ],
          "scattermapbox": [
           {
            "marker": {
             "colorbar": {
              "outlinewidth": 0,
              "ticks": ""
             }
            },
            "type": "scattermapbox"
           }
          ],
          "scatterpolar": [
           {
            "marker": {
             "colorbar": {
              "outlinewidth": 0,
              "ticks": ""
             }
            },
            "type": "scatterpolar"
           }
          ],
          "scatterpolargl": [
           {
            "marker": {
             "colorbar": {
              "outlinewidth": 0,
              "ticks": ""
             }
            },
            "type": "scatterpolargl"
           }
          ],
          "scatterternary": [
           {
            "marker": {
             "colorbar": {
              "outlinewidth": 0,
              "ticks": ""
             }
            },
            "type": "scatterternary"
           }
          ],
          "surface": [
           {
            "colorbar": {
             "outlinewidth": 0,
             "ticks": ""
            },
            "colorscale": [
             [
              0,
              "#0d0887"
             ],
             [
              0.1111111111111111,
              "#46039f"
             ],
             [
              0.2222222222222222,
              "#7201a8"
             ],
             [
              0.3333333333333333,
              "#9c179e"
             ],
             [
              0.4444444444444444,
              "#bd3786"
             ],
             [
              0.5555555555555556,
              "#d8576b"
             ],
             [
              0.6666666666666666,
              "#ed7953"
             ],
             [
              0.7777777777777778,
              "#fb9f3a"
             ],
             [
              0.8888888888888888,
              "#fdca26"
             ],
             [
              1,
              "#f0f921"
             ]
            ],
            "type": "surface"
           }
          ],
          "table": [
           {
            "cells": {
             "fill": {
              "color": "#EBF0F8"
             },
             "line": {
              "color": "white"
             }
            },
            "header": {
             "fill": {
              "color": "#C8D4E3"
             },
             "line": {
              "color": "white"
             }
            },
            "type": "table"
           }
          ]
         },
         "layout": {
          "annotationdefaults": {
           "arrowcolor": "#2a3f5f",
           "arrowhead": 0,
           "arrowwidth": 1
          },
          "coloraxis": {
           "colorbar": {
            "outlinewidth": 0,
            "ticks": ""
           }
          },
          "colorscale": {
           "diverging": [
            [
             0,
             "#8e0152"
            ],
            [
             0.1,
             "#c51b7d"
            ],
            [
             0.2,
             "#de77ae"
            ],
            [
             0.3,
             "#f1b6da"
            ],
            [
             0.4,
             "#fde0ef"
            ],
            [
             0.5,
             "#f7f7f7"
            ],
            [
             0.6,
             "#e6f5d0"
            ],
            [
             0.7,
             "#b8e186"
            ],
            [
             0.8,
             "#7fbc41"
            ],
            [
             0.9,
             "#4d9221"
            ],
            [
             1,
             "#276419"
            ]
           ],
           "sequential": [
            [
             0,
             "#0d0887"
            ],
            [
             0.1111111111111111,
             "#46039f"
            ],
            [
             0.2222222222222222,
             "#7201a8"
            ],
            [
             0.3333333333333333,
             "#9c179e"
            ],
            [
             0.4444444444444444,
             "#bd3786"
            ],
            [
             0.5555555555555556,
             "#d8576b"
            ],
            [
             0.6666666666666666,
             "#ed7953"
            ],
            [
             0.7777777777777778,
             "#fb9f3a"
            ],
            [
             0.8888888888888888,
             "#fdca26"
            ],
            [
             1,
             "#f0f921"
            ]
           ],
           "sequentialminus": [
            [
             0,
             "#0d0887"
            ],
            [
             0.1111111111111111,
             "#46039f"
            ],
            [
             0.2222222222222222,
             "#7201a8"
            ],
            [
             0.3333333333333333,
             "#9c179e"
            ],
            [
             0.4444444444444444,
             "#bd3786"
            ],
            [
             0.5555555555555556,
             "#d8576b"
            ],
            [
             0.6666666666666666,
             "#ed7953"
            ],
            [
             0.7777777777777778,
             "#fb9f3a"
            ],
            [
             0.8888888888888888,
             "#fdca26"
            ],
            [
             1,
             "#f0f921"
            ]
           ]
          },
          "colorway": [
           "#636efa",
           "#EF553B",
           "#00cc96",
           "#ab63fa",
           "#FFA15A",
           "#19d3f3",
           "#FF6692",
           "#B6E880",
           "#FF97FF",
           "#FECB52"
          ],
          "font": {
           "color": "#2a3f5f"
          },
          "geo": {
           "bgcolor": "white",
           "lakecolor": "white",
           "landcolor": "#E5ECF6",
           "showlakes": true,
           "showland": true,
           "subunitcolor": "white"
          },
          "hoverlabel": {
           "align": "left"
          },
          "hovermode": "closest",
          "mapbox": {
           "style": "light"
          },
          "paper_bgcolor": "white",
          "plot_bgcolor": "#E5ECF6",
          "polar": {
           "angularaxis": {
            "gridcolor": "white",
            "linecolor": "white",
            "ticks": ""
           },
           "bgcolor": "#E5ECF6",
           "radialaxis": {
            "gridcolor": "white",
            "linecolor": "white",
            "ticks": ""
           }
          },
          "scene": {
           "xaxis": {
            "backgroundcolor": "#E5ECF6",
            "gridcolor": "white",
            "gridwidth": 2,
            "linecolor": "white",
            "showbackground": true,
            "ticks": "",
            "zerolinecolor": "white"
           },
           "yaxis": {
            "backgroundcolor": "#E5ECF6",
            "gridcolor": "white",
            "gridwidth": 2,
            "linecolor": "white",
            "showbackground": true,
            "ticks": "",
            "zerolinecolor": "white"
           },
           "zaxis": {
            "backgroundcolor": "#E5ECF6",
            "gridcolor": "white",
            "gridwidth": 2,
            "linecolor": "white",
            "showbackground": true,
            "ticks": "",
            "zerolinecolor": "white"
           }
          },
          "shapedefaults": {
           "line": {
            "color": "#2a3f5f"
           }
          },
          "ternary": {
           "aaxis": {
            "gridcolor": "white",
            "linecolor": "white",
            "ticks": ""
           },
           "baxis": {
            "gridcolor": "white",
            "linecolor": "white",
            "ticks": ""
           },
           "bgcolor": "#E5ECF6",
           "caxis": {
            "gridcolor": "white",
            "linecolor": "white",
            "ticks": ""
           }
          },
          "title": {
           "x": 0.05
          },
          "xaxis": {
           "automargin": true,
           "gridcolor": "white",
           "linecolor": "white",
           "ticks": "",
           "title": {
            "standoff": 15
           },
           "zerolinecolor": "white",
           "zerolinewidth": 2
          },
          "yaxis": {
           "automargin": true,
           "gridcolor": "white",
           "linecolor": "white",
           "ticks": "",
           "title": {
            "standoff": 15
           },
           "zerolinecolor": "white",
           "zerolinewidth": 2
          }
         }
        },
        "title": {
         "text": "Is it cancerous?"
        },
        "xaxis": {
         "autorange": true,
         "range": [
          -12.639828337176539,
          2657.1398283371764
         ],
         "title": {
          "text": "mean area"
         },
         "type": "linear"
        },
        "yaxis": {
         "range": [
          0,
          0.5
         ],
         "title": {
          "text": "mean concavity"
         },
         "type": "linear"
        }
       }
      },
      "image/png": "[encoded data removed]",
      "text/html": [
       "<div>\n",
       "        \n",
       "        \n",
       "            <div id=\"ebef9bd8-9a36-404d-b753-ca79b6b8244e\" class=\"plotly-graph-div\" style=\"height:525px; width:100%;\"></div>\n",
       "            <script type=\"text/javascript\">\n",
       "                require([\"plotly\"], function(Plotly) {\n",
       "                    window.PLOTLYENV=window.PLOTLYENV || {};\n",
       "                    \n",
       "                if (document.getElementById(\"ebef9bd8-9a36-404d-b753-ca79b6b8244e\")) {\n",
       "                    Plotly.newPlot(\n",
       "                        'ebef9bd8-9a36-404d-b753-ca79b6b8244e',\n",
       "                        [{\"mode\": \"markers\", \"name\": \"benign\", \"text\": [], \"type\": \"scatter\", \"x\": [1001.0, 1326.0, 1203.0, 386.1, 1297.0, 477.1, 1040.0, 577.9, 519.8, 475.9, 797.8, 781.0, 1123.0, 782.7, 578.3, 658.8, 684.5, 798.8, 1260.0, 704.4, 1404.0, 904.6, 912.7, 644.8, 1094.0, 732.4, 955.1, 1088.0, 440.6, 899.3, 1162.0, 807.2, 869.5, 633.0, 698.8, 559.2, 563.0, 371.1, 1104.0, 545.2, 531.5, 1076.0, 534.6, 1033.0, 712.8, 1152.0, 656.9, 645.7, 499.0, 668.3, 1130.0, 929.4, 584.1, 817.7, 1006.0, 1245.0, 1878.0, 1132.0, 1075.0, 648.2, 1076.0, 728.2, 705.6, 1264.0, 642.5, 582.7, 530.2, 1509.0, 682.5, 782.6, 982.0, 1077.0, 1761.0, 572.6, 1138.0, 1192.0, 748.9, 809.8, 1075.0, 506.3, 678.1, 813.0, 432.0, 963.7, 1157.0, 1214.0, 1686.0, 886.3, 984.6, 565.4, 736.9, 832.9, 2250.0, 1311.0, 766.6, 710.6, 1041.0, 609.9, 477.4, 671.4, 588.9, 1024.0, 1148.0, 642.7, 951.6, 1685.0, 597.8, 716.6, 904.3, 1290.0, 2499.0, 948.0, 610.7, 578.9, 1230.0, 1223.0, 761.3, 503.2, 895.0, 1319.0, 1670.0, 1306.0, 920.6, 1155.0, 1364.0, 1206.0, 928.2, 1169.0, 602.4, 1207.0, 713.3, 773.5, 744.9, 1288.0, 933.1, 947.8, 758.6, 928.3, 1419.0, 1491.0, 998.9, 1102.0, 1138.0, 1145.0, 805.1, 431.1, 1217.0, 1247.0, 1027.0, 1274.0, 1264.0, 813.7, 826.8, 793.2, 918.6, 1092.0, 1747.0, 1194.0, 758.6, 2010.0, 716.6, 1293.0, 1234.0, 1546.0, 1482.0, 840.4, 1386.0, 1335.0, 361.6, 664.7, 1174.0, 744.7, 1407.0, 994.0, 991.7, 719.5, 803.1, 685.0, 1250.0, 1110.0, 599.5, 928.8, 990.0, 981.6, 1384.0, 1191.0, 930.9, 2501.0, 980.5, 815.8, 1167.0, 857.6, 1007.0, 1068.0, 1320.0, 595.9, 1682.0, 731.3, 556.7, 701.9, 1052.0, 1214.0, 1841.0, 1299.0, 1308.0, 629.8, 716.9, 1347.0, 1479.0, 1261.0, 858.1, 1265.0], \"y\": [0.3001, 0.0869, 0.1974, 0.2414, 0.198, 0.1578, 0.1127, 0.09366, 0.1859, 0.2273, 0.03299, 0.09954, 0.2065, 0.09938, 0.2128, 0.1639, 0.07395, 0.1722, 0.1479, 0.2077, 0.1097, 0.1525, 0.2229, 0.1425, 0.149, 0.1683, 0.09875, 0.2319, 0.1218, 0.2417, 0.1657, 0.1354, 0.1348, 0.1319, 0.02398, 0.1063, 0.0311, 0.1044, 0.2107, 0.09847, 0.08259, 0.1974, 0.1226, 0.1772, 0.05253, 0.1323, 0.1293, 0.2135, 0.1128, 0.1267, 0.108, 0.1692, 0.07789, 0.09769, 0.1684, 0.3754, 0.3339, 0.1937, 0.1335, 0.1204, 0.1468, 0.1122, 0.17, 0.1465, 0.09388, 0.08625, 0.2071, 0.4264, 0.169, 0.2133, 0.07293, 0.1457, 0.4268, 0.05285, 0.09271, 0.2545, 0.1466, 0.1043, 0.1153, 0.04711, 0.1539, 0.09447, 0.1659, 0.1855, 0.1193, 0.2508, 0.1324, 0.08422, 0.2159, 0.05858, 0.2032, 0.1793, 0.2871, 0.2487, 0.06593, 0.05375, 0.08169, 0.1981, 0.1085, 0.1697, 0.1385, 0.1103, 0.1114, 0.118, 0.1036, 0.3523, 0.1558, 0.0755, 0.0695, 0.164, 0.3201, 0.1682, 0.1115, 0.09901, 0.1272, 0.1145, 0.1147, 0.1695, 0.191, 0.1554, 0.195, 0.09042, 0.1417, 0.2049, 0.2712, 0.2417, 0.1266, 0.1379, 0.09789, 0.1784, 0.2448, 0.3176, 0.1751, 0.1519, 0.02891, 0.09697, 0.04209, 0.09061, 0.1367, 0.2195, 0.05699, 0.0802, 0.1921, 0.1626, 0.1948, 0.02685, 0.2197, 0.2283, 0.113, 0.1155, 0.2565, 0.1478, 0.1799, 0.1204, 0.1508, 0.106, 0.2308, 0.1863, 0.2914, 0.3368, 0.1235, 0.09799, 0.1641, 0.1168, 0.2448, 0.1811, 0.1932, 0.1527, 0.1689, 0.0839, 0.1856, 0.1891, 0.281, 0.3189, 0.1201, 0.04686, 0.1522, 0.2733, 0.2133, 0.1594, 0.1126, 0.1204, 0.109, 0.1698, 0.1572, 0.1655, 0.1007, 0.3635, 0.2136, 0.2236, 0.2256, 0.03649, 0.117, 0.1491, 0.2188, 0.1357, 0.1676, 0.203, 0.1445, 0.07486, 0.1569, 0.1411, 0.231, 0.1523, 0.2085, 0.1463, 0.255, 0.3174, 0.2439, 0.144, 0.09251, 0.3514]}, {\"mode\": \"markers\", \"name\": \"cancerous\", \"text\": [], \"type\": \"scatter\", \"x\": [566.3, 520.0, 273.9, 523.8, 201.9, 449.3, 561.0, 427.9, 571.8, 437.6, 409.0, 527.2, 224.5, 311.9, 221.8, 260.9, 269.4, 394.1, 250.5, 502.5, 244.0, 470.9, 559.2, 506.3, 401.5, 520.0, 443.3, 466.1, 651.9, 662.7, 551.7, 555.1, 451.1, 294.5, 412.6, 143.5, 458.7, 298.3, 336.1, 412.5, 466.7, 396.5, 290.2, 480.4, 629.9, 334.2, 230.9, 438.6, 245.2, 403.3, 640.7, 553.5, 588.7, 674.5, 455.8, 761.7, 423.6, 399.8, 384.8, 288.5, 398.0, 512.2, 355.3, 432.8, 689.5, 640.1, 585.0, 519.4, 203.9, 300.2, 381.9, 538.9, 460.3, 880.2, 448.6, 366.8, 419.8, 464.5, 690.2, 357.6, 685.9, 464.1, 372.7, 349.6, 227.2, 302.4, 526.4, 508.8, 402.0, 317.5, 420.3, 428.9, 463.7, 507.4, 288.1, 516.4, 461.0, 481.9, 295.4, 529.4, 725.5, 428.0, 432.2, 321.2, 568.9, 561.3, 313.1, 546.4, 641.2, 329.6, 684.5, 496.4, 395.7, 386.8, 279.6, 603.4, 623.9, 575.3, 476.5, 389.4, 590.0, 337.7, 541.6, 512.2, 347.0, 406.3, 407.4, 346.4, 561.0, 512.2, 344.9, 632.6, 388.0, 289.9, 435.6, 396.6, 572.3, 587.4, 427.3, 516.6, 489.0, 441.0, 515.9, 394.1, 396.0, 651.0, 687.3, 513.7, 432.7, 492.1, 582.7, 363.7, 633.1, 334.2, 471.3, 334.3, 403.1, 417.2, 537.3, 246.3, 566.2, 530.6, 418.7, 664.9, 504.1, 409.1, 221.2, 481.6, 461.4, 244.5, 477.3, 324.2, 504.8, 457.9, 489.9, 616.5, 446.0, 514.0, 387.3, 390.0, 464.4, 514.3, 310.8, 641.2, 280.5, 373.9, 420.3, 321.6, 445.3, 668.7, 402.7, 426.7, 421.0, 384.6, 485.8, 512.0, 593.7, 241.0, 278.6, 491.9, 546.1, 496.6, 838.1, 552.4, 458.4, 711.8, 579.1, 788.5, 338.3, 562.1, 580.6, 386.3, 372.7, 447.8, 462.9, 541.8, 462.0, 596.6, 392.0, 321.6, 234.3, 446.2, 609.1, 558.1, 508.3, 378.2, 431.9, 442.7, 525.2, 507.6, 469.1, 370.0, 800.0, 514.5, 466.1, 399.8, 373.2, 268.8, 693.7, 433.8, 271.2, 495.0, 380.3, 409.7, 656.1, 408.2, 575.3, 289.7, 307.3, 333.6, 359.9, 381.1, 501.3, 467.8, 673.7, 509.2, 611.2, 592.6, 606.5, 371.5, 585.9, 340.9, 441.3, 674.8, 659.7, 432.0, 442.5, 644.2, 492.9, 557.2, 415.1, 537.9, 520.2, 290.9, 646.1, 412.7, 537.3, 542.9, 536.9, 286.3, 408.8, 289.1, 449.9, 686.9, 465.4, 358.9, 506.9, 618.4, 599.4, 404.9, 455.3, 602.9, 546.3, 571.1, 747.2, 476.7, 666.0, 420.5, 466.5, 992.1, 477.3, 538.7, 680.9, 485.6, 480.1, 689.4, 476.3, 248.7, 272.5, 453.1, 366.5, 819.8, 426.0, 680.7, 658.8, 391.2, 493.1, 493.8, 257.8, 388.1, 571.0, 293.2, 221.3, 551.1, 468.5, 594.2, 445.2, 422.9, 416.2, 575.5, 365.6, 406.4, 178.8, 170.4, 402.9, 656.4, 668.6, 538.4, 584.8, 573.2, 324.9, 320.8, 285.7, 361.6, 360.5, 378.4, 507.9, 264.0, 514.3, 321.4, 311.7, 271.3, 657.1, 403.5, 600.4, 386.0, 181.0], \"y\": [0.06664, 0.04568, 0.02956, 0.02562, 0.01588, 0.06592, 0.04751, 0.01657, 0.01857, 0.01972, 0.03036, 0.000692, 0.02061, 0.01084, 0.03, 0.05988, 0.02172, 0.03709, 0.313, 0.03653, 0.08606, 0.03372, 0.06877, 0.03889, 0.04591, 0.1169, 0.04151, 0.06015, 0.09966, 0.03102, 0.03261, 0.03974, 0.0249, 0.006829, 0.04196, 0.0, 0.02383, 0.06154, 0.02995, 0.0707, 0.02643, 0.05133, 0.04334, 0.1065, 0.3003, 0.06476, 0.04132, 0.03328, 0.09263, 0.03512, 0.08842, 0.08092, 0.0142, 0.1138, 0.02855, 0.07135, 0.03592, 0.03503, 0.04635, 0.0, 0.02031, 0.04894, 0.02251, 0.0371, 0.0905, 0.08487, 0.02881, 0.03136, 0.1321, 0.4108, 0.01982, 0.09293, 0.03885, 0.0515, 0.01972, 0.00309, 0.06843, 0.0537, 0.01947, 0.02531, 0.02602, 0.03987, 0.02363, 0.0, 0.0, 0.1307, 0.001595, 0.009193, 0.06181, 0.001597, 0.03809, 0.02353, 0.03844, 0.03112, 0.0, 0.03873, 0.04187, 0.08005, 0.01756, 0.08705, 0.05892, 0.02669, 0.06636, 0.05774, 0.03888, 0.0786, 0.01768, 0.03554, 0.05724, 0.006643, 0.06505, 0.05438, 0.01633, 0.004967, 0.01652, 0.01462, 0.1103, 0.04705, 0.01053, 0.1548, 0.04697, 0.04831, 0.04336, 0.1374, 0.02379, 0.04328, 0.02638, 0.06387, 0.04072, 0.039, 0.08448, 0.00725, 0.03265, 0.01103, 0.05929, 0.001487, 0.01997, 0.04479, 0.02245, 0.1115, 0.00186, 0.06574, 0.0226, 0.09274, 0.02399, 0.1362, 0.0594, 0.06155, 0.02688, 0.01288, 0.01063, 0.01236, 0.02475, 0.02495, 0.0683, 0.02297, 0.03344, 0.01974, 0.001461, 0.003681, 0.002758, 0.004559, 0.01583, 0.01447, 0.04052, 0.01367, 0.0, 0.004473, 0.01123, 0.1975, 0.01342, 0.06726, 0.038, 0.01994, 0.03193, 0.01765, 0.001546, 0.07107, 0.005006, 0.0009737, 0.007756, 0.03738, 0.02511, 0.08007, 0.08422, 0.05397, 0.04006, 0.03581, 0.00751, 0.04608, 0.02587, 0.01171, 0.008306, 0.04505, 0.103, 0.09603, 0.01502, 0.04721, 0.0271, 0.001194, 0.03344, 0.02688, 0.05862, 0.02181, 0.04392, 0.03393, 0.02556, 0.06651, 0.228, 0.01271, 0.04249, 0.079, 0.03546, 0.07943, 0.05892, 0.05077, 0.06839, 0.02045, 0.1007, 0.01923, 0.0, 0.04783, 0.02681, 0.0858, 0.0739, 0.02712, 0.02853, 0.02606, 0.04057, 0.03296, 0.02109, 0.04944, 0.055, 0.06126, 0.03211, 0.02783, 0.03046, 0.03735, 0.06859, 0.02555, 0.02047, 0.0236, 0.008955, 0.05485, 0.145, 0.07097, 0.09657, 0.008934, 0.00247, 0.06335, 0.03614, 0.01369, 0.01402, 0.07741, 0.03346, 0.01797, 0.03534, 0.01342, 0.02087, 0.09457, 0.01055, 0.01993, 0.05441, 0.04069, 0.08817, 0.08777, 0.04055, 0.06895, 0.02966, 0.02819, 0.0716, 0.02772, 0.01206, 0.01541, 0.03476, 0.03367, 0.04859, 0.101, 0.1085, 0.01479, 0.102, 0.02948, 0.02367, 0.05539, 0.0, 0.05115, 0.05835, 0.05063, 0.02224, 0.05308, 0.02916, 0.02995, 0.05786, 0.04548, 0.1191, 0.1544, 0.05192, 0.04279, 0.01714, 0.04445, 0.007173, 0.018, 0.06824, 0.08017, 0.03609, 0.07721, 0.05928, 0.0973, 0.1188, 0.08175, 0.04063, 0.05526, 0.06726, 0.03416, 0.08222, 0.04302, 0.04825, 0.0388, 0.03332, 0.005067, 0.05385, 0.0233, 0.02565, 0.04201, 0.02958, 0.101, 0.03781, 0.05282, 0.042, 0.01752, 0.05263, 0.04515, 0.0, 0.09252, 0.06737, 0.1009, 0.04105, 0.02987, 0.03688, 0.02974, 0.01012, 0.04358, 0.02337, 0.01548, 0.0, 0.04824, 0.01997, 0.03996, 0.06195, 0.05999, 0.005025, 0.0, 0.1029, 0.1112, 0.04462, 0.0, 0.0]}],\n",
       "                        {\"template\": {\"data\": {\"bar\": [{\"error_x\": {\"color\": \"#2a3f5f\"}, \"error_y\": {\"color\": \"#2a3f5f\"}, \"marker\": {\"line\": {\"color\": \"#E5ECF6\", \"width\": 0.5}}, \"type\": \"bar\"}], \"barpolar\": [{\"marker\": {\"line\": {\"color\": \"#E5ECF6\", \"width\": 0.5}}, \"type\": \"barpolar\"}], \"carpet\": [{\"aaxis\": {\"endlinecolor\": \"#2a3f5f\", \"gridcolor\": \"white\", \"linecolor\": \"white\", \"minorgridcolor\": \"white\", \"startlinecolor\": \"#2a3f5f\"}, \"baxis\": {\"endlinecolor\": \"#2a3f5f\", \"gridcolor\": \"white\", \"linecolor\": \"white\", \"minorgridcolor\": \"white\", \"startlinecolor\": \"#2a3f5f\"}, \"type\": \"carpet\"}], \"choropleth\": [{\"colorbar\": {\"outlinewidth\": 0, \"ticks\": \"\"}, \"type\": \"choropleth\"}], \"contour\": [{\"colorbar\": {\"outlinewidth\": 0, \"ticks\": \"\"}, \"colorscale\": [[0.0, \"#0d0887\"], [0.1111111111111111, \"#46039f\"], [0.2222222222222222, \"#7201a8\"], [0.3333333333333333, \"#9c179e\"], [0.4444444444444444, \"#bd3786\"], [0.5555555555555556, \"#d8576b\"], [0.6666666666666666, \"#ed7953\"], [0.7777777777777778, \"#fb9f3a\"], [0.8888888888888888, \"#fdca26\"], [1.0, \"#f0f921\"]], \"type\": \"contour\"}], \"contourcarpet\": [{\"colorbar\": {\"outlinewidth\": 0, \"ticks\": \"\"}, \"type\": \"contourcarpet\"}], \"heatmap\": [{\"colorbar\": {\"outlinewidth\": 0, \"ticks\": \"\"}, \"colorscale\": [[0.0, \"#0d0887\"], [0.1111111111111111, \"#46039f\"], [0.2222222222222222, \"#7201a8\"], [0.3333333333333333, \"#9c179e\"], [0.4444444444444444, \"#bd3786\"], [0.5555555555555556, \"#d8576b\"], [0.6666666666666666, \"#ed7953\"], [0.7777777777777778, \"#fb9f3a\"], [0.8888888888888888, \"#fdca26\"], [1.0, \"#f0f921\"]], \"type\": \"heatmap\"}], \"heatmapgl\": [{\"colorbar\": {\"outlinewidth\": 0, \"ticks\": \"\"}, \"colorscale\": [[0.0, \"#0d0887\"], [0.1111111111111111, \"#46039f\"], [0.2222222222222222, \"#7201a8\"], [0.3333333333333333, \"#9c179e\"], [0.4444444444444444, \"#bd3786\"], [0.5555555555555556, \"#d8576b\"], [0.6666666666666666, \"#ed7953\"], [0.7777777777777778, \"#fb9f3a\"], [0.8888888888888888, \"#fdca26\"], [1.0, \"#f0f921\"]], \"type\": \"heatmapgl\"}], \"histogram\": [{\"marker\": {\"colorbar\": {\"outlinewidth\": 0, \"ticks\": \"\"}}, \"type\": \"histogram\"}], \"histogram2d\": [{\"colorbar\": {\"outlinewidth\": 0, \"ticks\": \"\"}, \"colorscale\": [[0.0, \"#0d0887\"], [0.1111111111111111, \"#46039f\"], [0.2222222222222222, \"#7201a8\"], [0.3333333333333333, \"#9c179e\"], [0.4444444444444444, \"#bd3786\"], [0.5555555555555556, \"#d8576b\"], [0.6666666666666666, \"#ed7953\"], [0.7777777777777778, \"#fb9f3a\"], [0.8888888888888888, \"#fdca26\"], [1.0, \"#f0f921\"]], \"type\": \"histogram2d\"}], \"histogram2dcontour\": [{\"colorbar\": {\"outlinewidth\": 0, \"ticks\": \"\"}, \"colorscale\": [[0.0, \"#0d0887\"], [0.1111111111111111, \"#46039f\"], [0.2222222222222222, \"#7201a8\"], [0.3333333333333333, \"#9c179e\"], [0.4444444444444444, \"#bd3786\"], [0.5555555555555556, \"#d8576b\"], [0.6666666666666666, \"#ed7953\"], [0.7777777777777778, \"#fb9f3a\"], [0.8888888888888888, \"#fdca26\"], [1.0, \"#f0f921\"]], \"type\": \"histogram2dcontour\"}], \"mesh3d\": [{\"colorbar\": {\"outlinewidth\": 0, \"ticks\": \"\"}, \"type\": \"mesh3d\"}], \"parcoords\": [{\"line\": {\"colorbar\": {\"outlinewidth\": 0, \"ticks\": \"\"}}, \"type\": \"parcoords\"}], \"pie\": [{\"automargin\": true, \"type\": \"pie\"}], \"scatter\": [{\"marker\": {\"colorbar\": {\"outlinewidth\": 0, \"ticks\": \"\"}}, \"type\": \"scatter\"}], \"scatter3d\": [{\"line\": {\"colorbar\": {\"outlinewidth\": 0, \"ticks\": \"\"}}, \"marker\": {\"colorbar\": {\"outlinewidth\": 0, \"ticks\": \"\"}}, \"type\": \"scatter3d\"}], \"scattercarpet\": [{\"marker\": {\"colorbar\": {\"outlinewidth\": 0, \"ticks\": \"\"}}, \"type\": \"scattercarpet\"}], \"scattergeo\": [{\"marker\": {\"colorbar\": {\"outlinewidth\": 0, \"ticks\": \"\"}}, \"type\": \"scattergeo\"}], \"scattergl\": [{\"marker\": {\"colorbar\": {\"outlinewidth\": 0, \"ticks\": \"\"}}, \"type\": \"scattergl\"}], \"scattermapbox\": [{\"marker\": {\"colorbar\": {\"outlinewidth\": 0, \"ticks\": \"\"}}, \"type\": \"scattermapbox\"}], \"scatterpolar\": [{\"marker\": {\"colorbar\": {\"outlinewidth\": 0, \"ticks\": \"\"}}, \"type\": \"scatterpolar\"}], \"scatterpolargl\": [{\"marker\": {\"colorbar\": {\"outlinewidth\": 0, \"ticks\": \"\"}}, \"type\": \"scatterpolargl\"}], \"scatterternary\": [{\"marker\": {\"colorbar\": {\"outlinewidth\": 0, \"ticks\": \"\"}}, \"type\": \"scatterternary\"}], \"surface\": [{\"colorbar\": {\"outlinewidth\": 0, \"ticks\": \"\"}, \"colorscale\": [[0.0, \"#0d0887\"], [0.1111111111111111, \"#46039f\"], [0.2222222222222222, \"#7201a8\"], [0.3333333333333333, \"#9c179e\"], [0.4444444444444444, \"#bd3786\"], [0.5555555555555556, \"#d8576b\"], [0.6666666666666666, \"#ed7953\"], [0.7777777777777778, \"#fb9f3a\"], [0.8888888888888888, \"#fdca26\"], [1.0, \"#f0f921\"]], \"type\": \"surface\"}], \"table\": [{\"cells\": {\"fill\": {\"color\": \"#EBF0F8\"}, \"line\": {\"color\": \"white\"}}, \"header\": {\"fill\": {\"color\": \"#C8D4E3\"}, \"line\": {\"color\": \"white\"}}, \"type\": \"table\"}]}, \"layout\": {\"annotationdefaults\": {\"arrowcolor\": \"#2a3f5f\", \"arrowhead\": 0, \"arrowwidth\": 1}, \"coloraxis\": {\"colorbar\": {\"outlinewidth\": 0, \"ticks\": \"\"}}, \"colorscale\": {\"diverging\": [[0, \"#8e0152\"], [0.1, \"#c51b7d\"], [0.2, \"#de77ae\"], [0.3, \"#f1b6da\"], [0.4, \"#fde0ef\"], [0.5, \"#f7f7f7\"], [0.6, \"#e6f5d0\"], [0.7, \"#b8e186\"], [0.8, \"#7fbc41\"], [0.9, \"#4d9221\"], [1, \"#276419\"]], \"sequential\": [[0.0, \"#0d0887\"], [0.1111111111111111, \"#46039f\"], [0.2222222222222222, \"#7201a8\"], [0.3333333333333333, \"#9c179e\"], [0.4444444444444444, \"#bd3786\"], [0.5555555555555556, \"#d8576b\"], [0.6666666666666666, \"#ed7953\"], [0.7777777777777778, \"#fb9f3a\"], [0.8888888888888888, \"#fdca26\"], [1.0, \"#f0f921\"]], \"sequentialminus\": [[0.0, \"#0d0887\"], [0.1111111111111111, \"#46039f\"], [0.2222222222222222, \"#7201a8\"], [0.3333333333333333, \"#9c179e\"], [0.4444444444444444, \"#bd3786\"], [0.5555555555555556, \"#d8576b\"], [0.6666666666666666, \"#ed7953\"], [0.7777777777777778, \"#fb9f3a\"], [0.8888888888888888, \"#fdca26\"], [1.0, \"#f0f921\"]]}, \"colorway\": [\"#636efa\", \"#EF553B\", \"#00cc96\", \"#ab63fa\", \"#FFA15A\", \"#19d3f3\", \"#FF6692\", \"#B6E880\", \"#FF97FF\", \"#FECB52\"], \"font\": {\"color\": \"#2a3f5f\"}, \"geo\": {\"bgcolor\": \"white\", \"lakecolor\": \"white\", \"landcolor\": \"#E5ECF6\", \"showlakes\": true, \"showland\": true, \"subunitcolor\": \"white\"}, \"hoverlabel\": {\"align\": \"left\"}, \"hovermode\": \"closest\", \"mapbox\": {\"style\": \"light\"}, \"paper_bgcolor\": \"white\", \"plot_bgcolor\": \"#E5ECF6\", \"polar\": {\"angularaxis\": {\"gridcolor\": \"white\", \"linecolor\": \"white\", \"ticks\": \"\"}, \"bgcolor\": \"#E5ECF6\", \"radialaxis\": {\"gridcolor\": \"white\", \"linecolor\": \"white\", \"ticks\": \"\"}}, \"scene\": {\"xaxis\": {\"backgroundcolor\": \"#E5ECF6\", \"gridcolor\": \"white\", \"gridwidth\": 2, \"linecolor\": \"white\", \"showbackground\": true, \"ticks\": \"\", \"zerolinecolor\": \"white\"}, \"yaxis\": {\"backgroundcolor\": \"#E5ECF6\", \"gridcolor\": \"white\", \"gridwidth\": 2, \"linecolor\": \"white\", \"showbackground\": true, \"ticks\": \"\", \"zerolinecolor\": \"white\"}, \"zaxis\": {\"backgroundcolor\": \"#E5ECF6\", \"gridcolor\": \"white\", \"gridwidth\": 2, \"linecolor\": \"white\", \"showbackground\": true, \"ticks\": \"\", \"zerolinecolor\": \"white\"}}, \"shapedefaults\": {\"line\": {\"color\": \"#2a3f5f\"}}, \"ternary\": {\"aaxis\": {\"gridcolor\": \"white\", \"linecolor\": \"white\", \"ticks\": \"\"}, \"baxis\": {\"gridcolor\": \"white\", \"linecolor\": \"white\", \"ticks\": \"\"}, \"bgcolor\": \"#E5ECF6\", \"caxis\": {\"gridcolor\": \"white\", \"linecolor\": \"white\", \"ticks\": \"\"}}, \"title\": {\"x\": 0.05}, \"xaxis\": {\"automargin\": true, \"gridcolor\": \"white\", \"linecolor\": \"white\", \"ticks\": \"\", \"title\": {\"standoff\": 15}, \"zerolinecolor\": \"white\", \"zerolinewidth\": 2}, \"yaxis\": {\"automargin\": true, \"gridcolor\": \"white\", \"linecolor\": \"white\", \"ticks\": \"\", \"title\": {\"standoff\": 15}, \"zerolinecolor\": \"white\", \"zerolinewidth\": 2}}}, \"title\": {\"text\": \"Is it cancerous?\"}, \"xaxis\": {\"title\": {\"text\": \"mean area\"}}, \"yaxis\": {\"range\": [0, 0.5], \"title\": {\"text\": \"mean concavity\"}}},\n",
       "                        {\"responsive\": true}\n",
       "                    ).then(function(){\n",
       "                            \n",
       "var gd = document.getElementById('ebef9bd8-9a36-404d-b753-ca79b6b8244e');\n",
       "var x = new MutationObserver(function (mutations, observer) {{\n",
       "        var display = window.getComputedStyle(gd).display;\n",
       "        if (!display || display === 'none') {{\n",
       "            console.log([gd, 'removed!']);\n",
       "            Plotly.purge(gd);\n",
       "            observer.disconnect();\n",
       "        }}\n",
       "}});\n",
       "\n",
       "// Listen for the removal of the full notebook cells\n",
       "var notebookContainer = gd.closest('#notebook-container');\n",
       "if (notebookContainer) {{\n",
       "    x.observe(notebookContainer, {childList: true});\n",
       "}}\n",
       "\n",
       "// Listen for the clearing of the current output cell\n",
       "var outputEl = gd.closest('.output');\n",
       "if (outputEl) {{\n",
       "    x.observe(outputEl, {childList: true});\n",
       "}}\n",
       "\n",
       "                        })\n",
       "                };\n",
       "                });\n",
       "            </script>\n",
       "        </div>"
      ]
     },
     "metadata": {},
     "output_type": "display_data"
    }
   ],
   "source": [
    "cancerous_trace = trace_values(x_values=mean_area_c, y_values=mean_concavity_c, name = 'cancerous')\n",
    "non_cancerous_trace = trace_values(x_values=mean_area_nc, y_values=mean_concavity_nc, name = 'benign')\n",
    "layout = {'xaxis': {'title': 'mean area'}, 'yaxis': {'title': 'mean concavity', 'range': [0, .5]}, 'title': 'Is it cancerous?'}\n",
    "\n",
    "plot([non_cancerous_trace, cancerous_trace], layout = layout)"
   ]
  },
  {
   "cell_type": "markdown",
   "metadata": {},
   "source": [
    "So as you can see we differentiate the observed labels with an orange dot for cancerous and a blue dot for benign."
   ]
  },
  {
   "cell_type": "markdown",
   "metadata": {},
   "source": [
    "### Answering the Question"
   ]
  },
  {
   "cell_type": "markdown",
   "metadata": {},
   "source": [
    "When to is a cell likely to be cancerous?\n",
    "\n",
    "* Again, use a line\n",
    "* But in a different way than least squares"
   ]
  },
  {
   "cell_type": "markdown",
   "metadata": {},
   "source": [
    "Our hypothesis function is a **decision boundary**, or decision function.  "
   ]
  },
  {
   "cell_type": "code",
   "execution_count": 18,
   "metadata": {},
   "outputs": [
    {
     "name": "stderr",
     "output_type": "stream",
     "text": [
      "/Users/jeff/opt/anaconda3/lib/python3.7/site-packages/sklearn/linear_model/logistic.py:432: FutureWarning:\n",
      "\n",
      "Default solver will be changed to 'lbfgs' in 0.22. Specify a solver to silence this warning.\n",
      "\n"
     ]
    },
    {
     "data": {
      "text/plain": [
       "LogisticRegression(C=1.0, class_weight=None, dual=False, fit_intercept=True,\n",
       "                   intercept_scaling=1, l1_ratio=None, max_iter=100,\n",
       "                   multi_class='warn', n_jobs=None, penalty='l2',\n",
       "                   random_state=None, solver='warn', tol=0.0001, verbose=0,\n",
       "                   warm_start=False)"
      ]
     },
     "execution_count": 18,
     "metadata": {},
     "output_type": "execute_result"
    }
   ],
   "source": [
    "from sklearn.linear_model import LogisticRegression\n",
    "from sklearn.preprocessing import StandardScaler\n",
    "scoped_df = df[['mean area', 'mean concavity']]\n",
    "\n",
    "y = dataset['target']\n",
    "model = LogisticRegression()\n",
    "model.fit(scoped_df, y)"
   ]
  },
  {
   "cell_type": "markdown",
   "metadata": {},
   "source": [
    "Now after fitting our logistic regression model, we are given a set of parameters just like previously.  But this time our parameters are used to create our decision boundary."
   ]
  },
  {
   "cell_type": "code",
   "execution_count": 19,
   "metadata": {},
   "outputs": [
    {
     "data": {
      "text/plain": [
       "array([[-0.00802333, -3.47361781]])"
      ]
     },
     "execution_count": 19,
     "metadata": {},
     "output_type": "execute_result"
    }
   ],
   "source": [
    "model.coef_"
   ]
  },
  {
   "cell_type": "code",
   "execution_count": 20,
   "metadata": {},
   "outputs": [
    {
     "data": {
      "text/plain": [
       "array([5.86599622])"
      ]
     },
     "execution_count": 20,
     "metadata": {},
     "output_type": "execute_result"
    }
   ],
   "source": [
    "model.intercept_"
   ]
  },
  {
   "cell_type": "markdown",
   "metadata": {},
   "source": [
    "## Plot the decision boundary"
   ]
  },
  {
   "cell_type": "code",
   "execution_count": 30,
   "metadata": {},
   "outputs": [],
   "source": [
    "def decision_boundary_y(x, coefs, intercept):\n",
    "    coef_pair = coefs[0]\n",
    "    return (coef_pair[0]/coef_pair[1])*x + intercept[0]/coef_pair[1]"
   ]
  },
  {
   "cell_type": "code",
   "execution_count": 31,
   "metadata": {},
   "outputs": [],
   "source": [
    "area_values = list(range(500, 1000, 5))\n",
    "boundaries = [decision_boundary_y(idx, model.coef_, model.intercept_) for idx in area_values]"
   ]
  },
  {
   "cell_type": "code",
   "execution_count": 32,
   "metadata": {},
   "outputs": [
    {
     "data": {
      "application/vnd.plotly.v1+json": {
       "config": {
        "linkText": "Export to plot.ly",
        "plotlyServerURL": "https://plot.ly",
        "showLink": false
       },
       "data": [
        {
         "mode": "markers",
         "name": "cancerous",
         "text": [],
         "type": "scatter",
         "x": [
          566.3,
          520,
          273.9,
          523.8,
          201.9,
          449.3,
          561,
          427.9,
          571.8,
          437.6,
          409,
          527.2,
          224.5,
          311.9,
          221.8,
          260.9,
          269.4,
          394.1,
          250.5,
          502.5,
          244,
          470.9,
          559.2,
          506.3,
          401.5,
          520,
          443.3,
          466.1,
          651.9,
          662.7,
          551.7,
          555.1,
          451.1,
          294.5,
          412.6,
          143.5,
          458.7,
          298.3,
          336.1,
          412.5,
          466.7,
          396.5,
          290.2,
          480.4,
          629.9,
          334.2,
          230.9,
          438.6,
          245.2,
          403.3,
          640.7,
          553.5,
          588.7,
          674.5,
          455.8,
          761.7,
          423.6,
          399.8,
          384.8,
          288.5,
          398,
          512.2,
          355.3,
          432.8,
          689.5,
          640.1,
          585,
          519.4,
          203.9,
          300.2,
          381.9,
          538.9,
          460.3,
          880.2,
          448.6,
          366.8,
          419.8,
          464.5,
          690.2,
          357.6,
          685.9,
          464.1,
          372.7,
          349.6,
          227.2,
          302.4,
          526.4,
          508.8,
          402,
          317.5,
          420.3,
          428.9,
          463.7,
          507.4,
          288.1,
          516.4,
          461,
          481.9,
          295.4,
          529.4,
          725.5,
          428,
          432.2,
          321.2,
          568.9,
          561.3,
          313.1,
          546.4,
          641.2,
          329.6,
          684.5,
          496.4,
          395.7,
          386.8,
          279.6,
          603.4,
          623.9,
          575.3,
          476.5,
          389.4,
          590,
          337.7,
          541.6,
          512.2,
          347,
          406.3,
          407.4,
          346.4,
          561,
          512.2,
          344.9,
          632.6,
          388,
          289.9,
          435.6,
          396.6,
          572.3,
          587.4,
          427.3,
          516.6,
          489,
          441,
          515.9,
          394.1,
          396,
          651,
          687.3,
          513.7,
          432.7,
          492.1,
          582.7,
          363.7,
          633.1,
          334.2,
          471.3,
          334.3,
          403.1,
          417.2,
          537.3,
          246.3,
          566.2,
          530.6,
          418.7,
          664.9,
          504.1,
          409.1,
          221.2,
          481.6,
          461.4,
          244.5,
          477.3,
          324.2,
          504.8,
          457.9,
          489.9,
          616.5,
          446,
          514,
          387.3,
          390,
          464.4,
          514.3,
          310.8,
          641.2,
          280.5,
          373.9,
          420.3,
          321.6,
          445.3,
          668.7,
          402.7,
          426.7,
          421,
          384.6,
          485.8,
          512,
          593.7,
          241,
          278.6,
          491.9,
          546.1,
          496.6,
          838.1,
          552.4,
          458.4,
          711.8,
          579.1,
          788.5,
          338.3,
          562.1,
          580.6,
          386.3,
          372.7,
          447.8,
          462.9,
          541.8,
          462,
          596.6,
          392,
          321.6,
          234.3,
          446.2,
          609.1,
          558.1,
          508.3,
          378.2,
          431.9,
          442.7,
          525.2,
          507.6,
          469.1,
          370,
          800,
          514.5,
          466.1,
          399.8,
          373.2,
          268.8,
          693.7,
          433.8,
          271.2,
          495,
          380.3,
          409.7,
          656.1,
          408.2,
          575.3,
          289.7,
          307.3,
          333.6,
          359.9,
          381.1,
          501.3,
          467.8,
          673.7,
          509.2,
          611.2,
          592.6,
          606.5,
          371.5,
          585.9,
          340.9,
          441.3,
          674.8,
          659.7,
          432,
          442.5,
          644.2,
          492.9,
          557.2,
          415.1,
          537.9,
          520.2,
          290.9,
          646.1,
          412.7,
          537.3,
          542.9,
          536.9,
          286.3,
          408.8,
          289.1,
          449.9,
          686.9,
          465.4,
          358.9,
          506.9,
          618.4,
          599.4,
          404.9,
          455.3,
          602.9,
          546.3,
          571.1,
          747.2,
          476.7,
          666,
          420.5,
          466.5,
          992.1,
          477.3,
          538.7,
          680.9,
          485.6,
          480.1,
          689.4,
          476.3,
          248.7,
          272.5,
          453.1,
          366.5,
          819.8,
          426,
          680.7,
          658.8,
          391.2,
          493.1,
          493.8,
          257.8,
          388.1,
          571,
          293.2,
          221.3,
          551.1,
          468.5,
          594.2,
          445.2,
          422.9,
          416.2,
          575.5,
          365.6,
          406.4,
          178.8,
          170.4,
          402.9,
          656.4,
          668.6,
          538.4,
          584.8,
          573.2,
          324.9,
          320.8,
          285.7,
          361.6,
          360.5,
          378.4,
          507.9,
          264,
          514.3,
          321.4,
          311.7,
          271.3,
          657.1,
          403.5,
          600.4,
          386,
          181
         ],
         "y": [
          0.06664,
          0.04568,
          0.02956,
          0.02562,
          0.01588,
          0.06592,
          0.04751,
          0.01657,
          0.01857,
          0.01972,
          0.03036,
          0.000692,
          0.02061,
          0.01084,
          0.03,
          0.05988,
          0.02172,
          0.03709,
          0.313,
          0.03653,
          0.08606,
          0.03372,
          0.06877,
          0.03889,
          0.04591,
          0.1169,
          0.04151,
          0.06015,
          0.09966,
          0.03102,
          0.03261,
          0.03974,
          0.0249,
          0.006829,
          0.04196,
          0,
          0.02383,
          0.06154,
          0.02995,
          0.0707,
          0.02643,
          0.05133,
          0.04334,
          0.1065,
          0.3003,
          0.06476,
          0.04132,
          0.03328,
          0.09263,
          0.03512,
          0.08842,
          0.08092,
          0.0142,
          0.1138,
          0.02855,
          0.07135,
          0.03592,
          0.03503,
          0.04635,
          0,
          0.02031,
          0.04894,
          0.02251,
          0.0371,
          0.0905,
          0.08487,
          0.02881,
          0.03136,
          0.1321,
          0.4108,
          0.01982,
          0.09293,
          0.03885,
          0.0515,
          0.01972,
          0.00309,
          0.06843,
          0.0537,
          0.01947,
          0.02531,
          0.02602,
          0.03987,
          0.02363,
          0,
          0,
          0.1307,
          0.001595,
          0.009193,
          0.06181,
          0.001597,
          0.03809,
          0.02353,
          0.03844,
          0.03112,
          0,
          0.03873,
          0.04187,
          0.08005,
          0.01756,
          0.08705,
          0.05892,
          0.02669,
          0.06636,
          0.05774,
          0.03888,
          0.0786,
          0.01768,
          0.03554,
          0.05724,
          0.006643,
          0.06505,
          0.05438,
          0.01633,
          0.004967,
          0.01652,
          0.01462,
          0.1103,
          0.04705,
          0.01053,
          0.1548,
          0.04697,
          0.04831,
          0.04336,
          0.1374,
          0.02379,
          0.04328,
          0.02638,
          0.06387,
          0.04072,
          0.039,
          0.08448,
          0.00725,
          0.03265,
          0.01103,
          0.05929,
          0.001487,
          0.01997,
          0.04479,
          0.02245,
          0.1115,
          0.00186,
          0.06574,
          0.0226,
          0.09274,
          0.02399,
          0.1362,
          0.0594,
          0.06155,
          0.02688,
          0.01288,
          0.01063,
          0.01236,
          0.02475,
          0.02495,
          0.0683,
          0.02297,
          0.03344,
          0.01974,
          0.001461,
          0.003681,
          0.002758,
          0.004559,
          0.01583,
          0.01447,
          0.04052,
          0.01367,
          0,
          0.004473,
          0.01123,
          0.1975,
          0.01342,
          0.06726,
          0.038,
          0.01994,
          0.03193,
          0.01765,
          0.001546,
          0.07107,
          0.005006,
          0.0009737,
          0.007756,
          0.03738,
          0.02511,
          0.08007,
          0.08422,
          0.05397,
          0.04006,
          0.03581,
          0.00751,
          0.04608,
          0.02587,
          0.01171,
          0.008306,
          0.04505,
          0.103,
          0.09603,
          0.01502,
          0.04721,
          0.0271,
          0.001194,
          0.03344,
          0.02688,
          0.05862,
          0.02181,
          0.04392,
          0.03393,
          0.02556,
          0.06651,
          0.228,
          0.01271,
          0.04249,
          0.079,
          0.03546,
          0.07943,
          0.05892,
          0.05077,
          0.06839,
          0.02045,
          0.1007,
          0.01923,
          0,
          0.04783,
          0.02681,
          0.0858,
          0.0739,
          0.02712,
          0.02853,
          0.02606,
          0.04057,
          0.03296,
          0.02109,
          0.04944,
          0.055,
          0.06126,
          0.03211,
          0.02783,
          0.03046,
          0.03735,
          0.06859,
          0.02555,
          0.02047,
          0.0236,
          0.008955,
          0.05485,
          0.145,
          0.07097,
          0.09657,
          0.008934,
          0.00247,
          0.06335,
          0.03614,
          0.01369,
          0.01402,
          0.07741,
          0.03346,
          0.01797,
          0.03534,
          0.01342,
          0.02087,
          0.09457,
          0.01055,
          0.01993,
          0.05441,
          0.04069,
          0.08817,
          0.08777,
          0.04055,
          0.06895,
          0.02966,
          0.02819,
          0.0716,
          0.02772,
          0.01206,
          0.01541,
          0.03476,
          0.03367,
          0.04859,
          0.101,
          0.1085,
          0.01479,
          0.102,
          0.02948,
          0.02367,
          0.05539,
          0,
          0.05115,
          0.05835,
          0.05063,
          0.02224,
          0.05308,
          0.02916,
          0.02995,
          0.05786,
          0.04548,
          0.1191,
          0.1544,
          0.05192,
          0.04279,
          0.01714,
          0.04445,
          0.007173,
          0.018,
          0.06824,
          0.08017,
          0.03609,
          0.07721,
          0.05928,
          0.0973,
          0.1188,
          0.08175,
          0.04063,
          0.05526,
          0.06726,
          0.03416,
          0.08222,
          0.04302,
          0.04825,
          0.0388,
          0.03332,
          0.005067,
          0.05385,
          0.0233,
          0.02565,
          0.04201,
          0.02958,
          0.101,
          0.03781,
          0.05282,
          0.042,
          0.01752,
          0.05263,
          0.04515,
          0,
          0.09252,
          0.06737,
          0.1009,
          0.04105,
          0.02987,
          0.03688,
          0.02974,
          0.01012,
          0.04358,
          0.02337,
          0.01548,
          0,
          0.04824,
          0.01997,
          0.03996,
          0.06195,
          0.05999,
          0.005025,
          0,
          0.1029,
          0.1112,
          0.04462,
          0,
          0
         ]
        },
        {
         "mode": "markers",
         "name": "benign",
         "text": [],
         "type": "scatter",
         "x": [
          1001,
          1326,
          1203,
          386.1,
          1297,
          477.1,
          1040,
          577.9,
          519.8,
          475.9,
          797.8,
          781,
          1123,
          782.7,
          578.3,
          658.8,
          684.5,
          798.8,
          1260,
          704.4,
          1404,
          904.6,
          912.7,
          644.8,
          1094,
          732.4,
          955.1,
          1088,
          440.6,
          899.3,
          1162,
          807.2,
          869.5,
          633,
          698.8,
          559.2,
          563,
          371.1,
          1104,
          545.2,
          531.5,
          1076,
          534.6,
          1033,
          712.8,
          1152,
          656.9,
          645.7,
          499,
          668.3,
          1130,
          929.4,
          584.1,
          817.7,
          1006,
          1245,
          1878,
          1132,
          1075,
          648.2,
          1076,
          728.2,
          705.6,
          1264,
          642.5,
          582.7,
          530.2,
          1509,
          682.5,
          782.6,
          982,
          1077,
          1761,
          572.6,
          1138,
          1192,
          748.9,
          809.8,
          1075,
          506.3,
          678.1,
          813,
          432,
          963.7,
          1157,
          1214,
          1686,
          886.3,
          984.6,
          565.4,
          736.9,
          832.9,
          2250,
          1311,
          766.6,
          710.6,
          1041,
          609.9,
          477.4,
          671.4,
          588.9,
          1024,
          1148,
          642.7,
          951.6,
          1685,
          597.8,
          716.6,
          904.3,
          1290,
          2499,
          948,
          610.7,
          578.9,
          1230,
          1223,
          761.3,
          503.2,
          895,
          1319,
          1670,
          1306,
          920.6,
          1155,
          1364,
          1206,
          928.2,
          1169,
          602.4,
          1207,
          713.3,
          773.5,
          744.9,
          1288,
          933.1,
          947.8,
          758.6,
          928.3,
          1419,
          1491,
          998.9,
          1102,
          1138,
          1145,
          805.1,
          431.1,
          1217,
          1247,
          1027,
          1274,
          1264,
          813.7,
          826.8,
          793.2,
          918.6,
          1092,
          1747,
          1194,
          758.6,
          2010,
          716.6,
          1293,
          1234,
          1546,
          1482,
          840.4,
          1386,
          1335,
          361.6,
          664.7,
          1174,
          744.7,
          1407,
          994,
          991.7,
          719.5,
          803.1,
          685,
          1250,
          1110,
          599.5,
          928.8,
          990,
          981.6,
          1384,
          1191,
          930.9,
          2501,
          980.5,
          815.8,
          1167,
          857.6,
          1007,
          1068,
          1320,
          595.9,
          1682,
          731.3,
          556.7,
          701.9,
          1052,
          1214,
          1841,
          1299,
          1308,
          629.8,
          716.9,
          1347,
          1479,
          1261,
          858.1,
          1265
         ],
         "y": [
          0.3001,
          0.0869,
          0.1974,
          0.2414,
          0.198,
          0.1578,
          0.1127,
          0.09366,
          0.1859,
          0.2273,
          0.03299,
          0.09954,
          0.2065,
          0.09938,
          0.2128,
          0.1639,
          0.07395,
          0.1722,
          0.1479,
          0.2077,
          0.1097,
          0.1525,
          0.2229,
          0.1425,
          0.149,
          0.1683,
          0.09875,
          0.2319,
          0.1218,
          0.2417,
          0.1657,
          0.1354,
          0.1348,
          0.1319,
          0.02398,
          0.1063,
          0.0311,
          0.1044,
          0.2107,
          0.09847,
          0.08259,
          0.1974,
          0.1226,
          0.1772,
          0.05253,
          0.1323,
          0.1293,
          0.2135,
          0.1128,
          0.1267,
          0.108,
          0.1692,
          0.07789,
          0.09769,
          0.1684,
          0.3754,
          0.3339,
          0.1937,
          0.1335,
          0.1204,
          0.1468,
          0.1122,
          0.17,
          0.1465,
          0.09388,
          0.08625,
          0.2071,
          0.4264,
          0.169,
          0.2133,
          0.07293,
          0.1457,
          0.4268,
          0.05285,
          0.09271,
          0.2545,
          0.1466,
          0.1043,
          0.1153,
          0.04711,
          0.1539,
          0.09447,
          0.1659,
          0.1855,
          0.1193,
          0.2508,
          0.1324,
          0.08422,
          0.2159,
          0.05858,
          0.2032,
          0.1793,
          0.2871,
          0.2487,
          0.06593,
          0.05375,
          0.08169,
          0.1981,
          0.1085,
          0.1697,
          0.1385,
          0.1103,
          0.1114,
          0.118,
          0.1036,
          0.3523,
          0.1558,
          0.0755,
          0.0695,
          0.164,
          0.3201,
          0.1682,
          0.1115,
          0.09901,
          0.1272,
          0.1145,
          0.1147,
          0.1695,
          0.191,
          0.1554,
          0.195,
          0.09042,
          0.1417,
          0.2049,
          0.2712,
          0.2417,
          0.1266,
          0.1379,
          0.09789,
          0.1784,
          0.2448,
          0.3176,
          0.1751,
          0.1519,
          0.02891,
          0.09697,
          0.04209,
          0.09061,
          0.1367,
          0.2195,
          0.05699,
          0.0802,
          0.1921,
          0.1626,
          0.1948,
          0.02685,
          0.2197,
          0.2283,
          0.113,
          0.1155,
          0.2565,
          0.1478,
          0.1799,
          0.1204,
          0.1508,
          0.106,
          0.2308,
          0.1863,
          0.2914,
          0.3368,
          0.1235,
          0.09799,
          0.1641,
          0.1168,
          0.2448,
          0.1811,
          0.1932,
          0.1527,
          0.1689,
          0.0839,
          0.1856,
          0.1891,
          0.281,
          0.3189,
          0.1201,
          0.04686,
          0.1522,
          0.2733,
          0.2133,
          0.1594,
          0.1126,
          0.1204,
          0.109,
          0.1698,
          0.1572,
          0.1655,
          0.1007,
          0.3635,
          0.2136,
          0.2236,
          0.2256,
          0.03649,
          0.117,
          0.1491,
          0.2188,
          0.1357,
          0.1676,
          0.203,
          0.1445,
          0.07486,
          0.1569,
          0.1411,
          0.231,
          0.1523,
          0.2085,
          0.1463,
          0.255,
          0.3174,
          0.2439,
          0.144,
          0.09251,
          0.3514
         ]
        },
        {
         "mode": "lines",
         "name": "-3.47*x_1 -0.008*x_2  = 0",
         "text": [],
         "type": "scatter",
         "x": [
          500,
          505,
          510,
          515,
          520,
          525,
          530,
          535,
          540,
          545,
          550,
          555,
          560,
          565,
          570,
          575,
          580,
          585,
          590,
          595,
          600,
          605,
          610,
          615,
          620,
          625,
          630,
          635,
          640,
          645,
          650,
          655,
          660,
          665,
          670,
          675,
          680,
          685,
          690,
          695,
          700,
          705,
          710,
          715,
          720,
          725,
          730,
          735,
          740,
          745,
          750,
          755,
          760,
          765,
          770,
          775,
          780,
          785,
          790,
          795,
          800,
          805,
          810,
          815,
          820,
          825,
          830,
          835,
          840,
          845,
          850,
          855,
          860,
          865,
          870,
          875,
          880,
          885,
          890,
          895,
          900,
          905,
          910,
          915,
          920,
          925,
          930,
          935,
          940,
          945,
          950,
          955,
          960,
          965,
          970,
          975,
          980,
          985,
          990,
          995
         ],
         "y": [
          -0.533832433313506,
          -0.5222834760244199,
          -0.5107345187353338,
          -0.4991855614462479,
          -0.4876366041571618,
          -0.4760876468680757,
          -0.4645386895789896,
          -0.45298973228990347,
          -0.4414407750008176,
          -0.42989181771173146,
          -0.41834286042264535,
          -0.40679390313355923,
          -0.3952449458444731,
          -0.3836959885553872,
          -0.3721470312663011,
          -0.360598073977215,
          -0.3490491166881289,
          -0.337500159399043,
          -0.3259512021099569,
          -0.31440224482087076,
          -0.30285328753178464,
          -0.29130433024269853,
          -0.27975537295361264,
          -0.2682064156645265,
          -0.2566574583754404,
          -0.2451085010863543,
          -0.2335595437972684,
          -0.22201058650818228,
          -0.21046162921909617,
          -0.19891267193001005,
          -0.18736371464092394,
          -0.17581475735183805,
          -0.16426580006275193,
          -0.15271684277366582,
          -0.1411678854845797,
          -0.1296189281954938,
          -0.1180699709064077,
          -0.10652101361732158,
          -0.09497205632823547,
          -0.08342309903914935,
          -0.07187414175006346,
          -0.060325184460977344,
          -0.04877622717189123,
          -0.037227269882805114,
          -0.02567831259371922,
          -0.014129355304633107,
          -0.002580398015546992,
          0.008968559273539123,
          0.020517516562625238,
          0.03206647385171113,
          0.043615431140797245,
          0.05516438842988336,
          0.06671334571896947,
          0.07826230300805559,
          0.08981126029714148,
          0.1013602175862276,
          0.11290917487531371,
          0.12445813216439983,
          0.13600708945348572,
          0.14755604674257183,
          0.15910500403165795,
          0.17065396132074406,
          0.18220291860983018,
          0.19375187589891607,
          0.20530083318800219,
          0.2168497904770883,
          0.22839874776617441,
          0.2399477050552603,
          0.2514966623443464,
          0.26304561963343254,
          0.27459457692251865,
          0.28614353421160477,
          0.29769249150069066,
          0.3092414487897768,
          0.3207904060788629,
          0.332339363367949,
          0.3438883206570351,
          0.35543727794612123,
          0.36698623523520735,
          0.378535192524293,
          0.39008414981337913,
          0.40163310710246525,
          0.41318206439155136,
          0.4247310216806375,
          0.4362799789697236,
          0.4478289362588097,
          0.4593778935478958,
          0.47092685083698194,
          0.4824758081260676,
          0.4940247654151537,
          0.5055737227042398,
          0.517122679993326,
          0.5286716372824121,
          0.5402205945714982,
          0.5517695518605843,
          0.5633185091496704,
          0.5748674664387565,
          0.5864164237278422,
          0.5979653810169283,
          0.6095143383060144
         ]
        }
       ],
       "layout": {
        "autosize": true,
        "template": {
         "data": {
          "bar": [
           {
            "error_x": {
             "color": "#2a3f5f"
            },
            "error_y": {
             "color": "#2a3f5f"
            },
            "marker": {
             "line": {
              "color": "#E5ECF6",
              "width": 0.5
             }
            },
            "type": "bar"
           }
          ],
          "barpolar": [
           {
            "marker": {
             "line": {
              "color": "#E5ECF6",
              "width": 0.5
             }
            },
            "type": "barpolar"
           }
          ],
          "carpet": [
           {
            "aaxis": {
             "endlinecolor": "#2a3f5f",
             "gridcolor": "white",
             "linecolor": "white",
             "minorgridcolor": "white",
             "startlinecolor": "#2a3f5f"
            },
            "baxis": {
             "endlinecolor": "#2a3f5f",
             "gridcolor": "white",
             "linecolor": "white",
             "minorgridcolor": "white",
             "startlinecolor": "#2a3f5f"
            },
            "type": "carpet"
           }
          ],
          "choropleth": [
           {
            "colorbar": {
             "outlinewidth": 0,
             "ticks": ""
            },
            "type": "choropleth"
           }
          ],
          "contour": [
           {
            "colorbar": {
             "outlinewidth": 0,
             "ticks": ""
            },
            "colorscale": [
             [
              0,
              "#0d0887"
             ],
             [
              0.1111111111111111,
              "#46039f"
             ],
             [
              0.2222222222222222,
              "#7201a8"
             ],
             [
              0.3333333333333333,
              "#9c179e"
             ],
             [
              0.4444444444444444,
              "#bd3786"
             ],
             [
              0.5555555555555556,
              "#d8576b"
             ],
             [
              0.6666666666666666,
              "#ed7953"
             ],
             [
              0.7777777777777778,
              "#fb9f3a"
             ],
             [
              0.8888888888888888,
              "#fdca26"
             ],
             [
              1,
              "#f0f921"
             ]
            ],
            "type": "contour"
           }
          ],
          "contourcarpet": [
           {
            "colorbar": {
             "outlinewidth": 0,
             "ticks": ""
            },
            "type": "contourcarpet"
           }
          ],
          "heatmap": [
           {
            "colorbar": {
             "outlinewidth": 0,
             "ticks": ""
            },
            "colorscale": [
             [
              0,
              "#0d0887"
             ],
             [
              0.1111111111111111,
              "#46039f"
             ],
             [
              0.2222222222222222,
              "#7201a8"
             ],
             [
              0.3333333333333333,
              "#9c179e"
             ],
             [
              0.4444444444444444,
              "#bd3786"
             ],
             [
              0.5555555555555556,
              "#d8576b"
             ],
             [
              0.6666666666666666,
              "#ed7953"
             ],
             [
              0.7777777777777778,
              "#fb9f3a"
             ],
             [
              0.8888888888888888,
              "#fdca26"
             ],
             [
              1,
              "#f0f921"
             ]
            ],
            "type": "heatmap"
           }
          ],
          "heatmapgl": [
           {
            "colorbar": {
             "outlinewidth": 0,
             "ticks": ""
            },
            "colorscale": [
             [
              0,
              "#0d0887"
             ],
             [
              0.1111111111111111,
              "#46039f"
             ],
             [
              0.2222222222222222,
              "#7201a8"
             ],
             [
              0.3333333333333333,
              "#9c179e"
             ],
             [
              0.4444444444444444,
              "#bd3786"
             ],
             [
              0.5555555555555556,
              "#d8576b"
             ],
             [
              0.6666666666666666,
              "#ed7953"
             ],
             [
              0.7777777777777778,
              "#fb9f3a"
             ],
             [
              0.8888888888888888,
              "#fdca26"
             ],
             [
              1,
              "#f0f921"
             ]
            ],
            "type": "heatmapgl"
           }
          ],
          "histogram": [
           {
            "marker": {
             "colorbar": {
              "outlinewidth": 0,
              "ticks": ""
             }
            },
            "type": "histogram"
           }
          ],
          "histogram2d": [
           {
            "colorbar": {
             "outlinewidth": 0,
             "ticks": ""
            },
            "colorscale": [
             [
              0,
              "#0d0887"
             ],
             [
              0.1111111111111111,
              "#46039f"
             ],
             [
              0.2222222222222222,
              "#7201a8"
             ],
             [
              0.3333333333333333,
              "#9c179e"
             ],
             [
              0.4444444444444444,
              "#bd3786"
             ],
             [
              0.5555555555555556,
              "#d8576b"
             ],
             [
              0.6666666666666666,
              "#ed7953"
             ],
             [
              0.7777777777777778,
              "#fb9f3a"
             ],
             [
              0.8888888888888888,
              "#fdca26"
             ],
             [
              1,
              "#f0f921"
             ]
            ],
            "type": "histogram2d"
           }
          ],
          "histogram2dcontour": [
           {
            "colorbar": {
             "outlinewidth": 0,
             "ticks": ""
            },
            "colorscale": [
             [
              0,
              "#0d0887"
             ],
             [
              0.1111111111111111,
              "#46039f"
             ],
             [
              0.2222222222222222,
              "#7201a8"
             ],
             [
              0.3333333333333333,
              "#9c179e"
             ],
             [
              0.4444444444444444,
              "#bd3786"
             ],
             [
              0.5555555555555556,
              "#d8576b"
             ],
             [
              0.6666666666666666,
              "#ed7953"
             ],
             [
              0.7777777777777778,
              "#fb9f3a"
             ],
             [
              0.8888888888888888,
              "#fdca26"
             ],
             [
              1,
              "#f0f921"
             ]
            ],
            "type": "histogram2dcontour"
           }
          ],
          "mesh3d": [
           {
            "colorbar": {
             "outlinewidth": 0,
             "ticks": ""
            },
            "type": "mesh3d"
           }
          ],
          "parcoords": [
           {
            "line": {
             "colorbar": {
              "outlinewidth": 0,
              "ticks": ""
             }
            },
            "type": "parcoords"
           }
          ],
          "pie": [
           {
            "automargin": true,
            "type": "pie"
           }
          ],
          "scatter": [
           {
            "marker": {
             "colorbar": {
              "outlinewidth": 0,
              "ticks": ""
             }
            },
            "type": "scatter"
           }
          ],
          "scatter3d": [
           {
            "line": {
             "colorbar": {
              "outlinewidth": 0,
              "ticks": ""
             }
            },
            "marker": {
             "colorbar": {
              "outlinewidth": 0,
              "ticks": ""
             }
            },
            "type": "scatter3d"
           }
          ],
          "scattercarpet": [
           {
            "marker": {
             "colorbar": {
              "outlinewidth": 0,
              "ticks": ""
             }
            },
            "type": "scattercarpet"
           }
          ],
          "scattergeo": [
           {
            "marker": {
             "colorbar": {
              "outlinewidth": 0,
              "ticks": ""
             }
            },
            "type": "scattergeo"
           }
          ],
          "scattergl": [
           {
            "marker": {
             "colorbar": {
              "outlinewidth": 0,
              "ticks": ""
             }
            },
            "type": "scattergl"
           }
          ],
          "scattermapbox": [
           {
            "marker": {
             "colorbar": {
              "outlinewidth": 0,
              "ticks": ""
             }
            },
            "type": "scattermapbox"
           }
          ],
          "scatterpolar": [
           {
            "marker": {
             "colorbar": {
              "outlinewidth": 0,
              "ticks": ""
             }
            },
            "type": "scatterpolar"
           }
          ],
          "scatterpolargl": [
           {
            "marker": {
             "colorbar": {
              "outlinewidth": 0,
              "ticks": ""
             }
            },
            "type": "scatterpolargl"
           }
          ],
          "scatterternary": [
           {
            "marker": {
             "colorbar": {
              "outlinewidth": 0,
              "ticks": ""
             }
            },
            "type": "scatterternary"
           }
          ],
          "surface": [
           {
            "colorbar": {
             "outlinewidth": 0,
             "ticks": ""
            },
            "colorscale": [
             [
              0,
              "#0d0887"
             ],
             [
              0.1111111111111111,
              "#46039f"
             ],
             [
              0.2222222222222222,
              "#7201a8"
             ],
             [
              0.3333333333333333,
              "#9c179e"
             ],
             [
              0.4444444444444444,
              "#bd3786"
             ],
             [
              0.5555555555555556,
              "#d8576b"
             ],
             [
              0.6666666666666666,
              "#ed7953"
             ],
             [
              0.7777777777777778,
              "#fb9f3a"
             ],
             [
              0.8888888888888888,
              "#fdca26"
             ],
             [
              1,
              "#f0f921"
             ]
            ],
            "type": "surface"
           }
          ],
          "table": [
           {
            "cells": {
             "fill": {
              "color": "#EBF0F8"
             },
             "line": {
              "color": "white"
             }
            },
            "header": {
             "fill": {
              "color": "#C8D4E3"
             },
             "line": {
              "color": "white"
             }
            },
            "type": "table"
           }
          ]
         },
         "layout": {
          "annotationdefaults": {
           "arrowcolor": "#2a3f5f",
           "arrowhead": 0,
           "arrowwidth": 1
          },
          "coloraxis": {
           "colorbar": {
            "outlinewidth": 0,
            "ticks": ""
           }
          },
          "colorscale": {
           "diverging": [
            [
             0,
             "#8e0152"
            ],
            [
             0.1,
             "#c51b7d"
            ],
            [
             0.2,
             "#de77ae"
            ],
            [
             0.3,
             "#f1b6da"
            ],
            [
             0.4,
             "#fde0ef"
            ],
            [
             0.5,
             "#f7f7f7"
            ],
            [
             0.6,
             "#e6f5d0"
            ],
            [
             0.7,
             "#b8e186"
            ],
            [
             0.8,
             "#7fbc41"
            ],
            [
             0.9,
             "#4d9221"
            ],
            [
             1,
             "#276419"
            ]
           ],
           "sequential": [
            [
             0,
             "#0d0887"
            ],
            [
             0.1111111111111111,
             "#46039f"
            ],
            [
             0.2222222222222222,
             "#7201a8"
            ],
            [
             0.3333333333333333,
             "#9c179e"
            ],
            [
             0.4444444444444444,
             "#bd3786"
            ],
            [
             0.5555555555555556,
             "#d8576b"
            ],
            [
             0.6666666666666666,
             "#ed7953"
            ],
            [
             0.7777777777777778,
             "#fb9f3a"
            ],
            [
             0.8888888888888888,
             "#fdca26"
            ],
            [
             1,
             "#f0f921"
            ]
           ],
           "sequentialminus": [
            [
             0,
             "#0d0887"
            ],
            [
             0.1111111111111111,
             "#46039f"
            ],
            [
             0.2222222222222222,
             "#7201a8"
            ],
            [
             0.3333333333333333,
             "#9c179e"
            ],
            [
             0.4444444444444444,
             "#bd3786"
            ],
            [
             0.5555555555555556,
             "#d8576b"
            ],
            [
             0.6666666666666666,
             "#ed7953"
            ],
            [
             0.7777777777777778,
             "#fb9f3a"
            ],
            [
             0.8888888888888888,
             "#fdca26"
            ],
            [
             1,
             "#f0f921"
            ]
           ]
          },
          "colorway": [
           "#636efa",
           "#EF553B",
           "#00cc96",
           "#ab63fa",
           "#FFA15A",
           "#19d3f3",
           "#FF6692",
           "#B6E880",
           "#FF97FF",
           "#FECB52"
          ],
          "font": {
           "color": "#2a3f5f"
          },
          "geo": {
           "bgcolor": "white",
           "lakecolor": "white",
           "landcolor": "#E5ECF6",
           "showlakes": true,
           "showland": true,
           "subunitcolor": "white"
          },
          "hoverlabel": {
           "align": "left"
          },
          "hovermode": "closest",
          "mapbox": {
           "style": "light"
          },
          "paper_bgcolor": "white",
          "plot_bgcolor": "#E5ECF6",
          "polar": {
           "angularaxis": {
            "gridcolor": "white",
            "linecolor": "white",
            "ticks": ""
           },
           "bgcolor": "#E5ECF6",
           "radialaxis": {
            "gridcolor": "white",
            "linecolor": "white",
            "ticks": ""
           }
          },
          "scene": {
           "xaxis": {
            "backgroundcolor": "#E5ECF6",
            "gridcolor": "white",
            "gridwidth": 2,
            "linecolor": "white",
            "showbackground": true,
            "ticks": "",
            "zerolinecolor": "white"
           },
           "yaxis": {
            "backgroundcolor": "#E5ECF6",
            "gridcolor": "white",
            "gridwidth": 2,
            "linecolor": "white",
            "showbackground": true,
            "ticks": "",
            "zerolinecolor": "white"
           },
           "zaxis": {
            "backgroundcolor": "#E5ECF6",
            "gridcolor": "white",
            "gridwidth": 2,
            "linecolor": "white",
            "showbackground": true,
            "ticks": "",
            "zerolinecolor": "white"
           }
          },
          "shapedefaults": {
           "line": {
            "color": "#2a3f5f"
           }
          },
          "ternary": {
           "aaxis": {
            "gridcolor": "white",
            "linecolor": "white",
            "ticks": ""
           },
           "baxis": {
            "gridcolor": "white",
            "linecolor": "white",
            "ticks": ""
           },
           "bgcolor": "#E5ECF6",
           "caxis": {
            "gridcolor": "white",
            "linecolor": "white",
            "ticks": ""
           }
          },
          "title": {
           "x": 0.05
          },
          "xaxis": {
           "automargin": true,
           "gridcolor": "white",
           "linecolor": "white",
           "ticks": "",
           "title": {
            "standoff": 15
           },
           "zerolinecolor": "white",
           "zerolinewidth": 2
          },
          "yaxis": {
           "automargin": true,
           "gridcolor": "white",
           "linecolor": "white",
           "ticks": "",
           "title": {
            "standoff": 15
           },
           "zerolinecolor": "white",
           "zerolinewidth": 2
          }
         }
        },
        "title": {
         "text": "Is it cancerous?"
        },
        "xaxis": {
         "autorange": true,
         "range": [
          -18.245770676691677,
          2662.745770676692
         ],
         "title": {
          "text": "mean area"
         },
         "type": "linear"
        },
        "yaxis": {
         "range": [
          0,
          0.5
         ],
         "title": {
          "text": "mean concavity"
         },
         "type": "linear"
        }
       }
      },
      "image/png": "[encoded data removed]",
      "text/html": [
       "<div>\n",
       "        \n",
       "        \n",
       "            <div id=\"57fbd788-f8fd-4af9-b932-2c4d059add1c\" class=\"plotly-graph-div\" style=\"height:525px; width:100%;\"></div>\n",
       "            <script type=\"text/javascript\">\n",
       "                require([\"plotly\"], function(Plotly) {\n",
       "                    window.PLOTLYENV=window.PLOTLYENV || {};\n",
       "                    \n",
       "                if (document.getElementById(\"57fbd788-f8fd-4af9-b932-2c4d059add1c\")) {\n",
       "                    Plotly.newPlot(\n",
       "                        '57fbd788-f8fd-4af9-b932-2c4d059add1c',\n",
       "                        [{\"mode\": \"markers\", \"name\": \"cancerous\", \"text\": [], \"type\": \"scatter\", \"x\": [566.3, 520.0, 273.9, 523.8, 201.9, 449.3, 561.0, 427.9, 571.8, 437.6, 409.0, 527.2, 224.5, 311.9, 221.8, 260.9, 269.4, 394.1, 250.5, 502.5, 244.0, 470.9, 559.2, 506.3, 401.5, 520.0, 443.3, 466.1, 651.9, 662.7, 551.7, 555.1, 451.1, 294.5, 412.6, 143.5, 458.7, 298.3, 336.1, 412.5, 466.7, 396.5, 290.2, 480.4, 629.9, 334.2, 230.9, 438.6, 245.2, 403.3, 640.7, 553.5, 588.7, 674.5, 455.8, 761.7, 423.6, 399.8, 384.8, 288.5, 398.0, 512.2, 355.3, 432.8, 689.5, 640.1, 585.0, 519.4, 203.9, 300.2, 381.9, 538.9, 460.3, 880.2, 448.6, 366.8, 419.8, 464.5, 690.2, 357.6, 685.9, 464.1, 372.7, 349.6, 227.2, 302.4, 526.4, 508.8, 402.0, 317.5, 420.3, 428.9, 463.7, 507.4, 288.1, 516.4, 461.0, 481.9, 295.4, 529.4, 725.5, 428.0, 432.2, 321.2, 568.9, 561.3, 313.1, 546.4, 641.2, 329.6, 684.5, 496.4, 395.7, 386.8, 279.6, 603.4, 623.9, 575.3, 476.5, 389.4, 590.0, 337.7, 541.6, 512.2, 347.0, 406.3, 407.4, 346.4, 561.0, 512.2, 344.9, 632.6, 388.0, 289.9, 435.6, 396.6, 572.3, 587.4, 427.3, 516.6, 489.0, 441.0, 515.9, 394.1, 396.0, 651.0, 687.3, 513.7, 432.7, 492.1, 582.7, 363.7, 633.1, 334.2, 471.3, 334.3, 403.1, 417.2, 537.3, 246.3, 566.2, 530.6, 418.7, 664.9, 504.1, 409.1, 221.2, 481.6, 461.4, 244.5, 477.3, 324.2, 504.8, 457.9, 489.9, 616.5, 446.0, 514.0, 387.3, 390.0, 464.4, 514.3, 310.8, 641.2, 280.5, 373.9, 420.3, 321.6, 445.3, 668.7, 402.7, 426.7, 421.0, 384.6, 485.8, 512.0, 593.7, 241.0, 278.6, 491.9, 546.1, 496.6, 838.1, 552.4, 458.4, 711.8, 579.1, 788.5, 338.3, 562.1, 580.6, 386.3, 372.7, 447.8, 462.9, 541.8, 462.0, 596.6, 392.0, 321.6, 234.3, 446.2, 609.1, 558.1, 508.3, 378.2, 431.9, 442.7, 525.2, 507.6, 469.1, 370.0, 800.0, 514.5, 466.1, 399.8, 373.2, 268.8, 693.7, 433.8, 271.2, 495.0, 380.3, 409.7, 656.1, 408.2, 575.3, 289.7, 307.3, 333.6, 359.9, 381.1, 501.3, 467.8, 673.7, 509.2, 611.2, 592.6, 606.5, 371.5, 585.9, 340.9, 441.3, 674.8, 659.7, 432.0, 442.5, 644.2, 492.9, 557.2, 415.1, 537.9, 520.2, 290.9, 646.1, 412.7, 537.3, 542.9, 536.9, 286.3, 408.8, 289.1, 449.9, 686.9, 465.4, 358.9, 506.9, 618.4, 599.4, 404.9, 455.3, 602.9, 546.3, 571.1, 747.2, 476.7, 666.0, 420.5, 466.5, 992.1, 477.3, 538.7, 680.9, 485.6, 480.1, 689.4, 476.3, 248.7, 272.5, 453.1, 366.5, 819.8, 426.0, 680.7, 658.8, 391.2, 493.1, 493.8, 257.8, 388.1, 571.0, 293.2, 221.3, 551.1, 468.5, 594.2, 445.2, 422.9, 416.2, 575.5, 365.6, 406.4, 178.8, 170.4, 402.9, 656.4, 668.6, 538.4, 584.8, 573.2, 324.9, 320.8, 285.7, 361.6, 360.5, 378.4, 507.9, 264.0, 514.3, 321.4, 311.7, 271.3, 657.1, 403.5, 600.4, 386.0, 181.0], \"y\": [0.06664, 0.04568, 0.02956, 0.02562, 0.01588, 0.06592, 0.04751, 0.01657, 0.01857, 0.01972, 0.03036, 0.000692, 0.02061, 0.01084, 0.03, 0.05988, 0.02172, 0.03709, 0.313, 0.03653, 0.08606, 0.03372, 0.06877, 0.03889, 0.04591, 0.1169, 0.04151, 0.06015, 0.09966, 0.03102, 0.03261, 0.03974, 0.0249, 0.006829, 0.04196, 0.0, 0.02383, 0.06154, 0.02995, 0.0707, 0.02643, 0.05133, 0.04334, 0.1065, 0.3003, 0.06476, 0.04132, 0.03328, 0.09263, 0.03512, 0.08842, 0.08092, 0.0142, 0.1138, 0.02855, 0.07135, 0.03592, 0.03503, 0.04635, 0.0, 0.02031, 0.04894, 0.02251, 0.0371, 0.0905, 0.08487, 0.02881, 0.03136, 0.1321, 0.4108, 0.01982, 0.09293, 0.03885, 0.0515, 0.01972, 0.00309, 0.06843, 0.0537, 0.01947, 0.02531, 0.02602, 0.03987, 0.02363, 0.0, 0.0, 0.1307, 0.001595, 0.009193, 0.06181, 0.001597, 0.03809, 0.02353, 0.03844, 0.03112, 0.0, 0.03873, 0.04187, 0.08005, 0.01756, 0.08705, 0.05892, 0.02669, 0.06636, 0.05774, 0.03888, 0.0786, 0.01768, 0.03554, 0.05724, 0.006643, 0.06505, 0.05438, 0.01633, 0.004967, 0.01652, 0.01462, 0.1103, 0.04705, 0.01053, 0.1548, 0.04697, 0.04831, 0.04336, 0.1374, 0.02379, 0.04328, 0.02638, 0.06387, 0.04072, 0.039, 0.08448, 0.00725, 0.03265, 0.01103, 0.05929, 0.001487, 0.01997, 0.04479, 0.02245, 0.1115, 0.00186, 0.06574, 0.0226, 0.09274, 0.02399, 0.1362, 0.0594, 0.06155, 0.02688, 0.01288, 0.01063, 0.01236, 0.02475, 0.02495, 0.0683, 0.02297, 0.03344, 0.01974, 0.001461, 0.003681, 0.002758, 0.004559, 0.01583, 0.01447, 0.04052, 0.01367, 0.0, 0.004473, 0.01123, 0.1975, 0.01342, 0.06726, 0.038, 0.01994, 0.03193, 0.01765, 0.001546, 0.07107, 0.005006, 0.0009737, 0.007756, 0.03738, 0.02511, 0.08007, 0.08422, 0.05397, 0.04006, 0.03581, 0.00751, 0.04608, 0.02587, 0.01171, 0.008306, 0.04505, 0.103, 0.09603, 0.01502, 0.04721, 0.0271, 0.001194, 0.03344, 0.02688, 0.05862, 0.02181, 0.04392, 0.03393, 0.02556, 0.06651, 0.228, 0.01271, 0.04249, 0.079, 0.03546, 0.07943, 0.05892, 0.05077, 0.06839, 0.02045, 0.1007, 0.01923, 0.0, 0.04783, 0.02681, 0.0858, 0.0739, 0.02712, 0.02853, 0.02606, 0.04057, 0.03296, 0.02109, 0.04944, 0.055, 0.06126, 0.03211, 0.02783, 0.03046, 0.03735, 0.06859, 0.02555, 0.02047, 0.0236, 0.008955, 0.05485, 0.145, 0.07097, 0.09657, 0.008934, 0.00247, 0.06335, 0.03614, 0.01369, 0.01402, 0.07741, 0.03346, 0.01797, 0.03534, 0.01342, 0.02087, 0.09457, 0.01055, 0.01993, 0.05441, 0.04069, 0.08817, 0.08777, 0.04055, 0.06895, 0.02966, 0.02819, 0.0716, 0.02772, 0.01206, 0.01541, 0.03476, 0.03367, 0.04859, 0.101, 0.1085, 0.01479, 0.102, 0.02948, 0.02367, 0.05539, 0.0, 0.05115, 0.05835, 0.05063, 0.02224, 0.05308, 0.02916, 0.02995, 0.05786, 0.04548, 0.1191, 0.1544, 0.05192, 0.04279, 0.01714, 0.04445, 0.007173, 0.018, 0.06824, 0.08017, 0.03609, 0.07721, 0.05928, 0.0973, 0.1188, 0.08175, 0.04063, 0.05526, 0.06726, 0.03416, 0.08222, 0.04302, 0.04825, 0.0388, 0.03332, 0.005067, 0.05385, 0.0233, 0.02565, 0.04201, 0.02958, 0.101, 0.03781, 0.05282, 0.042, 0.01752, 0.05263, 0.04515, 0.0, 0.09252, 0.06737, 0.1009, 0.04105, 0.02987, 0.03688, 0.02974, 0.01012, 0.04358, 0.02337, 0.01548, 0.0, 0.04824, 0.01997, 0.03996, 0.06195, 0.05999, 0.005025, 0.0, 0.1029, 0.1112, 0.04462, 0.0, 0.0]}, {\"mode\": \"markers\", \"name\": \"benign\", \"text\": [], \"type\": \"scatter\", \"x\": [1001.0, 1326.0, 1203.0, 386.1, 1297.0, 477.1, 1040.0, 577.9, 519.8, 475.9, 797.8, 781.0, 1123.0, 782.7, 578.3, 658.8, 684.5, 798.8, 1260.0, 704.4, 1404.0, 904.6, 912.7, 644.8, 1094.0, 732.4, 955.1, 1088.0, 440.6, 899.3, 1162.0, 807.2, 869.5, 633.0, 698.8, 559.2, 563.0, 371.1, 1104.0, 545.2, 531.5, 1076.0, 534.6, 1033.0, 712.8, 1152.0, 656.9, 645.7, 499.0, 668.3, 1130.0, 929.4, 584.1, 817.7, 1006.0, 1245.0, 1878.0, 1132.0, 1075.0, 648.2, 1076.0, 728.2, 705.6, 1264.0, 642.5, 582.7, 530.2, 1509.0, 682.5, 782.6, 982.0, 1077.0, 1761.0, 572.6, 1138.0, 1192.0, 748.9, 809.8, 1075.0, 506.3, 678.1, 813.0, 432.0, 963.7, 1157.0, 1214.0, 1686.0, 886.3, 984.6, 565.4, 736.9, 832.9, 2250.0, 1311.0, 766.6, 710.6, 1041.0, 609.9, 477.4, 671.4, 588.9, 1024.0, 1148.0, 642.7, 951.6, 1685.0, 597.8, 716.6, 904.3, 1290.0, 2499.0, 948.0, 610.7, 578.9, 1230.0, 1223.0, 761.3, 503.2, 895.0, 1319.0, 1670.0, 1306.0, 920.6, 1155.0, 1364.0, 1206.0, 928.2, 1169.0, 602.4, 1207.0, 713.3, 773.5, 744.9, 1288.0, 933.1, 947.8, 758.6, 928.3, 1419.0, 1491.0, 998.9, 1102.0, 1138.0, 1145.0, 805.1, 431.1, 1217.0, 1247.0, 1027.0, 1274.0, 1264.0, 813.7, 826.8, 793.2, 918.6, 1092.0, 1747.0, 1194.0, 758.6, 2010.0, 716.6, 1293.0, 1234.0, 1546.0, 1482.0, 840.4, 1386.0, 1335.0, 361.6, 664.7, 1174.0, 744.7, 1407.0, 994.0, 991.7, 719.5, 803.1, 685.0, 1250.0, 1110.0, 599.5, 928.8, 990.0, 981.6, 1384.0, 1191.0, 930.9, 2501.0, 980.5, 815.8, 1167.0, 857.6, 1007.0, 1068.0, 1320.0, 595.9, 1682.0, 731.3, 556.7, 701.9, 1052.0, 1214.0, 1841.0, 1299.0, 1308.0, 629.8, 716.9, 1347.0, 1479.0, 1261.0, 858.1, 1265.0], \"y\": [0.3001, 0.0869, 0.1974, 0.2414, 0.198, 0.1578, 0.1127, 0.09366, 0.1859, 0.2273, 0.03299, 0.09954, 0.2065, 0.09938, 0.2128, 0.1639, 0.07395, 0.1722, 0.1479, 0.2077, 0.1097, 0.1525, 0.2229, 0.1425, 0.149, 0.1683, 0.09875, 0.2319, 0.1218, 0.2417, 0.1657, 0.1354, 0.1348, 0.1319, 0.02398, 0.1063, 0.0311, 0.1044, 0.2107, 0.09847, 0.08259, 0.1974, 0.1226, 0.1772, 0.05253, 0.1323, 0.1293, 0.2135, 0.1128, 0.1267, 0.108, 0.1692, 0.07789, 0.09769, 0.1684, 0.3754, 0.3339, 0.1937, 0.1335, 0.1204, 0.1468, 0.1122, 0.17, 0.1465, 0.09388, 0.08625, 0.2071, 0.4264, 0.169, 0.2133, 0.07293, 0.1457, 0.4268, 0.05285, 0.09271, 0.2545, 0.1466, 0.1043, 0.1153, 0.04711, 0.1539, 0.09447, 0.1659, 0.1855, 0.1193, 0.2508, 0.1324, 0.08422, 0.2159, 0.05858, 0.2032, 0.1793, 0.2871, 0.2487, 0.06593, 0.05375, 0.08169, 0.1981, 0.1085, 0.1697, 0.1385, 0.1103, 0.1114, 0.118, 0.1036, 0.3523, 0.1558, 0.0755, 0.0695, 0.164, 0.3201, 0.1682, 0.1115, 0.09901, 0.1272, 0.1145, 0.1147, 0.1695, 0.191, 0.1554, 0.195, 0.09042, 0.1417, 0.2049, 0.2712, 0.2417, 0.1266, 0.1379, 0.09789, 0.1784, 0.2448, 0.3176, 0.1751, 0.1519, 0.02891, 0.09697, 0.04209, 0.09061, 0.1367, 0.2195, 0.05699, 0.0802, 0.1921, 0.1626, 0.1948, 0.02685, 0.2197, 0.2283, 0.113, 0.1155, 0.2565, 0.1478, 0.1799, 0.1204, 0.1508, 0.106, 0.2308, 0.1863, 0.2914, 0.3368, 0.1235, 0.09799, 0.1641, 0.1168, 0.2448, 0.1811, 0.1932, 0.1527, 0.1689, 0.0839, 0.1856, 0.1891, 0.281, 0.3189, 0.1201, 0.04686, 0.1522, 0.2733, 0.2133, 0.1594, 0.1126, 0.1204, 0.109, 0.1698, 0.1572, 0.1655, 0.1007, 0.3635, 0.2136, 0.2236, 0.2256, 0.03649, 0.117, 0.1491, 0.2188, 0.1357, 0.1676, 0.203, 0.1445, 0.07486, 0.1569, 0.1411, 0.231, 0.1523, 0.2085, 0.1463, 0.255, 0.3174, 0.2439, 0.144, 0.09251, 0.3514]}, {\"mode\": \"lines\", \"name\": \"-3.47*x_1 -0.008*x_2  = 0\", \"text\": [], \"type\": \"scatter\", \"x\": [500, 505, 510, 515, 520, 525, 530, 535, 540, 545, 550, 555, 560, 565, 570, 575, 580, 585, 590, 595, 600, 605, 610, 615, 620, 625, 630, 635, 640, 645, 650, 655, 660, 665, 670, 675, 680, 685, 690, 695, 700, 705, 710, 715, 720, 725, 730, 735, 740, 745, 750, 755, 760, 765, 770, 775, 780, 785, 790, 795, 800, 805, 810, 815, 820, 825, 830, 835, 840, 845, 850, 855, 860, 865, 870, 875, 880, 885, 890, 895, 900, 905, 910, 915, 920, 925, 930, 935, 940, 945, 950, 955, 960, 965, 970, 975, 980, 985, 990, 995], \"y\": [-0.533832433313506, -0.5222834760244199, -0.5107345187353338, -0.4991855614462479, -0.4876366041571618, -0.4760876468680757, -0.4645386895789896, -0.45298973228990347, -0.4414407750008176, -0.42989181771173146, -0.41834286042264535, -0.40679390313355923, -0.3952449458444731, -0.3836959885553872, -0.3721470312663011, -0.360598073977215, -0.3490491166881289, -0.337500159399043, -0.3259512021099569, -0.31440224482087076, -0.30285328753178464, -0.29130433024269853, -0.27975537295361264, -0.2682064156645265, -0.2566574583754404, -0.2451085010863543, -0.2335595437972684, -0.22201058650818228, -0.21046162921909617, -0.19891267193001005, -0.18736371464092394, -0.17581475735183805, -0.16426580006275193, -0.15271684277366582, -0.1411678854845797, -0.1296189281954938, -0.1180699709064077, -0.10652101361732158, -0.09497205632823547, -0.08342309903914935, -0.07187414175006346, -0.060325184460977344, -0.04877622717189123, -0.037227269882805114, -0.02567831259371922, -0.014129355304633107, -0.002580398015546992, 0.008968559273539123, 0.020517516562625238, 0.03206647385171113, 0.043615431140797245, 0.05516438842988336, 0.06671334571896947, 0.07826230300805559, 0.08981126029714148, 0.1013602175862276, 0.11290917487531371, 0.12445813216439983, 0.13600708945348572, 0.14755604674257183, 0.15910500403165795, 0.17065396132074406, 0.18220291860983018, 0.19375187589891607, 0.20530083318800219, 0.2168497904770883, 0.22839874776617441, 0.2399477050552603, 0.2514966623443464, 0.26304561963343254, 0.27459457692251865, 0.28614353421160477, 0.29769249150069066, 0.3092414487897768, 0.3207904060788629, 0.332339363367949, 0.3438883206570351, 0.35543727794612123, 0.36698623523520735, 0.378535192524293, 0.39008414981337913, 0.40163310710246525, 0.41318206439155136, 0.4247310216806375, 0.4362799789697236, 0.4478289362588097, 0.4593778935478958, 0.47092685083698194, 0.4824758081260676, 0.4940247654151537, 0.5055737227042398, 0.517122679993326, 0.5286716372824121, 0.5402205945714982, 0.5517695518605843, 0.5633185091496704, 0.5748674664387565, 0.5864164237278422, 0.5979653810169283, 0.6095143383060144]}],\n",
       "                        {\"template\": {\"data\": {\"bar\": [{\"error_x\": {\"color\": \"#2a3f5f\"}, \"error_y\": {\"color\": \"#2a3f5f\"}, \"marker\": {\"line\": {\"color\": \"#E5ECF6\", \"width\": 0.5}}, \"type\": \"bar\"}], \"barpolar\": [{\"marker\": {\"line\": {\"color\": \"#E5ECF6\", \"width\": 0.5}}, \"type\": \"barpolar\"}], \"carpet\": [{\"aaxis\": {\"endlinecolor\": \"#2a3f5f\", \"gridcolor\": \"white\", \"linecolor\": \"white\", \"minorgridcolor\": \"white\", \"startlinecolor\": \"#2a3f5f\"}, \"baxis\": {\"endlinecolor\": \"#2a3f5f\", \"gridcolor\": \"white\", \"linecolor\": \"white\", \"minorgridcolor\": \"white\", \"startlinecolor\": \"#2a3f5f\"}, \"type\": \"carpet\"}], \"choropleth\": [{\"colorbar\": {\"outlinewidth\": 0, \"ticks\": \"\"}, \"type\": \"choropleth\"}], \"contour\": [{\"colorbar\": {\"outlinewidth\": 0, \"ticks\": \"\"}, \"colorscale\": [[0.0, \"#0d0887\"], [0.1111111111111111, \"#46039f\"], [0.2222222222222222, \"#7201a8\"], [0.3333333333333333, \"#9c179e\"], [0.4444444444444444, \"#bd3786\"], [0.5555555555555556, \"#d8576b\"], [0.6666666666666666, \"#ed7953\"], [0.7777777777777778, \"#fb9f3a\"], [0.8888888888888888, \"#fdca26\"], [1.0, \"#f0f921\"]], \"type\": \"contour\"}], \"contourcarpet\": [{\"colorbar\": {\"outlinewidth\": 0, \"ticks\": \"\"}, \"type\": \"contourcarpet\"}], \"heatmap\": [{\"colorbar\": {\"outlinewidth\": 0, \"ticks\": \"\"}, \"colorscale\": [[0.0, \"#0d0887\"], [0.1111111111111111, \"#46039f\"], [0.2222222222222222, \"#7201a8\"], [0.3333333333333333, \"#9c179e\"], [0.4444444444444444, \"#bd3786\"], [0.5555555555555556, \"#d8576b\"], [0.6666666666666666, \"#ed7953\"], [0.7777777777777778, \"#fb9f3a\"], [0.8888888888888888, \"#fdca26\"], [1.0, \"#f0f921\"]], \"type\": \"heatmap\"}], \"heatmapgl\": [{\"colorbar\": {\"outlinewidth\": 0, \"ticks\": \"\"}, \"colorscale\": [[0.0, \"#0d0887\"], [0.1111111111111111, \"#46039f\"], [0.2222222222222222, \"#7201a8\"], [0.3333333333333333, \"#9c179e\"], [0.4444444444444444, \"#bd3786\"], [0.5555555555555556, \"#d8576b\"], [0.6666666666666666, \"#ed7953\"], [0.7777777777777778, \"#fb9f3a\"], [0.8888888888888888, \"#fdca26\"], [1.0, \"#f0f921\"]], \"type\": \"heatmapgl\"}], \"histogram\": [{\"marker\": {\"colorbar\": {\"outlinewidth\": 0, \"ticks\": \"\"}}, \"type\": \"histogram\"}], \"histogram2d\": [{\"colorbar\": {\"outlinewidth\": 0, \"ticks\": \"\"}, \"colorscale\": [[0.0, \"#0d0887\"], [0.1111111111111111, \"#46039f\"], [0.2222222222222222, \"#7201a8\"], [0.3333333333333333, \"#9c179e\"], [0.4444444444444444, \"#bd3786\"], [0.5555555555555556, \"#d8576b\"], [0.6666666666666666, \"#ed7953\"], [0.7777777777777778, \"#fb9f3a\"], [0.8888888888888888, \"#fdca26\"], [1.0, \"#f0f921\"]], \"type\": \"histogram2d\"}], \"histogram2dcontour\": [{\"colorbar\": {\"outlinewidth\": 0, \"ticks\": \"\"}, \"colorscale\": [[0.0, \"#0d0887\"], [0.1111111111111111, \"#46039f\"], [0.2222222222222222, \"#7201a8\"], [0.3333333333333333, \"#9c179e\"], [0.4444444444444444, \"#bd3786\"], [0.5555555555555556, \"#d8576b\"], [0.6666666666666666, \"#ed7953\"], [0.7777777777777778, \"#fb9f3a\"], [0.8888888888888888, \"#fdca26\"], [1.0, \"#f0f921\"]], \"type\": \"histogram2dcontour\"}], \"mesh3d\": [{\"colorbar\": {\"outlinewidth\": 0, \"ticks\": \"\"}, \"type\": \"mesh3d\"}], \"parcoords\": [{\"line\": {\"colorbar\": {\"outlinewidth\": 0, \"ticks\": \"\"}}, \"type\": \"parcoords\"}], \"pie\": [{\"automargin\": true, \"type\": \"pie\"}], \"scatter\": [{\"marker\": {\"colorbar\": {\"outlinewidth\": 0, \"ticks\": \"\"}}, \"type\": \"scatter\"}], \"scatter3d\": [{\"line\": {\"colorbar\": {\"outlinewidth\": 0, \"ticks\": \"\"}}, \"marker\": {\"colorbar\": {\"outlinewidth\": 0, \"ticks\": \"\"}}, \"type\": \"scatter3d\"}], \"scattercarpet\": [{\"marker\": {\"colorbar\": {\"outlinewidth\": 0, \"ticks\": \"\"}}, \"type\": \"scattercarpet\"}], \"scattergeo\": [{\"marker\": {\"colorbar\": {\"outlinewidth\": 0, \"ticks\": \"\"}}, \"type\": \"scattergeo\"}], \"scattergl\": [{\"marker\": {\"colorbar\": {\"outlinewidth\": 0, \"ticks\": \"\"}}, \"type\": \"scattergl\"}], \"scattermapbox\": [{\"marker\": {\"colorbar\": {\"outlinewidth\": 0, \"ticks\": \"\"}}, \"type\": \"scattermapbox\"}], \"scatterpolar\": [{\"marker\": {\"colorbar\": {\"outlinewidth\": 0, \"ticks\": \"\"}}, \"type\": \"scatterpolar\"}], \"scatterpolargl\": [{\"marker\": {\"colorbar\": {\"outlinewidth\": 0, \"ticks\": \"\"}}, \"type\": \"scatterpolargl\"}], \"scatterternary\": [{\"marker\": {\"colorbar\": {\"outlinewidth\": 0, \"ticks\": \"\"}}, \"type\": \"scatterternary\"}], \"surface\": [{\"colorbar\": {\"outlinewidth\": 0, \"ticks\": \"\"}, \"colorscale\": [[0.0, \"#0d0887\"], [0.1111111111111111, \"#46039f\"], [0.2222222222222222, \"#7201a8\"], [0.3333333333333333, \"#9c179e\"], [0.4444444444444444, \"#bd3786\"], [0.5555555555555556, \"#d8576b\"], [0.6666666666666666, \"#ed7953\"], [0.7777777777777778, \"#fb9f3a\"], [0.8888888888888888, \"#fdca26\"], [1.0, \"#f0f921\"]], \"type\": \"surface\"}], \"table\": [{\"cells\": {\"fill\": {\"color\": \"#EBF0F8\"}, \"line\": {\"color\": \"white\"}}, \"header\": {\"fill\": {\"color\": \"#C8D4E3\"}, \"line\": {\"color\": \"white\"}}, \"type\": \"table\"}]}, \"layout\": {\"annotationdefaults\": {\"arrowcolor\": \"#2a3f5f\", \"arrowhead\": 0, \"arrowwidth\": 1}, \"coloraxis\": {\"colorbar\": {\"outlinewidth\": 0, \"ticks\": \"\"}}, \"colorscale\": {\"diverging\": [[0, \"#8e0152\"], [0.1, \"#c51b7d\"], [0.2, \"#de77ae\"], [0.3, \"#f1b6da\"], [0.4, \"#fde0ef\"], [0.5, \"#f7f7f7\"], [0.6, \"#e6f5d0\"], [0.7, \"#b8e186\"], [0.8, \"#7fbc41\"], [0.9, \"#4d9221\"], [1, \"#276419\"]], \"sequential\": [[0.0, \"#0d0887\"], [0.1111111111111111, \"#46039f\"], [0.2222222222222222, \"#7201a8\"], [0.3333333333333333, \"#9c179e\"], [0.4444444444444444, \"#bd3786\"], [0.5555555555555556, \"#d8576b\"], [0.6666666666666666, \"#ed7953\"], [0.7777777777777778, \"#fb9f3a\"], [0.8888888888888888, \"#fdca26\"], [1.0, \"#f0f921\"]], \"sequentialminus\": [[0.0, \"#0d0887\"], [0.1111111111111111, \"#46039f\"], [0.2222222222222222, \"#7201a8\"], [0.3333333333333333, \"#9c179e\"], [0.4444444444444444, \"#bd3786\"], [0.5555555555555556, \"#d8576b\"], [0.6666666666666666, \"#ed7953\"], [0.7777777777777778, \"#fb9f3a\"], [0.8888888888888888, \"#fdca26\"], [1.0, \"#f0f921\"]]}, \"colorway\": [\"#636efa\", \"#EF553B\", \"#00cc96\", \"#ab63fa\", \"#FFA15A\", \"#19d3f3\", \"#FF6692\", \"#B6E880\", \"#FF97FF\", \"#FECB52\"], \"font\": {\"color\": \"#2a3f5f\"}, \"geo\": {\"bgcolor\": \"white\", \"lakecolor\": \"white\", \"landcolor\": \"#E5ECF6\", \"showlakes\": true, \"showland\": true, \"subunitcolor\": \"white\"}, \"hoverlabel\": {\"align\": \"left\"}, \"hovermode\": \"closest\", \"mapbox\": {\"style\": \"light\"}, \"paper_bgcolor\": \"white\", \"plot_bgcolor\": \"#E5ECF6\", \"polar\": {\"angularaxis\": {\"gridcolor\": \"white\", \"linecolor\": \"white\", \"ticks\": \"\"}, \"bgcolor\": \"#E5ECF6\", \"radialaxis\": {\"gridcolor\": \"white\", \"linecolor\": \"white\", \"ticks\": \"\"}}, \"scene\": {\"xaxis\": {\"backgroundcolor\": \"#E5ECF6\", \"gridcolor\": \"white\", \"gridwidth\": 2, \"linecolor\": \"white\", \"showbackground\": true, \"ticks\": \"\", \"zerolinecolor\": \"white\"}, \"yaxis\": {\"backgroundcolor\": \"#E5ECF6\", \"gridcolor\": \"white\", \"gridwidth\": 2, \"linecolor\": \"white\", \"showbackground\": true, \"ticks\": \"\", \"zerolinecolor\": \"white\"}, \"zaxis\": {\"backgroundcolor\": \"#E5ECF6\", \"gridcolor\": \"white\", \"gridwidth\": 2, \"linecolor\": \"white\", \"showbackground\": true, \"ticks\": \"\", \"zerolinecolor\": \"white\"}}, \"shapedefaults\": {\"line\": {\"color\": \"#2a3f5f\"}}, \"ternary\": {\"aaxis\": {\"gridcolor\": \"white\", \"linecolor\": \"white\", \"ticks\": \"\"}, \"baxis\": {\"gridcolor\": \"white\", \"linecolor\": \"white\", \"ticks\": \"\"}, \"bgcolor\": \"#E5ECF6\", \"caxis\": {\"gridcolor\": \"white\", \"linecolor\": \"white\", \"ticks\": \"\"}}, \"title\": {\"x\": 0.05}, \"xaxis\": {\"automargin\": true, \"gridcolor\": \"white\", \"linecolor\": \"white\", \"ticks\": \"\", \"title\": {\"standoff\": 15}, \"zerolinecolor\": \"white\", \"zerolinewidth\": 2}, \"yaxis\": {\"automargin\": true, \"gridcolor\": \"white\", \"linecolor\": \"white\", \"ticks\": \"\", \"title\": {\"standoff\": 15}, \"zerolinecolor\": \"white\", \"zerolinewidth\": 2}}}, \"title\": {\"text\": \"Is it cancerous?\"}, \"xaxis\": {\"title\": {\"text\": \"mean area\"}}, \"yaxis\": {\"range\": [0, 0.5], \"title\": {\"text\": \"mean concavity\"}}},\n",
       "                        {\"responsive\": true}\n",
       "                    ).then(function(){\n",
       "                            \n",
       "var gd = document.getElementById('57fbd788-f8fd-4af9-b932-2c4d059add1c');\n",
       "var x = new MutationObserver(function (mutations, observer) {{\n",
       "        var display = window.getComputedStyle(gd).display;\n",
       "        if (!display || display === 'none') {{\n",
       "            console.log([gd, 'removed!']);\n",
       "            Plotly.purge(gd);\n",
       "            observer.disconnect();\n",
       "        }}\n",
       "}});\n",
       "\n",
       "// Listen for the removal of the full notebook cells\n",
       "var notebookContainer = gd.closest('#notebook-container');\n",
       "if (notebookContainer) {{\n",
       "    x.observe(notebookContainer, {childList: true});\n",
       "}}\n",
       "\n",
       "// Listen for the clearing of the current output cell\n",
       "var outputEl = gd.closest('.output');\n",
       "if (outputEl) {{\n",
       "    x.observe(outputEl, {childList: true});\n",
       "}}\n",
       "\n",
       "                        })\n",
       "                };\n",
       "                });\n",
       "            </script>\n",
       "        </div>"
      ]
     },
     "metadata": {},
     "output_type": "display_data"
    }
   ],
   "source": [
    "decision_trace = trace_values(x_values=area_values, y_values=boundaries, mode = 'lines', name = '-3.47*x_1 -0.008*x_2  = 0')\n",
    "\n",
    "layout = {'xaxis': {'title': 'mean area'}, 'yaxis': {'title': 'mean concavity', 'range': [0, .5]}, 'title': 'Is it cancerous?'}\n",
    "plot([cancerous_trace, non_cancerous_trace, decision_trace], layout = layout)"
   ]
  },
  {
   "cell_type": "markdown",
   "metadata": {},
   "source": [
    "Let's take a look at the diagram above.  The green line is the fitted decision boundary.  We'll discuss how that model came to the decision boundary in a following lesson.  But for now, let's just take it as given that this boundary makes sense.\n",
    "\n",
    "Now this boundary indicates the predictions of our model.  Everything to the right of the line is predicted as benign, and everything to the left of the line is predicted as cancerous.\n",
    "\n",
    "Now that we understand how the model works, we can see that there are a half dozen orange cancerous points on the benign side of the line.  And there are many more benign observed cells on the cancerous side of our decision boundary.  We'll discuss why this is the case, and whether this is good or not in following lessons, but for now it is important simply to make sure we are interpreting the graph correctly."
   ]
  },
  {
   "cell_type": "markdown",
   "metadata": {},
   "source": [
    "### Our predictions mathematically"
   ]
  },
  {
   "cell_type": "markdown",
   "metadata": {},
   "source": [
    "So we how we can use our decision boundary to visually see if our model predicts a value as being cancerous or non-cancerous.  We can also use our trained parameters to predict whether a datapoint is positive or negative -- or in this case, to predict whether a cell is cancerous or not.\n",
    "\n",
    "Let's take another look at our model parameters."
   ]
  },
  {
   "cell_type": "code",
   "execution_count": 159,
   "metadata": {},
   "outputs": [
    {
     "data": {
      "text/plain": [
       "array([[-0.00802333, -3.47361781]])"
      ]
     },
     "execution_count": 159,
     "metadata": {},
     "output_type": "execute_result"
    }
   ],
   "source": [
    "model.coef_"
   ]
  },
  {
   "cell_type": "code",
   "execution_count": 160,
   "metadata": {},
   "outputs": [
    {
     "data": {
      "text/plain": [
       "array([5.86599622])"
      ]
     },
     "execution_count": 160,
     "metadata": {},
     "output_type": "execute_result"
    }
   ],
   "source": [
    "model.intercept_"
   ]
  },
  {
   "cell_type": "markdown",
   "metadata": {},
   "source": [
    "We can use these parameters to define the following function.  And if our function outputs a positive number, we'll predict our datapoint as being one, or cancerous.  If our function outputs a negative number, then we'll interpret our datapoint as 0, or benign."
   ]
  },
  {
   "cell_type": "code",
   "execution_count": 161,
   "metadata": {},
   "outputs": [],
   "source": [
    "def decision_boundary_function(mean_area, mean_concavity):\n",
    "    return -0.00802333*mean_area - 3.47361781 * mean_concavity + 5.86599622"
   ]
  },
  {
   "cell_type": "markdown",
   "metadata": {},
   "source": [
    "Let's put this function to the test."
   ]
  },
  {
   "cell_type": "code",
   "execution_count": 162,
   "metadata": {},
   "outputs": [
    {
     "name": "stderr",
     "output_type": "stream",
     "text": [
      "/anaconda3/lib/python3.7/site-packages/ipykernel_launcher.py:3: SettingWithCopyWarning:\n",
      "\n",
      "\n",
      "A value is trying to be set on a copy of a slice from a DataFrame.\n",
      "Try using .loc[row_indexer,col_indexer] = value instead\n",
      "\n",
      "See the caveats in the documentation: http://pandas.pydata.org/pandas-docs/stable/indexing.html#indexing-view-versus-copy\n",
      "\n"
     ]
    },
    {
     "data": {
      "text/html": [
       "<div>\n",
       "<style scoped>\n",
       "    .dataframe tbody tr th:only-of-type {\n",
       "        vertical-align: middle;\n",
       "    }\n",
       "\n",
       "    .dataframe tbody tr th {\n",
       "        vertical-align: top;\n",
       "    }\n",
       "\n",
       "    .dataframe thead th {\n",
       "        text-align: right;\n",
       "    }\n",
       "</style>\n",
       "<table border=\"1\" class=\"dataframe\">\n",
       "  <thead>\n",
       "    <tr style=\"text-align: right;\">\n",
       "      <th></th>\n",
       "      <th>mean_area</th>\n",
       "      <th>mean_concavity</th>\n",
       "      <th>y</th>\n",
       "    </tr>\n",
       "  </thead>\n",
       "  <tbody>\n",
       "    <tr>\n",
       "      <th>17</th>\n",
       "      <td>798.8</td>\n",
       "      <td>0.17220</td>\n",
       "      <td>0</td>\n",
       "    </tr>\n",
       "    <tr>\n",
       "      <th>18</th>\n",
       "      <td>1260.0</td>\n",
       "      <td>0.14790</td>\n",
       "      <td>0</td>\n",
       "    </tr>\n",
       "    <tr>\n",
       "      <th>19</th>\n",
       "      <td>566.3</td>\n",
       "      <td>0.06664</td>\n",
       "      <td>1</td>\n",
       "    </tr>\n",
       "    <tr>\n",
       "      <th>20</th>\n",
       "      <td>520.0</td>\n",
       "      <td>0.04568</td>\n",
       "      <td>1</td>\n",
       "    </tr>\n",
       "    <tr>\n",
       "      <th>21</th>\n",
       "      <td>273.9</td>\n",
       "      <td>0.02956</td>\n",
       "      <td>1</td>\n",
       "    </tr>\n",
       "  </tbody>\n",
       "</table>\n",
       "</div>"
      ],
      "text/plain": [
       "    mean_area  mean_concavity  y\n",
       "17      798.8         0.17220  0\n",
       "18     1260.0         0.14790  0\n",
       "19      566.3         0.06664  1\n",
       "20      520.0         0.04568  1\n",
       "21      273.9         0.02956  1"
      ]
     },
     "execution_count": 162,
     "metadata": {},
     "output_type": "execute_result"
    }
   ],
   "source": [
    "scoped_df = df[['mean area', 'mean concavity']]\n",
    "scoped_df.columns = ['mean_area', 'mean_concavity']\n",
    "scoped_df['y'] = dataset['target']\n",
    "scoped_df.iloc[17:22, :]"
   ]
  },
  {
   "cell_type": "code",
   "execution_count": 163,
   "metadata": {},
   "outputs": [
    {
     "data": {
      "text/plain": [
       "17   -1.141197\n",
       "18   -4.757148\n",
       "19    1.090903\n",
       "20    1.535190\n",
       "21    3.565726\n",
       "dtype: float64"
      ]
     },
     "execution_count": 163,
     "metadata": {},
     "output_type": "execute_result"
    }
   ],
   "source": [
    "scoped_df.iloc[17:22, 0:-1].apply(lambda x: decision_boundary_function(*x), axis=1)"
   ]
  },
  {
   "cell_type": "markdown",
   "metadata": {},
   "source": [
    "So we can see that with using the prediction formula, it appears to be working at taking our two features and using these features to predict whether a cell is cancerous or not."
   ]
  },
  {
   "cell_type": "code",
   "execution_count": 164,
   "metadata": {},
   "outputs": [],
   "source": [
    "def decision_boundary_function(mean_area, mean_concavity):\n",
    "    return -0.00802333*mean_area - 3.47361781 * mean_concavity + 5.86599622"
   ]
  },
  {
   "cell_type": "markdown",
   "metadata": {},
   "source": [
    "We could write some simple if else logic to turn these positive and negative numbers into ones or zeros.  Or we can also use sklearn to pass our features into the decision_boundary function for us."
   ]
  },
  {
   "cell_type": "code",
   "execution_count": 165,
   "metadata": {},
   "outputs": [
    {
     "data": {
      "text/plain": [
       "array([-1.14119896, -4.75715111,  1.090901  ,  1.53518833,  3.56572524])"
      ]
     },
     "execution_count": 165,
     "metadata": {},
     "output_type": "execute_result"
    }
   ],
   "source": [
    "model.decision_function(scoped_df[['mean_area', 'mean_concavity']])[17:22]"
   ]
  },
  {
   "cell_type": "markdown",
   "metadata": {},
   "source": [
    "And to turn these into predictions."
   ]
  },
  {
   "cell_type": "code",
   "execution_count": 166,
   "metadata": {},
   "outputs": [
    {
     "data": {
      "text/plain": [
       "array([0, 0, 1, 1, 1])"
      ]
     },
     "execution_count": 166,
     "metadata": {},
     "output_type": "execute_result"
    }
   ],
   "source": [
    "model.predict(scoped_df[['mean_area', 'mean_concavity']])[17:22]"
   ]
  },
  {
   "cell_type": "markdown",
   "metadata": {},
   "source": [
    "### Resources"
   ]
  },
  {
   "cell_type": "markdown",
   "metadata": {},
   "source": [
    "[logistic regression cost](https://www.internalpointers.com/post/cost-function-logistic-regression)"
   ]
  },
  {
   "cell_type": "markdown",
   "metadata": {},
   "source": [
    "* Talk about the score and the logistic function combined, \n",
    "* And the effects of incr"
   ]
  }
 ],
 "metadata": {
  "kernelspec": {
   "display_name": "Python 3",
   "language": "python",
   "name": "python3"
  },
  "language_info": {
   "codemirror_mode": {
    "name": "ipython",
    "version": 3
   },
   "file_extension": ".py",
   "mimetype": "text/x-python",
   "name": "python",
   "nbconvert_exporter": "python",
   "pygments_lexer": "ipython3",
   "version": "3.7.4"
  }
 },
 "nbformat": 4,
 "nbformat_minor": 4
}
