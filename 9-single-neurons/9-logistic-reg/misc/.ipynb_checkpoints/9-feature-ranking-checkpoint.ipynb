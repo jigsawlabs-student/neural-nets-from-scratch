{
 "cells": [
  {
   "cell_type": "markdown",
   "metadata": {},
   "source": [
    "# Feature Pruning and Selections"
   ]
  },
  {
   "cell_type": "code",
   "execution_count": 3,
   "metadata": {},
   "outputs": [],
   "source": [
    "import pandas as pd\n",
    "\n",
    "df_removed_zeros = pd.read_feather('removed_zeros.feather')"
   ]
  },
  {
   "cell_type": "markdown",
   "metadata": {},
   "source": [
    "## View the selected features"
   ]
  },
  {
   "cell_type": "markdown",
   "metadata": {},
   "source": [
    "Now let's see which features we selected."
   ]
  },
  {
   "cell_type": "code",
   "execution_count": 11,
   "metadata": {},
   "outputs": [],
   "source": [
    "import numpy as np\n",
    "y_removed_logged = np.log(df_removed_zeros.price)\n",
    "X_removed = df_removed_zeros.drop(columns=['price'])"
   ]
  },
  {
   "cell_type": "code",
   "execution_count": 13,
   "metadata": {},
   "outputs": [
    {
     "data": {
      "text/plain": [
       "RFE(estimator=LinearRegression(copy_X=True, fit_intercept=True, n_jobs=None,\n",
       "         normalize=False),\n",
       "  n_features_to_select=35, step=1, verbose=0)"
      ]
     },
     "execution_count": 13,
     "metadata": {},
     "output_type": "execute_result"
    }
   ],
   "source": [
    "from sklearn.feature_selection import RFE\n",
    "from sklearn.linear_model import LinearRegression\n",
    "model = LinearRegression()\n",
    "\n",
    "rfe_logged_model = RFE(model, n_features_to_select=35)\n",
    "rfe_logged_model.fit(X_removed, y_removed_logged)"
   ]
  },
  {
   "cell_type": "code",
   "execution_count": 16,
   "metadata": {},
   "outputs": [],
   "source": [
    "len(X_removed.columns[rfe_logged_model.support_])\n",
    "# 35\n",
    "\n",
    "selected_cols = X_removed.columns[rfe_logged_model.support_]\n",
    "pruned_X_removed = X_removed.iloc[:, rfe_logged_model.support_]"
   ]
  },
  {
   "cell_type": "code",
   "execution_count": 18,
   "metadata": {},
   "outputs": [],
   "source": [
    "from sklearn.model_selection import train_test_split\n",
    "X_train_pruned, X_test_pruned, y_train_pruned, y_test_pruned = train_test_split(\n",
    "     pruned_X_removed, y_removed_logged, test_size=0.33, random_state=20)"
   ]
  },
  {
   "cell_type": "code",
   "execution_count": 19,
   "metadata": {},
   "outputs": [
    {
     "data": {
      "text/plain": [
       "0.4628732594292488"
      ]
     },
     "execution_count": 19,
     "metadata": {},
     "output_type": "execute_result"
    }
   ],
   "source": [
    "model.fit(X_train_pruned, y_train_pruned)\n",
    "model.score(X_test_pruned, y_test_pruned)"
   ]
  },
  {
   "cell_type": "markdown",
   "metadata": {},
   "source": [
    "So we see that we get similar results."
   ]
  },
  {
   "cell_type": "markdown",
   "metadata": {},
   "source": [
    "## Rank the Features"
   ]
  },
  {
   "cell_type": "markdown",
   "metadata": {},
   "source": [
    "Now let's rank the features."
   ]
  },
  {
   "cell_type": "code",
   "execution_count": 20,
   "metadata": {},
   "outputs": [],
   "source": [
    "def feature_importances(df, estimator, df_cols = None):\n",
    "    df_cols = df_cols or df.columns\n",
    "    df_cols = df_cols.to_numpy()\n",
    "    coefs = estimator.coef_\n",
    "    abs_coefs = abs(coefs)\n",
    "    paired = np.hstack((df_cols.reshape(-1, 1), coefs.reshape(-1, 1), abs_coefs.reshape(-1, 1)))\n",
    "    ordered_cols = paired[paired[:, -1].argsort()][::-1]\n",
    "    return ordered_cols"
   ]
  },
  {
   "cell_type": "code",
   "execution_count": 23,
   "metadata": {},
   "outputs": [
    {
     "data": {
      "text/plain": [
       "array([['room_type_Shared room', -0.9325864146096644, 0.9325864146096644],\n",
       "       ['requires_license', 0.7512186371717212, 0.7512186371717212],\n",
       "       ['longitude', -0.699624113760337, 0.699624113760337],\n",
       "       ['street_is_berlin_berlin_germany', -0.6286935860639178,\n",
       "        0.6286935860639178],\n",
       "       ['state_is_berlin', 0.5753531284572152, 0.5753531284572152],\n",
       "       ['room_type_Private room', -0.5248380248393115,\n",
       "        0.5248380248393115],\n",
       "       ['beds_is_na', 0.48648631738296705, 0.48648631738296705],\n",
       "       ['cancellation_policy_super_strict_60', 0.47830219491266435,\n",
       "        0.47830219491266435],\n",
       "       ['neighbourhood_cleansed_Moabit West', -0.3989526703401287,\n",
       "        0.3989526703401287],\n",
       "       ['property_type_Loft', 0.37294290980223554, 0.37294290980223554],\n",
       "       ['neighbourhood_Wilmersdorf', 0.36930563451518983,\n",
       "        0.36930563451518983],\n",
       "       ['property_type_other', 0.36020576555137046, 0.36020576555137046],\n",
       "       ['host_neighbourhood_Wilmersdorf', -0.3171166086151586,\n",
       "        0.3171166086151586],\n",
       "       ['host_sinceIs_year_end', -0.31146418454564273,\n",
       "        0.31146418454564273],\n",
       "       ['bedrooms_is_na', -0.3110992558634037, 0.3110992558634037],\n",
       "       ['bathrooms_is_na', -0.3041129057970146, 0.3041129057970146],\n",
       "       ['neighbourhood_cleansed_Moabit Ost', -0.3025248136982148,\n",
       "        0.3025248136982148],\n",
       "       ['bedrooms', 0.26457552854708527, 0.26457552854708527],\n",
       "       ['neighbourhood_Wedding', -0.2250065308123339, 0.2250065308123339],\n",
       "       ['neighbourhood_group_cleansed_Reinickendorf',\n",
       "        -0.20872124064486644, 0.20872124064486644]], dtype=object)"
      ]
     },
     "execution_count": 23,
     "metadata": {},
     "output_type": "execute_result"
    }
   ],
   "source": [
    "feature_scores = feature_importances(X_train_pruned,model)\n",
    "feature_scores[:20]"
   ]
  },
  {
   "cell_type": "code",
   "execution_count": 22,
   "metadata": {},
   "outputs": [
    {
     "data": {
      "text/plain": [
       "array(['room_type_Shared room', 'requires_license', 'longitude',\n",
       "       'street_is_berlin_berlin_germany', 'state_is_berlin',\n",
       "       'room_type_Private room', 'beds_is_na',\n",
       "       'cancellation_policy_super_strict_60',\n",
       "       'neighbourhood_cleansed_Moabit West', 'property_type_Loft',\n",
       "       'neighbourhood_Wilmersdorf', 'property_type_other',\n",
       "       'host_neighbourhood_Wilmersdorf', 'host_sinceIs_year_end',\n",
       "       'bedrooms_is_na', 'bathrooms_is_na',\n",
       "       'neighbourhood_cleansed_Moabit Ost', 'bedrooms',\n",
       "       'neighbourhood_Wedding',\n",
       "       'neighbourhood_group_cleansed_Reinickendorf',\n",
       "       'neighbourhood_group_cleansed_other', 'zip_dists_1335',\n",
       "       'license_is_na', 'zip_dists_other', 'last_reviewMonth_3.0',\n",
       "       'neighbourhood_group_cleansed_Mitte', 'last_reviewMonth_2.0',\n",
       "       'neighbourhood_cleansed_Parkviertel',\n",
       "       'neighbourhood_group_cleansed_Neukölln', 'summary_is_na',\n",
       "       'zipcode_is_na', 'last_reviewMonth_12.0', 'zip_dists_1082',\n",
       "       'host_response_time_other', 'host_response_rate_is_na'],\n",
       "      dtype=object)"
      ]
     },
     "execution_count": 22,
     "metadata": {},
     "output_type": "execute_result"
    }
   ],
   "source": [
    "feature_scores[:, 0]"
   ]
  },
  {
   "cell_type": "markdown",
   "metadata": {},
   "source": [
    "### Potential features to Combine"
   ]
  },
  {
   "cell_type": "markdown",
   "metadata": {},
   "source": [
    "Now with these 35 columns, we can start to group them: "
   ]
  },
  {
   "cell_type": "markdown",
   "metadata": {},
   "source": [
    "* Location\n",
    "    * longitude\n",
    "    * street_is_berlin_berlin_germany\n",
    "    * state_is_berlin\n",
    "    * neighbourhood_Wilmersdorf\n",
    "    * host_neighbourhood_Wilmersdorf\n",
    "    * neighbourhood_cleansed_Moabit West\n",
    "    * neighbourhood_cleansed_Moabit Ost\n",
    "    * neighbourhood_Wedding\n",
    "    * neighbourhood_group_cleansed_Mitte\n",
    "    * neighbourhood_cleansed_Parkviertel\n",
    "    * neighbourhood_group_cleansed_Neukölln\n",
    "    * neighbourhood_group_cleansed_Reinickendorf\n",
    "    * neighbourhood_group_cleansed_other\n",
    "    * zip_dists_1335\n",
    "    * zip_dists_1082\n",
    "    * zip_dists_other\n",
    "    * zipcode_is_na"
   ]
  },
  {
   "cell_type": "markdown",
   "metadata": {},
   "source": [
    "### Recombine Features that appear Linear"
   ]
  },
  {
   "cell_type": "markdown",
   "metadata": {},
   "source": [
    "### From here can dedicate feature engineering"
   ]
  },
  {
   "cell_type": "markdown",
   "metadata": {},
   "source": [
    "### Resources\n",
    "\n",
    "* Feature selection in theory\n",
    "    * Want those that are correlated, or pearson correlated with the outputs\n",
    "        * Could compare both techniques"
   ]
  },
  {
   "cell_type": "code",
   "execution_count": null,
   "metadata": {},
   "outputs": [],
   "source": [
    "https://towardsdatascience.com/why-how-and-when-to-apply-feature-selection-e9c69adfabf2"
   ]
  }
 ],
 "metadata": {
  "kernelspec": {
   "display_name": "Python 3",
   "language": "python",
   "name": "python3"
  },
  "language_info": {
   "codemirror_mode": {
    "name": "ipython",
    "version": 3
   },
   "file_extension": ".py",
   "mimetype": "text/x-python",
   "name": "python",
   "nbconvert_exporter": "python",
   "pygments_lexer": "ipython3",
   "version": "3.7.3"
  }
 },
 "nbformat": 4,
 "nbformat_minor": 2
}
