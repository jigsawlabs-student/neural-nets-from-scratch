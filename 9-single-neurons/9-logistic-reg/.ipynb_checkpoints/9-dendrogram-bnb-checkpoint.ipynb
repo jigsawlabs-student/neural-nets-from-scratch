{
 "cells": [
  {
   "cell_type": "markdown",
   "metadata": {},
   "source": [
    "# Using Correlations"
   ]
  },
  {
   "cell_type": "markdown",
   "metadata": {},
   "source": [
    "### Introduction"
   ]
  },
  {
   "cell_type": "markdown",
   "metadata": {},
   "source": [
    "In the last sections, we saw how we can use recursive feature selection to reduce the number of features while retaining a relatively accurate model.  The mechanism of recursive feature selection is quite automatic - that is, we simply go one by one and try to see which feature remoal would least hurt our score.  \n",
    "\n",
    "The goal is to use some of our own judgment to find features which are multicollinear and remove them."
   ]
  },
  {
   "cell_type": "markdown",
   "metadata": {},
   "source": [
    "### Becoming more picky"
   ]
  },
  {
   "cell_type": "markdown",
   "metadata": {},
   "source": [
    "The automatic nature of recursive features selection works well when dealing with a large number of features.  However we can further try reducing features, as well as gain insight into our model by examining which features are highly correlated with others."
   ]
  },
  {
   "cell_type": "markdown",
   "metadata": {},
   "source": [
    "Now that we have selected our most important features, we can begin to explore the similarities between the data to see if it makes sense to reduce our data further."
   ]
  },
  {
   "cell_type": "code",
   "execution_count": 1,
   "metadata": {},
   "outputs": [],
   "source": [
    "import pandas as pd\n",
    "\n",
    "df_removed_zeros = pd.read_feather('removed_zeros.feather')"
   ]
  },
  {
   "cell_type": "code",
   "execution_count": 2,
   "metadata": {},
   "outputs": [],
   "source": [
    "import numpy as np\n",
    "y_removed_logged = np.log(df_removed_zeros.price)\n",
    "X_removed = df_removed_zeros.drop(columns=['price'])"
   ]
  },
  {
   "cell_type": "code",
   "execution_count": 3,
   "metadata": {},
   "outputs": [
    {
     "data": {
      "text/plain": [
       "RFE(estimator=LinearRegression(copy_X=True, fit_intercept=True, n_jobs=None,\n",
       "         normalize=False),\n",
       "  n_features_to_select=35, step=1, verbose=0)"
      ]
     },
     "execution_count": 3,
     "metadata": {},
     "output_type": "execute_result"
    }
   ],
   "source": [
    "from sklearn.feature_selection import RFE\n",
    "from sklearn.linear_model import LinearRegression\n",
    "model = LinearRegression()\n",
    "\n",
    "rfe_logged_model = RFE(model, n_features_to_select=35)\n",
    "rfe_logged_model.fit(X_removed, y_removed_logged)"
   ]
  },
  {
   "cell_type": "code",
   "execution_count": 4,
   "metadata": {},
   "outputs": [],
   "source": [
    "len(X_removed.columns[rfe_logged_model.support_])\n",
    "# 35\n",
    "\n",
    "selected_cols = X_removed.columns[rfe_logged_model.support_]\n",
    "pruned_X_removed = X_removed.iloc[:, rfe_logged_model.support_]"
   ]
  },
  {
   "cell_type": "code",
   "execution_count": 5,
   "metadata": {},
   "outputs": [],
   "source": [
    "from sklearn.model_selection import train_test_split\n",
    "X_train_pruned, X_test_pruned, y_train_pruned, y_test_pruned = train_test_split(\n",
    "     pruned_X_removed, y_removed_logged, test_size=0.33, random_state=20)"
   ]
  },
  {
   "cell_type": "code",
   "execution_count": 6,
   "metadata": {},
   "outputs": [
    {
     "data": {
      "text/plain": [
       "0.4628732594292488"
      ]
     },
     "execution_count": 6,
     "metadata": {},
     "output_type": "execute_result"
    }
   ],
   "source": [
    "model.fit(X_train_pruned, y_train_pruned)\n",
    "model.score(X_test_pruned, y_test_pruned)"
   ]
  },
  {
   "cell_type": "markdown",
   "metadata": {},
   "source": [
    "## Rank the features"
   ]
  },
  {
   "cell_type": "code",
   "execution_count": 7,
   "metadata": {},
   "outputs": [],
   "source": [
    "def feature_importances(df, estimator, df_cols = None):\n",
    "    df_cols = df_cols or df.columns\n",
    "    df_cols = df_cols.to_numpy()\n",
    "    coefs = estimator.coef_\n",
    "    abs_coefs = abs(coefs)\n",
    "    paired = np.hstack((df_cols.reshape(-1, 1), coefs.reshape(-1, 1), abs_coefs.reshape(-1, 1)))\n",
    "    ordered_cols = paired[paired[:, -1].argsort()][::-1]\n",
    "    return ordered_cols"
   ]
  },
  {
   "cell_type": "code",
   "execution_count": 8,
   "metadata": {},
   "outputs": [
    {
     "data": {
      "text/plain": [
       "array([['room_type_Shared room', -0.9325864146096644, 0.9325864146096644],\n",
       "       ['requires_license', 0.7512186371717212, 0.7512186371717212],\n",
       "       ['longitude', -0.699624113760337, 0.699624113760337],\n",
       "       ['street_is_berlin_berlin_germany', -0.6286935860639178,\n",
       "        0.6286935860639178],\n",
       "       ['state_is_berlin', 0.5753531284572152, 0.5753531284572152],\n",
       "       ['room_type_Private room', -0.5248380248393115,\n",
       "        0.5248380248393115],\n",
       "       ['beds_is_na', 0.48648631738296705, 0.48648631738296705],\n",
       "       ['cancellation_policy_super_strict_60', 0.47830219491266435,\n",
       "        0.47830219491266435],\n",
       "       ['neighbourhood_cleansed_Moabit West', -0.3989526703401287,\n",
       "        0.3989526703401287],\n",
       "       ['property_type_Loft', 0.37294290980223554, 0.37294290980223554]],\n",
       "      dtype=object)"
      ]
     },
     "execution_count": 8,
     "metadata": {},
     "output_type": "execute_result"
    }
   ],
   "source": [
    "feature_scores = feature_importances(X_train_pruned,model)\n",
    "feature_scores[:10]"
   ]
  },
  {
   "cell_type": "code",
   "execution_count": 9,
   "metadata": {},
   "outputs": [
    {
     "data": {
      "text/plain": [
       "array(['room_type_Shared room', 'requires_license', 'longitude',\n",
       "       'street_is_berlin_berlin_germany', 'state_is_berlin',\n",
       "       'room_type_Private room', 'beds_is_na',\n",
       "       'cancellation_policy_super_strict_60',\n",
       "       'neighbourhood_cleansed_Moabit West', 'property_type_Loft',\n",
       "       'neighbourhood_Wilmersdorf', 'property_type_other',\n",
       "       'host_neighbourhood_Wilmersdorf', 'host_sinceIs_year_end',\n",
       "       'bedrooms_is_na', 'bathrooms_is_na',\n",
       "       'neighbourhood_cleansed_Moabit Ost', 'bedrooms',\n",
       "       'neighbourhood_Wedding',\n",
       "       'neighbourhood_group_cleansed_Reinickendorf'], dtype=object)"
      ]
     },
     "execution_count": 9,
     "metadata": {},
     "output_type": "execute_result"
    }
   ],
   "source": [
    "feature_scores[:20, 0]"
   ]
  },
  {
   "cell_type": "markdown",
   "metadata": {},
   "source": [
    "### Exploring Correlations"
   ]
  },
  {
   "cell_type": "markdown",
   "metadata": {},
   "source": [
    "To see which features may still be redundant, we should explore correlations between the data."
   ]
  },
  {
   "cell_type": "markdown",
   "metadata": {},
   "source": [
    "First we select the top six features."
   ]
  },
  {
   "cell_type": "markdown",
   "metadata": {},
   "source": [
    "Now we can graph the associations of each feature with the others by creating a scatter matrix."
   ]
  },
  {
   "cell_type": "code",
   "execution_count": 10,
   "metadata": {},
   "outputs": [],
   "source": [
    "bool_cols = X_train_pruned.select_dtypes(include='bool').columns"
   ]
  },
  {
   "cell_type": "code",
   "execution_count": 11,
   "metadata": {},
   "outputs": [
    {
     "name": "stderr",
     "output_type": "stream",
     "text": [
      "/anaconda3/lib/python3.7/site-packages/pandas/core/frame.py:3391: SettingWithCopyWarning: \n",
      "A value is trying to be set on a copy of a slice from a DataFrame.\n",
      "Try using .loc[row_indexer,col_indexer] = value instead\n",
      "\n",
      "See the caveats in the documentation: http://pandas.pydata.org/pandas-docs/stable/indexing.html#indexing-view-versus-copy\n",
      "  self[k1] = value[k2]\n"
     ]
    }
   ],
   "source": [
    "X_train_pruned[bool_cols] = X_train_pruned[bool_cols].astype(int)"
   ]
  },
  {
   "cell_type": "code",
   "execution_count": 10,
   "metadata": {},
   "outputs": [],
   "source": [
    "subsampled_df = X_train_pruned.sample(3000)"
   ]
  },
  {
   "cell_type": "code",
   "execution_count": 12,
   "metadata": {},
   "outputs": [
    {
     "name": "stdout",
     "output_type": "stream",
     "text": [
      "scatter matrix\n"
     ]
    }
   ],
   "source": [
    "# pd.plotting.scatter_matrix(subsampled_df)\n",
    "print('scatter matrix')"
   ]
  },
  {
   "cell_type": "markdown",
   "metadata": {},
   "source": [
    "And we can express this show this mathematically with the correlation."
   ]
  },
  {
   "cell_type": "code",
   "execution_count": 24,
   "metadata": {},
   "outputs": [
    {
     "data": {
      "text/plain": [
       "Index(['longitude', 'bedrooms', 'bedrooms_is_na', 'host_response_rate_is_na',\n",
       "       'summary_is_na', 'license_is_na', 'zipcode_is_na', 'bathrooms_is_na',\n",
       "       'beds_is_na', 'host_sinceIs_year_end', 'requires_license',\n",
       "       'state_is_berlin', 'street_is_berlin_berlin_germany',\n",
       "       'property_type_Loft', 'property_type_other',\n",
       "       'neighbourhood_group_cleansed_Mitte',\n",
       "       'neighbourhood_group_cleansed_Neukölln',\n",
       "       'neighbourhood_group_cleansed_Reinickendorf',\n",
       "       'neighbourhood_group_cleansed_other', 'neighbourhood_Wedding',\n",
       "       'neighbourhood_Wilmersdorf', 'host_neighbourhood_Wilmersdorf',\n",
       "       'cancellation_policy_super_strict_60', 'room_type_Private room',\n",
       "       'room_type_Shared room', 'host_response_time_other',\n",
       "       'neighbourhood_cleansed_Moabit Ost',\n",
       "       'neighbourhood_cleansed_Moabit West',\n",
       "       'neighbourhood_cleansed_Parkviertel', 'zip_dists_1082',\n",
       "       'zip_dists_1335', 'zip_dists_other', 'last_reviewMonth_2.0',\n",
       "       'last_reviewMonth_3.0', 'last_reviewMonth_12.0'],\n",
       "      dtype='object')"
      ]
     },
     "execution_count": 24,
     "metadata": {},
     "output_type": "execute_result"
    }
   ],
   "source": [
    "X_train_pruned.columns"
   ]
  },
  {
   "cell_type": "code",
   "execution_count": 31,
   "metadata": {},
   "outputs": [],
   "source": [
    "\n",
    "neighborhood_cols = [col for col in X_train_pruned.columns if 'neighbourhood' in col]\n",
    "zip_cols = [col for col in X_train_pruned.columns if 'zip' in col]\n",
    "berlin_cols = [col for col in X_train_pruned.columns if 'berlin' in col]\n",
    "geo_cols = neighborhood_cols + zip_cols + berlin_cols"
   ]
  },
  {
   "cell_type": "code",
   "execution_count": 35,
   "metadata": {},
   "outputs": [],
   "source": [
    "geo_df = X_train_pruned.loc[:, geo_cols]"
   ]
  },
  {
   "cell_type": "code",
   "execution_count": 36,
   "metadata": {},
   "outputs": [],
   "source": [
    "subsampled_geo = geo_df.sample(3000)"
   ]
  },
  {
   "cell_type": "code",
   "execution_count": 52,
   "metadata": {},
   "outputs": [
    {
     "data": {
      "text/html": [
       "<div>\n",
       "<style scoped>\n",
       "    .dataframe tbody tr th:only-of-type {\n",
       "        vertical-align: middle;\n",
       "    }\n",
       "\n",
       "    .dataframe tbody tr th {\n",
       "        vertical-align: top;\n",
       "    }\n",
       "\n",
       "    .dataframe thead th {\n",
       "        text-align: right;\n",
       "    }\n",
       "</style>\n",
       "<table border=\"1\" class=\"dataframe\">\n",
       "  <thead>\n",
       "    <tr style=\"text-align: right;\">\n",
       "      <th></th>\n",
       "      <th>neighbourhood_Wedding</th>\n",
       "      <th>neighbourhood_Wilmersdorf</th>\n",
       "      <th>host_neighbourhood_Wilmersdorf</th>\n",
       "      <th>zip_dists_1335</th>\n",
       "      <th>state_is_berlin</th>\n",
       "      <th>street_is_berlin_berlin_germany</th>\n",
       "    </tr>\n",
       "  </thead>\n",
       "  <tbody>\n",
       "    <tr>\n",
       "      <th>neighbourhood_Wedding</th>\n",
       "      <td>1.000000</td>\n",
       "      <td>-0.038366</td>\n",
       "      <td>-0.031592</td>\n",
       "      <td>0.808018</td>\n",
       "      <td>0.016985</td>\n",
       "      <td>0.016855</td>\n",
       "    </tr>\n",
       "    <tr>\n",
       "      <th>neighbourhood_Wilmersdorf</th>\n",
       "      <td>-0.038366</td>\n",
       "      <td>1.000000</td>\n",
       "      <td>0.803552</td>\n",
       "      <td>-0.033285</td>\n",
       "      <td>-0.005961</td>\n",
       "      <td>-0.010946</td>\n",
       "    </tr>\n",
       "    <tr>\n",
       "      <th>host_neighbourhood_Wilmersdorf</th>\n",
       "      <td>-0.031592</td>\n",
       "      <td>0.803552</td>\n",
       "      <td>1.000000</td>\n",
       "      <td>-0.026839</td>\n",
       "      <td>-0.003056</td>\n",
       "      <td>-0.011327</td>\n",
       "    </tr>\n",
       "    <tr>\n",
       "      <th>zip_dists_1335</th>\n",
       "      <td>0.808018</td>\n",
       "      <td>-0.033285</td>\n",
       "      <td>-0.026839</td>\n",
       "      <td>1.000000</td>\n",
       "      <td>0.017751</td>\n",
       "      <td>0.020733</td>\n",
       "    </tr>\n",
       "    <tr>\n",
       "      <th>state_is_berlin</th>\n",
       "      <td>0.016985</td>\n",
       "      <td>-0.005961</td>\n",
       "      <td>-0.003056</td>\n",
       "      <td>0.017751</td>\n",
       "      <td>1.000000</td>\n",
       "      <td>0.748955</td>\n",
       "    </tr>\n",
       "    <tr>\n",
       "      <th>street_is_berlin_berlin_germany</th>\n",
       "      <td>0.016855</td>\n",
       "      <td>-0.010946</td>\n",
       "      <td>-0.011327</td>\n",
       "      <td>0.020733</td>\n",
       "      <td>0.748955</td>\n",
       "      <td>1.000000</td>\n",
       "    </tr>\n",
       "  </tbody>\n",
       "</table>\n",
       "</div>"
      ],
      "text/plain": [
       "                                 neighbourhood_Wedding  \\\n",
       "neighbourhood_Wedding                         1.000000   \n",
       "neighbourhood_Wilmersdorf                    -0.038366   \n",
       "host_neighbourhood_Wilmersdorf               -0.031592   \n",
       "zip_dists_1335                                0.808018   \n",
       "state_is_berlin                               0.016985   \n",
       "street_is_berlin_berlin_germany               0.016855   \n",
       "\n",
       "                                 neighbourhood_Wilmersdorf  \\\n",
       "neighbourhood_Wedding                            -0.038366   \n",
       "neighbourhood_Wilmersdorf                         1.000000   \n",
       "host_neighbourhood_Wilmersdorf                    0.803552   \n",
       "zip_dists_1335                                   -0.033285   \n",
       "state_is_berlin                                  -0.005961   \n",
       "street_is_berlin_berlin_germany                  -0.010946   \n",
       "\n",
       "                                 host_neighbourhood_Wilmersdorf  \\\n",
       "neighbourhood_Wedding                                 -0.031592   \n",
       "neighbourhood_Wilmersdorf                              0.803552   \n",
       "host_neighbourhood_Wilmersdorf                         1.000000   \n",
       "zip_dists_1335                                        -0.026839   \n",
       "state_is_berlin                                       -0.003056   \n",
       "street_is_berlin_berlin_germany                       -0.011327   \n",
       "\n",
       "                                 zip_dists_1335  state_is_berlin  \\\n",
       "neighbourhood_Wedding                  0.808018         0.016985   \n",
       "neighbourhood_Wilmersdorf             -0.033285        -0.005961   \n",
       "host_neighbourhood_Wilmersdorf        -0.026839        -0.003056   \n",
       "zip_dists_1335                         1.000000         0.017751   \n",
       "state_is_berlin                        0.017751         1.000000   \n",
       "street_is_berlin_berlin_germany        0.020733         0.748955   \n",
       "\n",
       "                                 street_is_berlin_berlin_germany  \n",
       "neighbourhood_Wedding                                   0.016855  \n",
       "neighbourhood_Wilmersdorf                              -0.010946  \n",
       "host_neighbourhood_Wilmersdorf                         -0.011327  \n",
       "zip_dists_1335                                          0.020733  \n",
       "state_is_berlin                                         0.748955  \n",
       "street_is_berlin_berlin_germany                         1.000000  "
      ]
     },
     "execution_count": 52,
     "metadata": {},
     "output_type": "execute_result"
    }
   ],
   "source": [
    "indexed_corr = (geo_df.corr(method = 'pearson') > .60).sum()\n",
    "correlated_cols = indexed_corr[indexed_corr > 1].index\n",
    "\n",
    "geo_df[correlated_cols].corr(method = 'pearson')"
   ]
  },
  {
   "cell_type": "markdown",
   "metadata": {},
   "source": [
    "So from here we can see some pairings: \n",
    "    * neighborhood_Wedding and zip_dists_1335\n",
    "    * neighbourhood_Wilmersdorf, host_neighbourhood_Wilmersdorf\n",
    "    * state_is_berlin, street_is_berlin\n",
    "    * street_is_berlin_berlin_germany, state_is_berlin"
   ]
  },
  {
   "cell_type": "markdown",
   "metadata": {},
   "source": [
    "* We of course could also do this with our entire matrix."
   ]
  },
  {
   "cell_type": "markdown",
   "metadata": {},
   "source": [
    "But we can see any even stronger relationship, if we use a metric like `spearmanr`.  "
   ]
  },
  {
   "cell_type": "code",
   "execution_count": 64,
   "metadata": {},
   "outputs": [
    {
     "data": {
      "text/plain": [
       "Index(['host_response_rate_is_na', 'state_is_berlin',\n",
       "       'street_is_berlin_berlin_germany', 'neighbourhood_Wedding',\n",
       "       'neighbourhood_Wilmersdorf', 'host_neighbourhood_Wilmersdorf',\n",
       "       'host_response_time_other', 'zip_dists_1335'],\n",
       "      dtype='object')"
      ]
     },
     "execution_count": 64,
     "metadata": {},
     "output_type": "execute_result"
    }
   ],
   "source": [
    "indexed_corr = (X_train_pruned.corr(method = 'spearman') > .60).sum()\n",
    "correlated_cols = indexed_corr[indexed_corr > 1].index\n",
    "\n",
    "correlated_cols\n",
    "\n",
    "# indexed_corr"
   ]
  },
  {
   "cell_type": "code",
   "execution_count": 62,
   "metadata": {},
   "outputs": [
    {
     "data": {
      "text/html": [
       "<div>\n",
       "<style scoped>\n",
       "    .dataframe tbody tr th:only-of-type {\n",
       "        vertical-align: middle;\n",
       "    }\n",
       "\n",
       "    .dataframe tbody tr th {\n",
       "        vertical-align: top;\n",
       "    }\n",
       "\n",
       "    .dataframe thead th {\n",
       "        text-align: right;\n",
       "    }\n",
       "</style>\n",
       "<table border=\"1\" class=\"dataframe\">\n",
       "  <thead>\n",
       "    <tr style=\"text-align: right;\">\n",
       "      <th></th>\n",
       "      <th>host_response_rate_is_na</th>\n",
       "      <th>state_is_berlin</th>\n",
       "      <th>street_is_berlin_berlin_germany</th>\n",
       "      <th>neighbourhood_Wedding</th>\n",
       "      <th>neighbourhood_Wilmersdorf</th>\n",
       "      <th>host_neighbourhood_Wilmersdorf</th>\n",
       "      <th>host_response_time_other</th>\n",
       "      <th>zip_dists_1335</th>\n",
       "    </tr>\n",
       "  </thead>\n",
       "  <tbody>\n",
       "    <tr>\n",
       "      <th>host_response_rate_is_na</th>\n",
       "      <td>1.000000</td>\n",
       "      <td>0.008039</td>\n",
       "      <td>0.034077</td>\n",
       "      <td>0.046751</td>\n",
       "      <td>-0.027278</td>\n",
       "      <td>-0.025850</td>\n",
       "      <td>1.000000</td>\n",
       "      <td>0.027216</td>\n",
       "    </tr>\n",
       "    <tr>\n",
       "      <th>state_is_berlin</th>\n",
       "      <td>0.008039</td>\n",
       "      <td>1.000000</td>\n",
       "      <td>0.748955</td>\n",
       "      <td>0.016985</td>\n",
       "      <td>-0.005961</td>\n",
       "      <td>-0.003056</td>\n",
       "      <td>0.008039</td>\n",
       "      <td>0.017751</td>\n",
       "    </tr>\n",
       "    <tr>\n",
       "      <th>street_is_berlin_berlin_germany</th>\n",
       "      <td>0.034077</td>\n",
       "      <td>0.748955</td>\n",
       "      <td>1.000000</td>\n",
       "      <td>0.016855</td>\n",
       "      <td>-0.010946</td>\n",
       "      <td>-0.011327</td>\n",
       "      <td>0.034077</td>\n",
       "      <td>0.020733</td>\n",
       "    </tr>\n",
       "    <tr>\n",
       "      <th>neighbourhood_Wedding</th>\n",
       "      <td>0.046751</td>\n",
       "      <td>0.016985</td>\n",
       "      <td>0.016855</td>\n",
       "      <td>1.000000</td>\n",
       "      <td>-0.038366</td>\n",
       "      <td>-0.031592</td>\n",
       "      <td>0.046751</td>\n",
       "      <td>0.808018</td>\n",
       "    </tr>\n",
       "    <tr>\n",
       "      <th>neighbourhood_Wilmersdorf</th>\n",
       "      <td>-0.027278</td>\n",
       "      <td>-0.005961</td>\n",
       "      <td>-0.010946</td>\n",
       "      <td>-0.038366</td>\n",
       "      <td>1.000000</td>\n",
       "      <td>0.803552</td>\n",
       "      <td>-0.027278</td>\n",
       "      <td>-0.033285</td>\n",
       "    </tr>\n",
       "    <tr>\n",
       "      <th>host_neighbourhood_Wilmersdorf</th>\n",
       "      <td>-0.025850</td>\n",
       "      <td>-0.003056</td>\n",
       "      <td>-0.011327</td>\n",
       "      <td>-0.031592</td>\n",
       "      <td>0.803552</td>\n",
       "      <td>1.000000</td>\n",
       "      <td>-0.025850</td>\n",
       "      <td>-0.026839</td>\n",
       "    </tr>\n",
       "    <tr>\n",
       "      <th>host_response_time_other</th>\n",
       "      <td>1.000000</td>\n",
       "      <td>0.008039</td>\n",
       "      <td>0.034077</td>\n",
       "      <td>0.046751</td>\n",
       "      <td>-0.027278</td>\n",
       "      <td>-0.025850</td>\n",
       "      <td>1.000000</td>\n",
       "      <td>0.027216</td>\n",
       "    </tr>\n",
       "    <tr>\n",
       "      <th>zip_dists_1335</th>\n",
       "      <td>0.027216</td>\n",
       "      <td>0.017751</td>\n",
       "      <td>0.020733</td>\n",
       "      <td>0.808018</td>\n",
       "      <td>-0.033285</td>\n",
       "      <td>-0.026839</td>\n",
       "      <td>0.027216</td>\n",
       "      <td>1.000000</td>\n",
       "    </tr>\n",
       "  </tbody>\n",
       "</table>\n",
       "</div>"
      ],
      "text/plain": [
       "                                 host_response_rate_is_na  state_is_berlin  \\\n",
       "host_response_rate_is_na                         1.000000         0.008039   \n",
       "state_is_berlin                                  0.008039         1.000000   \n",
       "street_is_berlin_berlin_germany                  0.034077         0.748955   \n",
       "neighbourhood_Wedding                            0.046751         0.016985   \n",
       "neighbourhood_Wilmersdorf                       -0.027278        -0.005961   \n",
       "host_neighbourhood_Wilmersdorf                  -0.025850        -0.003056   \n",
       "host_response_time_other                         1.000000         0.008039   \n",
       "zip_dists_1335                                   0.027216         0.017751   \n",
       "\n",
       "                                 street_is_berlin_berlin_germany  \\\n",
       "host_response_rate_is_na                                0.034077   \n",
       "state_is_berlin                                         0.748955   \n",
       "street_is_berlin_berlin_germany                         1.000000   \n",
       "neighbourhood_Wedding                                   0.016855   \n",
       "neighbourhood_Wilmersdorf                              -0.010946   \n",
       "host_neighbourhood_Wilmersdorf                         -0.011327   \n",
       "host_response_time_other                                0.034077   \n",
       "zip_dists_1335                                          0.020733   \n",
       "\n",
       "                                 neighbourhood_Wedding  \\\n",
       "host_response_rate_is_na                      0.046751   \n",
       "state_is_berlin                               0.016985   \n",
       "street_is_berlin_berlin_germany               0.016855   \n",
       "neighbourhood_Wedding                         1.000000   \n",
       "neighbourhood_Wilmersdorf                    -0.038366   \n",
       "host_neighbourhood_Wilmersdorf               -0.031592   \n",
       "host_response_time_other                      0.046751   \n",
       "zip_dists_1335                                0.808018   \n",
       "\n",
       "                                 neighbourhood_Wilmersdorf  \\\n",
       "host_response_rate_is_na                         -0.027278   \n",
       "state_is_berlin                                  -0.005961   \n",
       "street_is_berlin_berlin_germany                  -0.010946   \n",
       "neighbourhood_Wedding                            -0.038366   \n",
       "neighbourhood_Wilmersdorf                         1.000000   \n",
       "host_neighbourhood_Wilmersdorf                    0.803552   \n",
       "host_response_time_other                         -0.027278   \n",
       "zip_dists_1335                                   -0.033285   \n",
       "\n",
       "                                 host_neighbourhood_Wilmersdorf  \\\n",
       "host_response_rate_is_na                              -0.025850   \n",
       "state_is_berlin                                       -0.003056   \n",
       "street_is_berlin_berlin_germany                       -0.011327   \n",
       "neighbourhood_Wedding                                 -0.031592   \n",
       "neighbourhood_Wilmersdorf                              0.803552   \n",
       "host_neighbourhood_Wilmersdorf                         1.000000   \n",
       "host_response_time_other                              -0.025850   \n",
       "zip_dists_1335                                        -0.026839   \n",
       "\n",
       "                                 host_response_time_other  zip_dists_1335  \n",
       "host_response_rate_is_na                         1.000000        0.027216  \n",
       "state_is_berlin                                  0.008039        0.017751  \n",
       "street_is_berlin_berlin_germany                  0.034077        0.020733  \n",
       "neighbourhood_Wedding                            0.046751        0.808018  \n",
       "neighbourhood_Wilmersdorf                       -0.027278       -0.033285  \n",
       "host_neighbourhood_Wilmersdorf                  -0.025850       -0.026839  \n",
       "host_response_time_other                         1.000000        0.027216  \n",
       "zip_dists_1335                                   0.027216        1.000000  "
      ]
     },
     "execution_count": 62,
     "metadata": {},
     "output_type": "execute_result"
    }
   ],
   "source": [
    "X_train_pruned[correlated_cols].corr(method = 'spearman')"
   ]
  },
  {
   "cell_type": "markdown",
   "metadata": {},
   "source": [
    "So to this we can add: \n",
    "    * host_response_time_other, and host_response_rate_is_na"
   ]
  },
  {
   "cell_type": "markdown",
   "metadata": {},
   "source": [
    "## Remove connected columns"
   ]
  },
  {
   "cell_type": "markdown",
   "metadata": {},
   "source": [
    "* neighborhood_Wedding and zip_dists_1335\n",
    "* neighbourhood_Wilmersdorf, host_neighbourhood_Wilmersdorf\n",
    "* state_is_berlin, street_is_berlin\n",
    "* street_is_berlin_berlin_germany, state_is_berlin\n",
    "* host_response_time_other, and host_response_rate_is_na"
   ]
  },
  {
   "cell_type": "code",
   "execution_count": 65,
   "metadata": {},
   "outputs": [],
   "source": [
    "X_train_dropped = X_train_pruned.drop(columns=['zip_dists_1335', 'host_neighbourhood_Wilmersdorf', 'state_is_berlin', 'street_is_berlin_berlin_germany', 'host_response_time_other'])"
   ]
  },
  {
   "cell_type": "code",
   "execution_count": 67,
   "metadata": {},
   "outputs": [
    {
     "data": {
      "text/plain": [
       "30"
      ]
     },
     "execution_count": 67,
     "metadata": {},
     "output_type": "execute_result"
    }
   ],
   "source": [
    "len(X_train_dropped.columns)"
   ]
  },
  {
   "cell_type": "markdown",
   "metadata": {},
   "source": [
    "# Working with Dendrograms"
   ]
  },
  {
   "cell_type": "markdown",
   "metadata": {},
   "source": [
    "### Introduction"
   ]
  },
  {
   "cell_type": "markdown",
   "metadata": {},
   "source": [
    "In the last lesson, we saw how we can detect variables that are associated with each other by using correlations.  The motivation for examining the correlations between variables is that if two features are correlated, we can likely remove one of them with suffering a significant decrease in our model's accuracy.  And by reducing the number of features, we see our standard benefits of a more understable model, a decrease in variance, and a reduction in multicollinearity."
   ]
  },
  {
   "cell_type": "markdown",
   "metadata": {},
   "source": [
    "In the last section, we also saw two different types of correlations.  The pearson correlation which measured strictly the strength of a linear relationship between variables, and the spearman correlation or rank correlation, which also captured non-linear relationships.\n",
    "\n",
    "As mentioned, we'll focus on the spearman correlation going forward."
   ]
  },
  {
   "cell_type": "markdown",
   "metadata": {},
   "source": [
    "### Plotting Correlations with Dendrograms"
   ]
  },
  {
   "cell_type": "markdown",
   "metadata": {},
   "source": [
    "Now previously, we plotted both our relationships among variables with scatter plots.  In this section, we'll use a dendrogram to see if two variables are assosicated with one another.  Ok, so let's start by plotting our scatter matrix of the rank of the features."
   ]
  },
  {
   "cell_type": "code",
   "execution_count": 68,
   "metadata": {},
   "outputs": [
    {
     "data": {
      "image/png": "[encoded data removed]",
      "text/plain": [
       "<Figure size 1152x720 with 1 Axes>"
      ]
     },
     "metadata": {
      "needs_background": "light"
     },
     "output_type": "display_data"
    }
   ],
   "source": [
    "import scipy.cluster.hierarchy as hc\n",
    "corr = X_train_dropped.corr(method = 'spearman')\n",
    "corr_condensed = hc.distance.squareform(1 - corr)\n",
    "z = hc.linkage(corr_condensed, method = 'average')\n",
    "\n",
    "import matplotlib.pyplot as plt\n",
    "fig = plt.figure(figsize=(16,10))\n",
    "dendrogram = hc.dendrogram(z, labels = X_train_dropped.columns, orientation = 'left', leaf_font_size=16)"
   ]
  },
  {
   "cell_type": "code",
   "execution_count": 70,
   "metadata": {},
   "outputs": [
    {
     "data": {
      "text/plain": [
       "Index(['longitude', 'bedrooms', 'bedrooms_is_na', 'host_response_rate_is_na',\n",
       "       'summary_is_na', 'license_is_na', 'zipcode_is_na', 'bathrooms_is_na',\n",
       "       'beds_is_na', 'host_sinceIs_year_end', 'requires_license',\n",
       "       'property_type_Loft', 'property_type_other',\n",
       "       'neighbourhood_group_cleansed_Mitte',\n",
       "       'neighbourhood_group_cleansed_Neukölln',\n",
       "       'neighbourhood_group_cleansed_Reinickendorf',\n",
       "       'neighbourhood_group_cleansed_other', 'neighbourhood_Wedding',\n",
       "       'neighbourhood_Wilmersdorf', 'cancellation_policy_super_strict_60',\n",
       "       'room_type_Private room', 'room_type_Shared room',\n",
       "       'neighbourhood_cleansed_Moabit Ost',\n",
       "       'neighbourhood_cleansed_Moabit West',\n",
       "       'neighbourhood_cleansed_Parkviertel', 'zip_dists_1082',\n",
       "       'zip_dists_other', 'last_reviewMonth_2.0', 'last_reviewMonth_3.0',\n",
       "       'last_reviewMonth_12.0'],\n",
       "      dtype='object')"
      ]
     },
     "execution_count": 70,
     "metadata": {},
     "output_type": "execute_result"
    }
   ],
   "source": [
    "X_train_dropped.columns"
   ]
  },
  {
   "cell_type": "code",
   "execution_count": 73,
   "metadata": {},
   "outputs": [
    {
     "data": {
      "text/html": [
       "<div>\n",
       "<style scoped>\n",
       "    .dataframe tbody tr th:only-of-type {\n",
       "        vertical-align: middle;\n",
       "    }\n",
       "\n",
       "    .dataframe tbody tr th {\n",
       "        vertical-align: top;\n",
       "    }\n",
       "\n",
       "    .dataframe thead th {\n",
       "        text-align: right;\n",
       "    }\n",
       "</style>\n",
       "<table border=\"1\" class=\"dataframe\">\n",
       "  <thead>\n",
       "    <tr style=\"text-align: right;\">\n",
       "      <th></th>\n",
       "      <th>longitude</th>\n",
       "      <th>neighbourhood_group_cleansed_Neukölln</th>\n",
       "    </tr>\n",
       "  </thead>\n",
       "  <tbody>\n",
       "    <tr>\n",
       "      <th>longitude</th>\n",
       "      <td>1.000000</td>\n",
       "      <td>0.294026</td>\n",
       "    </tr>\n",
       "    <tr>\n",
       "      <th>neighbourhood_group_cleansed_Neukölln</th>\n",
       "      <td>0.294026</td>\n",
       "      <td>1.000000</td>\n",
       "    </tr>\n",
       "  </tbody>\n",
       "</table>\n",
       "</div>"
      ],
      "text/plain": [
       "                                       longitude  \\\n",
       "longitude                               1.000000   \n",
       "neighbourhood_group_cleansed_Neukölln   0.294026   \n",
       "\n",
       "                                       neighbourhood_group_cleansed_Neukölln  \n",
       "longitude                                                           0.294026  \n",
       "neighbourhood_group_cleansed_Neukölln                               1.000000  "
      ]
     },
     "execution_count": 73,
     "metadata": {},
     "output_type": "execute_result"
    }
   ],
   "source": [
    "first_pair = ['longitude', 'neighbourhood_group_cleansed_Neukölln']\n",
    "second_pair = ['neighbourhood_group_cleansed_Mitte', 'neighbourhood_Wedding']\n",
    "X_train_dropped[first_pair].corr(method = 'spearman')"
   ]
  },
  {
   "cell_type": "code",
   "execution_count": 74,
   "metadata": {},
   "outputs": [
    {
     "data": {
      "text/html": [
       "<div>\n",
       "<style scoped>\n",
       "    .dataframe tbody tr th:only-of-type {\n",
       "        vertical-align: middle;\n",
       "    }\n",
       "\n",
       "    .dataframe tbody tr th {\n",
       "        vertical-align: top;\n",
       "    }\n",
       "\n",
       "    .dataframe thead th {\n",
       "        text-align: right;\n",
       "    }\n",
       "</style>\n",
       "<table border=\"1\" class=\"dataframe\">\n",
       "  <thead>\n",
       "    <tr style=\"text-align: right;\">\n",
       "      <th></th>\n",
       "      <th>neighbourhood_group_cleansed_Mitte</th>\n",
       "      <th>neighbourhood_Wedding</th>\n",
       "    </tr>\n",
       "  </thead>\n",
       "  <tbody>\n",
       "    <tr>\n",
       "      <th>neighbourhood_group_cleansed_Mitte</th>\n",
       "      <td>1.000000</td>\n",
       "      <td>0.509146</td>\n",
       "    </tr>\n",
       "    <tr>\n",
       "      <th>neighbourhood_Wedding</th>\n",
       "      <td>0.509146</td>\n",
       "      <td>1.000000</td>\n",
       "    </tr>\n",
       "  </tbody>\n",
       "</table>\n",
       "</div>"
      ],
      "text/plain": [
       "                                    neighbourhood_group_cleansed_Mitte  \\\n",
       "neighbourhood_group_cleansed_Mitte                            1.000000   \n",
       "neighbourhood_Wedding                                         0.509146   \n",
       "\n",
       "                                    neighbourhood_Wedding  \n",
       "neighbourhood_group_cleansed_Mitte               0.509146  \n",
       "neighbourhood_Wedding                            1.000000  "
      ]
     },
     "execution_count": 74,
     "metadata": {},
     "output_type": "execute_result"
    }
   ],
   "source": [
    "X_train_dropped[second_pair].corr(method = 'spearman')"
   ]
  },
  {
   "cell_type": "markdown",
   "metadata": {},
   "source": [
    "### Removing Features"
   ]
  },
  {
   "cell_type": "markdown",
   "metadata": {},
   "source": [
    "Neither of these look too strong, so we can leave them both in."
   ]
  },
  {
   "cell_type": "code",
   "execution_count": null,
   "metadata": {},
   "outputs": [],
   "source": [
    "# model.fit(X_train_pruned, y_train_pruned)\n",
    "# model.score(X_test_pruned, y_test_pruned)"
   ]
  },
  {
   "cell_type": "code",
   "execution_count": 76,
   "metadata": {},
   "outputs": [
    {
     "data": {
      "text/plain": [
       "LinearRegression(copy_X=True, fit_intercept=True, n_jobs=None,\n",
       "         normalize=False)"
      ]
     },
     "execution_count": 76,
     "metadata": {},
     "output_type": "execute_result"
    }
   ],
   "source": [
    "model.fit(X_train_dropped, y_train_pruned)"
   ]
  },
  {
   "cell_type": "code",
   "execution_count": 77,
   "metadata": {},
   "outputs": [],
   "source": [
    "dropped_columns =['zip_dists_1335', 'host_neighbourhood_Wilmersdorf', 'state_is_berlin', 'street_is_berlin_berlin_germany', 'host_response_time_other']"
   ]
  },
  {
   "cell_type": "code",
   "execution_count": 79,
   "metadata": {},
   "outputs": [
    {
     "data": {
      "text/plain": [
       "0.46007398634498153"
      ]
     },
     "execution_count": 79,
     "metadata": {},
     "output_type": "execute_result"
    }
   ],
   "source": [
    "X_test_dropped = X_test_pruned.drop(columns = dropped_columns)\n",
    "\n",
    "model.score(X_test_dropped, y_test_pruned)"
   ]
  },
  {
   "cell_type": "code",
   "execution_count": 80,
   "metadata": {},
   "outputs": [
    {
     "data": {
      "text/plain": [
       "Index(['longitude', 'bedrooms', 'bedrooms_is_na', 'host_response_rate_is_na',\n",
       "       'summary_is_na', 'license_is_na', 'zipcode_is_na', 'bathrooms_is_na',\n",
       "       'beds_is_na', 'host_sinceIs_year_end', 'requires_license',\n",
       "       'state_is_berlin', 'street_is_berlin_berlin_germany',\n",
       "       'property_type_Loft', 'property_type_other',\n",
       "       'neighbourhood_group_cleansed_Mitte',\n",
       "       'neighbourhood_group_cleansed_Neukölln',\n",
       "       'neighbourhood_group_cleansed_Reinickendorf',\n",
       "       'neighbourhood_group_cleansed_other', 'neighbourhood_Wedding',\n",
       "       'neighbourhood_Wilmersdorf', 'host_neighbourhood_Wilmersdorf',\n",
       "       'cancellation_policy_super_strict_60', 'room_type_Private room',\n",
       "       'room_type_Shared room', 'host_response_time_other',\n",
       "       'neighbourhood_cleansed_Moabit Ost',\n",
       "       'neighbourhood_cleansed_Moabit West',\n",
       "       'neighbourhood_cleansed_Parkviertel', 'zip_dists_1082',\n",
       "       'zip_dists_1335', 'zip_dists_other', 'last_reviewMonth_2.0',\n",
       "       'last_reviewMonth_3.0', 'last_reviewMonth_12.0'],\n",
       "      dtype='object')"
      ]
     },
     "execution_count": 80,
     "metadata": {},
     "output_type": "execute_result"
    }
   ],
   "source": [
    "X_test_pruned.columns"
   ]
  },
  {
   "cell_type": "markdown",
   "metadata": {},
   "source": [
    "So we notice that we removed five columns, and essentially wound up with the same as our previous larger model."
   ]
  },
  {
   "cell_type": "markdown",
   "metadata": {},
   "source": [
    "(35 features, and score of 0.4628732594292488)"
   ]
  }
 ],
 "metadata": {
  "kernelspec": {
   "display_name": "Python 3",
   "language": "python",
   "name": "python3"
  },
  "language_info": {
   "codemirror_mode": {
    "name": "ipython",
    "version": 3
   },
   "file_extension": ".py",
   "mimetype": "text/x-python",
   "name": "python",
   "nbconvert_exporter": "python",
   "pygments_lexer": "ipython3",
   "version": "3.7.3"
  }
 },
 "nbformat": 4,
 "nbformat_minor": 2
}
