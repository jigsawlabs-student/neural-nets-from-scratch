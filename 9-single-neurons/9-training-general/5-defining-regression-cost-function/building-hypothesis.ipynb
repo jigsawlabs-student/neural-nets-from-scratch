{
 "cells": [
  {
   "cell_type": "markdown",
   "metadata": {},
   "source": [
    "# Loss Lab"
   ]
  },
  {
   "cell_type": "markdown",
   "metadata": {},
   "source": [
    "### Introduction"
   ]
  },
  {
   "cell_type": "markdown",
   "metadata": {},
   "source": [
    "In this lesson we'll see build out the error component to our simple linear regression model.  To do this, we need to know the linear regression model's coefficient and y-intercept.  We'll also need a list of data to predict on and compare the predictions of the model against.  We'll write our methods and encapsulate the related data using object orientation."
   ]
  },
  {
   "cell_type": "markdown",
   "metadata": {},
   "source": [
    "### Loading our hypothesis class"
   ]
  },
  {
   "cell_type": "markdown",
   "metadata": {},
   "source": [
    "First, copy and paste the hypothesis class from the previous lab."
   ]
  },
  {
   "cell_type": "code",
   "execution_count": 5,
   "metadata": {},
   "outputs": [],
   "source": [
    "class Hypothesis():\n",
    "    def __init__(self, coef_ = None, intercept_ = None, x_values = None):\n",
    "        self.coef_ = coef_\n",
    "        self.intercept_ = intercept_\n",
    "        self.x_values = x_values\n",
    "    \n",
    "    def predict(self):\n",
    "        return [self.predict_value(value) for value in self.x_values]\n",
    "    \n",
    "    def predict_value(self, value):\n",
    "        return self.coef_*value + self.intercept_\n",
    "    \n",
    "    def trace(self, mode = 'lines', name=None, text = []):\n",
    "        coef_text = f\"y = {self.coef_}x\"\n",
    "        intercept_text = f\" + {self.intercept_}\"\n",
    "        default_text = coef_text + intercept_text if self.intercept_ else coef_text\n",
    "        text = name or default_text\n",
    "        return {'x': self.x_values, 'y': self.predict(), 'mode': mode, 'name': name, 'text': text}"
   ]
  },
  {
   "cell_type": "code",
   "execution_count": null,
   "metadata": {},
   "outputs": [],
   "source": [
    "coef = 0.39\n",
    "intercept = 153\n",
    "inputs = [800, 1500, 2000, 3500, 4000]\n",
    "\n",
    "\n",
    "hypothesis = Hypothesis(coef, intercept, inputs)\n",
    "hypothesis.__dict__\n",
    "# {'coef_': 0.39, 'intercept_': 153, 'x_values': [800, 1500, 2000, 3500, 4000]}"
   ]
  },
  {
   "cell_type": "code",
   "execution_count": null,
   "metadata": {},
   "outputs": [],
   "source": [
    "hypothesis.predict()\n",
    "# [465.0, 738.0, 933.0, 1518.0, 1713.0]"
   ]
  },
  {
   "cell_type": "markdown",
   "metadata": {},
   "source": [
    "Now this `Hypothesis` class will still be the sole class in charge of making predictions.  Now we'll just also add our `Loss` class, which will be in charge of calculating errors."
   ]
  },
  {
   "cell_type": "markdown",
   "metadata": {},
   "source": [
    "### Creating the Loss Class"
   ]
  },
  {
   "cell_type": "code",
   "execution_count": 8,
   "metadata": {},
   "outputs": [],
   "source": [
    "class Loss():\n",
    "    def __init__(self, hypothesis, x_values, y_values):\n",
    "        self.hypothesis = hypothesis\n",
    "        self.x_values = x_values\n",
    "        self.y_values = y_values\n",
    "        \n",
    "    def errors(self):\n",
    "        expecteds = self.hypothesis.predict()\n",
    "        pairs = list(zip(self.y_values, expecteds))\n",
    "        return [actual - expected for actual, expected in pairs]\n",
    "    \n",
    "    def squared_errors(self):\n",
    "        return [error**2 for error in self.errors()]\n",
    "    \n",
    "    def rss(self):\n",
    "        return sum(self.squared_errors())"
   ]
  },
  {
   "cell_type": "markdown",
   "metadata": {},
   "source": [
    "Think about what it takes to calculate the error at a given point.  We need to know our data, and we also need to know the component that makes predictions.  "
   ]
  },
  {
   "cell_type": "markdown",
   "metadata": {},
   "source": [
    "Change the `Loss` class so that we can initialize it with an instance of our Hypothesis class, a list of x_values and a list of y_values.  \n",
    "> The Hypothesis class will continue to hold all of the information related to our y-intercept, coefficient, and predictions."
   ]
  },
  {
   "cell_type": "markdown",
   "metadata": {},
   "source": [
    "So first we'll recreate an instance of a hypothesis."
   ]
  },
  {
   "cell_type": "code",
   "execution_count": 6,
   "metadata": {},
   "outputs": [],
   "source": [
    "coef = 0.39\n",
    "intercept = 153\n",
    "inputs = [800, 1500, 2000, 3500, 4000]\n",
    "hypothesis = Hypothesis(coef, intercept, inputs)"
   ]
  },
  {
   "cell_type": "markdown",
   "metadata": {},
   "source": [
    "Then we need to initialize the Loss instance with our hypothesis instance, as well as inputs, outputs."
   ]
  },
  {
   "cell_type": "code",
   "execution_count": 11,
   "metadata": {},
   "outputs": [],
   "source": [
    "outcomes = [330, 780, 1130, 1310, 1780]"
   ]
  },
  {
   "cell_type": "code",
   "execution_count": 12,
   "metadata": {},
   "outputs": [
    {
     "data": {
      "text/plain": [
       "{'hypothesis': <__main__.Hypothesis at 0x1055ed588>,\n",
       " 'x_values': [800, 1500, 2000, 3500, 4000],\n",
       " 'y_values': [330, 780, 1130, 1310, 1780]}"
      ]
     },
     "execution_count": 12,
     "metadata": {},
     "output_type": "execute_result"
    }
   ],
   "source": [
    "loss = Loss(hypothesis, inputs, outcomes)\n",
    "loss.__dict__"
   ]
  },
  {
   "cell_type": "markdown",
   "metadata": {},
   "source": [
    "Now with these three pieces of information, our Loss instance should have the information it needs to calculate errors."
   ]
  },
  {
   "cell_type": "markdown",
   "metadata": {},
   "source": [
    "### Calculating Errors"
   ]
  },
  {
   "cell_type": "markdown",
   "metadata": {},
   "source": [
    "Write a method called errors, that returns a list of errors for each data point that we passed through."
   ]
  },
  {
   "cell_type": "code",
   "execution_count": 13,
   "metadata": {},
   "outputs": [
    {
     "data": {
      "text/plain": [
       "[-135.0, 42.0, 197.0, -208.0, 67.0]"
      ]
     },
     "execution_count": 13,
     "metadata": {},
     "output_type": "execute_result"
    }
   ],
   "source": [
    "loss.errors()\n",
    "# [-135.0, 42.0, 197.0, -208.0, 67.0]"
   ]
  },
  {
   "cell_type": "markdown",
   "metadata": {},
   "source": [
    "> We recommend breaking the errors method into steps, and then writing out the function."
   ]
  },
  {
   "cell_type": "markdown",
   "metadata": {},
   "source": [
    "Then write a method called `squared_errors` that squares each one of the elements returned from our `errors` method."
   ]
  },
  {
   "cell_type": "code",
   "execution_count": 15,
   "metadata": {},
   "outputs": [
    {
     "data": {
      "text/plain": [
       "[18225.0, 1764.0, 38809.0, 43264.0, 4489.0]"
      ]
     },
     "execution_count": 15,
     "metadata": {},
     "output_type": "execute_result"
    }
   ],
   "source": [
    "loss.squared_errors()\n",
    "# [18225.0, 1764.0, 38809.0, 43264.0, 4489.0]"
   ]
  },
  {
   "cell_type": "markdown",
   "metadata": {},
   "source": [
    "Finally, add a method called `rss` that calculates the residual sum of squares."
   ]
  },
  {
   "cell_type": "code",
   "execution_count": 17,
   "metadata": {},
   "outputs": [
    {
     "data": {
      "text/plain": [
       "106551.0"
      ]
     },
     "execution_count": 17,
     "metadata": {},
     "output_type": "execute_result"
    }
   ],
   "source": [
    "loss.rss()\n",
    "# 106551.0"
   ]
  },
  {
   "cell_type": "markdown",
   "metadata": {},
   "source": [
    "### Summary"
   ]
  },
  {
   "cell_type": "markdown",
   "metadata": {},
   "source": [
    "In this lesson, we built out the error component to our simple linear regression model.  To do this, we  created an instance of the Hypothesis class, which was responsible for the parameters of our linear regression model as well making predictions from these parameters and our input data.  We added a Loss class, which calculated errors from our hypothesis instance for a given data set."
   ]
  }
 ],
 "metadata": {
  "kernelspec": {
   "display_name": "Python 3",
   "language": "python",
   "name": "python3"
  },
  "language_info": {
   "codemirror_mode": {
    "name": "ipython",
    "version": 3
   },
   "file_extension": ".py",
   "mimetype": "text/x-python",
   "name": "python",
   "nbconvert_exporter": "python",
   "pygments_lexer": "ipython3",
   "version": "3.7.4"
  }
 },
 "nbformat": 4,
 "nbformat_minor": 4
}
