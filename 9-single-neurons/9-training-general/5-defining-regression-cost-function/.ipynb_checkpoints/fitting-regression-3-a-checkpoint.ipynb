{
 "cells": [
  {
   "cell_type": "markdown",
   "metadata": {},
   "source": [
    "Now one way to discover if our model is any good is to compare it with other linear regression models.  So let's change the value of our linear regression model from $tshirt\\_sales = .6*ad\\_spend + 100$ to the following:\n",
    "\n",
    "$$tshirt\\_sales = .4*ad\\_spend + 100$$"
   ]
  }
 ],
 "metadata": {
  "kernelspec": {
   "display_name": "Python 3",
   "language": "python",
   "name": "python3"
  },
  "language_info": {
   "codemirror_mode": {
    "name": "ipython",
    "version": 3
   },
   "file_extension": ".py",
   "mimetype": "text/x-python",
   "name": "python",
   "nbconvert_exporter": "python",
   "pygments_lexer": "ipython3",
   "version": "3.7.3"
  }
 },
 "nbformat": 4,
 "nbformat_minor": 2
}
