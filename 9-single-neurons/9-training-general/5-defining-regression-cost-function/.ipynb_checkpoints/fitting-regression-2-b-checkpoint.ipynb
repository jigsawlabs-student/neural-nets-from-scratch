{
 "cells": [
  {
   "cell_type": "markdown",
   "metadata": {},
   "source": [
    "Now each red line represents the difference between the t shirt sales that our model predicts for a given amount of advertising spent, and what we actually observed.  \n",
    "\n",
    "Let's focus in on that first red line.  Our model predicts t-shirt sales of 400 while the observed t-shirt sales was 330.  The red line shows the difference."
   ]
  },
  {
   "cell_type": "markdown",
   "metadata": {},
   "source": [
    "Now let's turn these red lines into a number.  We do this by calculating the *difference* between the actual data and what our model expects.  We call this difference our **error**."
   ]
  },
  {
   "cell_type": "markdown",
   "metadata": {},
   "source": [
    "> error = actual - expected"
   ]
  },
  {
   "cell_type": "markdown",
   "metadata": {},
   "source": [
    "Now just like we had standard symbols to represent our components of linear regression (y = mx + b), we also have symbols to represent the formula above. Here they are: \n",
    "\n",
    "> * $y^{(i)}$ represent our actual, or observed target variables\n",
    "> * $\\bar{y^{(i)}}$ (pronounced y hat) represents our predicted output \n",
    "> * $\\epsilon$ (epsilon) represents error\n",
    "> \n",
    "Let's explore this a bit by looking at our formula for error at a given point.  \n",
    "> \n",
    "> $\\epsilon^{i} = y^{(i)} - \\hat{y^{(i)}}$ "
   ]
  },
  {
   "cell_type": "markdown",
   "metadata": {},
   "source": [
    "So this just says that the error at given point equals the outcome we observed at that observation minus the outcome we predicted for that observation. \n",
    "\n",
    "Let's calculate the errors of our initial model with respect to our observed data."
   ]
  },
  {
   "cell_type": "markdown",
   "metadata": {},
   "source": [
    "$$tshirt\\_sales = .6*ad\\_spend + 100$$ "
   ]
  },
  {
   "cell_type": "markdown",
   "metadata": {},
   "source": [
    "|ad spending    |t-shirts| predicted t-shirts |  error |\n",
    "| ------------- |:-----:|:-------------------:| :-----:| \n",
    "|    800        | 330  | 580  | -250|\n",
    "|    1500       | 780 | 1000| -220|\n",
    "|    2000      | 1130 | 1300| -170|\n",
    "|    3500      | 1310 | 2200| -890|\n",
    "|    4000      | 1780 | 2500| -720|"
   ]
  },
  {
   "cell_type": "code",
   "execution_count": 20,
   "metadata": {},
   "outputs": [
    {
     "data": {
      "text/plain": [
       "-2250"
      ]
     },
     "execution_count": 20,
     "metadata": {},
     "output_type": "execute_result"
    }
   ],
   "source": [
    "errors = [-250, -220, -170, -890, -720]\n",
    "sum(errors)"
   ]
  },
  {
   "cell_type": "markdown",
   "metadata": {},
   "source": [
    "Ok so we can see that our error for the first point is $330 - 580 = -250$.  And we can even calculate the **total error** of our model, just by adding these numbers up. \n",
    "\n",
    "$$total\\_error = -250, -220, -170, -890, -720 = - 2250 $$"
   ]
  },
  {
   "cell_type": "markdown",
   "metadata": {},
   "source": [
    "For now, we don't really care whether our numbers are positive or negative, what we care is whether just how close the number is to zero.  The closer the number is to zero the better we do.  "
   ]
  }
 ],
 "metadata": {
  "kernelspec": {
   "display_name": "Python 3",
   "language": "python",
   "name": "python3"
  },
  "language_info": {
   "codemirror_mode": {
    "name": "ipython",
    "version": 3
   },
   "file_extension": ".py",
   "mimetype": "text/x-python",
   "name": "python",
   "nbconvert_exporter": "python",
   "pygments_lexer": "ipython3",
   "version": "3.7.3"
  }
 },
 "nbformat": 4,
 "nbformat_minor": 2
}
