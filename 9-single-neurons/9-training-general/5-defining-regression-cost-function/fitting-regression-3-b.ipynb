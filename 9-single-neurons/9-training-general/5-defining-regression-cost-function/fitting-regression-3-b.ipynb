{
 "cells": [
  {
   "cell_type": "markdown",
   "metadata": {},
   "source": [
    "Now let's recalculate our total error."
   ]
  },
  {
   "cell_type": "markdown",
   "metadata": {},
   "source": [
    "First we calculate the error at each data point."
   ]
  },
  {
   "cell_type": "markdown",
   "metadata": {},
   "source": [
    "|ad spending    |t-shirts| predicted t-shirts |  error |\n",
    "| ------------- |:-----:|:-------------------:| :-----:| \n",
    "|    800        | 330  | 420  | -90|\n",
    "|    1500       | 780 | 700| 80|\n",
    "|    2000      | 1130 | 900| 230|\n",
    "|    3500      | 1310 | 1500| -190|\n",
    "|    4000      | 1780 | 1700| 80|"
   ]
  },
  {
   "cell_type": "markdown",
   "metadata": {},
   "source": [
    "Now if we add up all of our points we get a total error of 110.  But take a look at the total error after just adding up our first two points:"
   ]
  },
  {
   "cell_type": "code",
   "execution_count": 34,
   "metadata": {},
   "outputs": [
    {
     "data": {
      "text/plain": [
       "-10"
      ]
     },
     "execution_count": 34,
     "metadata": {},
     "output_type": "execute_result"
    }
   ],
   "source": [
    "-90 + 80"
   ]
  },
  {
   "cell_type": "markdown",
   "metadata": {},
   "source": [
    "Somehow our total error after two points is closer to zero than our total error after one point.  The positive and negative numbers are cancelling each other out.  This isn't good.  We want our total error to increase each time that our predicted output differs from our observed output.  We don't want our errors to cancel each other out."
   ]
  },
  {
   "cell_type": "markdown",
   "metadata": {},
   "source": [
    "We fix this by simply making each error positive, which we do by squaring the error.  \n",
    "\n",
    "$$sum\\_of\\_squared\\_errors = -90^2 + 80^2 + 230^2 + -190^2 + -80^2 $$\n",
    "\n",
    "$$ = 8100 +  6400 + 52900 + 36100 + 6400 $$\n",
    "\n",
    "$$ = 109,900 $$"
   ]
  },
  {
   "cell_type": "markdown",
   "metadata": {},
   "source": [
    "So now, because each individual squared error is always positive, our errors will not cancel each other out.  We call this the **residual sum of the squared** (RSS). In machine learning and statistics, residual is just another word for error.  "
   ]
  }
 ],
 "metadata": {
  "kernelspec": {
   "display_name": "Python 3",
   "language": "python",
   "name": "python3"
  },
  "language_info": {
   "codemirror_mode": {
    "name": "ipython",
    "version": 3
   },
   "file_extension": ".py",
   "mimetype": "text/x-python",
   "name": "python",
   "nbconvert_exporter": "python",
   "pygments_lexer": "ipython3",
   "version": "3.7.3"
  }
 },
 "nbformat": 4,
 "nbformat_minor": 2
}
