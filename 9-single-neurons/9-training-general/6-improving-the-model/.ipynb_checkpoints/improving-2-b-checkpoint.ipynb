{
 "cells": [
  {
   "cell_type": "markdown",
   "metadata": {},
   "source": [
    "Let's walk through the above graph.  \n",
    "\n",
    "* The model $ tshirt\\_sales=.5∗ad\\_spend + 100$ is the red line and the related RSS (another name for SSE) is over to the right in red of 428.7 thousand.  \n",
    "* The model  $ tshirt\\_sales=.6∗ad\\_spend + 100$ is the yellow line and it's related RSS is in yellow with an RSS of 1.4503.\n",
    "\n",
    "So we just tried models of  $ tshirt\\_sales=.5∗ad\\_spend + 100$ and $ tshirt\\_sales=.6∗ad\\_spend + 100$. \n",
    "\n",
    "Now let's try three more.\n",
    "* $ tshirt\\_sales=.2∗ad\\_spend + 100$ \n",
    "* $ tshirt\\_sales=.3∗ad\\_spend + 100$ \n",
    "* $ tshirt\\_sales=.4∗ad\\_spend + 100$"
   ]
  }
 ],
 "metadata": {
  "kernelspec": {
   "display_name": "Python 3",
   "language": "python",
   "name": "python3"
  },
  "language_info": {
   "codemirror_mode": {
    "name": "ipython",
    "version": 3
   },
   "file_extension": ".py",
   "mimetype": "text/x-python",
   "name": "python",
   "nbconvert_exporter": "python",
   "pygments_lexer": "ipython3",
   "version": "3.7.3"
  }
 },
 "nbformat": 4,
 "nbformat_minor": 2
}
