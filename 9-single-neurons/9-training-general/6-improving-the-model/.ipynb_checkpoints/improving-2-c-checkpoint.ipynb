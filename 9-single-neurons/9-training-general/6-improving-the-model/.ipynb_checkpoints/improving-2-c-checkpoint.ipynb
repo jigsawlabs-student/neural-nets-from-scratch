{
 "cells": [
  {
   "cell_type": "markdown",
   "metadata": {},
   "source": [
    "So now the red, yellow, and blue, orange and green colors are associated with m values of .2, .3, .4, and .5, .6.  Do you really think that trying m values of .1 or .7 will give us a closer RSS?  Probably not."
   ]
  }
 ],
 "metadata": {
  "kernelspec": {
   "display_name": "Python 3",
   "language": "python",
   "name": "python3"
  },
  "language_info": {
   "codemirror_mode": {
    "name": "ipython",
    "version": 3
   },
   "file_extension": ".py",
   "mimetype": "text/x-python",
   "name": "python",
   "nbconvert_exporter": "python",
   "pygments_lexer": "ipython3",
   "version": "3.7.3"
  }
 },
 "nbformat": 4,
 "nbformat_minor": 2
}
