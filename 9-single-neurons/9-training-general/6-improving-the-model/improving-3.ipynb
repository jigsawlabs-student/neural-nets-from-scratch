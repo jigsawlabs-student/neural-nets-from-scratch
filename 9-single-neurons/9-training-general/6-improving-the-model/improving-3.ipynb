{
 "cells": [
  {
   "cell_type": "markdown",
   "metadata": {},
   "source": [
    "## The point of it all"
   ]
  },
  {
   "cell_type": "markdown",
   "metadata": {},
   "source": [
    "In looking at the chart to the right of our RSS values, we can begin to see a pattern.  In calculating the RSS with five sequential values of $m$, we see that our RSS plot curves downward towards a lowpoint in the middle.  So in trying to find the model that produces the lowest RSS, we do not have to try every single number.  Instead we can try different numbers and if our RSS decreases like it does when we move from $ tshirt\\_sales=.3∗ad\\_spend + 100$ to $ tshirt\\_sales=.4∗ad\\_spend + 100$ we keep increasing our value of $m$.  \n",
    "\n",
    "And if the RSS instead *increases* like it does from $ tshirt\\_sales=.5∗ad\\_spend + 100$ to $tshirt\\_sales=.6∗ad\\_spend + 100$ we decrease our number.\n",
    "\n",
    "This process of optimizing our model based on how its score against an error metric (here RSS) is called *fitting* our model to the data.  This is how the machine *learns* what parameters of the model to choose. "
   ]
  },
  {
   "cell_type": "markdown",
   "metadata": {},
   "source": [
    "### Summary"
   ]
  },
  {
   "cell_type": "markdown",
   "metadata": {},
   "source": [
    "In this lesson, we saw how machine learning models can improve to find an optimal model.  One mechanisms for machine learning problems to do this is by trying different parameters and using the cost function to collect feedback on the model's performance.  A machine learning algorithm's loss function can give us feedback on our hypothesis functionso that it can improve step by step, as we saw above.  This process of changing the parameters so to find a machine learning model that minimizes a cost function is called training the model. "
   ]
  }
 ],
 "metadata": {
  "kernelspec": {
   "display_name": "Python 3",
   "language": "python",
   "name": "python3"
  },
  "language_info": {
   "codemirror_mode": {
    "name": "ipython",
    "version": 3
   },
   "file_extension": ".py",
   "mimetype": "text/x-python",
   "name": "python",
   "nbconvert_exporter": "python",
   "pygments_lexer": "ipython3",
   "version": "3.7.3"
  }
 },
 "nbformat": 4,
 "nbformat_minor": 2
}
