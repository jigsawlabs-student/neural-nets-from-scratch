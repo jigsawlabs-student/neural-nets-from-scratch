{
 "cells": [
  {
   "cell_type": "markdown",
   "metadata": {},
   "source": [
    "However, because positive and negative errors cancel each other out, we fixed this by first squaring each of the errors and then calculating the *residual sum of squares* (RSS).\n",
    "\n",
    "Let's take a look at this with our ad spending and t-shirts example.  The left two columns have the actual data we collected: the amount of ad spending and the monthly t-shirt sales. The right two columns have the predictions, and squared error for the regression model:\n",
    "\n",
    "$$tshirt\\_sales = .6*ad\\_spend + 100$$"
   ]
  },
  {
   "cell_type": "markdown",
   "metadata": {},
   "source": [
    "|ad spending    |t-shirts| predicted t-shirts |  squared error |\n",
    "| ------------- |:-----:|:-------------------:| :-----:| \n",
    "|    800        | 330  | 580  | 62500|\n",
    "|    1500       | 780 | 1000| 48400|\n",
    "|    2000      | 1130 | 1300| 28900|\n",
    "|    3500      | 1310 | 2200| 792100|\n",
    "|    4000      | 1780 | 2500| 518400|"
   ]
  },
  {
   "cell_type": "markdown",
   "metadata": {},
   "source": [
    "With the residual sum of squares, we take each of our data point in our observed data, and find the difference between what our model predicts at that point.  Then we square the errors  -- to make each of error positive -- and add up these squared errors, to get the residual sum of squares."
   ]
  },
  {
   "cell_type": "markdown",
   "metadata": {},
   "source": [
    "What's makes this useful is that now we can can now use our squared error metric to different models.  For example, above is the RSS for the model $tshirt\\_sales = .6*ad\\_spend + 100$ and we could compare this with the squared error for a different model:\n",
    "\n",
    "$$tshirt\\_sales = .4*ad\\_spend + 100$$"
   ]
  },
  {
   "cell_type": "markdown",
   "metadata": {},
   "source": [
    "|ad spending    |t-shirts| predicted t-shirts | squared error |\n",
    "| ------------- |:-----:|:-------------------:| :-----:| \n",
    "|    800        | 330  | 420  | 8100|\n",
    "|    1500       | 780 | 700| 6400|\n",
    "|    2000      | 1130 | 900| 52900|\n",
    "|    3500      | 1310 | 1500| 36100|\n",
    "|    4000      | 1780 | 1700| 6400|"
   ]
  },
  {
   "cell_type": "markdown",
   "metadata": {},
   "source": [
    "Which gives an RSS of $109900$."
   ]
  }
 ],
 "metadata": {
  "kernelspec": {
   "display_name": "Python 3",
   "language": "python",
   "name": "python3"
  },
  "language_info": {
   "codemirror_mode": {
    "name": "ipython",
    "version": 3
   },
   "file_extension": ".py",
   "mimetype": "text/x-python",
   "name": "python",
   "nbconvert_exporter": "python",
   "pygments_lexer": "ipython3",
   "version": "3.7.3"
  }
 },
 "nbformat": 4,
 "nbformat_minor": 2
}
