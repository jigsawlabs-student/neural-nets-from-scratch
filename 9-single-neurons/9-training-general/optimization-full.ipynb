{
 "cells": [
  {
   "cell_type": "markdown",
   "metadata": {},
   "source": [
    "# Improving the model"
   ]
  },
  {
   "cell_type": "markdown",
   "metadata": {},
   "source": [
    "### Introduction"
   ]
  },
  {
   "cell_type": "markdown",
   "metadata": {},
   "source": [
    "In the previous lesson we saw that we can evaluate how well a model matches the data.  We wanted to describe the performance of the model as a whole, so we first tried adding up each of the errors to calculate the total error. "
   ]
  },
  {
   "cell_type": "markdown",
   "metadata": {},
   "source": [
    "However, because positive and negative errors cancel each other out, we fixed this by first squaring each of the errors and then calculating the *residual sum of squares* (RSS).\n",
    "\n",
    "Let's take a look at this with our ad spending and t-shirts example.  The left two columns have the actual data we collected: the amount of ad spending and the monthly t-shirt sales. The right two columns have the predictions, and squared error for the regression model:\n",
    "\n",
    "$$tshirt\\_sales = .6*ad\\_spend + 100$$"
   ]
  },
  {
   "cell_type": "markdown",
   "metadata": {},
   "source": [
    "|ad spending    |t-shirts| predicted t-shirts |  squared error |\n",
    "| ------------- |:-----:|:-------------------:| :-----:| \n",
    "|    800        | 330  | 580  | 62500|\n",
    "|    1500       | 780 | 1000| 48400|\n",
    "|    2000      | 1130 | 1300| 28900|\n",
    "|    3500      | 1310 | 2200| 792100|\n",
    "|    4000      | 1780 | 2500| 518400|"
   ]
  },
  {
   "cell_type": "markdown",
   "metadata": {},
   "source": [
    "With the residual sum of squares, we take each of our data point in our observed data, and find the difference between what our model predicts at that point.  Then we square the errors  -- to make each of error positive -- and add up these squared errors, to get the residual sum of squares."
   ]
  },
  {
   "cell_type": "markdown",
   "metadata": {},
   "source": [
    "What's makes this useful is that now we can can now use our squared error metric to different models.  For example, above is the RSS for the model $tshirt\\_sales = .6*ad\\_spend + 100$ and we could compare this with the squared error for a different model:\n",
    "\n",
    "$$tshirt\\_sales = .4*ad\\_spend + 100$$"
   ]
  },
  {
   "cell_type": "markdown",
   "metadata": {},
   "source": [
    "|ad spending    |t-shirts| predicted t-shirts | squared error |\n",
    "| ------------- |:-----:|:-------------------:| :-----:| \n",
    "|    800        | 330  | 420  | 8100|\n",
    "|    1500       | 780 | 700| 6400|\n",
    "|    2000      | 1130 | 900| 52900|\n",
    "|    3500      | 1310 | 1500| 36100|\n",
    "|    4000      | 1780 | 1700| 6400|"
   ]
  },
  {
   "cell_type": "markdown",
   "metadata": {},
   "source": [
    "Which gives an RSS of $109900$."
   ]
  },
  {
   "cell_type": "markdown",
   "metadata": {},
   "source": [
    "## Finding the best fit line"
   ]
  },
  {
   "cell_type": "markdown",
   "metadata": {},
   "source": [
    "Now above, we saw we see which model better predicts the T-shirt sales by calculating the RSS when our value of $m = .4$ and when $m = .6$ and then comparing.  \n",
    "\n",
    "But really, what we would like to do is to find the *best* line.  How should we do that?  Should we just trying a bunch of different values for $m$ and then calculate the value of RSS for each one?  Well, kinda, yea.  Then we'll do a similar procedure for our y intercept, b.\n",
    "\n",
    "Let's start by trying two different values for $m$ -- $.6$, $.7$, and then $.8$."
   ]
  },
  {
   "cell_type": "code",
   "execution_count": 2,
   "metadata": {},
   "outputs": [
    {
     "name": "stdout",
     "output_type": "stream",
     "text": [
      "This is the format of your plot grid:\n",
      "[ (1,1) x1,y1 ]  [ (1,2) x2,y2 ]\n",
      "\n"
     ]
    }
   ],
   "source": [
    "from graph import model_trace, trace_rss, pair_colors, plot_side_by_side\n",
    "from graph import trace_values\n",
    "\n",
    "\n",
    "m_values = [.5, .6]\n",
    "b = 100\n",
    "rss_traces = []\n",
    "model_traces = []\n",
    "ad_spends = [800, 1500, 2000, 3500, 4000]\n",
    "tshirt_sales = [330, 780, 1130, 1310, 1780]\n",
    "\n",
    "actual_trace = trace_values(x_values = ad_spends, y_values = tshirt_sales)\n",
    "\n",
    "for m in m_values:\n",
    "    rss_trace = trace_rss(m, b, ad_spends, tshirt_sales)\n",
    "    rss_traces.append(rss_trace)\n",
    "    built_model_trace = model_trace(m, b, ad_spends, tshirt_sales)\n",
    "    model_traces.append(built_model_trace)\n",
    "    \n",
    "pair_colors(model_traces, rss_traces)\n",
    "figure = plot_side_by_side([actual_trace] + model_traces, rss_traces)"
   ]
  },
  {
   "cell_type": "code",
   "execution_count": 3,
   "metadata": {},
   "outputs": [
    {
     "data": {
      "text/plain": [
       "'https://plot.ly/~JeffKatzy/186'"
      ]
     },
     "execution_count": 3,
     "metadata": {},
     "output_type": "execute_result"
    }
   ],
   "source": [
    "import plotly.plotly as py\n",
    "py.plot(figure)"
   ]
  },
  {
   "cell_type": "markdown",
   "metadata": {},
   "source": [
    "Let's walk through the above graph.  \n",
    "\n",
    "* The model $ tshirt\\_sales=.5∗ad\\_spend + 100$ is the red line and the related RSS (another name for SSE) is over to the right in red of 428.7 thousand.  \n",
    "* The model  $ tshirt\\_sales=.6∗ad\\_spend + 100$ is the yellow line and it's related RSS is in yellow with an RSS of 1.4503.\n",
    "\n",
    "So we just tried models of  $ tshirt\\_sales=.5∗ad\\_spend + 100$ and $ tshirt\\_sales=.6∗ad\\_spend + 100$. \n",
    "\n",
    "Now let's try three more.\n",
    "* $ tshirt\\_sales=.2∗ad\\_spend + 100$ \n",
    "* $ tshirt\\_sales=.3∗ad\\_spend + 100$ \n",
    "* $ tshirt\\_sales=.4∗ad\\_spend + 100$"
   ]
  },
  {
   "cell_type": "code",
   "execution_count": 11,
   "metadata": {},
   "outputs": [
    {
     "name": "stdout",
     "output_type": "stream",
     "text": [
      "This is the format of your plot grid:\n",
      "[ (1,1) x1,y1 ]  [ (1,2) x2,y2 ]\n",
      "\n"
     ]
    },
    {
     "data": {
      "application/vnd.plotly.v1+json": {
       "config": {
        "linkText": "Export to plot.ly",
        "plotlyServerURL": "https://plot.ly",
        "showLink": false
       },
       "data": [
        {
         "mode": "markers",
         "name": "data",
         "text": [],
         "type": "scatter",
         "uid": "6edde9fb-2887-4bcf-81bf-f980ffb716d0",
         "x": [
          800,
          1500,
          2000,
          3500,
          4000
         ],
         "xaxis": "x",
         "y": [
          330,
          780,
          1130,
          1310,
          1780
         ],
         "yaxis": "y"
        },
        {
         "marker": {
          "color": "red"
         },
         "mode": "lines",
         "name": "data",
         "text": [],
         "type": "scatter",
         "uid": "0afa6056-d568-49cb-ad6d-5faabb20cc76",
         "x": [
          800,
          1500,
          2000,
          3500,
          4000
         ],
         "xaxis": "x",
         "y": [
          260,
          400,
          500,
          800,
          900
         ],
         "yaxis": "y"
        },
        {
         "marker": {
          "color": "yellow"
         },
         "mode": "lines",
         "name": "data",
         "text": [],
         "type": "scatter",
         "uid": "9a08c2da-a48f-408b-92b7-0c5faebd9776",
         "x": [
          800,
          1500,
          2000,
          3500,
          4000
         ],
         "xaxis": "x",
         "y": [
          340,
          550,
          700,
          1150,
          1300
         ],
         "yaxis": "y"
        },
        {
         "marker": {
          "color": "blue"
         },
         "mode": "lines",
         "name": "data",
         "text": [],
         "type": "scatter",
         "uid": "47e44aa4-465e-443f-9a3c-87a1b9402885",
         "x": [
          800,
          1500,
          2000,
          3500,
          4000
         ],
         "xaxis": "x",
         "y": [
          420,
          700,
          900,
          1500,
          1700
         ],
         "yaxis": "y"
        },
        {
         "marker": {
          "color": "orange"
         },
         "mode": "lines",
         "name": "data",
         "text": [],
         "type": "scatter",
         "uid": "0ddfd3f1-8669-4220-a488-f8e5452751fa",
         "x": [
          800,
          1500,
          2000,
          3500,
          4000
         ],
         "xaxis": "x",
         "y": [
          500,
          850,
          1100,
          1850,
          2100
         ],
         "yaxis": "y"
        },
        {
         "marker": {
          "color": "green"
         },
         "mode": "lines",
         "name": "data",
         "text": [],
         "type": "scatter",
         "uid": "b97c6d0d-f7d1-4fba-98ed-6a28327abfaf",
         "x": [
          800,
          1500,
          2000,
          3500,
          4000
         ],
         "xaxis": "x",
         "y": [
          580,
          1000,
          1300,
          2200,
          2500
         ],
         "yaxis": "y"
        },
        {
         "marker": {
          "color": "red"
         },
         "type": "bar",
         "uid": "00174c87-c6a9-4415-ba94-42293761edc9",
         "x": [
          "RSS"
         ],
         "xaxis": "x2",
         "y": [
          1580700
         ],
         "yaxis": "y2"
        },
        {
         "marker": {
          "color": "yellow"
         },
         "type": "bar",
         "uid": "7b7fe09f-b625-4a1f-a394-f96d4fa86f97",
         "x": [
          "RSS"
         ],
         "xaxis": "x2",
         "y": [
          493900
         ],
         "yaxis": "y2"
        },
        {
         "marker": {
          "color": "blue"
         },
         "type": "bar",
         "uid": "b411de93-fc3b-422e-985a-72b9087ec2b6",
         "x": [
          "RSS"
         ],
         "xaxis": "x2",
         "y": [
          109900
         ],
         "yaxis": "y2"
        },
        {
         "marker": {
          "color": "orange"
         },
         "type": "bar",
         "uid": "0c17189b-34a0-4ab6-a5a1-1a2941a47b0a",
         "x": [
          "RSS"
         ],
         "xaxis": "x2",
         "y": [
          428700
         ],
         "yaxis": "y2"
        },
        {
         "marker": {
          "color": "green"
         },
         "type": "bar",
         "uid": "af1da0c4-bc90-43ed-8d91-f88ad2ca034d",
         "x": [
          "RSS"
         ],
         "xaxis": "x2",
         "y": [
          1450300
         ],
         "yaxis": "y2"
        }
       ],
       "layout": {
        "autosize": true,
        "xaxis": {
         "anchor": "y",
         "autorange": true,
         "domain": [
          0,
          0.45
         ],
         "range": [
          529.8701298701299,
          4270.12987012987
         ],
         "type": "linear"
        },
        "xaxis2": {
         "anchor": "y2",
         "autorange": true,
         "domain": [
          0.55,
          1
         ],
         "range": [
          -0.5,
          0.5
         ],
         "type": "category"
        },
        "yaxis": {
         "anchor": "x",
         "autorange": true,
         "domain": [
          0,
          1
         ],
         "range": [
          135.55555555555554,
          2624.4444444444443
         ],
         "type": "linear"
        },
        "yaxis2": {
         "anchor": "x2",
         "autorange": true,
         "domain": [
          0,
          1
         ],
         "range": [
          0,
          1663894.7368421052
         ],
         "type": "linear"
        }
       }
      },
      "image/png": "[encoded data removed]",
      "text/html": [
       "<div id=\"e6a6ff06-080f-4261-b57e-74fda28e3a50\" style=\"height: 525px; width: 100%;\" class=\"plotly-graph-div\"></div><script type=\"text/javascript\">require([\"plotly\"], function(Plotly) { window.PLOTLYENV=window.PLOTLYENV || {};window.PLOTLYENV.BASE_URL=\"https://plot.ly\";Plotly.newPlot(\"e6a6ff06-080f-4261-b57e-74fda28e3a50\", [{\"mode\": \"markers\", \"name\": \"data\", \"text\": [], \"x\": [800, 1500, 2000, 3500, 4000], \"y\": [330, 780, 1130, 1310, 1780], \"type\": \"scatter\", \"uid\": \"6edde9fb-2887-4bcf-81bf-f980ffb716d0\", \"xaxis\": \"x\", \"yaxis\": \"y\"}, {\"marker\": {\"color\": \"red\"}, \"mode\": \"lines\", \"name\": \"data\", \"text\": [], \"x\": [800, 1500, 2000, 3500, 4000], \"y\": [260.0, 400.0, 500.0, 800.0, 900.0], \"type\": \"scatter\", \"uid\": \"0afa6056-d568-49cb-ad6d-5faabb20cc76\", \"xaxis\": \"x\", \"yaxis\": \"y\"}, {\"marker\": {\"color\": \"yellow\"}, \"mode\": \"lines\", \"name\": \"data\", \"text\": [], \"x\": [800, 1500, 2000, 3500, 4000], \"y\": [340.0, 550.0, 700.0, 1150.0, 1300.0], \"type\": \"scatter\", \"uid\": \"9a08c2da-a48f-408b-92b7-0c5faebd9776\", \"xaxis\": \"x\", \"yaxis\": \"y\"}, {\"marker\": {\"color\": \"blue\"}, \"mode\": \"lines\", \"name\": \"data\", \"text\": [], \"x\": [800, 1500, 2000, 3500, 4000], \"y\": [420.0, 700.0, 900.0, 1500.0, 1700.0], \"type\": \"scatter\", \"uid\": \"47e44aa4-465e-443f-9a3c-87a1b9402885\", \"xaxis\": \"x\", \"yaxis\": \"y\"}, {\"marker\": {\"color\": \"orange\"}, \"mode\": \"lines\", \"name\": \"data\", \"text\": [], \"x\": [800, 1500, 2000, 3500, 4000], \"y\": [500.0, 850.0, 1100.0, 1850.0, 2100.0], \"type\": \"scatter\", \"uid\": \"0ddfd3f1-8669-4220-a488-f8e5452751fa\", \"xaxis\": \"x\", \"yaxis\": \"y\"}, {\"marker\": {\"color\": \"green\"}, \"mode\": \"lines\", \"name\": \"data\", \"text\": [], \"x\": [800, 1500, 2000, 3500, 4000], \"y\": [580.0, 1000.0, 1300.0, 2200.0, 2500.0], \"type\": \"scatter\", \"uid\": \"b97c6d0d-f7d1-4fba-98ed-6a28327abfaf\", \"xaxis\": \"x\", \"yaxis\": \"y\"}, {\"marker\": {\"color\": \"red\"}, \"x\": [\"RSS\"], \"y\": [1580700.0], \"type\": \"bar\", \"uid\": \"00174c87-c6a9-4415-ba94-42293761edc9\", \"xaxis\": \"x2\", \"yaxis\": \"y2\"}, {\"marker\": {\"color\": \"yellow\"}, \"x\": [\"RSS\"], \"y\": [493900.0], \"type\": \"bar\", \"uid\": \"7b7fe09f-b625-4a1f-a394-f96d4fa86f97\", \"xaxis\": \"x2\", \"yaxis\": \"y2\"}, {\"marker\": {\"color\": \"blue\"}, \"x\": [\"RSS\"], \"y\": [109900.0], \"type\": \"bar\", \"uid\": \"b411de93-fc3b-422e-985a-72b9087ec2b6\", \"xaxis\": \"x2\", \"yaxis\": \"y2\"}, {\"marker\": {\"color\": \"orange\"}, \"x\": [\"RSS\"], \"y\": [428700.0], \"type\": \"bar\", \"uid\": \"0c17189b-34a0-4ab6-a5a1-1a2941a47b0a\", \"xaxis\": \"x2\", \"yaxis\": \"y2\"}, {\"marker\": {\"color\": \"green\"}, \"x\": [\"RSS\"], \"y\": [1450300.0], \"type\": \"bar\", \"uid\": \"af1da0c4-bc90-43ed-8d91-f88ad2ca034d\", \"xaxis\": \"x2\", \"yaxis\": \"y2\"}], {\"xaxis\": {\"anchor\": \"y\", \"domain\": [0.0, 0.45]}, \"yaxis\": {\"anchor\": \"x\", \"domain\": [0.0, 1.0]}, \"xaxis2\": {\"anchor\": \"y2\", \"domain\": [0.55, 1.0]}, \"yaxis2\": {\"anchor\": \"x2\", \"domain\": [0.0, 1.0]}}, {\"showLink\": false, \"linkText\": \"Export to plot.ly\", \"plotlyServerURL\": \"https://plot.ly\"})});</script><script type=\"text/javascript\">window.addEventListener(\"resize\", function(){window._Plotly.Plots.resize(document.getElementById(\"e6a6ff06-080f-4261-b57e-74fda28e3a50\"));});</script>"
      ],
      "text/vnd.plotly.v1+html": [
       "<div id=\"e6a6ff06-080f-4261-b57e-74fda28e3a50\" style=\"height: 525px; width: 100%;\" class=\"plotly-graph-div\"></div><script type=\"text/javascript\">require([\"plotly\"], function(Plotly) { window.PLOTLYENV=window.PLOTLYENV || {};window.PLOTLYENV.BASE_URL=\"https://plot.ly\";Plotly.newPlot(\"e6a6ff06-080f-4261-b57e-74fda28e3a50\", [{\"mode\": \"markers\", \"name\": \"data\", \"text\": [], \"x\": [800, 1500, 2000, 3500, 4000], \"y\": [330, 780, 1130, 1310, 1780], \"type\": \"scatter\", \"uid\": \"6edde9fb-2887-4bcf-81bf-f980ffb716d0\", \"xaxis\": \"x\", \"yaxis\": \"y\"}, {\"marker\": {\"color\": \"red\"}, \"mode\": \"lines\", \"name\": \"data\", \"text\": [], \"x\": [800, 1500, 2000, 3500, 4000], \"y\": [260.0, 400.0, 500.0, 800.0, 900.0], \"type\": \"scatter\", \"uid\": \"0afa6056-d568-49cb-ad6d-5faabb20cc76\", \"xaxis\": \"x\", \"yaxis\": \"y\"}, {\"marker\": {\"color\": \"yellow\"}, \"mode\": \"lines\", \"name\": \"data\", \"text\": [], \"x\": [800, 1500, 2000, 3500, 4000], \"y\": [340.0, 550.0, 700.0, 1150.0, 1300.0], \"type\": \"scatter\", \"uid\": \"9a08c2da-a48f-408b-92b7-0c5faebd9776\", \"xaxis\": \"x\", \"yaxis\": \"y\"}, {\"marker\": {\"color\": \"blue\"}, \"mode\": \"lines\", \"name\": \"data\", \"text\": [], \"x\": [800, 1500, 2000, 3500, 4000], \"y\": [420.0, 700.0, 900.0, 1500.0, 1700.0], \"type\": \"scatter\", \"uid\": \"47e44aa4-465e-443f-9a3c-87a1b9402885\", \"xaxis\": \"x\", \"yaxis\": \"y\"}, {\"marker\": {\"color\": \"orange\"}, \"mode\": \"lines\", \"name\": \"data\", \"text\": [], \"x\": [800, 1500, 2000, 3500, 4000], \"y\": [500.0, 850.0, 1100.0, 1850.0, 2100.0], \"type\": \"scatter\", \"uid\": \"0ddfd3f1-8669-4220-a488-f8e5452751fa\", \"xaxis\": \"x\", \"yaxis\": \"y\"}, {\"marker\": {\"color\": \"green\"}, \"mode\": \"lines\", \"name\": \"data\", \"text\": [], \"x\": [800, 1500, 2000, 3500, 4000], \"y\": [580.0, 1000.0, 1300.0, 2200.0, 2500.0], \"type\": \"scatter\", \"uid\": \"b97c6d0d-f7d1-4fba-98ed-6a28327abfaf\", \"xaxis\": \"x\", \"yaxis\": \"y\"}, {\"marker\": {\"color\": \"red\"}, \"x\": [\"RSS\"], \"y\": [1580700.0], \"type\": \"bar\", \"uid\": \"00174c87-c6a9-4415-ba94-42293761edc9\", \"xaxis\": \"x2\", \"yaxis\": \"y2\"}, {\"marker\": {\"color\": \"yellow\"}, \"x\": [\"RSS\"], \"y\": [493900.0], \"type\": \"bar\", \"uid\": \"7b7fe09f-b625-4a1f-a394-f96d4fa86f97\", \"xaxis\": \"x2\", \"yaxis\": \"y2\"}, {\"marker\": {\"color\": \"blue\"}, \"x\": [\"RSS\"], \"y\": [109900.0], \"type\": \"bar\", \"uid\": \"b411de93-fc3b-422e-985a-72b9087ec2b6\", \"xaxis\": \"x2\", \"yaxis\": \"y2\"}, {\"marker\": {\"color\": \"orange\"}, \"x\": [\"RSS\"], \"y\": [428700.0], \"type\": \"bar\", \"uid\": \"0c17189b-34a0-4ab6-a5a1-1a2941a47b0a\", \"xaxis\": \"x2\", \"yaxis\": \"y2\"}, {\"marker\": {\"color\": \"green\"}, \"x\": [\"RSS\"], \"y\": [1450300.0], \"type\": \"bar\", \"uid\": \"af1da0c4-bc90-43ed-8d91-f88ad2ca034d\", \"xaxis\": \"x2\", \"yaxis\": \"y2\"}], {\"xaxis\": {\"anchor\": \"y\", \"domain\": [0.0, 0.45]}, \"yaxis\": {\"anchor\": \"x\", \"domain\": [0.0, 1.0]}, \"xaxis2\": {\"anchor\": \"y2\", \"domain\": [0.55, 1.0]}, \"yaxis2\": {\"anchor\": \"x2\", \"domain\": [0.0, 1.0]}}, {\"showLink\": false, \"linkText\": \"Export to plot.ly\", \"plotlyServerURL\": \"https://plot.ly\"})});</script><script type=\"text/javascript\">window.addEventListener(\"resize\", function(){window._Plotly.Plots.resize(document.getElementById(\"e6a6ff06-080f-4261-b57e-74fda28e3a50\"));});</script>"
      ]
     },
     "metadata": {},
     "output_type": "display_data"
    }
   ],
   "source": [
    "from graph import model_trace, trace_rss, pair_colors, plot_side_by_side\n",
    "from graph import trace_values\n",
    "\n",
    "\n",
    "m_values = [.2, .3, .4, .5, .6]\n",
    "rss_traces = []\n",
    "model_traces = []\n",
    "\n",
    "actual_trace = trace_values(x_values = ad_spends, y_values = tshirt_sales)\n",
    "\n",
    "for m in m_values:\n",
    "    rss_trace = trace_rss(m, b, ad_spends, tshirt_sales)\n",
    "    rss_traces.append(rss_trace)\n",
    "    built_model_trace = model_trace(m, b, ad_spends, tshirt_sales)\n",
    "    model_traces.append(built_model_trace)\n",
    "    \n",
    "pair_colors(model_traces, rss_traces)\n",
    "plot_side_by_side([actual_trace] + model_traces, rss_traces)"
   ]
  },
  {
   "cell_type": "markdown",
   "metadata": {},
   "source": [
    "So now the red, yellow, and blue, orange and green colors are associated with m values of .2, .3, .4, and .5, .6.  Do you really think that trying m values of .1 or .7 will give us a closer RSS?  Probably not."
   ]
  },
  {
   "cell_type": "markdown",
   "metadata": {},
   "source": [
    "## The point of it all"
   ]
  },
  {
   "cell_type": "markdown",
   "metadata": {},
   "source": [
    "In looking at the chart to the right of our RSS values, we can begin to see a pattern.  In calculating the RSS with five sequential values of $m$, we see that our RSS plot curves downward towards a lowpoint in the middle.  So in trying to find the model that produces the lowest RSS, we do not have to try every single number.  Instead we can try different numbers and if our RSS decreases like it does when we move from $ tshirt\\_sales=.3∗ad\\_spend + 100$ to $ tshirt\\_sales=.4∗ad\\_spend + 100$ we keep increasing our value of $m$.  \n",
    "\n",
    "And if the RSS instead *increases* like it does from $ tshirt\\_sales=.5∗ad\\_spend + 100$ to $tshirt\\_sales=.6∗ad\\_spend + 100$ we decrease our number.\n",
    "\n",
    "This process of optimizing our model based on how its score against an error metric (here RSS) is called *fitting* our model to the data.  This is how the machine *learns* what parameters of the model to choose. "
   ]
  },
  {
   "cell_type": "markdown",
   "metadata": {},
   "source": [
    "### Summary"
   ]
  },
  {
   "cell_type": "markdown",
   "metadata": {},
   "source": [
    "In this lesson, we saw how machine learning models can improve to find an optimal model.  One mechanisms for machine learning problems to do this is by trying different parameters and using the cost function to collect feedback on the model's performance.  A machine learning algorithm's loss function can give us feedback on our hypothesis functionso that it can improve step by step, as we saw above.  This process of changing the parameters so to find a machine learning model that minimizes a cost function is called training the model. "
   ]
  }
 ],
 "metadata": {
  "kernelspec": {
   "display_name": "Python 3",
   "language": "python",
   "name": "python3"
  },
  "language_info": {
   "codemirror_mode": {
    "name": "ipython",
    "version": 3
   },
   "file_extension": ".py",
   "mimetype": "text/x-python",
   "name": "python",
   "nbconvert_exporter": "python",
   "pygments_lexer": "ipython3",
   "version": "3.7.4"
  }
 },
 "nbformat": 4,
 "nbformat_minor": 4
}
