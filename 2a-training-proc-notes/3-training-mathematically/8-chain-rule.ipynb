{
 "cells": [
  {
   "cell_type": "markdown",
   "metadata": {},
   "source": [
    "# The Chain Rule"
   ]
  },
  {
   "cell_type": "markdown",
   "metadata": {},
   "source": [
    "### Introduction"
   ]
  },
  {
   "cell_type": "markdown",
   "metadata": {},
   "source": [
    "At this point, we have used gradient descent to find the minimum of a cost curve.  But we have skipped over the steps of finding the derivative for our cost curve.  In our Applying Gradient Descent Lab, for example, we gave you the derivatives without calculating them ourselves."
   ]
  },
  {
   "cell_type": "markdown",
   "metadata": {},
   "source": [
    "Why did we do this?\n",
    "\n",
    "Remember that with gradient descent, we find the change in our function's output as we alter each parameter, and then take a step in the direction of steepest descent.  But if we try to use this technique to see how changing our paramters changes the output of our cost function, we'll see that the impact on the output is a bit more indirect.  "
   ]
  },
  {
   "cell_type": "markdown",
   "metadata": {},
   "source": [
    "### Seeing the issue"
   ]
  },
  {
   "cell_type": "markdown",
   "metadata": {},
   "source": [
    "In previous lessons, we found the rate of change in our output as we changed the parameters in a function as the following:\n",
    "\n",
    "$$z(w,b) = 3w + b$$"
   ]
  },
  {
   "cell_type": "markdown",
   "metadata": {},
   "source": [
    "To find how the output of $z$ changes as we change each parameter, we take the partial derivative with respect to each parameter, above $w$ and $b$.  \n",
    "\n",
    "$$\\frac{\\delta z}{\\delta w} = 3, \\frac{\\delta z}{\\delta b} = 1$$"
   ]
  },
  {
   "cell_type": "markdown",
   "metadata": {},
   "source": [
    "But when trying to find the parameters that minimize a *cost curve $J$* , this time we are not finding the impact of altering the parameters on that same function $z$, but on *another* function, our cost function -- here the sum of the squared error: \n",
    "\n",
    "$$J(w,b) = (y - z(w, b))^2 = (y - (3w + b))^2$$"
   ]
  },
  {
   "cell_type": "markdown",
   "metadata": {},
   "source": [
    "So calculating how a change to $w$ or $b$ impacts our cost function is more complicated than in our first function."
   ]
  },
  {
   "cell_type": "markdown",
   "metadata": {},
   "source": [
    "And really it's more indirect than even that, because $z(w, b)$ is just the linear component, which is then fed to the activation function $\\sigma$ to make the prediction, which is then passed into our cost function:\n",
    "\n",
    "$$J(w,b) = (y - \\sigma(z(w, b)))^2$$"
   ]
  },
  {
   "cell_type": "code",
   "execution_count": null,
   "metadata": {},
   "outputs": [],
   "source": [
    "# w = .1\n",
    "# w = .2"
   ]
  },
  {
   "cell_type": "markdown",
   "metadata": {},
   "source": [
    "So as we can see, the impact of changing our parameters, $w$ and $b$, on the output of our cost curve $J$ is well, complicated.  \n",
    "\n",
    "But don't worry, mathematicians have already figured out how to solve problems like the one above.  We just have to learn their approach."
   ]
  },
  {
   "cell_type": "markdown",
   "metadata": {},
   "source": [
    "### Introducing the Chain Rule"
   ]
  },
  {
   "cell_type": "markdown",
   "metadata": {},
   "source": [
    "The problem that we are running into above, is how to find the derivative of this nested function\n",
    "\n",
    "$$J(w,b) = (y - \\sigma(z(w, b)))^2$$"
   ]
  },
  {
   "cell_type": "markdown",
   "metadata": {},
   "source": [
    "By a nested function, we mean a function where our parameters $w$ and $b$ are nested inside of a function $z$ whose output is fed to a function $\\sigma$ whose output is fed as a component to $J$.\n",
    "\n",
    "Mathematicians call these functions [composite functions](https://en.wikipedia.org/wiki/Function_composition).  And lucky for us, they have developed a technique for calculating derivatives of composite functions.  That technique is the chain rule."
   ]
  },
  {
   "cell_type": "markdown",
   "metadata": {},
   "source": [
    "But that composite function $J(w,b)$ is a little too difficult to be our starting point.  \n",
    "\n",
    "Instead let's learn about the chain rule by finding the derivative of with a simpler composite function.  Then later, we'll use our new knowledge about the chain rule to find the derivative of our cost function $J(w, b)$.\n",
    "\n",
    "This is our simpler composite function:"
   ]
  },
  {
   "cell_type": "markdown",
   "metadata": {},
   "source": [
    "$$f(x) = (3x + 1)^2$$"
   ]
  },
  {
   "cell_type": "markdown",
   "metadata": {},
   "source": [
    "#### 1. Break it down"
   ]
  },
  {
   "cell_type": "markdown",
   "metadata": {},
   "source": [
    "* *In Math*"
   ]
  },
  {
   "cell_type": "markdown",
   "metadata": {},
   "source": [
    "Do you see how this is a composite function?  We start with the function:"
   ]
  },
  {
   "cell_type": "markdown",
   "metadata": {},
   "source": [
    "$$f(x) = (3x + 1)^2$$"
   ]
  },
  {
   "cell_type": "markdown",
   "metadata": {},
   "source": [
    "$$h(x) = 3x + 1$$\n",
    "$$ g(y) = y^2 $$"
   ]
  },
  {
   "cell_type": "markdown",
   "metadata": {},
   "source": [
    "* In code"
   ]
  },
  {
   "cell_type": "code",
   "execution_count": 1,
   "metadata": {},
   "outputs": [],
   "source": [
    "def f(x): \n",
    "    return 3(x + 1)**2"
   ]
  },
  {
   "cell_type": "markdown",
   "metadata": {},
   "source": [
    "And then we can break this function into two components $h(x) = 3x + 1$ and $g(y) = y^2$."
   ]
  },
  {
   "cell_type": "code",
   "execution_count": 2,
   "metadata": {},
   "outputs": [],
   "source": [
    "def h(x):\n",
    "    output = (3*x + 1)\n",
    "    print(f\"h({x}) = \", output)\n",
    "    return (3*x + 1)\n",
    "\n",
    "def g(y): \n",
    "    output = y**2\n",
    "    print(f\"g({y}) = \", output)\n",
    "    return output"
   ]
  },
  {
   "cell_type": "markdown",
   "metadata": {},
   "source": [
    "And now we rewrite $f(x)$ as $f(x) = g(h(x))$.  "
   ]
  },
  {
   "cell_type": "code",
   "execution_count": 3,
   "metadata": {},
   "outputs": [],
   "source": [
    "# def f(x): return (3*x + 1)**2 is equivelent to:\n",
    "def f(x): \n",
    "    return g(h(x))"
   ]
  },
  {
   "cell_type": "markdown",
   "metadata": {},
   "source": [
    "Ok, now let's try it out! "
   ]
  },
  {
   "cell_type": "code",
   "execution_count": 5,
   "metadata": {},
   "outputs": [
    {
     "name": "stdout",
     "output_type": "stream",
     "text": [
      "h(1) =  4\n",
      "g(4) =  16\n"
     ]
    },
    {
     "data": {
      "text/plain": [
       "16"
      ]
     },
     "execution_count": 5,
     "metadata": {},
     "output_type": "execute_result"
    }
   ],
   "source": [
    "w = 1\n",
    "f(w)"
   ]
  },
  {
   "cell_type": "markdown",
   "metadata": {},
   "source": [
    "$J(w, b) = \\ell(\\sigma(z(w)))$"
   ]
  },
  {
   "cell_type": "code",
   "execution_count": 6,
   "metadata": {},
   "outputs": [
    {
     "name": "stdout",
     "output_type": "stream",
     "text": [
      "h(1.1) =  4.300000000000001\n",
      "g(4.300000000000001) =  18.490000000000006\n"
     ]
    },
    {
     "data": {
      "text/plain": [
       "18.490000000000006"
      ]
     },
     "execution_count": 6,
     "metadata": {},
     "output_type": "execute_result"
    }
   ],
   "source": [
    "w = 1.1\n",
    "f(w)"
   ]
  },
  {
   "cell_type": "markdown",
   "metadata": {},
   "source": [
    "#### 2. Finding the derivative"
   ]
  },
  {
   "cell_type": "markdown",
   "metadata": {},
   "source": [
    "Now, so far, we have rewritten our function \n",
    "$$f(x) = (3x + 1)^2$$ as:\n",
    "\n",
    "$$f(x) = g(h(x)) $$  where:\n",
    "\n",
    "$$h(x) = 3x + 1$$ \n",
    "$$ g(h) = h(x)^2$$"
   ]
  },
  {
   "cell_type": "markdown",
   "metadata": {},
   "source": [
    "$$f(x) = g(h(x)) $$  where:\n",
    "\n",
    "<!-- g'(h(x))*h'(x) -->"
   ]
  },
  {
   "cell_type": "markdown",
   "metadata": {},
   "source": [
    "Now to find the derivative $f(x)$ with respect to $x$ we apply the chain rule.\n",
    "\n",
    "\n",
    "> **The chain rule:** take the derivative of the outer function $g'(h(x))$ and multiply it by the derivative of the inner function $h'(x)$."
   ]
  },
  {
   "cell_type": "markdown",
   "metadata": {},
   "source": [
    "* derivative of outer function\n",
    "* $g'(x) = 2*h(x)$\n",
    "\n",
    "* derivative of inner function\n",
    "* $h'(x) = 3$"
   ]
  },
  {
   "cell_type": "markdown",
   "metadata": {},
   "source": [
    "$\\frac{\\delta f}{\\delta x} = g'(x)*h'(x) = 6*h(x) = 6(3*x+1) = 18*x + 6$"
   ]
  },
  {
   "cell_type": "markdown",
   "metadata": {},
   "source": [
    "$f'(1) = 24$"
   ]
  },
  {
   "cell_type": "code",
   "execution_count": 8,
   "metadata": {},
   "outputs": [
    {
     "name": "stdout",
     "output_type": "stream",
     "text": [
      "h(1) =  4\n",
      "g(4) =  16\n"
     ]
    },
    {
     "data": {
      "text/plain": [
       "16"
      ]
     },
     "execution_count": 8,
     "metadata": {},
     "output_type": "execute_result"
    }
   ],
   "source": [
    "w = 1\n",
    "f(w)"
   ]
  },
  {
   "cell_type": "code",
   "execution_count": 9,
   "metadata": {},
   "outputs": [
    {
     "name": "stdout",
     "output_type": "stream",
     "text": [
      "h(1.01) =  4.03\n",
      "g(4.03) =  16.240900000000003\n"
     ]
    },
    {
     "data": {
      "text/plain": [
       "16.240900000000003"
      ]
     },
     "execution_count": 9,
     "metadata": {},
     "output_type": "execute_result"
    }
   ],
   "source": [
    "w = 1.01\n",
    "f(1.01)"
   ]
  },
  {
   "cell_type": "code",
   "execution_count": 10,
   "metadata": {},
   "outputs": [
    {
     "data": {
      "text/plain": [
       "23.999999999999844"
      ]
     },
     "execution_count": 10,
     "metadata": {},
     "output_type": "execute_result"
    }
   ],
   "source": [
    "(16.24 - 16)/(.01)"
   ]
  },
  {
   "cell_type": "markdown",
   "metadata": {},
   "source": [
    "### Wrapping Up"
   ]
  },
  {
   "cell_type": "markdown",
   "metadata": {},
   "source": [
    "So what we just did is pretty cool.  We were able to calculate how nudging the value of $x$ impacts a composite function $$f(x) = (3x + 1)^2$$."
   ]
  },
  {
   "cell_type": "markdown",
   "metadata": {},
   "source": [
    "And found that: \n",
    "\n",
    "$f'(x) = 18x + 6 $"
   ]
  },
  {
   "cell_type": "markdown",
   "metadata": {},
   "source": [
    "When $x = 3$, the rate of change of our function with respect to $x$ is $f'(3) = 18x + 6  = 18*3 + 4 = 60$. "
   ]
  },
  {
   "cell_type": "markdown",
   "metadata": {},
   "source": [
    "And we can check this result with our code."
   ]
  },
  {
   "cell_type": "code",
   "execution_count": 8,
   "metadata": {},
   "outputs": [
    {
     "name": "stdout",
     "output_type": "stream",
     "text": [
      "h(3): 10\n",
      "g(10): 100\n"
     ]
    },
    {
     "data": {
      "text/plain": [
       "100"
      ]
     },
     "execution_count": 8,
     "metadata": {},
     "output_type": "execute_result"
    }
   ],
   "source": [
    "f(3)"
   ]
  },
  {
   "cell_type": "code",
   "execution_count": 9,
   "metadata": {},
   "outputs": [
    {
     "name": "stdout",
     "output_type": "stream",
     "text": [
      "h(3.1): 10.3\n",
      "g(10.3): 106.09000000000002\n"
     ]
    },
    {
     "data": {
      "text/plain": [
       "106.09000000000002"
      ]
     },
     "execution_count": 9,
     "metadata": {},
     "output_type": "execute_result"
    }
   ],
   "source": [
    "f(3.1)"
   ]
  },
  {
   "cell_type": "code",
   "execution_count": 10,
   "metadata": {},
   "outputs": [
    {
     "data": {
      "text/plain": [
       "60.900000000000034"
      ]
     },
     "execution_count": 10,
     "metadata": {},
     "output_type": "execute_result"
    }
   ],
   "source": [
    "#df/dx =  (f_2 - f_1)/(x2 - x1)\n",
    "(106.09 - 100)/.1"
   ]
  },
  {
   "cell_type": "markdown",
   "metadata": {},
   "source": [
    "<center>\n",
    "<a href=\"https://www.jigsawlabs.io/free\" style=\"position: center\"><img src=\"https://storage.cloud.google.com/curriculum-assets/curriculum-assets.nosync/mom-files/jigsaw-labs.png\" width=\"15%\" style=\"text-align: center\"></a>\n",
    "</center>"
   ]
  }
 ],
 "metadata": {
  "kernelspec": {
   "display_name": "Python 3",
   "language": "python",
   "name": "python3"
  },
  "language_info": {
   "codemirror_mode": {
    "name": "ipython",
    "version": 3
   },
   "file_extension": ".py",
   "mimetype": "text/x-python",
   "name": "python",
   "nbconvert_exporter": "python",
   "pygments_lexer": "ipython3",
   "version": "3.7.4"
  }
 },
 "nbformat": 4,
 "nbformat_minor": 4
}
