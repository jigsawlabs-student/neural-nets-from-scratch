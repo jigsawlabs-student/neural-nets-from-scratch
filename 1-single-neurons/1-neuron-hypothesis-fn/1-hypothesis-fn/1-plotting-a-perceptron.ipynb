{
 "cells": [
  {
   "cell_type": "markdown",
   "metadata": {},
   "source": [
    "# Plotting a Perceptron"
   ]
  },
  {
   "cell_type": "markdown",
   "metadata": {},
   "source": [
    "## Introduction"
   ]
  },
  {
   "cell_type": "markdown",
   "metadata": {},
   "source": [
    "In the last lesson we saw how we could represent a basic perceptron.  Our perceptron receives various inputs and then based on these inputs either fires or does not fire."
   ]
  },
  {
   "cell_type": "markdown",
   "metadata": {},
   "source": [
    "<img src=\"./neuron-general-2.png\" width=\"50%\">"
   ]
  },
  {
   "cell_type": "markdown",
   "metadata": {},
   "source": [
    "As we can see in the diagram above, the perceptron returns a 1 or 0 depending on whether the weighted the sum of these inputs plus the bias is greater than 0.  "
   ]
  },
  {
   "cell_type": "markdown",
   "metadata": {},
   "source": [
    "In this lesson, let's work on translating our perceptron into the context of plotting some data and then using the perceptron as our hypothesis function to make a prediction."
   ]
  },
  {
   "cell_type": "markdown",
   "metadata": {},
   "source": [
    "### Plotting the perceptron"
   ]
  },
  {
   "cell_type": "markdown",
   "metadata": {},
   "source": [
    "Below let's take a look at some data of different food that either have sugar or not, along with their scores for sweet taste and sweet smell.  \n",
    "\n",
    "> Press shift enter to assign data to the proper variables."
   ]
  },
  {
   "cell_type": "code",
   "execution_count": 68,
   "metadata": {},
   "outputs": [],
   "source": [
    "import numpy as np\n",
    "sugary_smell = [5.7, 2.1, 4.9, 2.7, 3.8, 5.8, 2.8, 1.8, 5.6, 8.3]\n",
    "sugary_taste = [9.5, 8.4, 5.8, 0.3, 8.2, 7.3, 9.4, 3.9, 4.2, 5.7]\n",
    "sugar_scores = [(2*taste + smell -18) for taste, smell in zip(sugary_taste, sugary_smell)]\n",
    "pos_scores = np.array(sugar_scores) > 0"
   ]
  },
  {
   "cell_type": "markdown",
   "metadata": {},
   "source": [
    "As we can see from the plot below, the more that the food tastes sweet and smells sweet, the more that there tends to be sugar."
   ]
  },
  {
   "cell_type": "markdown",
   "metadata": {},
   "source": [
    "> Press shift + return to plot the data below."
   ]
  },
  {
   "cell_type": "code",
   "execution_count": 72,
   "metadata": {},
   "outputs": [],
   "source": [
    "scatter_trace = go.Scatter(x=sugary_taste,  y=sugary_smell, mode = 'markers', marker=dict(color=1*pos_scores, colorscale='Viridis'), hovertext = 1*pos_scores)\n",
    "layout = go.Layout(yaxis = dict(scaleanchor = \"x\",scaleratio = 1, range = [0, 10], title = 'smell score'),  xaxis = dict(title = 'taste score'), title = 'Is there sugar?')\n",
    "sugar_data_fig = go.Figure(data = [scatter_trace], layout = layout)\n",
    "sugar_data_fig.write_json('./sugar_data_fig.json')"
   ]
  },
  {
   "cell_type": "markdown",
   "metadata": {},
   "source": [
    "Ok, now so far this is just a plot of our data.  Now let's plot the hypothesis function."
   ]
  },
  {
   "cell_type": "code",
   "execution_count": 78,
   "metadata": {},
   "outputs": [],
   "source": [
    "def decision_boundary_y(x, coefs, intercept): return (coefs[0]*x+intercept)/(-1*coefs[1])"
   ]
  },
  {
   "cell_type": "code",
   "execution_count": 80,
   "metadata": {},
   "outputs": [
    {
     "data": {
      "application/vnd.plotly.v1+json": {
       "config": {
        "plotlyServerURL": "https://plot.ly"
       },
       "data": [
        {
         "mode": "lines",
         "name": "decision boundary",
         "type": "scatter",
         "x": [
          0,
          1,
          2,
          3,
          4,
          5,
          6,
          7,
          8,
          9
         ],
         "y": [
          0,
          -2,
          -4,
          -6,
          -8,
          -10,
          -12,
          -14,
          -16,
          -18
         ]
        },
        {
         "hovertext": [
          1,
          1,
          0,
          0,
          1,
          1,
          1,
          0,
          0,
          1
         ],
         "marker": {
          "color": [
           1,
           1,
           0,
           0,
           1,
           1,
           1,
           0,
           0,
           1
          ],
          "colorscale": [
           [
            0,
            "#440154"
           ],
           [
            0.1111111111111111,
            "#482878"
           ],
           [
            0.2222222222222222,
            "#3e4989"
           ],
           [
            0.3333333333333333,
            "#31688e"
           ],
           [
            0.4444444444444444,
            "#26828e"
           ],
           [
            0.5555555555555556,
            "#1f9e89"
           ],
           [
            0.6666666666666666,
            "#35b779"
           ],
           [
            0.7777777777777778,
            "#6ece58"
           ],
           [
            0.8888888888888888,
            "#b5de2b"
           ],
           [
            1,
            "#fde725"
           ]
          ]
         },
         "mode": "markers",
         "type": "scatter",
         "x": [
          9.5,
          8.4,
          5.8,
          0.3,
          8.2,
          7.3,
          9.4,
          3.9,
          4.2,
          5.7
         ],
         "y": [
          5.7,
          2.1,
          4.9,
          2.7,
          3.8,
          5.8,
          2.8,
          1.8,
          5.6,
          8.3
         ]
        }
       ],
       "layout": {
        "autosize": true,
        "template": {
         "data": {
          "bar": [
           {
            "error_x": {
             "color": "#2a3f5f"
            },
            "error_y": {
             "color": "#2a3f5f"
            },
            "marker": {
             "line": {
              "color": "#E5ECF6",
              "width": 0.5
             }
            },
            "type": "bar"
           }
          ],
          "barpolar": [
           {
            "marker": {
             "line": {
              "color": "#E5ECF6",
              "width": 0.5
             }
            },
            "type": "barpolar"
           }
          ],
          "carpet": [
           {
            "aaxis": {
             "endlinecolor": "#2a3f5f",
             "gridcolor": "white",
             "linecolor": "white",
             "minorgridcolor": "white",
             "startlinecolor": "#2a3f5f"
            },
            "baxis": {
             "endlinecolor": "#2a3f5f",
             "gridcolor": "white",
             "linecolor": "white",
             "minorgridcolor": "white",
             "startlinecolor": "#2a3f5f"
            },
            "type": "carpet"
           }
          ],
          "choropleth": [
           {
            "colorbar": {
             "outlinewidth": 0,
             "ticks": ""
            },
            "type": "choropleth"
           }
          ],
          "contour": [
           {
            "colorbar": {
             "outlinewidth": 0,
             "ticks": ""
            },
            "colorscale": [
             [
              0,
              "#0d0887"
             ],
             [
              0.1111111111111111,
              "#46039f"
             ],
             [
              0.2222222222222222,
              "#7201a8"
             ],
             [
              0.3333333333333333,
              "#9c179e"
             ],
             [
              0.4444444444444444,
              "#bd3786"
             ],
             [
              0.5555555555555556,
              "#d8576b"
             ],
             [
              0.6666666666666666,
              "#ed7953"
             ],
             [
              0.7777777777777778,
              "#fb9f3a"
             ],
             [
              0.8888888888888888,
              "#fdca26"
             ],
             [
              1,
              "#f0f921"
             ]
            ],
            "type": "contour"
           }
          ],
          "contourcarpet": [
           {
            "colorbar": {
             "outlinewidth": 0,
             "ticks": ""
            },
            "type": "contourcarpet"
           }
          ],
          "heatmap": [
           {
            "colorbar": {
             "outlinewidth": 0,
             "ticks": ""
            },
            "colorscale": [
             [
              0,
              "#0d0887"
             ],
             [
              0.1111111111111111,
              "#46039f"
             ],
             [
              0.2222222222222222,
              "#7201a8"
             ],
             [
              0.3333333333333333,
              "#9c179e"
             ],
             [
              0.4444444444444444,
              "#bd3786"
             ],
             [
              0.5555555555555556,
              "#d8576b"
             ],
             [
              0.6666666666666666,
              "#ed7953"
             ],
             [
              0.7777777777777778,
              "#fb9f3a"
             ],
             [
              0.8888888888888888,
              "#fdca26"
             ],
             [
              1,
              "#f0f921"
             ]
            ],
            "type": "heatmap"
           }
          ],
          "heatmapgl": [
           {
            "colorbar": {
             "outlinewidth": 0,
             "ticks": ""
            },
            "colorscale": [
             [
              0,
              "#0d0887"
             ],
             [
              0.1111111111111111,
              "#46039f"
             ],
             [
              0.2222222222222222,
              "#7201a8"
             ],
             [
              0.3333333333333333,
              "#9c179e"
             ],
             [
              0.4444444444444444,
              "#bd3786"
             ],
             [
              0.5555555555555556,
              "#d8576b"
             ],
             [
              0.6666666666666666,
              "#ed7953"
             ],
             [
              0.7777777777777778,
              "#fb9f3a"
             ],
             [
              0.8888888888888888,
              "#fdca26"
             ],
             [
              1,
              "#f0f921"
             ]
            ],
            "type": "heatmapgl"
           }
          ],
          "histogram": [
           {
            "marker": {
             "colorbar": {
              "outlinewidth": 0,
              "ticks": ""
             }
            },
            "type": "histogram"
           }
          ],
          "histogram2d": [
           {
            "colorbar": {
             "outlinewidth": 0,
             "ticks": ""
            },
            "colorscale": [
             [
              0,
              "#0d0887"
             ],
             [
              0.1111111111111111,
              "#46039f"
             ],
             [
              0.2222222222222222,
              "#7201a8"
             ],
             [
              0.3333333333333333,
              "#9c179e"
             ],
             [
              0.4444444444444444,
              "#bd3786"
             ],
             [
              0.5555555555555556,
              "#d8576b"
             ],
             [
              0.6666666666666666,
              "#ed7953"
             ],
             [
              0.7777777777777778,
              "#fb9f3a"
             ],
             [
              0.8888888888888888,
              "#fdca26"
             ],
             [
              1,
              "#f0f921"
             ]
            ],
            "type": "histogram2d"
           }
          ],
          "histogram2dcontour": [
           {
            "colorbar": {
             "outlinewidth": 0,
             "ticks": ""
            },
            "colorscale": [
             [
              0,
              "#0d0887"
             ],
             [
              0.1111111111111111,
              "#46039f"
             ],
             [
              0.2222222222222222,
              "#7201a8"
             ],
             [
              0.3333333333333333,
              "#9c179e"
             ],
             [
              0.4444444444444444,
              "#bd3786"
             ],
             [
              0.5555555555555556,
              "#d8576b"
             ],
             [
              0.6666666666666666,
              "#ed7953"
             ],
             [
              0.7777777777777778,
              "#fb9f3a"
             ],
             [
              0.8888888888888888,
              "#fdca26"
             ],
             [
              1,
              "#f0f921"
             ]
            ],
            "type": "histogram2dcontour"
           }
          ],
          "mesh3d": [
           {
            "colorbar": {
             "outlinewidth": 0,
             "ticks": ""
            },
            "type": "mesh3d"
           }
          ],
          "parcoords": [
           {
            "line": {
             "colorbar": {
              "outlinewidth": 0,
              "ticks": ""
             }
            },
            "type": "parcoords"
           }
          ],
          "pie": [
           {
            "automargin": true,
            "type": "pie"
           }
          ],
          "scatter": [
           {
            "marker": {
             "colorbar": {
              "outlinewidth": 0,
              "ticks": ""
             }
            },
            "type": "scatter"
           }
          ],
          "scatter3d": [
           {
            "line": {
             "colorbar": {
              "outlinewidth": 0,
              "ticks": ""
             }
            },
            "marker": {
             "colorbar": {
              "outlinewidth": 0,
              "ticks": ""
             }
            },
            "type": "scatter3d"
           }
          ],
          "scattercarpet": [
           {
            "marker": {
             "colorbar": {
              "outlinewidth": 0,
              "ticks": ""
             }
            },
            "type": "scattercarpet"
           }
          ],
          "scattergeo": [
           {
            "marker": {
             "colorbar": {
              "outlinewidth": 0,
              "ticks": ""
             }
            },
            "type": "scattergeo"
           }
          ],
          "scattergl": [
           {
            "marker": {
             "colorbar": {
              "outlinewidth": 0,
              "ticks": ""
             }
            },
            "type": "scattergl"
           }
          ],
          "scattermapbox": [
           {
            "marker": {
             "colorbar": {
              "outlinewidth": 0,
              "ticks": ""
             }
            },
            "type": "scattermapbox"
           }
          ],
          "scatterpolar": [
           {
            "marker": {
             "colorbar": {
              "outlinewidth": 0,
              "ticks": ""
             }
            },
            "type": "scatterpolar"
           }
          ],
          "scatterpolargl": [
           {
            "marker": {
             "colorbar": {
              "outlinewidth": 0,
              "ticks": ""
             }
            },
            "type": "scatterpolargl"
           }
          ],
          "scatterternary": [
           {
            "marker": {
             "colorbar": {
              "outlinewidth": 0,
              "ticks": ""
             }
            },
            "type": "scatterternary"
           }
          ],
          "surface": [
           {
            "colorbar": {
             "outlinewidth": 0,
             "ticks": ""
            },
            "colorscale": [
             [
              0,
              "#0d0887"
             ],
             [
              0.1111111111111111,
              "#46039f"
             ],
             [
              0.2222222222222222,
              "#7201a8"
             ],
             [
              0.3333333333333333,
              "#9c179e"
             ],
             [
              0.4444444444444444,
              "#bd3786"
             ],
             [
              0.5555555555555556,
              "#d8576b"
             ],
             [
              0.6666666666666666,
              "#ed7953"
             ],
             [
              0.7777777777777778,
              "#fb9f3a"
             ],
             [
              0.8888888888888888,
              "#fdca26"
             ],
             [
              1,
              "#f0f921"
             ]
            ],
            "type": "surface"
           }
          ],
          "table": [
           {
            "cells": {
             "fill": {
              "color": "#EBF0F8"
             },
             "line": {
              "color": "white"
             }
            },
            "header": {
             "fill": {
              "color": "#C8D4E3"
             },
             "line": {
              "color": "white"
             }
            },
            "type": "table"
           }
          ]
         },
         "layout": {
          "annotationdefaults": {
           "arrowcolor": "#2a3f5f",
           "arrowhead": 0,
           "arrowwidth": 1
          },
          "coloraxis": {
           "colorbar": {
            "outlinewidth": 0,
            "ticks": ""
           }
          },
          "colorscale": {
           "diverging": [
            [
             0,
             "#8e0152"
            ],
            [
             0.1,
             "#c51b7d"
            ],
            [
             0.2,
             "#de77ae"
            ],
            [
             0.3,
             "#f1b6da"
            ],
            [
             0.4,
             "#fde0ef"
            ],
            [
             0.5,
             "#f7f7f7"
            ],
            [
             0.6,
             "#e6f5d0"
            ],
            [
             0.7,
             "#b8e186"
            ],
            [
             0.8,
             "#7fbc41"
            ],
            [
             0.9,
             "#4d9221"
            ],
            [
             1,
             "#276419"
            ]
           ],
           "sequential": [
            [
             0,
             "#0d0887"
            ],
            [
             0.1111111111111111,
             "#46039f"
            ],
            [
             0.2222222222222222,
             "#7201a8"
            ],
            [
             0.3333333333333333,
             "#9c179e"
            ],
            [
             0.4444444444444444,
             "#bd3786"
            ],
            [
             0.5555555555555556,
             "#d8576b"
            ],
            [
             0.6666666666666666,
             "#ed7953"
            ],
            [
             0.7777777777777778,
             "#fb9f3a"
            ],
            [
             0.8888888888888888,
             "#fdca26"
            ],
            [
             1,
             "#f0f921"
            ]
           ],
           "sequentialminus": [
            [
             0,
             "#0d0887"
            ],
            [
             0.1111111111111111,
             "#46039f"
            ],
            [
             0.2222222222222222,
             "#7201a8"
            ],
            [
             0.3333333333333333,
             "#9c179e"
            ],
            [
             0.4444444444444444,
             "#bd3786"
            ],
            [
             0.5555555555555556,
             "#d8576b"
            ],
            [
             0.6666666666666666,
             "#ed7953"
            ],
            [
             0.7777777777777778,
             "#fb9f3a"
            ],
            [
             0.8888888888888888,
             "#fdca26"
            ],
            [
             1,
             "#f0f921"
            ]
           ]
          },
          "colorway": [
           "#636efa",
           "#EF553B",
           "#00cc96",
           "#ab63fa",
           "#FFA15A",
           "#19d3f3",
           "#FF6692",
           "#B6E880",
           "#FF97FF",
           "#FECB52"
          ],
          "font": {
           "color": "#2a3f5f"
          },
          "geo": {
           "bgcolor": "white",
           "lakecolor": "white",
           "landcolor": "#E5ECF6",
           "showlakes": true,
           "showland": true,
           "subunitcolor": "white"
          },
          "hoverlabel": {
           "align": "left"
          },
          "hovermode": "closest",
          "mapbox": {
           "style": "light"
          },
          "paper_bgcolor": "white",
          "plot_bgcolor": "#E5ECF6",
          "polar": {
           "angularaxis": {
            "gridcolor": "white",
            "linecolor": "white",
            "ticks": ""
           },
           "bgcolor": "#E5ECF6",
           "radialaxis": {
            "gridcolor": "white",
            "linecolor": "white",
            "ticks": ""
           }
          },
          "scene": {
           "xaxis": {
            "backgroundcolor": "#E5ECF6",
            "gridcolor": "white",
            "gridwidth": 2,
            "linecolor": "white",
            "showbackground": true,
            "ticks": "",
            "zerolinecolor": "white"
           },
           "yaxis": {
            "backgroundcolor": "#E5ECF6",
            "gridcolor": "white",
            "gridwidth": 2,
            "linecolor": "white",
            "showbackground": true,
            "ticks": "",
            "zerolinecolor": "white"
           },
           "zaxis": {
            "backgroundcolor": "#E5ECF6",
            "gridcolor": "white",
            "gridwidth": 2,
            "linecolor": "white",
            "showbackground": true,
            "ticks": "",
            "zerolinecolor": "white"
           }
          },
          "shapedefaults": {
           "line": {
            "color": "#2a3f5f"
           }
          },
          "ternary": {
           "aaxis": {
            "gridcolor": "white",
            "linecolor": "white",
            "ticks": ""
           },
           "baxis": {
            "gridcolor": "white",
            "linecolor": "white",
            "ticks": ""
           },
           "bgcolor": "#E5ECF6",
           "caxis": {
            "gridcolor": "white",
            "linecolor": "white",
            "ticks": ""
           }
          },
          "title": {
           "x": 0.05
          },
          "xaxis": {
           "automargin": true,
           "gridcolor": "white",
           "linecolor": "white",
           "ticks": "",
           "title": {
            "standoff": 15
           },
           "zerolinecolor": "white",
           "zerolinewidth": 2
          },
          "yaxis": {
           "automargin": true,
           "gridcolor": "white",
           "linecolor": "white",
           "ticks": "",
           "title": {
            "standoff": 15
           },
           "zerolinecolor": "white",
           "zerolinewidth": 2
          }
         }
        },
        "title": {
         "text": "Is there sugar?"
        },
        "xaxis": {
         "autorange": true,
         "domain": [
          0,
          1
         ],
         "range": [
          -1.2851851851851857,
          11.085185185185185
         ],
         "title": {
          "text": "taste score"
         },
         "type": "linear"
        },
        "yaxis": {
         "domain": [
          0,
          1
         ],
         "range": [
          0,
          10
         ],
         "scaleanchor": "x",
         "scaleratio": 1,
         "title": {
          "text": "smell score"
         },
         "type": "linear"
        }
       }
      },
      "image/png": "[encoded data removed]",
      "text/html": [
       "<div>\n",
       "        \n",
       "        \n",
       "            <div id=\"0ea0850b-d303-46d8-8643-0f0af0583028\" class=\"plotly-graph-div\" style=\"height:525px; width:100%;\"></div>\n",
       "            <script type=\"text/javascript\">\n",
       "                require([\"plotly\"], function(Plotly) {\n",
       "                    window.PLOTLYENV=window.PLOTLYENV || {};\n",
       "                    \n",
       "                if (document.getElementById(\"0ea0850b-d303-46d8-8643-0f0af0583028\")) {\n",
       "                    Plotly.newPlot(\n",
       "                        '0ea0850b-d303-46d8-8643-0f0af0583028',\n",
       "                        [{\"mode\": \"lines\", \"name\": \"decision boundary\", \"type\": \"scatter\", \"x\": [0, 1, 2, 3, 4, 5, 6, 7, 8, 9], \"y\": [-0.0, -2.0, -4.0, -6.0, -8.0, -10.0, -12.0, -14.0, -16.0, -18.0]}, {\"hovertext\": [1.0, 1.0, 0.0, 0.0, 1.0, 1.0, 1.0, 0.0, 0.0, 1.0], \"marker\": {\"color\": [1, 1, 0, 0, 1, 1, 1, 0, 0, 1], \"colorscale\": [[0.0, \"#440154\"], [0.1111111111111111, \"#482878\"], [0.2222222222222222, \"#3e4989\"], [0.3333333333333333, \"#31688e\"], [0.4444444444444444, \"#26828e\"], [0.5555555555555556, \"#1f9e89\"], [0.6666666666666666, \"#35b779\"], [0.7777777777777778, \"#6ece58\"], [0.8888888888888888, \"#b5de2b\"], [1.0, \"#fde725\"]]}, \"mode\": \"markers\", \"type\": \"scatter\", \"x\": [9.5, 8.4, 5.8, 0.3, 8.2, 7.3, 9.4, 3.9, 4.2, 5.7], \"y\": [5.7, 2.1, 4.9, 2.7, 3.8, 5.8, 2.8, 1.8, 5.6, 8.3]}],\n",
       "                        {\"template\": {\"data\": {\"bar\": [{\"error_x\": {\"color\": \"#2a3f5f\"}, \"error_y\": {\"color\": \"#2a3f5f\"}, \"marker\": {\"line\": {\"color\": \"#E5ECF6\", \"width\": 0.5}}, \"type\": \"bar\"}], \"barpolar\": [{\"marker\": {\"line\": {\"color\": \"#E5ECF6\", \"width\": 0.5}}, \"type\": \"barpolar\"}], \"carpet\": [{\"aaxis\": {\"endlinecolor\": \"#2a3f5f\", \"gridcolor\": \"white\", \"linecolor\": \"white\", \"minorgridcolor\": \"white\", \"startlinecolor\": \"#2a3f5f\"}, \"baxis\": {\"endlinecolor\": \"#2a3f5f\", \"gridcolor\": \"white\", \"linecolor\": \"white\", \"minorgridcolor\": \"white\", \"startlinecolor\": \"#2a3f5f\"}, \"type\": \"carpet\"}], \"choropleth\": [{\"colorbar\": {\"outlinewidth\": 0, \"ticks\": \"\"}, \"type\": \"choropleth\"}], \"contour\": [{\"colorbar\": {\"outlinewidth\": 0, \"ticks\": \"\"}, \"colorscale\": [[0.0, \"#0d0887\"], [0.1111111111111111, \"#46039f\"], [0.2222222222222222, \"#7201a8\"], [0.3333333333333333, \"#9c179e\"], [0.4444444444444444, \"#bd3786\"], [0.5555555555555556, \"#d8576b\"], [0.6666666666666666, \"#ed7953\"], [0.7777777777777778, \"#fb9f3a\"], [0.8888888888888888, \"#fdca26\"], [1.0, \"#f0f921\"]], \"type\": \"contour\"}], \"contourcarpet\": [{\"colorbar\": {\"outlinewidth\": 0, \"ticks\": \"\"}, \"type\": \"contourcarpet\"}], \"heatmap\": [{\"colorbar\": {\"outlinewidth\": 0, \"ticks\": \"\"}, \"colorscale\": [[0.0, \"#0d0887\"], [0.1111111111111111, \"#46039f\"], [0.2222222222222222, \"#7201a8\"], [0.3333333333333333, \"#9c179e\"], [0.4444444444444444, \"#bd3786\"], [0.5555555555555556, \"#d8576b\"], [0.6666666666666666, \"#ed7953\"], [0.7777777777777778, \"#fb9f3a\"], [0.8888888888888888, \"#fdca26\"], [1.0, \"#f0f921\"]], \"type\": \"heatmap\"}], \"heatmapgl\": [{\"colorbar\": {\"outlinewidth\": 0, \"ticks\": \"\"}, \"colorscale\": [[0.0, \"#0d0887\"], [0.1111111111111111, \"#46039f\"], [0.2222222222222222, \"#7201a8\"], [0.3333333333333333, \"#9c179e\"], [0.4444444444444444, \"#bd3786\"], [0.5555555555555556, \"#d8576b\"], [0.6666666666666666, \"#ed7953\"], [0.7777777777777778, \"#fb9f3a\"], [0.8888888888888888, \"#fdca26\"], [1.0, \"#f0f921\"]], \"type\": \"heatmapgl\"}], \"histogram\": [{\"marker\": {\"colorbar\": {\"outlinewidth\": 0, \"ticks\": \"\"}}, \"type\": \"histogram\"}], \"histogram2d\": [{\"colorbar\": {\"outlinewidth\": 0, \"ticks\": \"\"}, \"colorscale\": [[0.0, \"#0d0887\"], [0.1111111111111111, \"#46039f\"], [0.2222222222222222, \"#7201a8\"], [0.3333333333333333, \"#9c179e\"], [0.4444444444444444, \"#bd3786\"], [0.5555555555555556, \"#d8576b\"], [0.6666666666666666, \"#ed7953\"], [0.7777777777777778, \"#fb9f3a\"], [0.8888888888888888, \"#fdca26\"], [1.0, \"#f0f921\"]], \"type\": \"histogram2d\"}], \"histogram2dcontour\": [{\"colorbar\": {\"outlinewidth\": 0, \"ticks\": \"\"}, \"colorscale\": [[0.0, \"#0d0887\"], [0.1111111111111111, \"#46039f\"], [0.2222222222222222, \"#7201a8\"], [0.3333333333333333, \"#9c179e\"], [0.4444444444444444, \"#bd3786\"], [0.5555555555555556, \"#d8576b\"], [0.6666666666666666, \"#ed7953\"], [0.7777777777777778, \"#fb9f3a\"], [0.8888888888888888, \"#fdca26\"], [1.0, \"#f0f921\"]], \"type\": \"histogram2dcontour\"}], \"mesh3d\": [{\"colorbar\": {\"outlinewidth\": 0, \"ticks\": \"\"}, \"type\": \"mesh3d\"}], \"parcoords\": [{\"line\": {\"colorbar\": {\"outlinewidth\": 0, \"ticks\": \"\"}}, \"type\": \"parcoords\"}], \"pie\": [{\"automargin\": true, \"type\": \"pie\"}], \"scatter\": [{\"marker\": {\"colorbar\": {\"outlinewidth\": 0, \"ticks\": \"\"}}, \"type\": \"scatter\"}], \"scatter3d\": [{\"line\": {\"colorbar\": {\"outlinewidth\": 0, \"ticks\": \"\"}}, \"marker\": {\"colorbar\": {\"outlinewidth\": 0, \"ticks\": \"\"}}, \"type\": \"scatter3d\"}], \"scattercarpet\": [{\"marker\": {\"colorbar\": {\"outlinewidth\": 0, \"ticks\": \"\"}}, \"type\": \"scattercarpet\"}], \"scattergeo\": [{\"marker\": {\"colorbar\": {\"outlinewidth\": 0, \"ticks\": \"\"}}, \"type\": \"scattergeo\"}], \"scattergl\": [{\"marker\": {\"colorbar\": {\"outlinewidth\": 0, \"ticks\": \"\"}}, \"type\": \"scattergl\"}], \"scattermapbox\": [{\"marker\": {\"colorbar\": {\"outlinewidth\": 0, \"ticks\": \"\"}}, \"type\": \"scattermapbox\"}], \"scatterpolar\": [{\"marker\": {\"colorbar\": {\"outlinewidth\": 0, \"ticks\": \"\"}}, \"type\": \"scatterpolar\"}], \"scatterpolargl\": [{\"marker\": {\"colorbar\": {\"outlinewidth\": 0, \"ticks\": \"\"}}, \"type\": \"scatterpolargl\"}], \"scatterternary\": [{\"marker\": {\"colorbar\": {\"outlinewidth\": 0, \"ticks\": \"\"}}, \"type\": \"scatterternary\"}], \"surface\": [{\"colorbar\": {\"outlinewidth\": 0, \"ticks\": \"\"}, \"colorscale\": [[0.0, \"#0d0887\"], [0.1111111111111111, \"#46039f\"], [0.2222222222222222, \"#7201a8\"], [0.3333333333333333, \"#9c179e\"], [0.4444444444444444, \"#bd3786\"], [0.5555555555555556, \"#d8576b\"], [0.6666666666666666, \"#ed7953\"], [0.7777777777777778, \"#fb9f3a\"], [0.8888888888888888, \"#fdca26\"], [1.0, \"#f0f921\"]], \"type\": \"surface\"}], \"table\": [{\"cells\": {\"fill\": {\"color\": \"#EBF0F8\"}, \"line\": {\"color\": \"white\"}}, \"header\": {\"fill\": {\"color\": \"#C8D4E3\"}, \"line\": {\"color\": \"white\"}}, \"type\": \"table\"}]}, \"layout\": {\"annotationdefaults\": {\"arrowcolor\": \"#2a3f5f\", \"arrowhead\": 0, \"arrowwidth\": 1}, \"coloraxis\": {\"colorbar\": {\"outlinewidth\": 0, \"ticks\": \"\"}}, \"colorscale\": {\"diverging\": [[0, \"#8e0152\"], [0.1, \"#c51b7d\"], [0.2, \"#de77ae\"], [0.3, \"#f1b6da\"], [0.4, \"#fde0ef\"], [0.5, \"#f7f7f7\"], [0.6, \"#e6f5d0\"], [0.7, \"#b8e186\"], [0.8, \"#7fbc41\"], [0.9, \"#4d9221\"], [1, \"#276419\"]], \"sequential\": [[0.0, \"#0d0887\"], [0.1111111111111111, \"#46039f\"], [0.2222222222222222, \"#7201a8\"], [0.3333333333333333, \"#9c179e\"], [0.4444444444444444, \"#bd3786\"], [0.5555555555555556, \"#d8576b\"], [0.6666666666666666, \"#ed7953\"], [0.7777777777777778, \"#fb9f3a\"], [0.8888888888888888, \"#fdca26\"], [1.0, \"#f0f921\"]], \"sequentialminus\": [[0.0, \"#0d0887\"], [0.1111111111111111, \"#46039f\"], [0.2222222222222222, \"#7201a8\"], [0.3333333333333333, \"#9c179e\"], [0.4444444444444444, \"#bd3786\"], [0.5555555555555556, \"#d8576b\"], [0.6666666666666666, \"#ed7953\"], [0.7777777777777778, \"#fb9f3a\"], [0.8888888888888888, \"#fdca26\"], [1.0, \"#f0f921\"]]}, \"colorway\": [\"#636efa\", \"#EF553B\", \"#00cc96\", \"#ab63fa\", \"#FFA15A\", \"#19d3f3\", \"#FF6692\", \"#B6E880\", \"#FF97FF\", \"#FECB52\"], \"font\": {\"color\": \"#2a3f5f\"}, \"geo\": {\"bgcolor\": \"white\", \"lakecolor\": \"white\", \"landcolor\": \"#E5ECF6\", \"showlakes\": true, \"showland\": true, \"subunitcolor\": \"white\"}, \"hoverlabel\": {\"align\": \"left\"}, \"hovermode\": \"closest\", \"mapbox\": {\"style\": \"light\"}, \"paper_bgcolor\": \"white\", \"plot_bgcolor\": \"#E5ECF6\", \"polar\": {\"angularaxis\": {\"gridcolor\": \"white\", \"linecolor\": \"white\", \"ticks\": \"\"}, \"bgcolor\": \"#E5ECF6\", \"radialaxis\": {\"gridcolor\": \"white\", \"linecolor\": \"white\", \"ticks\": \"\"}}, \"scene\": {\"xaxis\": {\"backgroundcolor\": \"#E5ECF6\", \"gridcolor\": \"white\", \"gridwidth\": 2, \"linecolor\": \"white\", \"showbackground\": true, \"ticks\": \"\", \"zerolinecolor\": \"white\"}, \"yaxis\": {\"backgroundcolor\": \"#E5ECF6\", \"gridcolor\": \"white\", \"gridwidth\": 2, \"linecolor\": \"white\", \"showbackground\": true, \"ticks\": \"\", \"zerolinecolor\": \"white\"}, \"zaxis\": {\"backgroundcolor\": \"#E5ECF6\", \"gridcolor\": \"white\", \"gridwidth\": 2, \"linecolor\": \"white\", \"showbackground\": true, \"ticks\": \"\", \"zerolinecolor\": \"white\"}}, \"shapedefaults\": {\"line\": {\"color\": \"#2a3f5f\"}}, \"ternary\": {\"aaxis\": {\"gridcolor\": \"white\", \"linecolor\": \"white\", \"ticks\": \"\"}, \"baxis\": {\"gridcolor\": \"white\", \"linecolor\": \"white\", \"ticks\": \"\"}, \"bgcolor\": \"#E5ECF6\", \"caxis\": {\"gridcolor\": \"white\", \"linecolor\": \"white\", \"ticks\": \"\"}}, \"title\": {\"x\": 0.05}, \"xaxis\": {\"automargin\": true, \"gridcolor\": \"white\", \"linecolor\": \"white\", \"ticks\": \"\", \"title\": {\"standoff\": 15}, \"zerolinecolor\": \"white\", \"zerolinewidth\": 2}, \"yaxis\": {\"automargin\": true, \"gridcolor\": \"white\", \"linecolor\": \"white\", \"ticks\": \"\", \"title\": {\"standoff\": 15}, \"zerolinecolor\": \"white\", \"zerolinewidth\": 2}}}, \"title\": {\"text\": \"Is there sugar?\"}, \"xaxis\": {\"title\": {\"text\": \"taste score\"}}, \"yaxis\": {\"range\": [0, 10], \"scaleanchor\": \"x\", \"scaleratio\": 1, \"title\": {\"text\": \"smell score\"}}},\n",
       "                        {\"responsive\": true}\n",
       "                    ).then(function(){\n",
       "                            \n",
       "var gd = document.getElementById('0ea0850b-d303-46d8-8643-0f0af0583028');\n",
       "var x = new MutationObserver(function (mutations, observer) {{\n",
       "        var display = window.getComputedStyle(gd).display;\n",
       "        if (!display || display === 'none') {{\n",
       "            console.log([gd, 'removed!']);\n",
       "            Plotly.purge(gd);\n",
       "            observer.disconnect();\n",
       "        }}\n",
       "}});\n",
       "\n",
       "// Listen for the removal of the full notebook cells\n",
       "var notebookContainer = gd.closest('#notebook-container');\n",
       "if (notebookContainer) {{\n",
       "    x.observe(notebookContainer, {childList: true});\n",
       "}}\n",
       "\n",
       "// Listen for the clearing of the current output cell\n",
       "var outputEl = gd.closest('.output');\n",
       "if (outputEl) {{\n",
       "    x.observe(outputEl, {childList: true});\n",
       "}}\n",
       "\n",
       "                        })\n",
       "                };\n",
       "                });\n",
       "            </script>\n",
       "        </div>"
      ]
     },
     "metadata": {},
     "output_type": "display_data"
    }
   ],
   "source": [
    "boundaries = [decision_boundary_y(val, [2, 1], 0) for val in range(0, 10, 1)]\n",
    "decision_trace = go.Scatter(x=list(range(0, 10, 1)), y=boundaries, mode = 'lines', name='decision boundary')\n",
    "sugar_fig = go.Figure(data = [decision_trace, scatter_trace], layout = layout)\n",
    "sugar_fig"
   ]
  },
  {
   "cell_type": "markdown",
   "metadata": {},
   "source": [
    "This straight line is the graphed version of our hypothesis function.  If the data is to the right of the line, the perceptron predicts it has sugar, and on the other side of the line the perceptron predicts not."
   ]
  },
  {
   "cell_type": "markdown",
   "metadata": {},
   "source": [
    "Take another look at the formula."
   ]
  },
  {
   "cell_type": "markdown",
   "metadata": {},
   "source": [
    "\\begin{equation}\n",
    "  f(x)=\\left\\{\n",
    "  \\begin{array}{@{}ll@{}}\n",
    "    1, & \\text{if}\\ 2x_1 + 1x_2 - 18> 0 \\\\\n",
    "    0, & \\text{otherwise}\n",
    "  \\end{array}\\right.\n",
    "\\end{equation} "
   ]
  },
  {
   "cell_type": "markdown",
   "metadata": {},
   "source": [
    "Now if you follow the blue line from the bottom of the plot to the top, you can see that the line contains the points `(9, 0)`, `(8, 2)`, `(7, 4)`.  These are all points where $2*x_1 + x_2 - 18 = 0$.  For example, for the first point:\n",
    "* $2*9 + 1*0 - 18 = 0$"
   ]
  },
  {
   "cell_type": "markdown",
   "metadata": {},
   "source": [
    "### Practice with Perceptrons"
   ]
  },
  {
   "cell_type": "markdown",
   "metadata": {},
   "source": [
    "Now let's use a perceptron to make predictions with our breast cancer cell dataset."
   ]
  },
  {
   "cell_type": "code",
   "execution_count": 13,
   "metadata": {},
   "outputs": [],
   "source": [
    "import pandas as pd\n",
    "df = pd.read_csv('./cell_data.csv')"
   ]
  },
  {
   "cell_type": "code",
   "execution_count": 27,
   "metadata": {},
   "outputs": [
    {
     "data": {
      "application/vnd.plotly.v1+json": {
       "config": {
        "plotlyServerURL": "https://plot.ly"
       },
       "data": [
        {
         "hovertext": [
          0,
          0,
          0,
          0,
          0,
          0,
          0,
          0,
          0,
          0,
          0,
          0,
          0,
          0,
          0,
          0,
          0,
          0,
          0,
          1,
          1,
          1,
          0,
          0,
          0,
          0,
          0,
          0,
          0,
          0,
          0,
          0,
          0,
          0,
          0,
          0,
          0,
          1,
          0,
          0,
          0,
          0,
          0,
          0,
          0,
          0,
          1,
          0,
          1,
          1,
          1,
          1,
          1,
          0,
          0,
          1,
          0,
          0,
          1,
          1,
          1,
          1,
          0,
          1,
          0,
          0,
          1,
          1,
          1,
          1,
          0,
          1,
          0,
          0,
          1,
          0,
          1,
          0,
          0,
          1,
          1,
          1,
          0,
          0,
          1,
          0,
          0,
          0,
          1,
          1,
          1,
          0,
          1,
          1,
          0,
          0,
          1,
          1,
          1,
          0,
          0,
          1,
          1,
          1,
          1,
          0,
          1,
          1,
          0,
          1,
          1,
          1,
          1,
          1,
          1,
          1,
          1,
          0,
          0,
          0,
          1,
          0,
          0,
          1,
          1,
          1,
          0,
          0,
          1,
          0,
          1,
          0,
          0,
          1,
          0,
          0,
          1,
          1,
          0,
          1,
          1,
          0,
          1,
          1,
          1,
          1,
          0,
          1,
          1,
          1,
          1,
          1,
          1,
          1,
          1,
          1,
          0,
          1,
          1,
          1,
          1,
          0,
          0,
          1,
          0,
          1,
          1,
          0,
          0,
          1,
          1,
          0,
          0,
          1,
          1,
          1,
          1,
          0,
          1,
          1,
          0,
          0,
          0,
          1,
          0,
          1,
          0,
          1,
          1,
          1,
          0,
          1,
          1,
          0,
          0,
          1,
          0,
          0,
          0,
          0,
          1,
          0,
          0,
          0,
          1,
          0,
          1,
          0,
          1,
          1,
          0,
          1,
          0,
          0,
          0,
          0,
          1,
          1,
          0,
          0,
          1,
          1,
          1,
          0,
          1,
          1,
          1,
          1,
          1,
          0,
          0,
          1,
          1,
          0,
          1,
          1,
          0,
          0,
          1,
          0,
          1,
          1,
          1,
          1,
          0,
          1,
          1,
          1,
          1,
          1,
          0,
          1,
          0,
          0,
          0,
          0,
          0,
          0,
          0,
          0,
          0,
          0,
          0,
          0,
          0,
          0,
          1,
          1,
          1,
          1,
          1,
          1,
          0,
          1,
          0,
          1,
          1,
          0,
          1,
          1,
          0,
          1,
          0,
          0,
          1,
          1,
          1,
          1,
          1,
          1,
          1,
          1,
          1,
          1,
          1,
          1,
          1,
          0,
          1,
          1,
          0,
          1,
          0,
          1,
          1,
          1,
          1,
          1,
          1,
          1,
          1,
          1,
          1,
          1,
          1,
          1,
          1,
          0,
          1,
          1,
          1,
          0,
          1,
          0,
          1,
          1,
          1,
          1,
          0,
          0,
          0,
          1,
          1,
          1,
          1,
          0,
          1,
          0,
          1,
          0,
          1,
          1,
          1,
          0,
          1,
          1,
          1,
          1,
          1,
          1,
          1,
          0,
          0,
          0,
          1,
          1,
          1,
          1,
          1,
          1,
          1,
          1,
          1,
          1,
          1,
          0,
          0,
          1,
          0,
          0,
          0,
          1,
          0,
          0,
          1,
          1,
          1,
          1,
          1,
          0,
          1,
          1,
          1,
          1,
          1,
          0,
          1,
          1,
          1,
          0,
          1,
          1,
          0,
          0,
          1,
          1,
          1,
          1,
          1,
          1,
          0,
          1,
          1,
          1,
          1,
          1,
          1,
          1,
          0,
          1,
          1,
          1,
          1,
          1,
          0,
          1,
          1,
          0,
          1,
          1,
          1,
          1,
          1,
          1,
          1,
          1,
          1,
          1,
          1,
          1,
          0,
          1,
          0,
          0,
          1,
          0,
          1,
          1,
          1,
          1,
          1,
          0,
          1,
          1,
          0,
          1,
          0,
          1,
          1,
          0,
          1,
          0,
          1,
          1,
          1,
          1,
          1,
          1,
          1,
          1,
          0,
          0,
          1,
          1,
          1,
          1,
          1,
          1,
          0,
          1,
          1,
          1,
          1,
          1,
          1,
          1,
          1,
          1,
          1,
          0,
          1,
          1,
          1,
          1,
          1,
          1,
          1,
          0,
          1,
          0,
          1,
          1,
          0,
          1,
          1,
          1,
          1,
          1,
          0,
          0,
          1,
          0,
          1,
          0,
          1,
          1,
          1,
          1,
          1,
          0,
          1,
          1,
          0,
          1,
          0,
          1,
          0,
          0,
          1,
          1,
          1,
          0,
          1,
          1,
          1,
          1,
          1,
          1,
          1,
          1,
          1,
          1,
          1,
          0,
          1,
          0,
          0,
          1,
          1,
          1,
          1,
          1,
          1,
          1,
          1,
          1,
          1,
          1,
          1,
          1,
          1,
          1,
          1,
          1,
          1,
          1,
          1,
          1,
          1,
          1,
          1,
          1,
          0,
          0,
          0,
          0,
          0,
          0,
          1
         ],
         "marker": {
          "color": [
           0,
           0,
           0,
           0,
           0,
           0,
           0,
           0,
           0,
           0,
           0,
           0,
           0,
           0,
           0,
           0,
           0,
           0,
           0,
           1,
           1,
           1,
           0,
           0,
           0,
           0,
           0,
           0,
           0,
           0,
           0,
           0,
           0,
           0,
           0,
           0,
           0,
           1,
           0,
           0,
           0,
           0,
           0,
           0,
           0,
           0,
           1,
           0,
           1,
           1,
           1,
           1,
           1,
           0,
           0,
           1,
           0,
           0,
           1,
           1,
           1,
           1,
           0,
           1,
           0,
           0,
           1,
           1,
           1,
           1,
           0,
           1,
           0,
           0,
           1,
           0,
           1,
           0,
           0,
           1,
           1,
           1,
           0,
           0,
           1,
           0,
           0,
           0,
           1,
           1,
           1,
           0,
           1,
           1,
           0,
           0,
           1,
           1,
           1,
           0,
           0,
           1,
           1,
           1,
           1,
           0,
           1,
           1,
           0,
           1,
           1,
           1,
           1,
           1,
           1,
           1,
           1,
           0,
           0,
           0,
           1,
           0,
           0,
           1,
           1,
           1,
           0,
           0,
           1,
           0,
           1,
           0,
           0,
           1,
           0,
           0,
           1,
           1,
           0,
           1,
           1,
           0,
           1,
           1,
           1,
           1,
           0,
           1,
           1,
           1,
           1,
           1,
           1,
           1,
           1,
           1,
           0,
           1,
           1,
           1,
           1,
           0,
           0,
           1,
           0,
           1,
           1,
           0,
           0,
           1,
           1,
           0,
           0,
           1,
           1,
           1,
           1,
           0,
           1,
           1,
           0,
           0,
           0,
           1,
           0,
           1,
           0,
           1,
           1,
           1,
           0,
           1,
           1,
           0,
           0,
           1,
           0,
           0,
           0,
           0,
           1,
           0,
           0,
           0,
           1,
           0,
           1,
           0,
           1,
           1,
           0,
           1,
           0,
           0,
           0,
           0,
           1,
           1,
           0,
           0,
           1,
           1,
           1,
           0,
           1,
           1,
           1,
           1,
           1,
           0,
           0,
           1,
           1,
           0,
           1,
           1,
           0,
           0,
           1,
           0,
           1,
           1,
           1,
           1,
           0,
           1,
           1,
           1,
           1,
           1,
           0,
           1,
           0,
           0,
           0,
           0,
           0,
           0,
           0,
           0,
           0,
           0,
           0,
           0,
           0,
           0,
           1,
           1,
           1,
           1,
           1,
           1,
           0,
           1,
           0,
           1,
           1,
           0,
           1,
           1,
           0,
           1,
           0,
           0,
           1,
           1,
           1,
           1,
           1,
           1,
           1,
           1,
           1,
           1,
           1,
           1,
           1,
           0,
           1,
           1,
           0,
           1,
           0,
           1,
           1,
           1,
           1,
           1,
           1,
           1,
           1,
           1,
           1,
           1,
           1,
           1,
           1,
           0,
           1,
           1,
           1,
           0,
           1,
           0,
           1,
           1,
           1,
           1,
           0,
           0,
           0,
           1,
           1,
           1,
           1,
           0,
           1,
           0,
           1,
           0,
           1,
           1,
           1,
           0,
           1,
           1,
           1,
           1,
           1,
           1,
           1,
           0,
           0,
           0,
           1,
           1,
           1,
           1,
           1,
           1,
           1,
           1,
           1,
           1,
           1,
           0,
           0,
           1,
           0,
           0,
           0,
           1,
           0,
           0,
           1,
           1,
           1,
           1,
           1,
           0,
           1,
           1,
           1,
           1,
           1,
           0,
           1,
           1,
           1,
           0,
           1,
           1,
           0,
           0,
           1,
           1,
           1,
           1,
           1,
           1,
           0,
           1,
           1,
           1,
           1,
           1,
           1,
           1,
           0,
           1,
           1,
           1,
           1,
           1,
           0,
           1,
           1,
           0,
           1,
           1,
           1,
           1,
           1,
           1,
           1,
           1,
           1,
           1,
           1,
           1,
           0,
           1,
           0,
           0,
           1,
           0,
           1,
           1,
           1,
           1,
           1,
           0,
           1,
           1,
           0,
           1,
           0,
           1,
           1,
           0,
           1,
           0,
           1,
           1,
           1,
           1,
           1,
           1,
           1,
           1,
           0,
           0,
           1,
           1,
           1,
           1,
           1,
           1,
           0,
           1,
           1,
           1,
           1,
           1,
           1,
           1,
           1,
           1,
           1,
           0,
           1,
           1,
           1,
           1,
           1,
           1,
           1,
           0,
           1,
           0,
           1,
           1,
           0,
           1,
           1,
           1,
           1,
           1,
           0,
           0,
           1,
           0,
           1,
           0,
           1,
           1,
           1,
           1,
           1,
           0,
           1,
           1,
           0,
           1,
           0,
           1,
           0,
           0,
           1,
           1,
           1,
           0,
           1,
           1,
           1,
           1,
           1,
           1,
           1,
           1,
           1,
           1,
           1,
           0,
           1,
           0,
           0,
           1,
           1,
           1,
           1,
           1,
           1,
           1,
           1,
           1,
           1,
           1,
           1,
           1,
           1,
           1,
           1,
           1,
           1,
           1,
           1,
           1,
           1,
           1,
           1,
           1,
           0,
           0,
           0,
           0,
           0,
           0,
           1
          ],
          "colorscale": [
           [
            0,
            "#440154"
           ],
           [
            0.1111111111111111,
            "#482878"
           ],
           [
            0.2222222222222222,
            "#3e4989"
           ],
           [
            0.3333333333333333,
            "#31688e"
           ],
           [
            0.4444444444444444,
            "#26828e"
           ],
           [
            0.5555555555555556,
            "#1f9e89"
           ],
           [
            0.6666666666666666,
            "#35b779"
           ],
           [
            0.7777777777777778,
            "#6ece58"
           ],
           [
            0.8888888888888888,
            "#b5de2b"
           ],
           [
            1,
            "#fde725"
           ]
          ]
         },
         "mode": "markers",
         "type": "scatter",
         "x": [
          1001,
          1326,
          1203,
          386.1,
          1297,
          477.1,
          1040,
          577.9,
          519.8,
          475.9,
          797.8,
          781,
          1123,
          782.7,
          578.3,
          658.8,
          684.5,
          798.8,
          1260,
          566.3,
          520,
          273.9,
          704.4,
          1404,
          904.6,
          912.7,
          644.8,
          1094,
          732.4,
          955.1,
          1088,
          440.6,
          899.3,
          1162,
          807.2,
          869.5,
          633,
          523.8,
          698.8,
          559.2,
          563,
          371.1,
          1104,
          545.2,
          531.5,
          1076,
          201.9,
          534.6,
          449.3,
          561,
          427.9,
          571.8,
          437.6,
          1033,
          712.8,
          409,
          1152,
          656.9,
          527.2,
          224.5,
          311.9,
          221.8,
          645.7,
          260.9,
          499,
          668.3,
          269.4,
          394.1,
          250.5,
          502.5,
          1130,
          244,
          929.4,
          584.1,
          470.9,
          817.7,
          559.2,
          1006,
          1245,
          506.3,
          401.5,
          520,
          1878,
          1132,
          443.3,
          1075,
          648.2,
          1076,
          466.1,
          651.9,
          662.7,
          728.2,
          551.7,
          555.1,
          705.6,
          1264,
          451.1,
          294.5,
          412.6,
          642.5,
          582.7,
          143.5,
          458.7,
          298.3,
          336.1,
          530.2,
          412.5,
          466.7,
          1509,
          396.5,
          290.2,
          480.4,
          629.9,
          334.2,
          230.9,
          438.6,
          245.2,
          682.5,
          782.6,
          982,
          403.3,
          1077,
          1761,
          640.7,
          553.5,
          588.7,
          572.6,
          1138,
          674.5,
          1192,
          455.8,
          748.9,
          809.8,
          761.7,
          1075,
          506.3,
          423.6,
          399.8,
          678.1,
          384.8,
          288.5,
          813,
          398,
          512.2,
          355.3,
          432.8,
          432,
          689.5,
          640.1,
          585,
          519.4,
          203.9,
          300.2,
          381.9,
          538.9,
          460.3,
          963.7,
          880.2,
          448.6,
          366.8,
          419.8,
          1157,
          1214,
          464.5,
          1686,
          690.2,
          357.6,
          886.3,
          984.6,
          685.9,
          464.1,
          565.4,
          736.9,
          372.7,
          349.6,
          227.2,
          302.4,
          832.9,
          526.4,
          508.8,
          2250,
          1311,
          766.6,
          402,
          710.6,
          317.5,
          1041,
          420.3,
          428.9,
          463.7,
          609.9,
          507.4,
          288.1,
          477.4,
          671.4,
          516.4,
          588.9,
          1024,
          1148,
          642.7,
          461,
          951.6,
          1685,
          597.8,
          481.9,
          716.6,
          295.4,
          904.3,
          529.4,
          725.5,
          1290,
          428,
          2499,
          948,
          610.7,
          578.9,
          432.2,
          321.2,
          1230,
          1223,
          568.9,
          561.3,
          313.1,
          761.3,
          546.4,
          641.2,
          329.6,
          684.5,
          496.4,
          503.2,
          895,
          395.7,
          386.8,
          1319,
          279.6,
          603.4,
          1670,
          1306,
          623.9,
          920.6,
          575.3,
          476.5,
          389.4,
          590,
          1155,
          337.7,
          541.6,
          512.2,
          347,
          406.3,
          1364,
          407.4,
          1206,
          928.2,
          1169,
          602.4,
          1207,
          713.3,
          773.5,
          744.9,
          1288,
          933.1,
          947.8,
          758.6,
          928.3,
          1419,
          346.4,
          561,
          512.2,
          344.9,
          632.6,
          388,
          1491,
          289.9,
          998.9,
          435.6,
          396.6,
          1102,
          572.3,
          587.4,
          1138,
          427.3,
          1145,
          805.1,
          516.6,
          489,
          441,
          515.9,
          394.1,
          396,
          651,
          687.3,
          513.7,
          432.7,
          492.1,
          582.7,
          363.7,
          431.1,
          633.1,
          334.2,
          1217,
          471.3,
          1247,
          334.3,
          403.1,
          417.2,
          537.3,
          246.3,
          566.2,
          530.6,
          418.7,
          664.9,
          504.1,
          409.1,
          221.2,
          481.6,
          461.4,
          1027,
          244.5,
          477.3,
          324.2,
          1274,
          504.8,
          1264,
          457.9,
          489.9,
          616.5,
          446,
          813.7,
          826.8,
          793.2,
          514,
          387.3,
          390,
          464.4,
          918.6,
          514.3,
          1092,
          310.8,
          1747,
          641.2,
          280.5,
          373.9,
          1194,
          420.3,
          321.6,
          445.3,
          668.7,
          402.7,
          426.7,
          421,
          758.6,
          2010,
          716.6,
          384.6,
          485.8,
          512,
          593.7,
          241,
          278.6,
          491.9,
          546.1,
          496.6,
          838.1,
          552.4,
          1293,
          1234,
          458.4,
          1546,
          1482,
          840.4,
          711.8,
          1386,
          1335,
          579.1,
          788.5,
          338.3,
          562.1,
          580.6,
          361.6,
          386.3,
          372.7,
          447.8,
          462.9,
          541.8,
          664.7,
          462,
          596.6,
          392,
          1174,
          321.6,
          234.3,
          744.7,
          1407,
          446.2,
          609.1,
          558.1,
          508.3,
          378.2,
          431.9,
          994,
          442.7,
          525.2,
          507.6,
          469.1,
          370,
          800,
          514.5,
          991.7,
          466.1,
          399.8,
          373.2,
          268.8,
          693.7,
          719.5,
          433.8,
          271.2,
          803.1,
          495,
          380.3,
          409.7,
          656.1,
          408.2,
          575.3,
          289.7,
          307.3,
          333.6,
          359.9,
          381.1,
          501.3,
          685,
          467.8,
          1250,
          1110,
          673.7,
          599.5,
          509.2,
          611.2,
          592.6,
          606.5,
          371.5,
          928.8,
          585.9,
          340.9,
          990,
          441.3,
          981.6,
          674.8,
          659.7,
          1384,
          432,
          1191,
          442.5,
          644.2,
          492.9,
          557.2,
          415.1,
          537.9,
          520.2,
          290.9,
          930.9,
          2501,
          646.1,
          412.7,
          537.3,
          542.9,
          536.9,
          286.3,
          980.5,
          408.8,
          289.1,
          449.9,
          686.9,
          465.4,
          358.9,
          506.9,
          618.4,
          599.4,
          404.9,
          815.8,
          455.3,
          602.9,
          546.3,
          571.1,
          747.2,
          476.7,
          666,
          1167,
          420.5,
          857.6,
          466.5,
          992.1,
          1007,
          477.3,
          538.7,
          680.9,
          485.6,
          480.1,
          1068,
          1320,
          689.4,
          595.9,
          476.3,
          1682,
          248.7,
          272.5,
          453.1,
          366.5,
          819.8,
          731.3,
          426,
          680.7,
          556.7,
          658.8,
          701.9,
          391.2,
          1052,
          1214,
          493.1,
          493.8,
          257.8,
          1841,
          388.1,
          571,
          293.2,
          221.3,
          551.1,
          468.5,
          594.2,
          445.2,
          422.9,
          416.2,
          575.5,
          1299,
          365.6,
          1308,
          629.8,
          406.4,
          178.8,
          170.4,
          402.9,
          656.4,
          668.6,
          538.4,
          584.8,
          573.2,
          324.9,
          320.8,
          285.7,
          361.6,
          360.5,
          378.4,
          507.9,
          264,
          514.3,
          321.4,
          311.7,
          271.3,
          657.1,
          403.5,
          600.4,
          386,
          716.9,
          1347,
          1479,
          1261,
          858.1,
          1265,
          181
         ],
         "y": [
          0.3001,
          0.0869,
          0.1974,
          0.2414,
          0.198,
          0.1578,
          0.1127,
          0.09366,
          0.1859,
          0.2273,
          0.03299,
          0.09954,
          0.2065,
          0.09938,
          0.2128,
          0.1639,
          0.07395,
          0.1722,
          0.1479,
          0.06663999999999999,
          0.04568,
          0.029560000000000006,
          0.2077,
          0.1097,
          0.1525,
          0.2229,
          0.1425,
          0.149,
          0.1683,
          0.09875,
          0.2319,
          0.1218,
          0.2417,
          0.1657,
          0.1354,
          0.1348,
          0.1319,
          0.02562,
          0.02398,
          0.1063,
          0.0311,
          0.1044,
          0.2107,
          0.09847,
          0.08259,
          0.1974,
          0.015880000000000002,
          0.1226,
          0.06592,
          0.04751,
          0.016569999999999998,
          0.01857,
          0.01972,
          0.1772,
          0.052529999999999986,
          0.03036,
          0.1323,
          0.1293,
          0.000692,
          0.02061,
          0.01084,
          0.03,
          0.2135,
          0.05988,
          0.1128,
          0.1267,
          0.02172,
          0.03709,
          0.313,
          0.03653,
          0.108,
          0.08606,
          0.1692,
          0.07789,
          0.03372,
          0.09769,
          0.06877,
          0.1684,
          0.3754,
          0.03889,
          0.04591,
          0.1169,
          0.3339,
          0.1937,
          0.041510000000000005,
          0.1335,
          0.1204,
          0.1468,
          0.06015,
          0.09966,
          0.03102,
          0.1122,
          0.03261,
          0.03974,
          0.17,
          0.1465,
          0.0249,
          0.006829000000000001,
          0.04196,
          0.09388,
          0.08625,
          0,
          0.02383,
          0.06154,
          0.02995,
          0.2071,
          0.0707,
          0.02643,
          0.4264,
          0.05133,
          0.04334,
          0.1065,
          0.3003,
          0.06476,
          0.04132,
          0.033280000000000004,
          0.09263,
          0.16899999999999998,
          0.2133,
          0.07293,
          0.03512,
          0.1457,
          0.4268,
          0.08842,
          0.08092,
          0.0142,
          0.05285,
          0.09271,
          0.1138,
          0.2545,
          0.02855,
          0.1466,
          0.1043,
          0.07135,
          0.1153,
          0.04711,
          0.03592,
          0.03503,
          0.1539,
          0.04635,
          0,
          0.09447,
          0.02031,
          0.04894,
          0.02251,
          0.0371,
          0.1659,
          0.0905,
          0.08487,
          0.02881,
          0.03136,
          0.1321,
          0.4108,
          0.01982,
          0.09293,
          0.03885,
          0.1855,
          0.0515,
          0.01972,
          0.00309,
          0.06842999999999999,
          0.1193,
          0.2508,
          0.0537,
          0.1324,
          0.01947,
          0.02531,
          0.08422,
          0.2159,
          0.02602,
          0.03987,
          0.058579999999999986,
          0.2032,
          0.02363,
          0,
          0,
          0.1307,
          0.1793,
          0.0015949999999999998,
          0.009193000000000002,
          0.2871,
          0.2487,
          0.06592999999999999,
          0.06181,
          0.05375,
          0.001597,
          0.08169,
          0.03809,
          0.02353,
          0.03844,
          0.1981,
          0.03112,
          0,
          0.1085,
          0.1697,
          0.03873,
          0.1385,
          0.1103,
          0.1114,
          0.118,
          0.04187,
          0.1036,
          0.3523,
          0.1558,
          0.08005,
          0.0755,
          0.01756,
          0.0695,
          0.08705,
          0.058920000000000014,
          0.16399999999999998,
          0.02669,
          0.3201,
          0.1682,
          0.1115,
          0.09901,
          0.06636,
          0.05774,
          0.1272,
          0.1145,
          0.03888,
          0.0786,
          0.01768,
          0.1147,
          0.035539999999999995,
          0.05724,
          0.0066430000000000005,
          0.06505,
          0.05438,
          0.1695,
          0.191,
          0.01633,
          0.004967,
          0.1554,
          0.01652,
          0.01462,
          0.195,
          0.09042,
          0.1103,
          0.1417,
          0.04705,
          0.01053,
          0.1548,
          0.04697,
          0.2049,
          0.048310000000000006,
          0.04336,
          0.1374,
          0.02379,
          0.04328,
          0.2712,
          0.02638,
          0.2417,
          0.1266,
          0.1379,
          0.09789,
          0.1784,
          0.2448,
          0.3176,
          0.1751,
          0.1519,
          0.02891,
          0.09697,
          0.04209,
          0.09061,
          0.1367,
          0.06387000000000001,
          0.04072,
          0.039,
          0.08448,
          0.00725,
          0.03265,
          0.2195,
          0.01103,
          0.05699,
          0.05929,
          0.0014869999999999998,
          0.0802,
          0.01997,
          0.04479,
          0.1921,
          0.02245,
          0.1626,
          0.1948,
          0.1115,
          0.00186,
          0.06573999999999999,
          0.0226,
          0.09274,
          0.02399,
          0.1362,
          0.0594,
          0.06155,
          0.02688,
          0.01288,
          0.01063,
          0.01236,
          0.02685,
          0.02475,
          0.02495,
          0.2197,
          0.0683,
          0.2283,
          0.02297,
          0.03344,
          0.01974,
          0.0014609999999999998,
          0.003681,
          0.002758,
          0.0045590000000000006,
          0.01583,
          0.014469999999999997,
          0.04052,
          0.013669999999999998,
          0,
          0.004473,
          0.01123,
          0.113,
          0.1975,
          0.01342,
          0.06726,
          0.1155,
          0.038,
          0.2565,
          0.01994,
          0.03193,
          0.01765,
          0.001546,
          0.1478,
          0.1799,
          0.1204,
          0.07107000000000001,
          0.005006,
          0.0009737,
          0.007756,
          0.1508,
          0.03738,
          0.106,
          0.02511,
          0.2308,
          0.08007,
          0.08422,
          0.05397,
          0.1863,
          0.040060000000000005,
          0.03581,
          0.0075099999999999984,
          0.04608,
          0.02587,
          0.01171,
          0.008306000000000001,
          0.2914,
          0.3368,
          0.1235,
          0.04505,
          0.103,
          0.09603,
          0.01502,
          0.04721,
          0.0271,
          0.001194,
          0.03344,
          0.02688,
          0.05862000000000001,
          0.02181,
          0.09799,
          0.1641,
          0.04392,
          0.1168,
          0.2448,
          0.1811,
          0.03393,
          0.1932,
          0.1527,
          0.02556,
          0.06651,
          0.228,
          0.01271,
          0.04249,
          0.1689,
          0.079,
          0.035460000000000005,
          0.07943,
          0.058920000000000014,
          0.05077,
          0.0839,
          0.06838999999999999,
          0.02045,
          0.1007,
          0.1856,
          0.01923,
          0,
          0.1891,
          0.281,
          0.04783,
          0.026810000000000004,
          0.0858,
          0.0739,
          0.02712,
          0.02853,
          0.3189,
          0.026060000000000003,
          0.04057,
          0.03296,
          0.02109,
          0.04944,
          0.055,
          0.06126,
          0.1201,
          0.03211,
          0.02783,
          0.03046,
          0.03735,
          0.06859,
          0.04686,
          0.02555,
          0.02047,
          0.1522,
          0.0236,
          0.008955,
          0.05485,
          0.145,
          0.07097,
          0.09657,
          0.008934000000000001,
          0.00247,
          0.06335,
          0.03614,
          0.01369,
          0.01402,
          0.2733,
          0.07741,
          0.2133,
          0.1594,
          0.033460000000000004,
          0.1126,
          0.01797,
          0.03534,
          0.01342,
          0.02087,
          0.09457,
          0.1204,
          0.01055,
          0.01993,
          0.109,
          0.05441,
          0.1698,
          0.04069,
          0.08817,
          0.1572,
          0.08777,
          0.1655,
          0.04055,
          0.06895,
          0.02966,
          0.02819,
          0.0716,
          0.02772,
          0.01206,
          0.01541,
          0.1007,
          0.3635,
          0.03476,
          0.03367,
          0.04859,
          0.101,
          0.1085,
          0.01479,
          0.2136,
          0.102,
          0.029480000000000006,
          0.02367,
          0.05539,
          0,
          0.05115,
          0.05835,
          0.05063,
          0.02224,
          0.05308,
          0.2236,
          0.02916,
          0.02995,
          0.05786,
          0.04548,
          0.1191,
          0.1544,
          0.051920000000000015,
          0.2256,
          0.04279,
          0.03649,
          0.01714,
          0.04445,
          0.117,
          0.007173000000000001,
          0.018000000000000002,
          0.06824,
          0.08017,
          0.03609,
          0.1491,
          0.2188,
          0.07721,
          0.1357,
          0.059279999999999985,
          0.1676,
          0.0973,
          0.1188,
          0.08175,
          0.04063,
          0.05526,
          0.203,
          0.06726,
          0.03416,
          0.1445,
          0.08222,
          0.07486,
          0.04302,
          0.1569,
          0.1411,
          0.04825,
          0.0388,
          0.033319999999999995,
          0.231,
          0.005067,
          0.05385,
          0.0233,
          0.02565,
          0.042010000000000006,
          0.02958,
          0.101,
          0.03781,
          0.052820000000000006,
          0.042,
          0.017519999999999997,
          0.1523,
          0.05263,
          0.2085,
          0.1463,
          0.04515,
          0,
          0.09252,
          0.06737,
          0.1009,
          0.04105,
          0.02987,
          0.03688,
          0.02974,
          0.01012,
          0.04358,
          0.02337,
          0.01548,
          0,
          0.04824,
          0.01997,
          0.03996,
          0.06195,
          0.05999,
          0.005025,
          0,
          0.1029,
          0.1112,
          0.04462,
          0,
          0.255,
          0.3174,
          0.2439,
          0.14400000000000002,
          0.09251,
          0.3514,
          0
         ]
        },
        {
         "mode": "lines",
         "name": "decision boundary",
         "type": "scatter",
         "x": [
          550,
          600,
          650,
          700,
          750
         ],
         "y": [
          0.41661,
          0.3011275,
          0.18563,
          0.0701,
          -0.045341
         ]
        }
       ],
       "layout": {
        "autosize": true,
        "template": {
         "data": {
          "bar": [
           {
            "error_x": {
             "color": "#2a3f5f"
            },
            "error_y": {
             "color": "#2a3f5f"
            },
            "marker": {
             "line": {
              "color": "#E5ECF6",
              "width": 0.5
             }
            },
            "type": "bar"
           }
          ],
          "barpolar": [
           {
            "marker": {
             "line": {
              "color": "#E5ECF6",
              "width": 0.5
             }
            },
            "type": "barpolar"
           }
          ],
          "carpet": [
           {
            "aaxis": {
             "endlinecolor": "#2a3f5f",
             "gridcolor": "white",
             "linecolor": "white",
             "minorgridcolor": "white",
             "startlinecolor": "#2a3f5f"
            },
            "baxis": {
             "endlinecolor": "#2a3f5f",
             "gridcolor": "white",
             "linecolor": "white",
             "minorgridcolor": "white",
             "startlinecolor": "#2a3f5f"
            },
            "type": "carpet"
           }
          ],
          "choropleth": [
           {
            "colorbar": {
             "outlinewidth": 0,
             "ticks": ""
            },
            "type": "choropleth"
           }
          ],
          "contour": [
           {
            "colorbar": {
             "outlinewidth": 0,
             "ticks": ""
            },
            "colorscale": [
             [
              0,
              "#0d0887"
             ],
             [
              0.1111111111111111,
              "#46039f"
             ],
             [
              0.2222222222222222,
              "#7201a8"
             ],
             [
              0.3333333333333333,
              "#9c179e"
             ],
             [
              0.4444444444444444,
              "#bd3786"
             ],
             [
              0.5555555555555556,
              "#d8576b"
             ],
             [
              0.6666666666666666,
              "#ed7953"
             ],
             [
              0.7777777777777778,
              "#fb9f3a"
             ],
             [
              0.8888888888888888,
              "#fdca26"
             ],
             [
              1,
              "#f0f921"
             ]
            ],
            "type": "contour"
           }
          ],
          "contourcarpet": [
           {
            "colorbar": {
             "outlinewidth": 0,
             "ticks": ""
            },
            "type": "contourcarpet"
           }
          ],
          "heatmap": [
           {
            "colorbar": {
             "outlinewidth": 0,
             "ticks": ""
            },
            "colorscale": [
             [
              0,
              "#0d0887"
             ],
             [
              0.1111111111111111,
              "#46039f"
             ],
             [
              0.2222222222222222,
              "#7201a8"
             ],
             [
              0.3333333333333333,
              "#9c179e"
             ],
             [
              0.4444444444444444,
              "#bd3786"
             ],
             [
              0.5555555555555556,
              "#d8576b"
             ],
             [
              0.6666666666666666,
              "#ed7953"
             ],
             [
              0.7777777777777778,
              "#fb9f3a"
             ],
             [
              0.8888888888888888,
              "#fdca26"
             ],
             [
              1,
              "#f0f921"
             ]
            ],
            "type": "heatmap"
           }
          ],
          "heatmapgl": [
           {
            "colorbar": {
             "outlinewidth": 0,
             "ticks": ""
            },
            "colorscale": [
             [
              0,
              "#0d0887"
             ],
             [
              0.1111111111111111,
              "#46039f"
             ],
             [
              0.2222222222222222,
              "#7201a8"
             ],
             [
              0.3333333333333333,
              "#9c179e"
             ],
             [
              0.4444444444444444,
              "#bd3786"
             ],
             [
              0.5555555555555556,
              "#d8576b"
             ],
             [
              0.6666666666666666,
              "#ed7953"
             ],
             [
              0.7777777777777778,
              "#fb9f3a"
             ],
             [
              0.8888888888888888,
              "#fdca26"
             ],
             [
              1,
              "#f0f921"
             ]
            ],
            "type": "heatmapgl"
           }
          ],
          "histogram": [
           {
            "marker": {
             "colorbar": {
              "outlinewidth": 0,
              "ticks": ""
             }
            },
            "type": "histogram"
           }
          ],
          "histogram2d": [
           {
            "colorbar": {
             "outlinewidth": 0,
             "ticks": ""
            },
            "colorscale": [
             [
              0,
              "#0d0887"
             ],
             [
              0.1111111111111111,
              "#46039f"
             ],
             [
              0.2222222222222222,
              "#7201a8"
             ],
             [
              0.3333333333333333,
              "#9c179e"
             ],
             [
              0.4444444444444444,
              "#bd3786"
             ],
             [
              0.5555555555555556,
              "#d8576b"
             ],
             [
              0.6666666666666666,
              "#ed7953"
             ],
             [
              0.7777777777777778,
              "#fb9f3a"
             ],
             [
              0.8888888888888888,
              "#fdca26"
             ],
             [
              1,
              "#f0f921"
             ]
            ],
            "type": "histogram2d"
           }
          ],
          "histogram2dcontour": [
           {
            "colorbar": {
             "outlinewidth": 0,
             "ticks": ""
            },
            "colorscale": [
             [
              0,
              "#0d0887"
             ],
             [
              0.1111111111111111,
              "#46039f"
             ],
             [
              0.2222222222222222,
              "#7201a8"
             ],
             [
              0.3333333333333333,
              "#9c179e"
             ],
             [
              0.4444444444444444,
              "#bd3786"
             ],
             [
              0.5555555555555556,
              "#d8576b"
             ],
             [
              0.6666666666666666,
              "#ed7953"
             ],
             [
              0.7777777777777778,
              "#fb9f3a"
             ],
             [
              0.8888888888888888,
              "#fdca26"
             ],
             [
              1,
              "#f0f921"
             ]
            ],
            "type": "histogram2dcontour"
           }
          ],
          "mesh3d": [
           {
            "colorbar": {
             "outlinewidth": 0,
             "ticks": ""
            },
            "type": "mesh3d"
           }
          ],
          "parcoords": [
           {
            "line": {
             "colorbar": {
              "outlinewidth": 0,
              "ticks": ""
             }
            },
            "type": "parcoords"
           }
          ],
          "pie": [
           {
            "automargin": true,
            "type": "pie"
           }
          ],
          "scatter": [
           {
            "marker": {
             "colorbar": {
              "outlinewidth": 0,
              "ticks": ""
             }
            },
            "type": "scatter"
           }
          ],
          "scatter3d": [
           {
            "line": {
             "colorbar": {
              "outlinewidth": 0,
              "ticks": ""
             }
            },
            "marker": {
             "colorbar": {
              "outlinewidth": 0,
              "ticks": ""
             }
            },
            "type": "scatter3d"
           }
          ],
          "scattercarpet": [
           {
            "marker": {
             "colorbar": {
              "outlinewidth": 0,
              "ticks": ""
             }
            },
            "type": "scattercarpet"
           }
          ],
          "scattergeo": [
           {
            "marker": {
             "colorbar": {
              "outlinewidth": 0,
              "ticks": ""
             }
            },
            "type": "scattergeo"
           }
          ],
          "scattergl": [
           {
            "marker": {
             "colorbar": {
              "outlinewidth": 0,
              "ticks": ""
             }
            },
            "type": "scattergl"
           }
          ],
          "scattermapbox": [
           {
            "marker": {
             "colorbar": {
              "outlinewidth": 0,
              "ticks": ""
             }
            },
            "type": "scattermapbox"
           }
          ],
          "scatterpolar": [
           {
            "marker": {
             "colorbar": {
              "outlinewidth": 0,
              "ticks": ""
             }
            },
            "type": "scatterpolar"
           }
          ],
          "scatterpolargl": [
           {
            "marker": {
             "colorbar": {
              "outlinewidth": 0,
              "ticks": ""
             }
            },
            "type": "scatterpolargl"
           }
          ],
          "scatterternary": [
           {
            "marker": {
             "colorbar": {
              "outlinewidth": 0,
              "ticks": ""
             }
            },
            "type": "scatterternary"
           }
          ],
          "surface": [
           {
            "colorbar": {
             "outlinewidth": 0,
             "ticks": ""
            },
            "colorscale": [
             [
              0,
              "#0d0887"
             ],
             [
              0.1111111111111111,
              "#46039f"
             ],
             [
              0.2222222222222222,
              "#7201a8"
             ],
             [
              0.3333333333333333,
              "#9c179e"
             ],
             [
              0.4444444444444444,
              "#bd3786"
             ],
             [
              0.5555555555555556,
              "#d8576b"
             ],
             [
              0.6666666666666666,
              "#ed7953"
             ],
             [
              0.7777777777777778,
              "#fb9f3a"
             ],
             [
              0.8888888888888888,
              "#fdca26"
             ],
             [
              1,
              "#f0f921"
             ]
            ],
            "type": "surface"
           }
          ],
          "table": [
           {
            "cells": {
             "fill": {
              "color": "#EBF0F8"
             },
             "line": {
              "color": "white"
             }
            },
            "header": {
             "fill": {
              "color": "#C8D4E3"
             },
             "line": {
              "color": "white"
             }
            },
            "type": "table"
           }
          ]
         },
         "layout": {
          "annotationdefaults": {
           "arrowcolor": "#2a3f5f",
           "arrowhead": 0,
           "arrowwidth": 1
          },
          "coloraxis": {
           "colorbar": {
            "outlinewidth": 0,
            "ticks": ""
           }
          },
          "colorscale": {
           "diverging": [
            [
             0,
             "#8e0152"
            ],
            [
             0.1,
             "#c51b7d"
            ],
            [
             0.2,
             "#de77ae"
            ],
            [
             0.3,
             "#f1b6da"
            ],
            [
             0.4,
             "#fde0ef"
            ],
            [
             0.5,
             "#f7f7f7"
            ],
            [
             0.6,
             "#e6f5d0"
            ],
            [
             0.7,
             "#b8e186"
            ],
            [
             0.8,
             "#7fbc41"
            ],
            [
             0.9,
             "#4d9221"
            ],
            [
             1,
             "#276419"
            ]
           ],
           "sequential": [
            [
             0,
             "#0d0887"
            ],
            [
             0.1111111111111111,
             "#46039f"
            ],
            [
             0.2222222222222222,
             "#7201a8"
            ],
            [
             0.3333333333333333,
             "#9c179e"
            ],
            [
             0.4444444444444444,
             "#bd3786"
            ],
            [
             0.5555555555555556,
             "#d8576b"
            ],
            [
             0.6666666666666666,
             "#ed7953"
            ],
            [
             0.7777777777777778,
             "#fb9f3a"
            ],
            [
             0.8888888888888888,
             "#fdca26"
            ],
            [
             1,
             "#f0f921"
            ]
           ],
           "sequentialminus": [
            [
             0,
             "#0d0887"
            ],
            [
             0.1111111111111111,
             "#46039f"
            ],
            [
             0.2222222222222222,
             "#7201a8"
            ],
            [
             0.3333333333333333,
             "#9c179e"
            ],
            [
             0.4444444444444444,
             "#bd3786"
            ],
            [
             0.5555555555555556,
             "#d8576b"
            ],
            [
             0.6666666666666666,
             "#ed7953"
            ],
            [
             0.7777777777777778,
             "#fb9f3a"
            ],
            [
             0.8888888888888888,
             "#fdca26"
            ],
            [
             1,
             "#f0f921"
            ]
           ]
          },
          "colorway": [
           "#636efa",
           "#EF553B",
           "#00cc96",
           "#ab63fa",
           "#FFA15A",
           "#19d3f3",
           "#FF6692",
           "#B6E880",
           "#FF97FF",
           "#FECB52"
          ],
          "font": {
           "color": "#2a3f5f"
          },
          "geo": {
           "bgcolor": "white",
           "lakecolor": "white",
           "landcolor": "#E5ECF6",
           "showlakes": true,
           "showland": true,
           "subunitcolor": "white"
          },
          "hoverlabel": {
           "align": "left"
          },
          "hovermode": "closest",
          "mapbox": {
           "style": "light"
          },
          "paper_bgcolor": "white",
          "plot_bgcolor": "#E5ECF6",
          "polar": {
           "angularaxis": {
            "gridcolor": "white",
            "linecolor": "white",
            "ticks": ""
           },
           "bgcolor": "#E5ECF6",
           "radialaxis": {
            "gridcolor": "white",
            "linecolor": "white",
            "ticks": ""
           }
          },
          "scene": {
           "xaxis": {
            "backgroundcolor": "#E5ECF6",
            "gridcolor": "white",
            "gridwidth": 2,
            "linecolor": "white",
            "showbackground": true,
            "ticks": "",
            "zerolinecolor": "white"
           },
           "yaxis": {
            "backgroundcolor": "#E5ECF6",
            "gridcolor": "white",
            "gridwidth": 2,
            "linecolor": "white",
            "showbackground": true,
            "ticks": "",
            "zerolinecolor": "white"
           },
           "zaxis": {
            "backgroundcolor": "#E5ECF6",
            "gridcolor": "white",
            "gridwidth": 2,
            "linecolor": "white",
            "showbackground": true,
            "ticks": "",
            "zerolinecolor": "white"
           }
          },
          "shapedefaults": {
           "line": {
            "color": "#2a3f5f"
           }
          },
          "ternary": {
           "aaxis": {
            "gridcolor": "white",
            "linecolor": "white",
            "ticks": ""
           },
           "baxis": {
            "gridcolor": "white",
            "linecolor": "white",
            "ticks": ""
           },
           "bgcolor": "#E5ECF6",
           "caxis": {
            "gridcolor": "white",
            "linecolor": "white",
            "ticks": ""
           }
          },
          "title": {
           "x": 0.05
          },
          "xaxis": {
           "automargin": true,
           "gridcolor": "white",
           "linecolor": "white",
           "ticks": "",
           "title": {
            "standoff": 15
           },
           "zerolinecolor": "white",
           "zerolinewidth": 2
          },
          "yaxis": {
           "automargin": true,
           "gridcolor": "white",
           "linecolor": "white",
           "ticks": "",
           "title": {
            "standoff": 15
           },
           "zerolinecolor": "white",
           "zerolinewidth": 2
          }
         }
        },
        "title": {
         "text": "Is it cancerous?"
        },
        "xaxis": {
         "autorange": true,
         "range": [
          -20.98609689525756,
          2665.4860968952576
         ],
         "title": {
          "text": "mean area"
         },
         "type": "linear"
        },
        "yaxis": {
         "range": [
          0,
          0.5
         ],
         "title": {
          "text": "mean concavity"
         },
         "type": "linear"
        }
       }
      },
      "image/png": "[encoded data removed]",
      "text/html": [
       "<div>\n",
       "        \n",
       "        \n",
       "            <div id=\"2af39904-3580-4681-9128-8035180a30d9\" class=\"plotly-graph-div\" style=\"height:525px; width:100%;\"></div>\n",
       "            <script type=\"text/javascript\">\n",
       "                require([\"plotly\"], function(Plotly) {\n",
       "                    window.PLOTLYENV=window.PLOTLYENV || {};\n",
       "                    \n",
       "                if (document.getElementById(\"2af39904-3580-4681-9128-8035180a30d9\")) {\n",
       "                    Plotly.newPlot(\n",
       "                        '2af39904-3580-4681-9128-8035180a30d9',\n",
       "                        [{\"hovertext\": [0.0, 0.0, 0.0, 0.0, 0.0, 0.0, 0.0, 0.0, 0.0, 0.0, 0.0, 0.0, 0.0, 0.0, 0.0, 0.0, 0.0, 0.0, 0.0, 1.0, 1.0, 1.0, 0.0, 0.0, 0.0, 0.0, 0.0, 0.0, 0.0, 0.0, 0.0, 0.0, 0.0, 0.0, 0.0, 0.0, 0.0, 1.0, 0.0, 0.0, 0.0, 0.0, 0.0, 0.0, 0.0, 0.0, 1.0, 0.0, 1.0, 1.0, 1.0, 1.0, 1.0, 0.0, 0.0, 1.0, 0.0, 0.0, 1.0, 1.0, 1.0, 1.0, 0.0, 1.0, 0.0, 0.0, 1.0, 1.0, 1.0, 1.0, 0.0, 1.0, 0.0, 0.0, 1.0, 0.0, 1.0, 0.0, 0.0, 1.0, 1.0, 1.0, 0.0, 0.0, 1.0, 0.0, 0.0, 0.0, 1.0, 1.0, 1.0, 0.0, 1.0, 1.0, 0.0, 0.0, 1.0, 1.0, 1.0, 0.0, 0.0, 1.0, 1.0, 1.0, 1.0, 0.0, 1.0, 1.0, 0.0, 1.0, 1.0, 1.0, 1.0, 1.0, 1.0, 1.0, 1.0, 0.0, 0.0, 0.0, 1.0, 0.0, 0.0, 1.0, 1.0, 1.0, 0.0, 0.0, 1.0, 0.0, 1.0, 0.0, 0.0, 1.0, 0.0, 0.0, 1.0, 1.0, 0.0, 1.0, 1.0, 0.0, 1.0, 1.0, 1.0, 1.0, 0.0, 1.0, 1.0, 1.0, 1.0, 1.0, 1.0, 1.0, 1.0, 1.0, 0.0, 1.0, 1.0, 1.0, 1.0, 0.0, 0.0, 1.0, 0.0, 1.0, 1.0, 0.0, 0.0, 1.0, 1.0, 0.0, 0.0, 1.0, 1.0, 1.0, 1.0, 0.0, 1.0, 1.0, 0.0, 0.0, 0.0, 1.0, 0.0, 1.0, 0.0, 1.0, 1.0, 1.0, 0.0, 1.0, 1.0, 0.0, 0.0, 1.0, 0.0, 0.0, 0.0, 0.0, 1.0, 0.0, 0.0, 0.0, 1.0, 0.0, 1.0, 0.0, 1.0, 1.0, 0.0, 1.0, 0.0, 0.0, 0.0, 0.0, 1.0, 1.0, 0.0, 0.0, 1.0, 1.0, 1.0, 0.0, 1.0, 1.0, 1.0, 1.0, 1.0, 0.0, 0.0, 1.0, 1.0, 0.0, 1.0, 1.0, 0.0, 0.0, 1.0, 0.0, 1.0, 1.0, 1.0, 1.0, 0.0, 1.0, 1.0, 1.0, 1.0, 1.0, 0.0, 1.0, 0.0, 0.0, 0.0, 0.0, 0.0, 0.0, 0.0, 0.0, 0.0, 0.0, 0.0, 0.0, 0.0, 0.0, 1.0, 1.0, 1.0, 1.0, 1.0, 1.0, 0.0, 1.0, 0.0, 1.0, 1.0, 0.0, 1.0, 1.0, 0.0, 1.0, 0.0, 0.0, 1.0, 1.0, 1.0, 1.0, 1.0, 1.0, 1.0, 1.0, 1.0, 1.0, 1.0, 1.0, 1.0, 0.0, 1.0, 1.0, 0.0, 1.0, 0.0, 1.0, 1.0, 1.0, 1.0, 1.0, 1.0, 1.0, 1.0, 1.0, 1.0, 1.0, 1.0, 1.0, 1.0, 0.0, 1.0, 1.0, 1.0, 0.0, 1.0, 0.0, 1.0, 1.0, 1.0, 1.0, 0.0, 0.0, 0.0, 1.0, 1.0, 1.0, 1.0, 0.0, 1.0, 0.0, 1.0, 0.0, 1.0, 1.0, 1.0, 0.0, 1.0, 1.0, 1.0, 1.0, 1.0, 1.0, 1.0, 0.0, 0.0, 0.0, 1.0, 1.0, 1.0, 1.0, 1.0, 1.0, 1.0, 1.0, 1.0, 1.0, 1.0, 0.0, 0.0, 1.0, 0.0, 0.0, 0.0, 1.0, 0.0, 0.0, 1.0, 1.0, 1.0, 1.0, 1.0, 0.0, 1.0, 1.0, 1.0, 1.0, 1.0, 0.0, 1.0, 1.0, 1.0, 0.0, 1.0, 1.0, 0.0, 0.0, 1.0, 1.0, 1.0, 1.0, 1.0, 1.0, 0.0, 1.0, 1.0, 1.0, 1.0, 1.0, 1.0, 1.0, 0.0, 1.0, 1.0, 1.0, 1.0, 1.0, 0.0, 1.0, 1.0, 0.0, 1.0, 1.0, 1.0, 1.0, 1.0, 1.0, 1.0, 1.0, 1.0, 1.0, 1.0, 1.0, 0.0, 1.0, 0.0, 0.0, 1.0, 0.0, 1.0, 1.0, 1.0, 1.0, 1.0, 0.0, 1.0, 1.0, 0.0, 1.0, 0.0, 1.0, 1.0, 0.0, 1.0, 0.0, 1.0, 1.0, 1.0, 1.0, 1.0, 1.0, 1.0, 1.0, 0.0, 0.0, 1.0, 1.0, 1.0, 1.0, 1.0, 1.0, 0.0, 1.0, 1.0, 1.0, 1.0, 1.0, 1.0, 1.0, 1.0, 1.0, 1.0, 0.0, 1.0, 1.0, 1.0, 1.0, 1.0, 1.0, 1.0, 0.0, 1.0, 0.0, 1.0, 1.0, 0.0, 1.0, 1.0, 1.0, 1.0, 1.0, 0.0, 0.0, 1.0, 0.0, 1.0, 0.0, 1.0, 1.0, 1.0, 1.0, 1.0, 0.0, 1.0, 1.0, 0.0, 1.0, 0.0, 1.0, 0.0, 0.0, 1.0, 1.0, 1.0, 0.0, 1.0, 1.0, 1.0, 1.0, 1.0, 1.0, 1.0, 1.0, 1.0, 1.0, 1.0, 0.0, 1.0, 0.0, 0.0, 1.0, 1.0, 1.0, 1.0, 1.0, 1.0, 1.0, 1.0, 1.0, 1.0, 1.0, 1.0, 1.0, 1.0, 1.0, 1.0, 1.0, 1.0, 1.0, 1.0, 1.0, 1.0, 1.0, 1.0, 1.0, 0.0, 0.0, 0.0, 0.0, 0.0, 0.0, 1.0], \"marker\": {\"color\": [0, 0, 0, 0, 0, 0, 0, 0, 0, 0, 0, 0, 0, 0, 0, 0, 0, 0, 0, 1, 1, 1, 0, 0, 0, 0, 0, 0, 0, 0, 0, 0, 0, 0, 0, 0, 0, 1, 0, 0, 0, 0, 0, 0, 0, 0, 1, 0, 1, 1, 1, 1, 1, 0, 0, 1, 0, 0, 1, 1, 1, 1, 0, 1, 0, 0, 1, 1, 1, 1, 0, 1, 0, 0, 1, 0, 1, 0, 0, 1, 1, 1, 0, 0, 1, 0, 0, 0, 1, 1, 1, 0, 1, 1, 0, 0, 1, 1, 1, 0, 0, 1, 1, 1, 1, 0, 1, 1, 0, 1, 1, 1, 1, 1, 1, 1, 1, 0, 0, 0, 1, 0, 0, 1, 1, 1, 0, 0, 1, 0, 1, 0, 0, 1, 0, 0, 1, 1, 0, 1, 1, 0, 1, 1, 1, 1, 0, 1, 1, 1, 1, 1, 1, 1, 1, 1, 0, 1, 1, 1, 1, 0, 0, 1, 0, 1, 1, 0, 0, 1, 1, 0, 0, 1, 1, 1, 1, 0, 1, 1, 0, 0, 0, 1, 0, 1, 0, 1, 1, 1, 0, 1, 1, 0, 0, 1, 0, 0, 0, 0, 1, 0, 0, 0, 1, 0, 1, 0, 1, 1, 0, 1, 0, 0, 0, 0, 1, 1, 0, 0, 1, 1, 1, 0, 1, 1, 1, 1, 1, 0, 0, 1, 1, 0, 1, 1, 0, 0, 1, 0, 1, 1, 1, 1, 0, 1, 1, 1, 1, 1, 0, 1, 0, 0, 0, 0, 0, 0, 0, 0, 0, 0, 0, 0, 0, 0, 1, 1, 1, 1, 1, 1, 0, 1, 0, 1, 1, 0, 1, 1, 0, 1, 0, 0, 1, 1, 1, 1, 1, 1, 1, 1, 1, 1, 1, 1, 1, 0, 1, 1, 0, 1, 0, 1, 1, 1, 1, 1, 1, 1, 1, 1, 1, 1, 1, 1, 1, 0, 1, 1, 1, 0, 1, 0, 1, 1, 1, 1, 0, 0, 0, 1, 1, 1, 1, 0, 1, 0, 1, 0, 1, 1, 1, 0, 1, 1, 1, 1, 1, 1, 1, 0, 0, 0, 1, 1, 1, 1, 1, 1, 1, 1, 1, 1, 1, 0, 0, 1, 0, 0, 0, 1, 0, 0, 1, 1, 1, 1, 1, 0, 1, 1, 1, 1, 1, 0, 1, 1, 1, 0, 1, 1, 0, 0, 1, 1, 1, 1, 1, 1, 0, 1, 1, 1, 1, 1, 1, 1, 0, 1, 1, 1, 1, 1, 0, 1, 1, 0, 1, 1, 1, 1, 1, 1, 1, 1, 1, 1, 1, 1, 0, 1, 0, 0, 1, 0, 1, 1, 1, 1, 1, 0, 1, 1, 0, 1, 0, 1, 1, 0, 1, 0, 1, 1, 1, 1, 1, 1, 1, 1, 0, 0, 1, 1, 1, 1, 1, 1, 0, 1, 1, 1, 1, 1, 1, 1, 1, 1, 1, 0, 1, 1, 1, 1, 1, 1, 1, 0, 1, 0, 1, 1, 0, 1, 1, 1, 1, 1, 0, 0, 1, 0, 1, 0, 1, 1, 1, 1, 1, 0, 1, 1, 0, 1, 0, 1, 0, 0, 1, 1, 1, 0, 1, 1, 1, 1, 1, 1, 1, 1, 1, 1, 1, 0, 1, 0, 0, 1, 1, 1, 1, 1, 1, 1, 1, 1, 1, 1, 1, 1, 1, 1, 1, 1, 1, 1, 1, 1, 1, 1, 1, 1, 0, 0, 0, 0, 0, 0, 1], \"colorscale\": [[0.0, \"#440154\"], [0.1111111111111111, \"#482878\"], [0.2222222222222222, \"#3e4989\"], [0.3333333333333333, \"#31688e\"], [0.4444444444444444, \"#26828e\"], [0.5555555555555556, \"#1f9e89\"], [0.6666666666666666, \"#35b779\"], [0.7777777777777778, \"#6ece58\"], [0.8888888888888888, \"#b5de2b\"], [1.0, \"#fde725\"]]}, \"mode\": \"markers\", \"type\": \"scatter\", \"x\": [1001.0, 1326.0, 1203.0, 386.1, 1297.0, 477.1, 1040.0, 577.9, 519.8, 475.9, 797.8, 781.0, 1123.0, 782.7, 578.3, 658.8, 684.5, 798.8, 1260.0, 566.3, 520.0, 273.9, 704.4, 1404.0, 904.6, 912.7, 644.8, 1094.0, 732.4, 955.1, 1088.0, 440.6, 899.3, 1162.0, 807.2, 869.5, 633.0, 523.8, 698.8, 559.2, 563.0, 371.1, 1104.0, 545.2, 531.5, 1076.0, 201.9, 534.6, 449.3, 561.0, 427.9, 571.8, 437.6, 1033.0, 712.8, 409.0, 1152.0, 656.9, 527.2, 224.5, 311.9, 221.8, 645.7, 260.9, 499.0, 668.3, 269.4, 394.1, 250.5, 502.5, 1130.0, 244.0, 929.4, 584.1, 470.9, 817.7, 559.2, 1006.0, 1245.0, 506.3, 401.5, 520.0, 1878.0, 1132.0, 443.3, 1075.0, 648.2, 1076.0, 466.1, 651.9, 662.7, 728.2, 551.7, 555.1, 705.6, 1264.0, 451.1, 294.5, 412.6, 642.5, 582.7, 143.5, 458.7, 298.3, 336.1, 530.2, 412.5, 466.7, 1509.0, 396.5, 290.2, 480.4, 629.9, 334.2, 230.9, 438.6, 245.2, 682.5, 782.6, 982.0, 403.3, 1077.0, 1761.0, 640.7, 553.5, 588.7, 572.6, 1138.0, 674.5, 1192.0, 455.8, 748.9, 809.8, 761.7, 1075.0, 506.3, 423.6, 399.8, 678.1, 384.8, 288.5, 813.0, 398.0, 512.2, 355.3, 432.8, 432.0, 689.5, 640.1, 585.0, 519.4, 203.9, 300.2, 381.9, 538.9, 460.3, 963.7, 880.2, 448.6, 366.8, 419.8, 1157.0, 1214.0, 464.5, 1686.0, 690.2, 357.6, 886.3, 984.6, 685.9, 464.1, 565.4, 736.9, 372.7, 349.6, 227.2, 302.4, 832.9, 526.4, 508.8, 2250.0, 1311.0, 766.6, 402.0, 710.6, 317.5, 1041.0, 420.3, 428.9, 463.7, 609.9, 507.4, 288.1, 477.4, 671.4, 516.4, 588.9, 1024.0, 1148.0, 642.7, 461.0, 951.6, 1685.0, 597.8, 481.9, 716.6, 295.4, 904.3, 529.4, 725.5, 1290.0, 428.0, 2499.0, 948.0, 610.7, 578.9, 432.2, 321.2, 1230.0, 1223.0, 568.9, 561.3, 313.1, 761.3, 546.4, 641.2, 329.6, 684.5, 496.4, 503.2, 895.0, 395.7, 386.8, 1319.0, 279.6, 603.4, 1670.0, 1306.0, 623.9, 920.6, 575.3, 476.5, 389.4, 590.0, 1155.0, 337.7, 541.6, 512.2, 347.0, 406.3, 1364.0, 407.4, 1206.0, 928.2, 1169.0, 602.4, 1207.0, 713.3, 773.5, 744.9, 1288.0, 933.1, 947.8, 758.6, 928.3, 1419.0, 346.4, 561.0, 512.2, 344.9, 632.6, 388.0, 1491.0, 289.9, 998.9, 435.6, 396.6, 1102.0, 572.3, 587.4, 1138.0, 427.3, 1145.0, 805.1, 516.6, 489.0, 441.0, 515.9, 394.1, 396.0, 651.0, 687.3, 513.7, 432.7, 492.1, 582.7, 363.7, 431.1, 633.1, 334.2, 1217.0, 471.3, 1247.0, 334.3, 403.1, 417.2, 537.3, 246.3, 566.2, 530.6, 418.7, 664.9, 504.1, 409.1, 221.2, 481.6, 461.4, 1027.0, 244.5, 477.3, 324.2, 1274.0, 504.8, 1264.0, 457.9, 489.9, 616.5, 446.0, 813.7, 826.8, 793.2, 514.0, 387.3, 390.0, 464.4, 918.6, 514.3, 1092.0, 310.8, 1747.0, 641.2, 280.5, 373.9, 1194.0, 420.3, 321.6, 445.3, 668.7, 402.7, 426.7, 421.0, 758.6, 2010.0, 716.6, 384.6, 485.8, 512.0, 593.7, 241.0, 278.6, 491.9, 546.1, 496.6, 838.1, 552.4, 1293.0, 1234.0, 458.4, 1546.0, 1482.0, 840.4, 711.8, 1386.0, 1335.0, 579.1, 788.5, 338.3, 562.1, 580.6, 361.6, 386.3, 372.7, 447.8, 462.9, 541.8, 664.7, 462.0, 596.6, 392.0, 1174.0, 321.6, 234.3, 744.7, 1407.0, 446.2, 609.1, 558.1, 508.3, 378.2, 431.9, 994.0, 442.7, 525.2, 507.6, 469.1, 370.0, 800.0, 514.5, 991.7, 466.1, 399.8, 373.2, 268.8, 693.7, 719.5, 433.8, 271.2, 803.1, 495.0, 380.3, 409.7, 656.1, 408.2, 575.3, 289.7, 307.3, 333.6, 359.9, 381.1, 501.3, 685.0, 467.8, 1250.0, 1110.0, 673.7, 599.5, 509.2, 611.2, 592.6, 606.5, 371.5, 928.8, 585.9, 340.9, 990.0, 441.3, 981.6, 674.8, 659.7, 1384.0, 432.0, 1191.0, 442.5, 644.2, 492.9, 557.2, 415.1, 537.9, 520.2, 290.9, 930.9, 2501.0, 646.1, 412.7, 537.3, 542.9, 536.9, 286.3, 980.5, 408.8, 289.1, 449.9, 686.9, 465.4, 358.9, 506.9, 618.4, 599.4, 404.9, 815.8, 455.3, 602.9, 546.3, 571.1, 747.2, 476.7, 666.0, 1167.0, 420.5, 857.6, 466.5, 992.1, 1007.0, 477.3, 538.7, 680.9, 485.6, 480.1, 1068.0, 1320.0, 689.4, 595.9, 476.3, 1682.0, 248.7, 272.5, 453.1, 366.5, 819.8, 731.3, 426.0, 680.7, 556.7, 658.8, 701.9, 391.2, 1052.0, 1214.0, 493.1, 493.8, 257.8, 1841.0, 388.1, 571.0, 293.2, 221.3, 551.1, 468.5, 594.2, 445.2, 422.9, 416.2, 575.5, 1299.0, 365.6, 1308.0, 629.8, 406.4, 178.8, 170.4, 402.9, 656.4, 668.6, 538.4, 584.8, 573.2, 324.9, 320.8, 285.7, 361.6, 360.5, 378.4, 507.9, 264.0, 514.3, 321.4, 311.7, 271.3, 657.1, 403.5, 600.4, 386.0, 716.9, 1347.0, 1479.0, 1261.0, 858.1, 1265.0, 181.0], \"y\": [0.3001, 0.0869, 0.1974, 0.2414, 0.198, 0.1578, 0.1127, 0.09366, 0.1859, 0.2273, 0.03299, 0.09954, 0.2065, 0.09938, 0.2128, 0.1639, 0.07395, 0.1722, 0.1479, 0.06663999999999999, 0.04568, 0.029560000000000006, 0.2077, 0.1097, 0.1525, 0.2229, 0.1425, 0.149, 0.1683, 0.09875, 0.2319, 0.1218, 0.2417, 0.1657, 0.1354, 0.1348, 0.1319, 0.02562, 0.02398, 0.1063, 0.0311, 0.1044, 0.2107, 0.09847, 0.08259, 0.1974, 0.015880000000000002, 0.1226, 0.06592, 0.04751, 0.016569999999999998, 0.01857, 0.01972, 0.1772, 0.052529999999999986, 0.03036, 0.1323, 0.1293, 0.000692, 0.02061, 0.01084, 0.03, 0.2135, 0.05988, 0.1128, 0.1267, 0.02172, 0.03709, 0.313, 0.03653, 0.108, 0.08606, 0.1692, 0.07789, 0.03372, 0.09769, 0.06877, 0.1684, 0.3754, 0.03889, 0.04591, 0.1169, 0.3339, 0.1937, 0.041510000000000005, 0.1335, 0.1204, 0.1468, 0.06015, 0.09966, 0.03102, 0.1122, 0.03261, 0.03974, 0.17, 0.1465, 0.0249, 0.006829000000000001, 0.04196, 0.09388, 0.08625, 0.0, 0.02383, 0.06154, 0.02995, 0.2071, 0.0707, 0.02643, 0.4264, 0.05133, 0.04334, 0.1065, 0.3003, 0.06476, 0.04132, 0.033280000000000004, 0.09263, 0.16899999999999998, 0.2133, 0.07293, 0.03512, 0.1457, 0.4268, 0.08842, 0.08092, 0.0142, 0.05285, 0.09271, 0.1138, 0.2545, 0.02855, 0.1466, 0.1043, 0.07135, 0.1153, 0.04711, 0.03592, 0.03503, 0.1539, 0.04635, 0.0, 0.09447, 0.02031, 0.04894, 0.02251, 0.0371, 0.1659, 0.0905, 0.08487, 0.02881, 0.03136, 0.1321, 0.4108, 0.01982, 0.09293, 0.03885, 0.1855, 0.0515, 0.01972, 0.00309, 0.06842999999999999, 0.1193, 0.2508, 0.0537, 0.1324, 0.01947, 0.02531, 0.08422, 0.2159, 0.02602, 0.03987, 0.058579999999999986, 0.2032, 0.02363, 0.0, 0.0, 0.1307, 0.1793, 0.0015949999999999998, 0.009193000000000002, 0.2871, 0.2487, 0.06592999999999999, 0.06181, 0.05375, 0.001597, 0.08169, 0.03809, 0.02353, 0.03844, 0.1981, 0.03112, 0.0, 0.1085, 0.1697, 0.03873, 0.1385, 0.1103, 0.1114, 0.118, 0.04187, 0.1036, 0.3523, 0.1558, 0.08005, 0.0755, 0.01756, 0.0695, 0.08705, 0.058920000000000014, 0.16399999999999998, 0.02669, 0.3201, 0.1682, 0.1115, 0.09901, 0.06636, 0.05774, 0.1272, 0.1145, 0.03888, 0.0786, 0.01768, 0.1147, 0.035539999999999995, 0.05724, 0.0066430000000000005, 0.06505, 0.05438, 0.1695, 0.191, 0.01633, 0.004967, 0.1554, 0.01652, 0.01462, 0.195, 0.09042, 0.1103, 0.1417, 0.04705, 0.01053, 0.1548, 0.04697, 0.2049, 0.048310000000000006, 0.04336, 0.1374, 0.02379, 0.04328, 0.2712, 0.02638, 0.2417, 0.1266, 0.1379, 0.09789, 0.1784, 0.2448, 0.3176, 0.1751, 0.1519, 0.02891, 0.09697, 0.04209, 0.09061, 0.1367, 0.06387000000000001, 0.04072, 0.039, 0.08448, 0.00725, 0.03265, 0.2195, 0.01103, 0.05699, 0.05929, 0.0014869999999999998, 0.0802, 0.01997, 0.04479, 0.1921, 0.02245, 0.1626, 0.1948, 0.1115, 0.00186, 0.06573999999999999, 0.0226, 0.09274, 0.02399, 0.1362, 0.0594, 0.06155, 0.02688, 0.01288, 0.01063, 0.01236, 0.02685, 0.02475, 0.02495, 0.2197, 0.0683, 0.2283, 0.02297, 0.03344, 0.01974, 0.0014609999999999998, 0.003681, 0.002758, 0.0045590000000000006, 0.01583, 0.014469999999999997, 0.04052, 0.013669999999999998, 0.0, 0.004473, 0.01123, 0.113, 0.1975, 0.01342, 0.06726, 0.1155, 0.038, 0.2565, 0.01994, 0.03193, 0.01765, 0.001546, 0.1478, 0.1799, 0.1204, 0.07107000000000001, 0.005006, 0.0009737, 0.007756, 0.1508, 0.03738, 0.106, 0.02511, 0.2308, 0.08007, 0.08422, 0.05397, 0.1863, 0.040060000000000005, 0.03581, 0.0075099999999999984, 0.04608, 0.02587, 0.01171, 0.008306000000000001, 0.2914, 0.3368, 0.1235, 0.04505, 0.103, 0.09603, 0.01502, 0.04721, 0.0271, 0.001194, 0.03344, 0.02688, 0.05862000000000001, 0.02181, 0.09799, 0.1641, 0.04392, 0.1168, 0.2448, 0.1811, 0.03393, 0.1932, 0.1527, 0.02556, 0.06651, 0.228, 0.01271, 0.04249, 0.1689, 0.079, 0.035460000000000005, 0.07943, 0.058920000000000014, 0.05077, 0.0839, 0.06838999999999999, 0.02045, 0.1007, 0.1856, 0.01923, 0.0, 0.1891, 0.281, 0.04783, 0.026810000000000004, 0.0858, 0.0739, 0.02712, 0.02853, 0.3189, 0.026060000000000003, 0.04057, 0.03296, 0.02109, 0.04944, 0.055, 0.06126, 0.1201, 0.03211, 0.02783, 0.03046, 0.03735, 0.06859, 0.04686, 0.02555, 0.02047, 0.1522, 0.0236, 0.008955, 0.05485, 0.145, 0.07097, 0.09657, 0.008934000000000001, 0.00247, 0.06335, 0.03614, 0.01369, 0.01402, 0.2733, 0.07741, 0.2133, 0.1594, 0.033460000000000004, 0.1126, 0.01797, 0.03534, 0.01342, 0.02087, 0.09457, 0.1204, 0.01055, 0.01993, 0.109, 0.05441, 0.1698, 0.04069, 0.08817, 0.1572, 0.08777, 0.1655, 0.04055, 0.06895, 0.02966, 0.02819, 0.0716, 0.02772, 0.01206, 0.01541, 0.1007, 0.3635, 0.03476, 0.03367, 0.04859, 0.101, 0.1085, 0.01479, 0.2136, 0.102, 0.029480000000000006, 0.02367, 0.05539, 0.0, 0.05115, 0.05835, 0.05063, 0.02224, 0.05308, 0.2236, 0.02916, 0.02995, 0.05786, 0.04548, 0.1191, 0.1544, 0.051920000000000015, 0.2256, 0.04279, 0.03649, 0.01714, 0.04445, 0.117, 0.007173000000000001, 0.018000000000000002, 0.06824, 0.08017, 0.03609, 0.1491, 0.2188, 0.07721, 0.1357, 0.059279999999999985, 0.1676, 0.0973, 0.1188, 0.08175, 0.04063, 0.05526, 0.203, 0.06726, 0.03416, 0.1445, 0.08222, 0.07486, 0.04302, 0.1569, 0.1411, 0.04825, 0.0388, 0.033319999999999995, 0.231, 0.005067, 0.05385, 0.0233, 0.02565, 0.042010000000000006, 0.02958, 0.101, 0.03781, 0.052820000000000006, 0.042, 0.017519999999999997, 0.1523, 0.05263, 0.2085, 0.1463, 0.04515, 0.0, 0.09252, 0.06737, 0.1009, 0.04105, 0.02987, 0.03688, 0.02974, 0.01012, 0.04358, 0.02337, 0.01548, 0.0, 0.04824, 0.01997, 0.03996, 0.06195, 0.05999, 0.005025, 0.0, 0.1029, 0.1112, 0.04462, 0.0, 0.255, 0.3174, 0.2439, 0.14400000000000002, 0.09251, 0.3514, 0.0]}, {\"mode\": \"lines\", \"name\": \"decision boundary\", \"type\": \"scatter\", \"x\": [550, 600, 650, 700, 750], \"y\": [0.41661, 0.3011275, 0.18563, 0.0701, -0.045341]}],\n",
       "                        {\"template\": {\"data\": {\"bar\": [{\"error_x\": {\"color\": \"#2a3f5f\"}, \"error_y\": {\"color\": \"#2a3f5f\"}, \"marker\": {\"line\": {\"color\": \"#E5ECF6\", \"width\": 0.5}}, \"type\": \"bar\"}], \"barpolar\": [{\"marker\": {\"line\": {\"color\": \"#E5ECF6\", \"width\": 0.5}}, \"type\": \"barpolar\"}], \"carpet\": [{\"aaxis\": {\"endlinecolor\": \"#2a3f5f\", \"gridcolor\": \"white\", \"linecolor\": \"white\", \"minorgridcolor\": \"white\", \"startlinecolor\": \"#2a3f5f\"}, \"baxis\": {\"endlinecolor\": \"#2a3f5f\", \"gridcolor\": \"white\", \"linecolor\": \"white\", \"minorgridcolor\": \"white\", \"startlinecolor\": \"#2a3f5f\"}, \"type\": \"carpet\"}], \"choropleth\": [{\"colorbar\": {\"outlinewidth\": 0, \"ticks\": \"\"}, \"type\": \"choropleth\"}], \"contour\": [{\"colorbar\": {\"outlinewidth\": 0, \"ticks\": \"\"}, \"colorscale\": [[0.0, \"#0d0887\"], [0.1111111111111111, \"#46039f\"], [0.2222222222222222, \"#7201a8\"], [0.3333333333333333, \"#9c179e\"], [0.4444444444444444, \"#bd3786\"], [0.5555555555555556, \"#d8576b\"], [0.6666666666666666, \"#ed7953\"], [0.7777777777777778, \"#fb9f3a\"], [0.8888888888888888, \"#fdca26\"], [1.0, \"#f0f921\"]], \"type\": \"contour\"}], \"contourcarpet\": [{\"colorbar\": {\"outlinewidth\": 0, \"ticks\": \"\"}, \"type\": \"contourcarpet\"}], \"heatmap\": [{\"colorbar\": {\"outlinewidth\": 0, \"ticks\": \"\"}, \"colorscale\": [[0.0, \"#0d0887\"], [0.1111111111111111, \"#46039f\"], [0.2222222222222222, \"#7201a8\"], [0.3333333333333333, \"#9c179e\"], [0.4444444444444444, \"#bd3786\"], [0.5555555555555556, \"#d8576b\"], [0.6666666666666666, \"#ed7953\"], [0.7777777777777778, \"#fb9f3a\"], [0.8888888888888888, \"#fdca26\"], [1.0, \"#f0f921\"]], \"type\": \"heatmap\"}], \"heatmapgl\": [{\"colorbar\": {\"outlinewidth\": 0, \"ticks\": \"\"}, \"colorscale\": [[0.0, \"#0d0887\"], [0.1111111111111111, \"#46039f\"], [0.2222222222222222, \"#7201a8\"], [0.3333333333333333, \"#9c179e\"], [0.4444444444444444, \"#bd3786\"], [0.5555555555555556, \"#d8576b\"], [0.6666666666666666, \"#ed7953\"], [0.7777777777777778, \"#fb9f3a\"], [0.8888888888888888, \"#fdca26\"], [1.0, \"#f0f921\"]], \"type\": \"heatmapgl\"}], \"histogram\": [{\"marker\": {\"colorbar\": {\"outlinewidth\": 0, \"ticks\": \"\"}}, \"type\": \"histogram\"}], \"histogram2d\": [{\"colorbar\": {\"outlinewidth\": 0, \"ticks\": \"\"}, \"colorscale\": [[0.0, \"#0d0887\"], [0.1111111111111111, \"#46039f\"], [0.2222222222222222, \"#7201a8\"], [0.3333333333333333, \"#9c179e\"], [0.4444444444444444, \"#bd3786\"], [0.5555555555555556, \"#d8576b\"], [0.6666666666666666, \"#ed7953\"], [0.7777777777777778, \"#fb9f3a\"], [0.8888888888888888, \"#fdca26\"], [1.0, \"#f0f921\"]], \"type\": \"histogram2d\"}], \"histogram2dcontour\": [{\"colorbar\": {\"outlinewidth\": 0, \"ticks\": \"\"}, \"colorscale\": [[0.0, \"#0d0887\"], [0.1111111111111111, \"#46039f\"], [0.2222222222222222, \"#7201a8\"], [0.3333333333333333, \"#9c179e\"], [0.4444444444444444, \"#bd3786\"], [0.5555555555555556, \"#d8576b\"], [0.6666666666666666, \"#ed7953\"], [0.7777777777777778, \"#fb9f3a\"], [0.8888888888888888, \"#fdca26\"], [1.0, \"#f0f921\"]], \"type\": \"histogram2dcontour\"}], \"mesh3d\": [{\"colorbar\": {\"outlinewidth\": 0, \"ticks\": \"\"}, \"type\": \"mesh3d\"}], \"parcoords\": [{\"line\": {\"colorbar\": {\"outlinewidth\": 0, \"ticks\": \"\"}}, \"type\": \"parcoords\"}], \"pie\": [{\"automargin\": true, \"type\": \"pie\"}], \"scatter\": [{\"marker\": {\"colorbar\": {\"outlinewidth\": 0, \"ticks\": \"\"}}, \"type\": \"scatter\"}], \"scatter3d\": [{\"line\": {\"colorbar\": {\"outlinewidth\": 0, \"ticks\": \"\"}}, \"marker\": {\"colorbar\": {\"outlinewidth\": 0, \"ticks\": \"\"}}, \"type\": \"scatter3d\"}], \"scattercarpet\": [{\"marker\": {\"colorbar\": {\"outlinewidth\": 0, \"ticks\": \"\"}}, \"type\": \"scattercarpet\"}], \"scattergeo\": [{\"marker\": {\"colorbar\": {\"outlinewidth\": 0, \"ticks\": \"\"}}, \"type\": \"scattergeo\"}], \"scattergl\": [{\"marker\": {\"colorbar\": {\"outlinewidth\": 0, \"ticks\": \"\"}}, \"type\": \"scattergl\"}], \"scattermapbox\": [{\"marker\": {\"colorbar\": {\"outlinewidth\": 0, \"ticks\": \"\"}}, \"type\": \"scattermapbox\"}], \"scatterpolar\": [{\"marker\": {\"colorbar\": {\"outlinewidth\": 0, \"ticks\": \"\"}}, \"type\": \"scatterpolar\"}], \"scatterpolargl\": [{\"marker\": {\"colorbar\": {\"outlinewidth\": 0, \"ticks\": \"\"}}, \"type\": \"scatterpolargl\"}], \"scatterternary\": [{\"marker\": {\"colorbar\": {\"outlinewidth\": 0, \"ticks\": \"\"}}, \"type\": \"scatterternary\"}], \"surface\": [{\"colorbar\": {\"outlinewidth\": 0, \"ticks\": \"\"}, \"colorscale\": [[0.0, \"#0d0887\"], [0.1111111111111111, \"#46039f\"], [0.2222222222222222, \"#7201a8\"], [0.3333333333333333, \"#9c179e\"], [0.4444444444444444, \"#bd3786\"], [0.5555555555555556, \"#d8576b\"], [0.6666666666666666, \"#ed7953\"], [0.7777777777777778, \"#fb9f3a\"], [0.8888888888888888, \"#fdca26\"], [1.0, \"#f0f921\"]], \"type\": \"surface\"}], \"table\": [{\"cells\": {\"fill\": {\"color\": \"#EBF0F8\"}, \"line\": {\"color\": \"white\"}}, \"header\": {\"fill\": {\"color\": \"#C8D4E3\"}, \"line\": {\"color\": \"white\"}}, \"type\": \"table\"}]}, \"layout\": {\"annotationdefaults\": {\"arrowcolor\": \"#2a3f5f\", \"arrowhead\": 0, \"arrowwidth\": 1}, \"coloraxis\": {\"colorbar\": {\"outlinewidth\": 0, \"ticks\": \"\"}}, \"colorscale\": {\"diverging\": [[0, \"#8e0152\"], [0.1, \"#c51b7d\"], [0.2, \"#de77ae\"], [0.3, \"#f1b6da\"], [0.4, \"#fde0ef\"], [0.5, \"#f7f7f7\"], [0.6, \"#e6f5d0\"], [0.7, \"#b8e186\"], [0.8, \"#7fbc41\"], [0.9, \"#4d9221\"], [1, \"#276419\"]], \"sequential\": [[0.0, \"#0d0887\"], [0.1111111111111111, \"#46039f\"], [0.2222222222222222, \"#7201a8\"], [0.3333333333333333, \"#9c179e\"], [0.4444444444444444, \"#bd3786\"], [0.5555555555555556, \"#d8576b\"], [0.6666666666666666, \"#ed7953\"], [0.7777777777777778, \"#fb9f3a\"], [0.8888888888888888, \"#fdca26\"], [1.0, \"#f0f921\"]], \"sequentialminus\": [[0.0, \"#0d0887\"], [0.1111111111111111, \"#46039f\"], [0.2222222222222222, \"#7201a8\"], [0.3333333333333333, \"#9c179e\"], [0.4444444444444444, \"#bd3786\"], [0.5555555555555556, \"#d8576b\"], [0.6666666666666666, \"#ed7953\"], [0.7777777777777778, \"#fb9f3a\"], [0.8888888888888888, \"#fdca26\"], [1.0, \"#f0f921\"]]}, \"colorway\": [\"#636efa\", \"#EF553B\", \"#00cc96\", \"#ab63fa\", \"#FFA15A\", \"#19d3f3\", \"#FF6692\", \"#B6E880\", \"#FF97FF\", \"#FECB52\"], \"font\": {\"color\": \"#2a3f5f\"}, \"geo\": {\"bgcolor\": \"white\", \"lakecolor\": \"white\", \"landcolor\": \"#E5ECF6\", \"showlakes\": true, \"showland\": true, \"subunitcolor\": \"white\"}, \"hoverlabel\": {\"align\": \"left\"}, \"hovermode\": \"closest\", \"mapbox\": {\"style\": \"light\"}, \"paper_bgcolor\": \"white\", \"plot_bgcolor\": \"#E5ECF6\", \"polar\": {\"angularaxis\": {\"gridcolor\": \"white\", \"linecolor\": \"white\", \"ticks\": \"\"}, \"bgcolor\": \"#E5ECF6\", \"radialaxis\": {\"gridcolor\": \"white\", \"linecolor\": \"white\", \"ticks\": \"\"}}, \"scene\": {\"xaxis\": {\"backgroundcolor\": \"#E5ECF6\", \"gridcolor\": \"white\", \"gridwidth\": 2, \"linecolor\": \"white\", \"showbackground\": true, \"ticks\": \"\", \"zerolinecolor\": \"white\"}, \"yaxis\": {\"backgroundcolor\": \"#E5ECF6\", \"gridcolor\": \"white\", \"gridwidth\": 2, \"linecolor\": \"white\", \"showbackground\": true, \"ticks\": \"\", \"zerolinecolor\": \"white\"}, \"zaxis\": {\"backgroundcolor\": \"#E5ECF6\", \"gridcolor\": \"white\", \"gridwidth\": 2, \"linecolor\": \"white\", \"showbackground\": true, \"ticks\": \"\", \"zerolinecolor\": \"white\"}}, \"shapedefaults\": {\"line\": {\"color\": \"#2a3f5f\"}}, \"ternary\": {\"aaxis\": {\"gridcolor\": \"white\", \"linecolor\": \"white\", \"ticks\": \"\"}, \"baxis\": {\"gridcolor\": \"white\", \"linecolor\": \"white\", \"ticks\": \"\"}, \"bgcolor\": \"#E5ECF6\", \"caxis\": {\"gridcolor\": \"white\", \"linecolor\": \"white\", \"ticks\": \"\"}}, \"title\": {\"x\": 0.05}, \"xaxis\": {\"automargin\": true, \"gridcolor\": \"white\", \"linecolor\": \"white\", \"ticks\": \"\", \"title\": {\"standoff\": 15}, \"zerolinecolor\": \"white\", \"zerolinewidth\": 2}, \"yaxis\": {\"automargin\": true, \"gridcolor\": \"white\", \"linecolor\": \"white\", \"ticks\": \"\", \"title\": {\"standoff\": 15}, \"zerolinecolor\": \"white\", \"zerolinewidth\": 2}}}, \"title\": {\"text\": \"Is it cancerous?\"}, \"xaxis\": {\"title\": {\"text\": \"mean area\"}}, \"yaxis\": {\"range\": [0, 0.5], \"title\": {\"text\": \"mean concavity\"}}},\n",
       "                        {\"responsive\": true}\n",
       "                    ).then(function(){\n",
       "                            \n",
       "var gd = document.getElementById('2af39904-3580-4681-9128-8035180a30d9');\n",
       "var x = new MutationObserver(function (mutations, observer) {{\n",
       "        var display = window.getComputedStyle(gd).display;\n",
       "        if (!display || display === 'none') {{\n",
       "            console.log([gd, 'removed!']);\n",
       "            Plotly.purge(gd);\n",
       "            observer.disconnect();\n",
       "        }}\n",
       "}});\n",
       "\n",
       "// Listen for the removal of the full notebook cells\n",
       "var notebookContainer = gd.closest('#notebook-container');\n",
       "if (notebookContainer) {{\n",
       "    x.observe(notebookContainer, {childList: true});\n",
       "}}\n",
       "\n",
       "// Listen for the clearing of the current output cell\n",
       "var outputEl = gd.closest('.output');\n",
       "if (outputEl) {{\n",
       "    x.observe(outputEl, {childList: true});\n",
       "}}\n",
       "\n",
       "                        })\n",
       "                };\n",
       "                });\n",
       "            </script>\n",
       "        </div>"
      ]
     },
     "metadata": {},
     "output_type": "display_data"
    }
   ],
   "source": [
    "import plotly.graph_objects as go\n",
    "\n",
    "values = list(range(550, 800, 50))\n",
    "boundaries = [0.41661, 0.3011275, 0.18563, 0.0701, -0.045341]\n",
    "decision_trace = go.Scatter(x=values, y=boundaries, mode = 'lines', name='decision boundary')\n",
    "layout = go.Layout(xaxis = {'title': 'mean area'}, yaxis = {'title': 'mean concavity', 'range': [0, .5]}, title = 'Is it cancerous?')\n",
    "scatter_data = go.Scatter(x=df['mean_area'], y=df['mean_concavity'],  marker=dict(color=df['is_cancerous'], colorscale='Viridis'), \n",
    "                     mode='markers', hovertext=df['is_cancerous'])\n",
    "fig = go.Figure(data = [scatter_data, decision_trace], layout = layout)\n",
    "fig"
   ]
  },
  {
   "cell_type": "markdown",
   "metadata": {},
   "source": [
    "The line above represents the hypothesis function of the perceptron.  And the line above repesents the following hypothesis function of the perceptron:"
   ]
  },
  {
   "cell_type": "markdown",
   "metadata": {},
   "source": [
    "\\begin{equation}\n",
    "  f(x)=\\left\\{\n",
    "  \\begin{array}{@{}ll@{}}\n",
    "    1, & \\text{if}\\ -.0080233*x_1 + -3.47361781*x_2 + 5.86 > 0 \\\\\n",
    "    0, & \\text{otherwise}\n",
    "  \\end{array}\\right.\n",
    "\\end{equation} "
   ]
  },
  {
   "cell_type": "code",
   "execution_count": 19,
   "metadata": {},
   "outputs": [],
   "source": [
    "def perceptron(x_1, x_2):\n",
    "    summation = -0.00802333*x_1 +  -3.47361781*x_2 + 5.86\n",
    "    if summation > 0:\n",
    "        return 1\n",
    "    else:\n",
    "        return 0"
   ]
  },
  {
   "cell_type": "markdown",
   "metadata": {},
   "source": [
    "> Press `shift + return` on the cell above to declare your function. The answer for this is below."
   ]
  },
  {
   "cell_type": "code",
   "execution_count": 20,
   "metadata": {},
   "outputs": [
    {
     "data": {
      "text/plain": [
       "0"
      ]
     },
     "execution_count": 20,
     "metadata": {},
     "output_type": "execute_result"
    }
   ],
   "source": [
    "x_1 = 951.6\n",
    "x_2 = .1036\n",
    "perceptron(x_1, x_2)\n",
    "# 0"
   ]
  },
  {
   "cell_type": "code",
   "execution_count": 22,
   "metadata": {},
   "outputs": [
    {
     "data": {
      "text/plain": [
       "1"
      ]
     },
     "execution_count": 22,
     "metadata": {},
     "output_type": "execute_result"
    }
   ],
   "source": [
    "x_1 = 435.6\n",
    "x_2 = .059\n",
    "perceptron(x_1, x_2)\n",
    "# 1"
   ]
  },
  {
   "cell_type": "markdown",
   "metadata": {},
   "source": [
    "### Summary"
   ]
  },
  {
   "cell_type": "markdown",
   "metadata": {},
   "source": [
    "In this lesson, we saw how we can plot the decision boundary of a perceptron.  The decision boundary is the line the divides predictions in one class versus the other.  It corresponds to where our `summation`, or linear component, is exactly zero. And then we predict an observation depending on if it lines on one side of the decision boundary or the other -- that is if the summation is greater or less than zero."
   ]
  },
  {
   "cell_type": "markdown",
   "metadata": {},
   "source": [
    "### Answers"
   ]
  },
  {
   "cell_type": "code",
   "execution_count": null,
   "metadata": {},
   "outputs": [],
   "source": [
    "def perceptron(x_1, x_2):\n",
    "    summation = -0.00802333*x_1 +  -3.47361781*x_2 + 5.86\n",
    "    if summation > 0:\n",
    "        return 1\n",
    "    else:\n",
    "        return 0"
   ]
  },
  {
   "cell_type": "code",
   "execution_count": 61,
   "metadata": {},
   "outputs": [],
   "source": [
    "fig.write_json('./fig_data.json')"
   ]
  },
  {
   "cell_type": "code",
   "execution_count": 62,
   "metadata": {},
   "outputs": [],
   "source": [
    "with open('fig_data.json') as json_file:\n",
    "    data = json.load(json_file)"
   ]
  },
  {
   "cell_type": "code",
   "execution_count": 64,
   "metadata": {},
   "outputs": [
    {
     "data": {
      "application/vnd.plotly.v1+json": {
       "config": {
        "plotlyServerURL": "https://plot.ly"
       },
       "data": [
        {
         "hovertext": [
          "0.0",
          "0.0",
          "0.0",
          "0.0",
          "0.0",
          "0.0",
          "0.0",
          "0.0",
          "0.0",
          "0.0",
          "0.0",
          "0.0",
          "0.0",
          "0.0",
          "0.0",
          "0.0",
          "0.0",
          "0.0",
          "0.0",
          "1.0",
          "1.0",
          "1.0",
          "0.0",
          "0.0",
          "0.0",
          "0.0",
          "0.0",
          "0.0",
          "0.0",
          "0.0",
          "0.0",
          "0.0",
          "0.0",
          "0.0",
          "0.0",
          "0.0",
          "0.0",
          "1.0",
          "0.0",
          "0.0",
          "0.0",
          "0.0",
          "0.0",
          "0.0",
          "0.0",
          "0.0",
          "1.0",
          "0.0",
          "1.0",
          "1.0",
          "1.0",
          "1.0",
          "1.0",
          "0.0",
          "0.0",
          "1.0",
          "0.0",
          "0.0",
          "1.0",
          "1.0",
          "1.0",
          "1.0",
          "0.0",
          "1.0",
          "0.0",
          "0.0",
          "1.0",
          "1.0",
          "1.0",
          "1.0",
          "0.0",
          "1.0",
          "0.0",
          "0.0",
          "1.0",
          "0.0",
          "1.0",
          "0.0",
          "0.0",
          "1.0",
          "1.0",
          "1.0",
          "0.0",
          "0.0",
          "1.0",
          "0.0",
          "0.0",
          "0.0",
          "1.0",
          "1.0",
          "1.0",
          "0.0",
          "1.0",
          "1.0",
          "0.0",
          "0.0",
          "1.0",
          "1.0",
          "1.0",
          "0.0",
          "0.0",
          "1.0",
          "1.0",
          "1.0",
          "1.0",
          "0.0",
          "1.0",
          "1.0",
          "0.0",
          "1.0",
          "1.0",
          "1.0",
          "1.0",
          "1.0",
          "1.0",
          "1.0",
          "1.0",
          "0.0",
          "0.0",
          "0.0",
          "1.0",
          "0.0",
          "0.0",
          "1.0",
          "1.0",
          "1.0",
          "0.0",
          "0.0",
          "1.0",
          "0.0",
          "1.0",
          "0.0",
          "0.0",
          "1.0",
          "0.0",
          "0.0",
          "1.0",
          "1.0",
          "0.0",
          "1.0",
          "1.0",
          "0.0",
          "1.0",
          "1.0",
          "1.0",
          "1.0",
          "0.0",
          "1.0",
          "1.0",
          "1.0",
          "1.0",
          "1.0",
          "1.0",
          "1.0",
          "1.0",
          "1.0",
          "0.0",
          "1.0",
          "1.0",
          "1.0",
          "1.0",
          "0.0",
          "0.0",
          "1.0",
          "0.0",
          "1.0",
          "1.0",
          "0.0",
          "0.0",
          "1.0",
          "1.0",
          "0.0",
          "0.0",
          "1.0",
          "1.0",
          "1.0",
          "1.0",
          "0.0",
          "1.0",
          "1.0",
          "0.0",
          "0.0",
          "0.0",
          "1.0",
          "0.0",
          "1.0",
          "0.0",
          "1.0",
          "1.0",
          "1.0",
          "0.0",
          "1.0",
          "1.0",
          "0.0",
          "0.0",
          "1.0",
          "0.0",
          "0.0",
          "0.0",
          "0.0",
          "1.0",
          "0.0",
          "0.0",
          "0.0",
          "1.0",
          "0.0",
          "1.0",
          "0.0",
          "1.0",
          "1.0",
          "0.0",
          "1.0",
          "0.0",
          "0.0",
          "0.0",
          "0.0",
          "1.0",
          "1.0",
          "0.0",
          "0.0",
          "1.0",
          "1.0",
          "1.0",
          "0.0",
          "1.0",
          "1.0",
          "1.0",
          "1.0",
          "1.0",
          "0.0",
          "0.0",
          "1.0",
          "1.0",
          "0.0",
          "1.0",
          "1.0",
          "0.0",
          "0.0",
          "1.0",
          "0.0",
          "1.0",
          "1.0",
          "1.0",
          "1.0",
          "0.0",
          "1.0",
          "1.0",
          "1.0",
          "1.0",
          "1.0",
          "0.0",
          "1.0",
          "0.0",
          "0.0",
          "0.0",
          "0.0",
          "0.0",
          "0.0",
          "0.0",
          "0.0",
          "0.0",
          "0.0",
          "0.0",
          "0.0",
          "0.0",
          "0.0",
          "1.0",
          "1.0",
          "1.0",
          "1.0",
          "1.0",
          "1.0",
          "0.0",
          "1.0",
          "0.0",
          "1.0",
          "1.0",
          "0.0",
          "1.0",
          "1.0",
          "0.0",
          "1.0",
          "0.0",
          "0.0",
          "1.0",
          "1.0",
          "1.0",
          "1.0",
          "1.0",
          "1.0",
          "1.0",
          "1.0",
          "1.0",
          "1.0",
          "1.0",
          "1.0",
          "1.0",
          "0.0",
          "1.0",
          "1.0",
          "0.0",
          "1.0",
          "0.0",
          "1.0",
          "1.0",
          "1.0",
          "1.0",
          "1.0",
          "1.0",
          "1.0",
          "1.0",
          "1.0",
          "1.0",
          "1.0",
          "1.0",
          "1.0",
          "1.0",
          "0.0",
          "1.0",
          "1.0",
          "1.0",
          "0.0",
          "1.0",
          "0.0",
          "1.0",
          "1.0",
          "1.0",
          "1.0",
          "0.0",
          "0.0",
          "0.0",
          "1.0",
          "1.0",
          "1.0",
          "1.0",
          "0.0",
          "1.0",
          "0.0",
          "1.0",
          "0.0",
          "1.0",
          "1.0",
          "1.0",
          "0.0",
          "1.0",
          "1.0",
          "1.0",
          "1.0",
          "1.0",
          "1.0",
          "1.0",
          "0.0",
          "0.0",
          "0.0",
          "1.0",
          "1.0",
          "1.0",
          "1.0",
          "1.0",
          "1.0",
          "1.0",
          "1.0",
          "1.0",
          "1.0",
          "1.0",
          "0.0",
          "0.0",
          "1.0",
          "0.0",
          "0.0",
          "0.0",
          "1.0",
          "0.0",
          "0.0",
          "1.0",
          "1.0",
          "1.0",
          "1.0",
          "1.0",
          "0.0",
          "1.0",
          "1.0",
          "1.0",
          "1.0",
          "1.0",
          "0.0",
          "1.0",
          "1.0",
          "1.0",
          "0.0",
          "1.0",
          "1.0",
          "0.0",
          "0.0",
          "1.0",
          "1.0",
          "1.0",
          "1.0",
          "1.0",
          "1.0",
          "0.0",
          "1.0",
          "1.0",
          "1.0",
          "1.0",
          "1.0",
          "1.0",
          "1.0",
          "0.0",
          "1.0",
          "1.0",
          "1.0",
          "1.0",
          "1.0",
          "0.0",
          "1.0",
          "1.0",
          "0.0",
          "1.0",
          "1.0",
          "1.0",
          "1.0",
          "1.0",
          "1.0",
          "1.0",
          "1.0",
          "1.0",
          "1.0",
          "1.0",
          "1.0",
          "0.0",
          "1.0",
          "0.0",
          "0.0",
          "1.0",
          "0.0",
          "1.0",
          "1.0",
          "1.0",
          "1.0",
          "1.0",
          "0.0",
          "1.0",
          "1.0",
          "0.0",
          "1.0",
          "0.0",
          "1.0",
          "1.0",
          "0.0",
          "1.0",
          "0.0",
          "1.0",
          "1.0",
          "1.0",
          "1.0",
          "1.0",
          "1.0",
          "1.0",
          "1.0",
          "0.0",
          "0.0",
          "1.0",
          "1.0",
          "1.0",
          "1.0",
          "1.0",
          "1.0",
          "0.0",
          "1.0",
          "1.0",
          "1.0",
          "1.0",
          "1.0",
          "1.0",
          "1.0",
          "1.0",
          "1.0",
          "1.0",
          "0.0",
          "1.0",
          "1.0",
          "1.0",
          "1.0",
          "1.0",
          "1.0",
          "1.0",
          "0.0",
          "1.0",
          "0.0",
          "1.0",
          "1.0",
          "0.0",
          "1.0",
          "1.0",
          "1.0",
          "1.0",
          "1.0",
          "0.0",
          "0.0",
          "1.0",
          "0.0",
          "1.0",
          "0.0",
          "1.0",
          "1.0",
          "1.0",
          "1.0",
          "1.0",
          "0.0",
          "1.0",
          "1.0",
          "0.0",
          "1.0",
          "0.0",
          "1.0",
          "0.0",
          "0.0",
          "1.0",
          "1.0",
          "1.0",
          "0.0",
          "1.0",
          "1.0",
          "1.0",
          "1.0",
          "1.0",
          "1.0",
          "1.0",
          "1.0",
          "1.0",
          "1.0",
          "1.0",
          "0.0",
          "1.0",
          "0.0",
          "0.0",
          "1.0",
          "1.0",
          "1.0",
          "1.0",
          "1.0",
          "1.0",
          "1.0",
          "1.0",
          "1.0",
          "1.0",
          "1.0",
          "1.0",
          "1.0",
          "1.0",
          "1.0",
          "1.0",
          "1.0",
          "1.0",
          "1.0",
          "1.0",
          "1.0",
          "1.0",
          "1.0",
          "1.0",
          "1.0",
          "0.0",
          "0.0",
          "0.0",
          "0.0",
          "0.0",
          "0.0",
          "1.0"
         ],
         "marker": {
          "color": [
           0,
           0,
           0,
           0,
           0,
           0,
           0,
           0,
           0,
           0,
           0,
           0,
           0,
           0,
           0,
           0,
           0,
           0,
           0,
           1,
           1,
           1,
           0,
           0,
           0,
           0,
           0,
           0,
           0,
           0,
           0,
           0,
           0,
           0,
           0,
           0,
           0,
           1,
           0,
           0,
           0,
           0,
           0,
           0,
           0,
           0,
           1,
           0,
           1,
           1,
           1,
           1,
           1,
           0,
           0,
           1,
           0,
           0,
           1,
           1,
           1,
           1,
           0,
           1,
           0,
           0,
           1,
           1,
           1,
           1,
           0,
           1,
           0,
           0,
           1,
           0,
           1,
           0,
           0,
           1,
           1,
           1,
           0,
           0,
           1,
           0,
           0,
           0,
           1,
           1,
           1,
           0,
           1,
           1,
           0,
           0,
           1,
           1,
           1,
           0,
           0,
           1,
           1,
           1,
           1,
           0,
           1,
           1,
           0,
           1,
           1,
           1,
           1,
           1,
           1,
           1,
           1,
           0,
           0,
           0,
           1,
           0,
           0,
           1,
           1,
           1,
           0,
           0,
           1,
           0,
           1,
           0,
           0,
           1,
           0,
           0,
           1,
           1,
           0,
           1,
           1,
           0,
           1,
           1,
           1,
           1,
           0,
           1,
           1,
           1,
           1,
           1,
           1,
           1,
           1,
           1,
           0,
           1,
           1,
           1,
           1,
           0,
           0,
           1,
           0,
           1,
           1,
           0,
           0,
           1,
           1,
           0,
           0,
           1,
           1,
           1,
           1,
           0,
           1,
           1,
           0,
           0,
           0,
           1,
           0,
           1,
           0,
           1,
           1,
           1,
           0,
           1,
           1,
           0,
           0,
           1,
           0,
           0,
           0,
           0,
           1,
           0,
           0,
           0,
           1,
           0,
           1,
           0,
           1,
           1,
           0,
           1,
           0,
           0,
           0,
           0,
           1,
           1,
           0,
           0,
           1,
           1,
           1,
           0,
           1,
           1,
           1,
           1,
           1,
           0,
           0,
           1,
           1,
           0,
           1,
           1,
           0,
           0,
           1,
           0,
           1,
           1,
           1,
           1,
           0,
           1,
           1,
           1,
           1,
           1,
           0,
           1,
           0,
           0,
           0,
           0,
           0,
           0,
           0,
           0,
           0,
           0,
           0,
           0,
           0,
           0,
           1,
           1,
           1,
           1,
           1,
           1,
           0,
           1,
           0,
           1,
           1,
           0,
           1,
           1,
           0,
           1,
           0,
           0,
           1,
           1,
           1,
           1,
           1,
           1,
           1,
           1,
           1,
           1,
           1,
           1,
           1,
           0,
           1,
           1,
           0,
           1,
           0,
           1,
           1,
           1,
           1,
           1,
           1,
           1,
           1,
           1,
           1,
           1,
           1,
           1,
           1,
           0,
           1,
           1,
           1,
           0,
           1,
           0,
           1,
           1,
           1,
           1,
           0,
           0,
           0,
           1,
           1,
           1,
           1,
           0,
           1,
           0,
           1,
           0,
           1,
           1,
           1,
           0,
           1,
           1,
           1,
           1,
           1,
           1,
           1,
           0,
           0,
           0,
           1,
           1,
           1,
           1,
           1,
           1,
           1,
           1,
           1,
           1,
           1,
           0,
           0,
           1,
           0,
           0,
           0,
           1,
           0,
           0,
           1,
           1,
           1,
           1,
           1,
           0,
           1,
           1,
           1,
           1,
           1,
           0,
           1,
           1,
           1,
           0,
           1,
           1,
           0,
           0,
           1,
           1,
           1,
           1,
           1,
           1,
           0,
           1,
           1,
           1,
           1,
           1,
           1,
           1,
           0,
           1,
           1,
           1,
           1,
           1,
           0,
           1,
           1,
           0,
           1,
           1,
           1,
           1,
           1,
           1,
           1,
           1,
           1,
           1,
           1,
           1,
           0,
           1,
           0,
           0,
           1,
           0,
           1,
           1,
           1,
           1,
           1,
           0,
           1,
           1,
           0,
           1,
           0,
           1,
           1,
           0,
           1,
           0,
           1,
           1,
           1,
           1,
           1,
           1,
           1,
           1,
           0,
           0,
           1,
           1,
           1,
           1,
           1,
           1,
           0,
           1,
           1,
           1,
           1,
           1,
           1,
           1,
           1,
           1,
           1,
           0,
           1,
           1,
           1,
           1,
           1,
           1,
           1,
           0,
           1,
           0,
           1,
           1,
           0,
           1,
           1,
           1,
           1,
           1,
           0,
           0,
           1,
           0,
           1,
           0,
           1,
           1,
           1,
           1,
           1,
           0,
           1,
           1,
           0,
           1,
           0,
           1,
           0,
           0,
           1,
           1,
           1,
           0,
           1,
           1,
           1,
           1,
           1,
           1,
           1,
           1,
           1,
           1,
           1,
           0,
           1,
           0,
           0,
           1,
           1,
           1,
           1,
           1,
           1,
           1,
           1,
           1,
           1,
           1,
           1,
           1,
           1,
           1,
           1,
           1,
           1,
           1,
           1,
           1,
           1,
           1,
           1,
           1,
           0,
           0,
           0,
           0,
           0,
           0,
           1
          ],
          "colorscale": [
           [
            0,
            "#440154"
           ],
           [
            0.1111111111111111,
            "#482878"
           ],
           [
            0.2222222222222222,
            "#3e4989"
           ],
           [
            0.3333333333333333,
            "#31688e"
           ],
           [
            0.4444444444444444,
            "#26828e"
           ],
           [
            0.5555555555555556,
            "#1f9e89"
           ],
           [
            0.6666666666666666,
            "#35b779"
           ],
           [
            0.7777777777777778,
            "#6ece58"
           ],
           [
            0.8888888888888888,
            "#b5de2b"
           ],
           [
            1,
            "#fde725"
           ]
          ]
         },
         "mode": "markers",
         "type": "scatter",
         "x": [
          1001,
          1326,
          1203,
          386.1,
          1297,
          477.1,
          1040,
          577.9,
          519.8,
          475.9,
          797.8,
          781,
          1123,
          782.7,
          578.3,
          658.8,
          684.5,
          798.8,
          1260,
          566.3,
          520,
          273.9,
          704.4,
          1404,
          904.6,
          912.7,
          644.8,
          1094,
          732.4,
          955.1,
          1088,
          440.6,
          899.3,
          1162,
          807.2,
          869.5,
          633,
          523.8,
          698.8,
          559.2,
          563,
          371.1,
          1104,
          545.2,
          531.5,
          1076,
          201.9,
          534.6,
          449.3,
          561,
          427.9,
          571.8,
          437.6,
          1033,
          712.8,
          409,
          1152,
          656.9,
          527.2,
          224.5,
          311.9,
          221.8,
          645.7,
          260.9,
          499,
          668.3,
          269.4,
          394.1,
          250.5,
          502.5,
          1130,
          244,
          929.4,
          584.1,
          470.9,
          817.7,
          559.2,
          1006,
          1245,
          506.3,
          401.5,
          520,
          1878,
          1132,
          443.3,
          1075,
          648.2,
          1076,
          466.1,
          651.9,
          662.7,
          728.2,
          551.7,
          555.1,
          705.6,
          1264,
          451.1,
          294.5,
          412.6,
          642.5,
          582.7,
          143.5,
          458.7,
          298.3,
          336.1,
          530.2,
          412.5,
          466.7,
          1509,
          396.5,
          290.2,
          480.4,
          629.9,
          334.2,
          230.9,
          438.6,
          245.2,
          682.5,
          782.6,
          982,
          403.3,
          1077,
          1761,
          640.7,
          553.5,
          588.7,
          572.6,
          1138,
          674.5,
          1192,
          455.8,
          748.9,
          809.8,
          761.7,
          1075,
          506.3,
          423.6,
          399.8,
          678.1,
          384.8,
          288.5,
          813,
          398,
          512.2,
          355.3,
          432.8,
          432,
          689.5,
          640.1,
          585,
          519.4,
          203.9,
          300.2,
          381.9,
          538.9,
          460.3,
          963.7,
          880.2,
          448.6,
          366.8,
          419.8,
          1157,
          1214,
          464.5,
          1686,
          690.2,
          357.6,
          886.3,
          984.6,
          685.9,
          464.1,
          565.4,
          736.9,
          372.7,
          349.6,
          227.2,
          302.4,
          832.9,
          526.4,
          508.8,
          2250,
          1311,
          766.6,
          402,
          710.6,
          317.5,
          1041,
          420.3,
          428.9,
          463.7,
          609.9,
          507.4,
          288.1,
          477.4,
          671.4,
          516.4,
          588.9,
          1024,
          1148,
          642.7,
          461,
          951.6,
          1685,
          597.8,
          481.9,
          716.6,
          295.4,
          904.3,
          529.4,
          725.5,
          1290,
          428,
          2499,
          948,
          610.7,
          578.9,
          432.2,
          321.2,
          1230,
          1223,
          568.9,
          561.3,
          313.1,
          761.3,
          546.4,
          641.2,
          329.6,
          684.5,
          496.4,
          503.2,
          895,
          395.7,
          386.8,
          1319,
          279.6,
          603.4,
          1670,
          1306,
          623.9,
          920.6,
          575.3,
          476.5,
          389.4,
          590,
          1155,
          337.7,
          541.6,
          512.2,
          347,
          406.3,
          1364,
          407.4,
          1206,
          928.2,
          1169,
          602.4,
          1207,
          713.3,
          773.5,
          744.9,
          1288,
          933.1,
          947.8,
          758.6,
          928.3,
          1419,
          346.4,
          561,
          512.2,
          344.9,
          632.6,
          388,
          1491,
          289.9,
          998.9,
          435.6,
          396.6,
          1102,
          572.3,
          587.4,
          1138,
          427.3,
          1145,
          805.1,
          516.6,
          489,
          441,
          515.9,
          394.1,
          396,
          651,
          687.3,
          513.7,
          432.7,
          492.1,
          582.7,
          363.7,
          431.1,
          633.1,
          334.2,
          1217,
          471.3,
          1247,
          334.3,
          403.1,
          417.2,
          537.3,
          246.3,
          566.2,
          530.6,
          418.7,
          664.9,
          504.1,
          409.1,
          221.2,
          481.6,
          461.4,
          1027,
          244.5,
          477.3,
          324.2,
          1274,
          504.8,
          1264,
          457.9,
          489.9,
          616.5,
          446,
          813.7,
          826.8,
          793.2,
          514,
          387.3,
          390,
          464.4,
          918.6,
          514.3,
          1092,
          310.8,
          1747,
          641.2,
          280.5,
          373.9,
          1194,
          420.3,
          321.6,
          445.3,
          668.7,
          402.7,
          426.7,
          421,
          758.6,
          2010,
          716.6,
          384.6,
          485.8,
          512,
          593.7,
          241,
          278.6,
          491.9,
          546.1,
          496.6,
          838.1,
          552.4,
          1293,
          1234,
          458.4,
          1546,
          1482,
          840.4,
          711.8,
          1386,
          1335,
          579.1,
          788.5,
          338.3,
          562.1,
          580.6,
          361.6,
          386.3,
          372.7,
          447.8,
          462.9,
          541.8,
          664.7,
          462,
          596.6,
          392,
          1174,
          321.6,
          234.3,
          744.7,
          1407,
          446.2,
          609.1,
          558.1,
          508.3,
          378.2,
          431.9,
          994,
          442.7,
          525.2,
          507.6,
          469.1,
          370,
          800,
          514.5,
          991.7,
          466.1,
          399.8,
          373.2,
          268.8,
          693.7,
          719.5,
          433.8,
          271.2,
          803.1,
          495,
          380.3,
          409.7,
          656.1,
          408.2,
          575.3,
          289.7,
          307.3,
          333.6,
          359.9,
          381.1,
          501.3,
          685,
          467.8,
          1250,
          1110,
          673.7,
          599.5,
          509.2,
          611.2,
          592.6,
          606.5,
          371.5,
          928.8,
          585.9,
          340.9,
          990,
          441.3,
          981.6,
          674.8,
          659.7,
          1384,
          432,
          1191,
          442.5,
          644.2,
          492.9,
          557.2,
          415.1,
          537.9,
          520.2,
          290.9,
          930.9,
          2501,
          646.1,
          412.7,
          537.3,
          542.9,
          536.9,
          286.3,
          980.5,
          408.8,
          289.1,
          449.9,
          686.9,
          465.4,
          358.9,
          506.9,
          618.4,
          599.4,
          404.9,
          815.8,
          455.3,
          602.9,
          546.3,
          571.1,
          747.2,
          476.7,
          666,
          1167,
          420.5,
          857.6,
          466.5,
          992.1,
          1007,
          477.3,
          538.7,
          680.9,
          485.6,
          480.1,
          1068,
          1320,
          689.4,
          595.9,
          476.3,
          1682,
          248.7,
          272.5,
          453.1,
          366.5,
          819.8,
          731.3,
          426,
          680.7,
          556.7,
          658.8,
          701.9,
          391.2,
          1052,
          1214,
          493.1,
          493.8,
          257.8,
          1841,
          388.1,
          571,
          293.2,
          221.3,
          551.1,
          468.5,
          594.2,
          445.2,
          422.9,
          416.2,
          575.5,
          1299,
          365.6,
          1308,
          629.8,
          406.4,
          178.8,
          170.4,
          402.9,
          656.4,
          668.6,
          538.4,
          584.8,
          573.2,
          324.9,
          320.8,
          285.7,
          361.6,
          360.5,
          378.4,
          507.9,
          264,
          514.3,
          321.4,
          311.7,
          271.3,
          657.1,
          403.5,
          600.4,
          386,
          716.9,
          1347,
          1479,
          1261,
          858.1,
          1265,
          181
         ],
         "y": [
          0.3001,
          0.0869,
          0.1974,
          0.2414,
          0.198,
          0.1578,
          0.1127,
          0.09366,
          0.1859,
          0.2273,
          0.03299,
          0.09954,
          0.2065,
          0.09938,
          0.2128,
          0.1639,
          0.07395,
          0.1722,
          0.1479,
          0.06663999999999999,
          0.04568,
          0.029560000000000006,
          0.2077,
          0.1097,
          0.1525,
          0.2229,
          0.1425,
          0.149,
          0.1683,
          0.09875,
          0.2319,
          0.1218,
          0.2417,
          0.1657,
          0.1354,
          0.1348,
          0.1319,
          0.02562,
          0.02398,
          0.1063,
          0.0311,
          0.1044,
          0.2107,
          0.09847,
          0.08259,
          0.1974,
          0.015880000000000002,
          0.1226,
          0.06592,
          0.04751,
          0.016569999999999998,
          0.01857,
          0.01972,
          0.1772,
          0.052529999999999986,
          0.03036,
          0.1323,
          0.1293,
          0.000692,
          0.02061,
          0.01084,
          0.03,
          0.2135,
          0.05988,
          0.1128,
          0.1267,
          0.02172,
          0.03709,
          0.313,
          0.03653,
          0.108,
          0.08606,
          0.1692,
          0.07789,
          0.03372,
          0.09769,
          0.06877,
          0.1684,
          0.3754,
          0.03889,
          0.04591,
          0.1169,
          0.3339,
          0.1937,
          0.041510000000000005,
          0.1335,
          0.1204,
          0.1468,
          0.06015,
          0.09966,
          0.03102,
          0.1122,
          0.03261,
          0.03974,
          0.17,
          0.1465,
          0.0249,
          0.006829000000000001,
          0.04196,
          0.09388,
          0.08625,
          0,
          0.02383,
          0.06154,
          0.02995,
          0.2071,
          0.0707,
          0.02643,
          0.4264,
          0.05133,
          0.04334,
          0.1065,
          0.3003,
          0.06476,
          0.04132,
          0.033280000000000004,
          0.09263,
          0.16899999999999998,
          0.2133,
          0.07293,
          0.03512,
          0.1457,
          0.4268,
          0.08842,
          0.08092,
          0.0142,
          0.05285,
          0.09271,
          0.1138,
          0.2545,
          0.02855,
          0.1466,
          0.1043,
          0.07135,
          0.1153,
          0.04711,
          0.03592,
          0.03503,
          0.1539,
          0.04635,
          0,
          0.09447,
          0.02031,
          0.04894,
          0.02251,
          0.0371,
          0.1659,
          0.0905,
          0.08487,
          0.02881,
          0.03136,
          0.1321,
          0.4108,
          0.01982,
          0.09293,
          0.03885,
          0.1855,
          0.0515,
          0.01972,
          0.00309,
          0.06842999999999999,
          0.1193,
          0.2508,
          0.0537,
          0.1324,
          0.01947,
          0.02531,
          0.08422,
          0.2159,
          0.02602,
          0.03987,
          0.058579999999999986,
          0.2032,
          0.02363,
          0,
          0,
          0.1307,
          0.1793,
          0.0015949999999999998,
          0.009193000000000002,
          0.2871,
          0.2487,
          0.06592999999999999,
          0.06181,
          0.05375,
          0.001597,
          0.08169,
          0.03809,
          0.02353,
          0.03844,
          0.1981,
          0.03112,
          0,
          0.1085,
          0.1697,
          0.03873,
          0.1385,
          0.1103,
          0.1114,
          0.118,
          0.04187,
          0.1036,
          0.3523,
          0.1558,
          0.08005,
          0.0755,
          0.01756,
          0.0695,
          0.08705,
          0.058920000000000014,
          0.16399999999999998,
          0.02669,
          0.3201,
          0.1682,
          0.1115,
          0.09901,
          0.06636,
          0.05774,
          0.1272,
          0.1145,
          0.03888,
          0.0786,
          0.01768,
          0.1147,
          0.035539999999999995,
          0.05724,
          0.0066430000000000005,
          0.06505,
          0.05438,
          0.1695,
          0.191,
          0.01633,
          0.004967,
          0.1554,
          0.01652,
          0.01462,
          0.195,
          0.09042,
          0.1103,
          0.1417,
          0.04705,
          0.01053,
          0.1548,
          0.04697,
          0.2049,
          0.048310000000000006,
          0.04336,
          0.1374,
          0.02379,
          0.04328,
          0.2712,
          0.02638,
          0.2417,
          0.1266,
          0.1379,
          0.09789,
          0.1784,
          0.2448,
          0.3176,
          0.1751,
          0.1519,
          0.02891,
          0.09697,
          0.04209,
          0.09061,
          0.1367,
          0.06387000000000001,
          0.04072,
          0.039,
          0.08448,
          0.00725,
          0.03265,
          0.2195,
          0.01103,
          0.05699,
          0.05929,
          0.0014869999999999998,
          0.0802,
          0.01997,
          0.04479,
          0.1921,
          0.02245,
          0.1626,
          0.1948,
          0.1115,
          0.00186,
          0.06573999999999999,
          0.0226,
          0.09274,
          0.02399,
          0.1362,
          0.0594,
          0.06155,
          0.02688,
          0.01288,
          0.01063,
          0.01236,
          0.02685,
          0.02475,
          0.02495,
          0.2197,
          0.0683,
          0.2283,
          0.02297,
          0.03344,
          0.01974,
          0.0014609999999999998,
          0.003681,
          0.002758,
          0.0045590000000000006,
          0.01583,
          0.014469999999999997,
          0.04052,
          0.013669999999999998,
          0,
          0.004473,
          0.01123,
          0.113,
          0.1975,
          0.01342,
          0.06726,
          0.1155,
          0.038,
          0.2565,
          0.01994,
          0.03193,
          0.01765,
          0.001546,
          0.1478,
          0.1799,
          0.1204,
          0.07107000000000001,
          0.005006,
          0.0009737,
          0.007756,
          0.1508,
          0.03738,
          0.106,
          0.02511,
          0.2308,
          0.08007,
          0.08422,
          0.05397,
          0.1863,
          0.040060000000000005,
          0.03581,
          0.0075099999999999984,
          0.04608,
          0.02587,
          0.01171,
          0.008306000000000001,
          0.2914,
          0.3368,
          0.1235,
          0.04505,
          0.103,
          0.09603,
          0.01502,
          0.04721,
          0.0271,
          0.001194,
          0.03344,
          0.02688,
          0.05862000000000001,
          0.02181,
          0.09799,
          0.1641,
          0.04392,
          0.1168,
          0.2448,
          0.1811,
          0.03393,
          0.1932,
          0.1527,
          0.02556,
          0.06651,
          0.228,
          0.01271,
          0.04249,
          0.1689,
          0.079,
          0.035460000000000005,
          0.07943,
          0.058920000000000014,
          0.05077,
          0.0839,
          0.06838999999999999,
          0.02045,
          0.1007,
          0.1856,
          0.01923,
          0,
          0.1891,
          0.281,
          0.04783,
          0.026810000000000004,
          0.0858,
          0.0739,
          0.02712,
          0.02853,
          0.3189,
          0.026060000000000003,
          0.04057,
          0.03296,
          0.02109,
          0.04944,
          0.055,
          0.06126,
          0.1201,
          0.03211,
          0.02783,
          0.03046,
          0.03735,
          0.06859,
          0.04686,
          0.02555,
          0.02047,
          0.1522,
          0.0236,
          0.008955,
          0.05485,
          0.145,
          0.07097,
          0.09657,
          0.008934000000000001,
          0.00247,
          0.06335,
          0.03614,
          0.01369,
          0.01402,
          0.2733,
          0.07741,
          0.2133,
          0.1594,
          0.033460000000000004,
          0.1126,
          0.01797,
          0.03534,
          0.01342,
          0.02087,
          0.09457,
          0.1204,
          0.01055,
          0.01993,
          0.109,
          0.05441,
          0.1698,
          0.04069,
          0.08817,
          0.1572,
          0.08777,
          0.1655,
          0.04055,
          0.06895,
          0.02966,
          0.02819,
          0.0716,
          0.02772,
          0.01206,
          0.01541,
          0.1007,
          0.3635,
          0.03476,
          0.03367,
          0.04859,
          0.101,
          0.1085,
          0.01479,
          0.2136,
          0.102,
          0.029480000000000006,
          0.02367,
          0.05539,
          0,
          0.05115,
          0.05835,
          0.05063,
          0.02224,
          0.05308,
          0.2236,
          0.02916,
          0.02995,
          0.05786,
          0.04548,
          0.1191,
          0.1544,
          0.051920000000000015,
          0.2256,
          0.04279,
          0.03649,
          0.01714,
          0.04445,
          0.117,
          0.007173000000000001,
          0.018000000000000002,
          0.06824,
          0.08017,
          0.03609,
          0.1491,
          0.2188,
          0.07721,
          0.1357,
          0.059279999999999985,
          0.1676,
          0.0973,
          0.1188,
          0.08175,
          0.04063,
          0.05526,
          0.203,
          0.06726,
          0.03416,
          0.1445,
          0.08222,
          0.07486,
          0.04302,
          0.1569,
          0.1411,
          0.04825,
          0.0388,
          0.033319999999999995,
          0.231,
          0.005067,
          0.05385,
          0.0233,
          0.02565,
          0.042010000000000006,
          0.02958,
          0.101,
          0.03781,
          0.052820000000000006,
          0.042,
          0.017519999999999997,
          0.1523,
          0.05263,
          0.2085,
          0.1463,
          0.04515,
          0,
          0.09252,
          0.06737,
          0.1009,
          0.04105,
          0.02987,
          0.03688,
          0.02974,
          0.01012,
          0.04358,
          0.02337,
          0.01548,
          0,
          0.04824,
          0.01997,
          0.03996,
          0.06195,
          0.05999,
          0.005025,
          0,
          0.1029,
          0.1112,
          0.04462,
          0,
          0.255,
          0.3174,
          0.2439,
          0.14400000000000002,
          0.09251,
          0.3514,
          0
         ]
        },
        {
         "mode": "lines",
         "name": "decision boundary",
         "type": "scatter",
         "x": [
          550,
          600,
          650,
          700,
          750
         ],
         "y": [
          0.41661,
          0.3011275,
          0.18563,
          0.0701,
          -0.045341
         ]
        }
       ],
       "layout": {
        "autosize": true,
        "template": {
         "data": {
          "bar": [
           {
            "error_x": {
             "color": "#2a3f5f"
            },
            "error_y": {
             "color": "#2a3f5f"
            },
            "marker": {
             "line": {
              "color": "#E5ECF6",
              "width": 0.5
             }
            },
            "type": "bar"
           }
          ],
          "barpolar": [
           {
            "marker": {
             "line": {
              "color": "#E5ECF6",
              "width": 0.5
             }
            },
            "type": "barpolar"
           }
          ],
          "carpet": [
           {
            "aaxis": {
             "endlinecolor": "#2a3f5f",
             "gridcolor": "white",
             "linecolor": "white",
             "minorgridcolor": "white",
             "startlinecolor": "#2a3f5f"
            },
            "baxis": {
             "endlinecolor": "#2a3f5f",
             "gridcolor": "white",
             "linecolor": "white",
             "minorgridcolor": "white",
             "startlinecolor": "#2a3f5f"
            },
            "type": "carpet"
           }
          ],
          "choropleth": [
           {
            "colorbar": {
             "outlinewidth": 0,
             "ticks": ""
            },
            "type": "choropleth"
           }
          ],
          "contour": [
           {
            "colorbar": {
             "outlinewidth": 0,
             "ticks": ""
            },
            "colorscale": [
             [
              0,
              "#0d0887"
             ],
             [
              0.1111111111111111,
              "#46039f"
             ],
             [
              0.2222222222222222,
              "#7201a8"
             ],
             [
              0.3333333333333333,
              "#9c179e"
             ],
             [
              0.4444444444444444,
              "#bd3786"
             ],
             [
              0.5555555555555556,
              "#d8576b"
             ],
             [
              0.6666666666666666,
              "#ed7953"
             ],
             [
              0.7777777777777778,
              "#fb9f3a"
             ],
             [
              0.8888888888888888,
              "#fdca26"
             ],
             [
              1,
              "#f0f921"
             ]
            ],
            "type": "contour"
           }
          ],
          "contourcarpet": [
           {
            "colorbar": {
             "outlinewidth": 0,
             "ticks": ""
            },
            "type": "contourcarpet"
           }
          ],
          "heatmap": [
           {
            "colorbar": {
             "outlinewidth": 0,
             "ticks": ""
            },
            "colorscale": [
             [
              0,
              "#0d0887"
             ],
             [
              0.1111111111111111,
              "#46039f"
             ],
             [
              0.2222222222222222,
              "#7201a8"
             ],
             [
              0.3333333333333333,
              "#9c179e"
             ],
             [
              0.4444444444444444,
              "#bd3786"
             ],
             [
              0.5555555555555556,
              "#d8576b"
             ],
             [
              0.6666666666666666,
              "#ed7953"
             ],
             [
              0.7777777777777778,
              "#fb9f3a"
             ],
             [
              0.8888888888888888,
              "#fdca26"
             ],
             [
              1,
              "#f0f921"
             ]
            ],
            "type": "heatmap"
           }
          ],
          "heatmapgl": [
           {
            "colorbar": {
             "outlinewidth": 0,
             "ticks": ""
            },
            "colorscale": [
             [
              0,
              "#0d0887"
             ],
             [
              0.1111111111111111,
              "#46039f"
             ],
             [
              0.2222222222222222,
              "#7201a8"
             ],
             [
              0.3333333333333333,
              "#9c179e"
             ],
             [
              0.4444444444444444,
              "#bd3786"
             ],
             [
              0.5555555555555556,
              "#d8576b"
             ],
             [
              0.6666666666666666,
              "#ed7953"
             ],
             [
              0.7777777777777778,
              "#fb9f3a"
             ],
             [
              0.8888888888888888,
              "#fdca26"
             ],
             [
              1,
              "#f0f921"
             ]
            ],
            "type": "heatmapgl"
           }
          ],
          "histogram": [
           {
            "marker": {
             "colorbar": {
              "outlinewidth": 0,
              "ticks": ""
             }
            },
            "type": "histogram"
           }
          ],
          "histogram2d": [
           {
            "colorbar": {
             "outlinewidth": 0,
             "ticks": ""
            },
            "colorscale": [
             [
              0,
              "#0d0887"
             ],
             [
              0.1111111111111111,
              "#46039f"
             ],
             [
              0.2222222222222222,
              "#7201a8"
             ],
             [
              0.3333333333333333,
              "#9c179e"
             ],
             [
              0.4444444444444444,
              "#bd3786"
             ],
             [
              0.5555555555555556,
              "#d8576b"
             ],
             [
              0.6666666666666666,
              "#ed7953"
             ],
             [
              0.7777777777777778,
              "#fb9f3a"
             ],
             [
              0.8888888888888888,
              "#fdca26"
             ],
             [
              1,
              "#f0f921"
             ]
            ],
            "type": "histogram2d"
           }
          ],
          "histogram2dcontour": [
           {
            "colorbar": {
             "outlinewidth": 0,
             "ticks": ""
            },
            "colorscale": [
             [
              0,
              "#0d0887"
             ],
             [
              0.1111111111111111,
              "#46039f"
             ],
             [
              0.2222222222222222,
              "#7201a8"
             ],
             [
              0.3333333333333333,
              "#9c179e"
             ],
             [
              0.4444444444444444,
              "#bd3786"
             ],
             [
              0.5555555555555556,
              "#d8576b"
             ],
             [
              0.6666666666666666,
              "#ed7953"
             ],
             [
              0.7777777777777778,
              "#fb9f3a"
             ],
             [
              0.8888888888888888,
              "#fdca26"
             ],
             [
              1,
              "#f0f921"
             ]
            ],
            "type": "histogram2dcontour"
           }
          ],
          "mesh3d": [
           {
            "colorbar": {
             "outlinewidth": 0,
             "ticks": ""
            },
            "type": "mesh3d"
           }
          ],
          "parcoords": [
           {
            "line": {
             "colorbar": {
              "outlinewidth": 0,
              "ticks": ""
             }
            },
            "type": "parcoords"
           }
          ],
          "pie": [
           {
            "automargin": true,
            "type": "pie"
           }
          ],
          "scatter": [
           {
            "marker": {
             "colorbar": {
              "outlinewidth": 0,
              "ticks": ""
             }
            },
            "type": "scatter"
           }
          ],
          "scatter3d": [
           {
            "line": {
             "colorbar": {
              "outlinewidth": 0,
              "ticks": ""
             }
            },
            "marker": {
             "colorbar": {
              "outlinewidth": 0,
              "ticks": ""
             }
            },
            "type": "scatter3d"
           }
          ],
          "scattercarpet": [
           {
            "marker": {
             "colorbar": {
              "outlinewidth": 0,
              "ticks": ""
             }
            },
            "type": "scattercarpet"
           }
          ],
          "scattergeo": [
           {
            "marker": {
             "colorbar": {
              "outlinewidth": 0,
              "ticks": ""
             }
            },
            "type": "scattergeo"
           }
          ],
          "scattergl": [
           {
            "marker": {
             "colorbar": {
              "outlinewidth": 0,
              "ticks": ""
             }
            },
            "type": "scattergl"
           }
          ],
          "scattermapbox": [
           {
            "marker": {
             "colorbar": {
              "outlinewidth": 0,
              "ticks": ""
             }
            },
            "type": "scattermapbox"
           }
          ],
          "scatterpolar": [
           {
            "marker": {
             "colorbar": {
              "outlinewidth": 0,
              "ticks": ""
             }
            },
            "type": "scatterpolar"
           }
          ],
          "scatterpolargl": [
           {
            "marker": {
             "colorbar": {
              "outlinewidth": 0,
              "ticks": ""
             }
            },
            "type": "scatterpolargl"
           }
          ],
          "scatterternary": [
           {
            "marker": {
             "colorbar": {
              "outlinewidth": 0,
              "ticks": ""
             }
            },
            "type": "scatterternary"
           }
          ],
          "surface": [
           {
            "colorbar": {
             "outlinewidth": 0,
             "ticks": ""
            },
            "colorscale": [
             [
              0,
              "#0d0887"
             ],
             [
              0.1111111111111111,
              "#46039f"
             ],
             [
              0.2222222222222222,
              "#7201a8"
             ],
             [
              0.3333333333333333,
              "#9c179e"
             ],
             [
              0.4444444444444444,
              "#bd3786"
             ],
             [
              0.5555555555555556,
              "#d8576b"
             ],
             [
              0.6666666666666666,
              "#ed7953"
             ],
             [
              0.7777777777777778,
              "#fb9f3a"
             ],
             [
              0.8888888888888888,
              "#fdca26"
             ],
             [
              1,
              "#f0f921"
             ]
            ],
            "type": "surface"
           }
          ],
          "table": [
           {
            "cells": {
             "fill": {
              "color": "#EBF0F8"
             },
             "line": {
              "color": "white"
             }
            },
            "header": {
             "fill": {
              "color": "#C8D4E3"
             },
             "line": {
              "color": "white"
             }
            },
            "type": "table"
           }
          ]
         },
         "layout": {
          "annotationdefaults": {
           "arrowcolor": "#2a3f5f",
           "arrowhead": 0,
           "arrowwidth": 1
          },
          "coloraxis": {
           "colorbar": {
            "outlinewidth": 0,
            "ticks": ""
           }
          },
          "colorscale": {
           "diverging": [
            [
             0,
             "#8e0152"
            ],
            [
             0.1,
             "#c51b7d"
            ],
            [
             0.2,
             "#de77ae"
            ],
            [
             0.3,
             "#f1b6da"
            ],
            [
             0.4,
             "#fde0ef"
            ],
            [
             0.5,
             "#f7f7f7"
            ],
            [
             0.6,
             "#e6f5d0"
            ],
            [
             0.7,
             "#b8e186"
            ],
            [
             0.8,
             "#7fbc41"
            ],
            [
             0.9,
             "#4d9221"
            ],
            [
             1,
             "#276419"
            ]
           ],
           "sequential": [
            [
             0,
             "#0d0887"
            ],
            [
             0.1111111111111111,
             "#46039f"
            ],
            [
             0.2222222222222222,
             "#7201a8"
            ],
            [
             0.3333333333333333,
             "#9c179e"
            ],
            [
             0.4444444444444444,
             "#bd3786"
            ],
            [
             0.5555555555555556,
             "#d8576b"
            ],
            [
             0.6666666666666666,
             "#ed7953"
            ],
            [
             0.7777777777777778,
             "#fb9f3a"
            ],
            [
             0.8888888888888888,
             "#fdca26"
            ],
            [
             1,
             "#f0f921"
            ]
           ],
           "sequentialminus": [
            [
             0,
             "#0d0887"
            ],
            [
             0.1111111111111111,
             "#46039f"
            ],
            [
             0.2222222222222222,
             "#7201a8"
            ],
            [
             0.3333333333333333,
             "#9c179e"
            ],
            [
             0.4444444444444444,
             "#bd3786"
            ],
            [
             0.5555555555555556,
             "#d8576b"
            ],
            [
             0.6666666666666666,
             "#ed7953"
            ],
            [
             0.7777777777777778,
             "#fb9f3a"
            ],
            [
             0.8888888888888888,
             "#fdca26"
            ],
            [
             1,
             "#f0f921"
            ]
           ]
          },
          "colorway": [
           "#636efa",
           "#EF553B",
           "#00cc96",
           "#ab63fa",
           "#FFA15A",
           "#19d3f3",
           "#FF6692",
           "#B6E880",
           "#FF97FF",
           "#FECB52"
          ],
          "font": {
           "color": "#2a3f5f"
          },
          "geo": {
           "bgcolor": "white",
           "lakecolor": "white",
           "landcolor": "#E5ECF6",
           "showlakes": true,
           "showland": true,
           "subunitcolor": "white"
          },
          "hoverlabel": {
           "align": "left"
          },
          "hovermode": "closest",
          "mapbox": {
           "style": "light"
          },
          "paper_bgcolor": "white",
          "plot_bgcolor": "#E5ECF6",
          "polar": {
           "angularaxis": {
            "gridcolor": "white",
            "linecolor": "white",
            "ticks": ""
           },
           "bgcolor": "#E5ECF6",
           "radialaxis": {
            "gridcolor": "white",
            "linecolor": "white",
            "ticks": ""
           }
          },
          "scene": {
           "xaxis": {
            "backgroundcolor": "#E5ECF6",
            "gridcolor": "white",
            "gridwidth": 2,
            "linecolor": "white",
            "showbackground": true,
            "ticks": "",
            "zerolinecolor": "white"
           },
           "yaxis": {
            "backgroundcolor": "#E5ECF6",
            "gridcolor": "white",
            "gridwidth": 2,
            "linecolor": "white",
            "showbackground": true,
            "ticks": "",
            "zerolinecolor": "white"
           },
           "zaxis": {
            "backgroundcolor": "#E5ECF6",
            "gridcolor": "white",
            "gridwidth": 2,
            "linecolor": "white",
            "showbackground": true,
            "ticks": "",
            "zerolinecolor": "white"
           }
          },
          "shapedefaults": {
           "line": {
            "color": "#2a3f5f"
           }
          },
          "ternary": {
           "aaxis": {
            "gridcolor": "white",
            "linecolor": "white",
            "ticks": ""
           },
           "baxis": {
            "gridcolor": "white",
            "linecolor": "white",
            "ticks": ""
           },
           "bgcolor": "#E5ECF6",
           "caxis": {
            "gridcolor": "white",
            "linecolor": "white",
            "ticks": ""
           }
          },
          "title": {
           "x": 0.05
          },
          "xaxis": {
           "automargin": true,
           "gridcolor": "white",
           "linecolor": "white",
           "ticks": "",
           "title": {
            "standoff": 15
           },
           "zerolinecolor": "white",
           "zerolinewidth": 2
          },
          "yaxis": {
           "automargin": true,
           "gridcolor": "white",
           "linecolor": "white",
           "ticks": "",
           "title": {
            "standoff": 15
           },
           "zerolinecolor": "white",
           "zerolinewidth": 2
          }
         }
        },
        "title": {
         "text": "Is it cancerous?"
        },
        "xaxis": {
         "autorange": true,
         "range": [
          -20.98609689525756,
          2665.4860968952576
         ],
         "title": {
          "text": "mean area"
         },
         "type": "linear"
        },
        "yaxis": {
         "range": [
          0,
          0.5
         ],
         "title": {
          "text": "mean concavity"
         },
         "type": "linear"
        }
       }
      },
      "image/png": "[encoded data removed]",
      "text/html": [
       "<div>\n",
       "        \n",
       "        \n",
       "            <div id=\"8e1ebc3c-f136-4b44-913d-fafaf3ddfbeb\" class=\"plotly-graph-div\" style=\"height:525px; width:100%;\"></div>\n",
       "            <script type=\"text/javascript\">\n",
       "                require([\"plotly\"], function(Plotly) {\n",
       "                    window.PLOTLYENV=window.PLOTLYENV || {};\n",
       "                    \n",
       "                if (document.getElementById(\"8e1ebc3c-f136-4b44-913d-fafaf3ddfbeb\")) {\n",
       "                    Plotly.newPlot(\n",
       "                        '8e1ebc3c-f136-4b44-913d-fafaf3ddfbeb',\n",
       "                        [{\"hovertext\": [\"0.0\", \"0.0\", \"0.0\", \"0.0\", \"0.0\", \"0.0\", \"0.0\", \"0.0\", \"0.0\", \"0.0\", \"0.0\", \"0.0\", \"0.0\", \"0.0\", \"0.0\", \"0.0\", \"0.0\", \"0.0\", \"0.0\", \"1.0\", \"1.0\", \"1.0\", \"0.0\", \"0.0\", \"0.0\", \"0.0\", \"0.0\", \"0.0\", \"0.0\", \"0.0\", \"0.0\", \"0.0\", \"0.0\", \"0.0\", \"0.0\", \"0.0\", \"0.0\", \"1.0\", \"0.0\", \"0.0\", \"0.0\", \"0.0\", \"0.0\", \"0.0\", \"0.0\", \"0.0\", \"1.0\", \"0.0\", \"1.0\", \"1.0\", \"1.0\", \"1.0\", \"1.0\", \"0.0\", \"0.0\", \"1.0\", \"0.0\", \"0.0\", \"1.0\", \"1.0\", \"1.0\", \"1.0\", \"0.0\", \"1.0\", \"0.0\", \"0.0\", \"1.0\", \"1.0\", \"1.0\", \"1.0\", \"0.0\", \"1.0\", \"0.0\", \"0.0\", \"1.0\", \"0.0\", \"1.0\", \"0.0\", \"0.0\", \"1.0\", \"1.0\", \"1.0\", \"0.0\", \"0.0\", \"1.0\", \"0.0\", \"0.0\", \"0.0\", \"1.0\", \"1.0\", \"1.0\", \"0.0\", \"1.0\", \"1.0\", \"0.0\", \"0.0\", \"1.0\", \"1.0\", \"1.0\", \"0.0\", \"0.0\", \"1.0\", \"1.0\", \"1.0\", \"1.0\", \"0.0\", \"1.0\", \"1.0\", \"0.0\", \"1.0\", \"1.0\", \"1.0\", \"1.0\", \"1.0\", \"1.0\", \"1.0\", \"1.0\", \"0.0\", \"0.0\", \"0.0\", \"1.0\", \"0.0\", \"0.0\", \"1.0\", \"1.0\", \"1.0\", \"0.0\", \"0.0\", \"1.0\", \"0.0\", \"1.0\", \"0.0\", \"0.0\", \"1.0\", \"0.0\", \"0.0\", \"1.0\", \"1.0\", \"0.0\", \"1.0\", \"1.0\", \"0.0\", \"1.0\", \"1.0\", \"1.0\", \"1.0\", \"0.0\", \"1.0\", \"1.0\", \"1.0\", \"1.0\", \"1.0\", \"1.0\", \"1.0\", \"1.0\", \"1.0\", \"0.0\", \"1.0\", \"1.0\", \"1.0\", \"1.0\", \"0.0\", \"0.0\", \"1.0\", \"0.0\", \"1.0\", \"1.0\", \"0.0\", \"0.0\", \"1.0\", \"1.0\", \"0.0\", \"0.0\", \"1.0\", \"1.0\", \"1.0\", \"1.0\", \"0.0\", \"1.0\", \"1.0\", \"0.0\", \"0.0\", \"0.0\", \"1.0\", \"0.0\", \"1.0\", \"0.0\", \"1.0\", \"1.0\", \"1.0\", \"0.0\", \"1.0\", \"1.0\", \"0.0\", \"0.0\", \"1.0\", \"0.0\", \"0.0\", \"0.0\", \"0.0\", \"1.0\", \"0.0\", \"0.0\", \"0.0\", \"1.0\", \"0.0\", \"1.0\", \"0.0\", \"1.0\", \"1.0\", \"0.0\", \"1.0\", \"0.0\", \"0.0\", \"0.0\", \"0.0\", \"1.0\", \"1.0\", \"0.0\", \"0.0\", \"1.0\", \"1.0\", \"1.0\", \"0.0\", \"1.0\", \"1.0\", \"1.0\", \"1.0\", \"1.0\", \"0.0\", \"0.0\", \"1.0\", \"1.0\", \"0.0\", \"1.0\", \"1.0\", \"0.0\", \"0.0\", \"1.0\", \"0.0\", \"1.0\", \"1.0\", \"1.0\", \"1.0\", \"0.0\", \"1.0\", \"1.0\", \"1.0\", \"1.0\", \"1.0\", \"0.0\", \"1.0\", \"0.0\", \"0.0\", \"0.0\", \"0.0\", \"0.0\", \"0.0\", \"0.0\", \"0.0\", \"0.0\", \"0.0\", \"0.0\", \"0.0\", \"0.0\", \"0.0\", \"1.0\", \"1.0\", \"1.0\", \"1.0\", \"1.0\", \"1.0\", \"0.0\", \"1.0\", \"0.0\", \"1.0\", \"1.0\", \"0.0\", \"1.0\", \"1.0\", \"0.0\", \"1.0\", \"0.0\", \"0.0\", \"1.0\", \"1.0\", \"1.0\", \"1.0\", \"1.0\", \"1.0\", \"1.0\", \"1.0\", \"1.0\", \"1.0\", \"1.0\", \"1.0\", \"1.0\", \"0.0\", \"1.0\", \"1.0\", \"0.0\", \"1.0\", \"0.0\", \"1.0\", \"1.0\", \"1.0\", \"1.0\", \"1.0\", \"1.0\", \"1.0\", \"1.0\", \"1.0\", \"1.0\", \"1.0\", \"1.0\", \"1.0\", \"1.0\", \"0.0\", \"1.0\", \"1.0\", \"1.0\", \"0.0\", \"1.0\", \"0.0\", \"1.0\", \"1.0\", \"1.0\", \"1.0\", \"0.0\", \"0.0\", \"0.0\", \"1.0\", \"1.0\", \"1.0\", \"1.0\", \"0.0\", \"1.0\", \"0.0\", \"1.0\", \"0.0\", \"1.0\", \"1.0\", \"1.0\", \"0.0\", \"1.0\", \"1.0\", \"1.0\", \"1.0\", \"1.0\", \"1.0\", \"1.0\", \"0.0\", \"0.0\", \"0.0\", \"1.0\", \"1.0\", \"1.0\", \"1.0\", \"1.0\", \"1.0\", \"1.0\", \"1.0\", \"1.0\", \"1.0\", \"1.0\", \"0.0\", \"0.0\", \"1.0\", \"0.0\", \"0.0\", \"0.0\", \"1.0\", \"0.0\", \"0.0\", \"1.0\", \"1.0\", \"1.0\", \"1.0\", \"1.0\", \"0.0\", \"1.0\", \"1.0\", \"1.0\", \"1.0\", \"1.0\", \"0.0\", \"1.0\", \"1.0\", \"1.0\", \"0.0\", \"1.0\", \"1.0\", \"0.0\", \"0.0\", \"1.0\", \"1.0\", \"1.0\", \"1.0\", \"1.0\", \"1.0\", \"0.0\", \"1.0\", \"1.0\", \"1.0\", \"1.0\", \"1.0\", \"1.0\", \"1.0\", \"0.0\", \"1.0\", \"1.0\", \"1.0\", \"1.0\", \"1.0\", \"0.0\", \"1.0\", \"1.0\", \"0.0\", \"1.0\", \"1.0\", \"1.0\", \"1.0\", \"1.0\", \"1.0\", \"1.0\", \"1.0\", \"1.0\", \"1.0\", \"1.0\", \"1.0\", \"0.0\", \"1.0\", \"0.0\", \"0.0\", \"1.0\", \"0.0\", \"1.0\", \"1.0\", \"1.0\", \"1.0\", \"1.0\", \"0.0\", \"1.0\", \"1.0\", \"0.0\", \"1.0\", \"0.0\", \"1.0\", \"1.0\", \"0.0\", \"1.0\", \"0.0\", \"1.0\", \"1.0\", \"1.0\", \"1.0\", \"1.0\", \"1.0\", \"1.0\", \"1.0\", \"0.0\", \"0.0\", \"1.0\", \"1.0\", \"1.0\", \"1.0\", \"1.0\", \"1.0\", \"0.0\", \"1.0\", \"1.0\", \"1.0\", \"1.0\", \"1.0\", \"1.0\", \"1.0\", \"1.0\", \"1.0\", \"1.0\", \"0.0\", \"1.0\", \"1.0\", \"1.0\", \"1.0\", \"1.0\", \"1.0\", \"1.0\", \"0.0\", \"1.0\", \"0.0\", \"1.0\", \"1.0\", \"0.0\", \"1.0\", \"1.0\", \"1.0\", \"1.0\", \"1.0\", \"0.0\", \"0.0\", \"1.0\", \"0.0\", \"1.0\", \"0.0\", \"1.0\", \"1.0\", \"1.0\", \"1.0\", \"1.0\", \"0.0\", \"1.0\", \"1.0\", \"0.0\", \"1.0\", \"0.0\", \"1.0\", \"0.0\", \"0.0\", \"1.0\", \"1.0\", \"1.0\", \"0.0\", \"1.0\", \"1.0\", \"1.0\", \"1.0\", \"1.0\", \"1.0\", \"1.0\", \"1.0\", \"1.0\", \"1.0\", \"1.0\", \"0.0\", \"1.0\", \"0.0\", \"0.0\", \"1.0\", \"1.0\", \"1.0\", \"1.0\", \"1.0\", \"1.0\", \"1.0\", \"1.0\", \"1.0\", \"1.0\", \"1.0\", \"1.0\", \"1.0\", \"1.0\", \"1.0\", \"1.0\", \"1.0\", \"1.0\", \"1.0\", \"1.0\", \"1.0\", \"1.0\", \"1.0\", \"1.0\", \"1.0\", \"0.0\", \"0.0\", \"0.0\", \"0.0\", \"0.0\", \"0.0\", \"1.0\"], \"marker\": {\"color\": [0, 0, 0, 0, 0, 0, 0, 0, 0, 0, 0, 0, 0, 0, 0, 0, 0, 0, 0, 1, 1, 1, 0, 0, 0, 0, 0, 0, 0, 0, 0, 0, 0, 0, 0, 0, 0, 1, 0, 0, 0, 0, 0, 0, 0, 0, 1, 0, 1, 1, 1, 1, 1, 0, 0, 1, 0, 0, 1, 1, 1, 1, 0, 1, 0, 0, 1, 1, 1, 1, 0, 1, 0, 0, 1, 0, 1, 0, 0, 1, 1, 1, 0, 0, 1, 0, 0, 0, 1, 1, 1, 0, 1, 1, 0, 0, 1, 1, 1, 0, 0, 1, 1, 1, 1, 0, 1, 1, 0, 1, 1, 1, 1, 1, 1, 1, 1, 0, 0, 0, 1, 0, 0, 1, 1, 1, 0, 0, 1, 0, 1, 0, 0, 1, 0, 0, 1, 1, 0, 1, 1, 0, 1, 1, 1, 1, 0, 1, 1, 1, 1, 1, 1, 1, 1, 1, 0, 1, 1, 1, 1, 0, 0, 1, 0, 1, 1, 0, 0, 1, 1, 0, 0, 1, 1, 1, 1, 0, 1, 1, 0, 0, 0, 1, 0, 1, 0, 1, 1, 1, 0, 1, 1, 0, 0, 1, 0, 0, 0, 0, 1, 0, 0, 0, 1, 0, 1, 0, 1, 1, 0, 1, 0, 0, 0, 0, 1, 1, 0, 0, 1, 1, 1, 0, 1, 1, 1, 1, 1, 0, 0, 1, 1, 0, 1, 1, 0, 0, 1, 0, 1, 1, 1, 1, 0, 1, 1, 1, 1, 1, 0, 1, 0, 0, 0, 0, 0, 0, 0, 0, 0, 0, 0, 0, 0, 0, 1, 1, 1, 1, 1, 1, 0, 1, 0, 1, 1, 0, 1, 1, 0, 1, 0, 0, 1, 1, 1, 1, 1, 1, 1, 1, 1, 1, 1, 1, 1, 0, 1, 1, 0, 1, 0, 1, 1, 1, 1, 1, 1, 1, 1, 1, 1, 1, 1, 1, 1, 0, 1, 1, 1, 0, 1, 0, 1, 1, 1, 1, 0, 0, 0, 1, 1, 1, 1, 0, 1, 0, 1, 0, 1, 1, 1, 0, 1, 1, 1, 1, 1, 1, 1, 0, 0, 0, 1, 1, 1, 1, 1, 1, 1, 1, 1, 1, 1, 0, 0, 1, 0, 0, 0, 1, 0, 0, 1, 1, 1, 1, 1, 0, 1, 1, 1, 1, 1, 0, 1, 1, 1, 0, 1, 1, 0, 0, 1, 1, 1, 1, 1, 1, 0, 1, 1, 1, 1, 1, 1, 1, 0, 1, 1, 1, 1, 1, 0, 1, 1, 0, 1, 1, 1, 1, 1, 1, 1, 1, 1, 1, 1, 1, 0, 1, 0, 0, 1, 0, 1, 1, 1, 1, 1, 0, 1, 1, 0, 1, 0, 1, 1, 0, 1, 0, 1, 1, 1, 1, 1, 1, 1, 1, 0, 0, 1, 1, 1, 1, 1, 1, 0, 1, 1, 1, 1, 1, 1, 1, 1, 1, 1, 0, 1, 1, 1, 1, 1, 1, 1, 0, 1, 0, 1, 1, 0, 1, 1, 1, 1, 1, 0, 0, 1, 0, 1, 0, 1, 1, 1, 1, 1, 0, 1, 1, 0, 1, 0, 1, 0, 0, 1, 1, 1, 0, 1, 1, 1, 1, 1, 1, 1, 1, 1, 1, 1, 0, 1, 0, 0, 1, 1, 1, 1, 1, 1, 1, 1, 1, 1, 1, 1, 1, 1, 1, 1, 1, 1, 1, 1, 1, 1, 1, 1, 1, 0, 0, 0, 0, 0, 0, 1], \"colorscale\": [[0.0, \"#440154\"], [0.1111111111111111, \"#482878\"], [0.2222222222222222, \"#3e4989\"], [0.3333333333333333, \"#31688e\"], [0.4444444444444444, \"#26828e\"], [0.5555555555555556, \"#1f9e89\"], [0.6666666666666666, \"#35b779\"], [0.7777777777777778, \"#6ece58\"], [0.8888888888888888, \"#b5de2b\"], [1.0, \"#fde725\"]]}, \"mode\": \"markers\", \"type\": \"scatter\", \"x\": [1001.0, 1326.0, 1203.0, 386.1, 1297.0, 477.1, 1040.0, 577.9, 519.8, 475.9, 797.8, 781.0, 1123.0, 782.7, 578.3, 658.8, 684.5, 798.8, 1260.0, 566.3, 520.0, 273.9, 704.4, 1404.0, 904.6, 912.7, 644.8, 1094.0, 732.4, 955.1, 1088.0, 440.6, 899.3, 1162.0, 807.2, 869.5, 633.0, 523.8, 698.8, 559.2, 563.0, 371.1, 1104.0, 545.2, 531.5, 1076.0, 201.9, 534.6, 449.3, 561.0, 427.9, 571.8, 437.6, 1033.0, 712.8, 409.0, 1152.0, 656.9, 527.2, 224.5, 311.9, 221.8, 645.7, 260.9, 499.0, 668.3, 269.4, 394.1, 250.5, 502.5, 1130.0, 244.0, 929.4, 584.1, 470.9, 817.7, 559.2, 1006.0, 1245.0, 506.3, 401.5, 520.0, 1878.0, 1132.0, 443.3, 1075.0, 648.2, 1076.0, 466.1, 651.9, 662.7, 728.2, 551.7, 555.1, 705.6, 1264.0, 451.1, 294.5, 412.6, 642.5, 582.7, 143.5, 458.7, 298.3, 336.1, 530.2, 412.5, 466.7, 1509.0, 396.5, 290.2, 480.4, 629.9, 334.2, 230.9, 438.6, 245.2, 682.5, 782.6, 982.0, 403.3, 1077.0, 1761.0, 640.7, 553.5, 588.7, 572.6, 1138.0, 674.5, 1192.0, 455.8, 748.9, 809.8, 761.7, 1075.0, 506.3, 423.6, 399.8, 678.1, 384.8, 288.5, 813.0, 398.0, 512.2, 355.3, 432.8, 432.0, 689.5, 640.1, 585.0, 519.4, 203.9, 300.2, 381.9, 538.9, 460.3, 963.7, 880.2, 448.6, 366.8, 419.8, 1157.0, 1214.0, 464.5, 1686.0, 690.2, 357.6, 886.3, 984.6, 685.9, 464.1, 565.4, 736.9, 372.7, 349.6, 227.2, 302.4, 832.9, 526.4, 508.8, 2250.0, 1311.0, 766.6, 402.0, 710.6, 317.5, 1041.0, 420.3, 428.9, 463.7, 609.9, 507.4, 288.1, 477.4, 671.4, 516.4, 588.9, 1024.0, 1148.0, 642.7, 461.0, 951.6, 1685.0, 597.8, 481.9, 716.6, 295.4, 904.3, 529.4, 725.5, 1290.0, 428.0, 2499.0, 948.0, 610.7, 578.9, 432.2, 321.2, 1230.0, 1223.0, 568.9, 561.3, 313.1, 761.3, 546.4, 641.2, 329.6, 684.5, 496.4, 503.2, 895.0, 395.7, 386.8, 1319.0, 279.6, 603.4, 1670.0, 1306.0, 623.9, 920.6, 575.3, 476.5, 389.4, 590.0, 1155.0, 337.7, 541.6, 512.2, 347.0, 406.3, 1364.0, 407.4, 1206.0, 928.2, 1169.0, 602.4, 1207.0, 713.3, 773.5, 744.9, 1288.0, 933.1, 947.8, 758.6, 928.3, 1419.0, 346.4, 561.0, 512.2, 344.9, 632.6, 388.0, 1491.0, 289.9, 998.9, 435.6, 396.6, 1102.0, 572.3, 587.4, 1138.0, 427.3, 1145.0, 805.1, 516.6, 489.0, 441.0, 515.9, 394.1, 396.0, 651.0, 687.3, 513.7, 432.7, 492.1, 582.7, 363.7, 431.1, 633.1, 334.2, 1217.0, 471.3, 1247.0, 334.3, 403.1, 417.2, 537.3, 246.3, 566.2, 530.6, 418.7, 664.9, 504.1, 409.1, 221.2, 481.6, 461.4, 1027.0, 244.5, 477.3, 324.2, 1274.0, 504.8, 1264.0, 457.9, 489.9, 616.5, 446.0, 813.7, 826.8, 793.2, 514.0, 387.3, 390.0, 464.4, 918.6, 514.3, 1092.0, 310.8, 1747.0, 641.2, 280.5, 373.9, 1194.0, 420.3, 321.6, 445.3, 668.7, 402.7, 426.7, 421.0, 758.6, 2010.0, 716.6, 384.6, 485.8, 512.0, 593.7, 241.0, 278.6, 491.9, 546.1, 496.6, 838.1, 552.4, 1293.0, 1234.0, 458.4, 1546.0, 1482.0, 840.4, 711.8, 1386.0, 1335.0, 579.1, 788.5, 338.3, 562.1, 580.6, 361.6, 386.3, 372.7, 447.8, 462.9, 541.8, 664.7, 462.0, 596.6, 392.0, 1174.0, 321.6, 234.3, 744.7, 1407.0, 446.2, 609.1, 558.1, 508.3, 378.2, 431.9, 994.0, 442.7, 525.2, 507.6, 469.1, 370.0, 800.0, 514.5, 991.7, 466.1, 399.8, 373.2, 268.8, 693.7, 719.5, 433.8, 271.2, 803.1, 495.0, 380.3, 409.7, 656.1, 408.2, 575.3, 289.7, 307.3, 333.6, 359.9, 381.1, 501.3, 685.0, 467.8, 1250.0, 1110.0, 673.7, 599.5, 509.2, 611.2, 592.6, 606.5, 371.5, 928.8, 585.9, 340.9, 990.0, 441.3, 981.6, 674.8, 659.7, 1384.0, 432.0, 1191.0, 442.5, 644.2, 492.9, 557.2, 415.1, 537.9, 520.2, 290.9, 930.9, 2501.0, 646.1, 412.7, 537.3, 542.9, 536.9, 286.3, 980.5, 408.8, 289.1, 449.9, 686.9, 465.4, 358.9, 506.9, 618.4, 599.4, 404.9, 815.8, 455.3, 602.9, 546.3, 571.1, 747.2, 476.7, 666.0, 1167.0, 420.5, 857.6, 466.5, 992.1, 1007.0, 477.3, 538.7, 680.9, 485.6, 480.1, 1068.0, 1320.0, 689.4, 595.9, 476.3, 1682.0, 248.7, 272.5, 453.1, 366.5, 819.8, 731.3, 426.0, 680.7, 556.7, 658.8, 701.9, 391.2, 1052.0, 1214.0, 493.1, 493.8, 257.8, 1841.0, 388.1, 571.0, 293.2, 221.3, 551.1, 468.5, 594.2, 445.2, 422.9, 416.2, 575.5, 1299.0, 365.6, 1308.0, 629.8, 406.4, 178.8, 170.4, 402.9, 656.4, 668.6, 538.4, 584.8, 573.2, 324.9, 320.8, 285.7, 361.6, 360.5, 378.4, 507.9, 264.0, 514.3, 321.4, 311.7, 271.3, 657.1, 403.5, 600.4, 386.0, 716.9, 1347.0, 1479.0, 1261.0, 858.1, 1265.0, 181.0], \"y\": [0.3001, 0.0869, 0.1974, 0.2414, 0.198, 0.1578, 0.1127, 0.09366, 0.1859, 0.2273, 0.03299, 0.09954, 0.2065, 0.09938, 0.2128, 0.1639, 0.07395, 0.1722, 0.1479, 0.06663999999999999, 0.04568, 0.029560000000000006, 0.2077, 0.1097, 0.1525, 0.2229, 0.1425, 0.149, 0.1683, 0.09875, 0.2319, 0.1218, 0.2417, 0.1657, 0.1354, 0.1348, 0.1319, 0.02562, 0.02398, 0.1063, 0.0311, 0.1044, 0.2107, 0.09847, 0.08259, 0.1974, 0.015880000000000002, 0.1226, 0.06592, 0.04751, 0.016569999999999998, 0.01857, 0.01972, 0.1772, 0.052529999999999986, 0.03036, 0.1323, 0.1293, 0.000692, 0.02061, 0.01084, 0.03, 0.2135, 0.05988, 0.1128, 0.1267, 0.02172, 0.03709, 0.313, 0.03653, 0.108, 0.08606, 0.1692, 0.07789, 0.03372, 0.09769, 0.06877, 0.1684, 0.3754, 0.03889, 0.04591, 0.1169, 0.3339, 0.1937, 0.041510000000000005, 0.1335, 0.1204, 0.1468, 0.06015, 0.09966, 0.03102, 0.1122, 0.03261, 0.03974, 0.17, 0.1465, 0.0249, 0.006829000000000001, 0.04196, 0.09388, 0.08625, 0.0, 0.02383, 0.06154, 0.02995, 0.2071, 0.0707, 0.02643, 0.4264, 0.05133, 0.04334, 0.1065, 0.3003, 0.06476, 0.04132, 0.033280000000000004, 0.09263, 0.16899999999999998, 0.2133, 0.07293, 0.03512, 0.1457, 0.4268, 0.08842, 0.08092, 0.0142, 0.05285, 0.09271, 0.1138, 0.2545, 0.02855, 0.1466, 0.1043, 0.07135, 0.1153, 0.04711, 0.03592, 0.03503, 0.1539, 0.04635, 0.0, 0.09447, 0.02031, 0.04894, 0.02251, 0.0371, 0.1659, 0.0905, 0.08487, 0.02881, 0.03136, 0.1321, 0.4108, 0.01982, 0.09293, 0.03885, 0.1855, 0.0515, 0.01972, 0.00309, 0.06842999999999999, 0.1193, 0.2508, 0.0537, 0.1324, 0.01947, 0.02531, 0.08422, 0.2159, 0.02602, 0.03987, 0.058579999999999986, 0.2032, 0.02363, 0.0, 0.0, 0.1307, 0.1793, 0.0015949999999999998, 0.009193000000000002, 0.2871, 0.2487, 0.06592999999999999, 0.06181, 0.05375, 0.001597, 0.08169, 0.03809, 0.02353, 0.03844, 0.1981, 0.03112, 0.0, 0.1085, 0.1697, 0.03873, 0.1385, 0.1103, 0.1114, 0.118, 0.04187, 0.1036, 0.3523, 0.1558, 0.08005, 0.0755, 0.01756, 0.0695, 0.08705, 0.058920000000000014, 0.16399999999999998, 0.02669, 0.3201, 0.1682, 0.1115, 0.09901, 0.06636, 0.05774, 0.1272, 0.1145, 0.03888, 0.0786, 0.01768, 0.1147, 0.035539999999999995, 0.05724, 0.0066430000000000005, 0.06505, 0.05438, 0.1695, 0.191, 0.01633, 0.004967, 0.1554, 0.01652, 0.01462, 0.195, 0.09042, 0.1103, 0.1417, 0.04705, 0.01053, 0.1548, 0.04697, 0.2049, 0.048310000000000006, 0.04336, 0.1374, 0.02379, 0.04328, 0.2712, 0.02638, 0.2417, 0.1266, 0.1379, 0.09789, 0.1784, 0.2448, 0.3176, 0.1751, 0.1519, 0.02891, 0.09697, 0.04209, 0.09061, 0.1367, 0.06387000000000001, 0.04072, 0.039, 0.08448, 0.00725, 0.03265, 0.2195, 0.01103, 0.05699, 0.05929, 0.0014869999999999998, 0.0802, 0.01997, 0.04479, 0.1921, 0.02245, 0.1626, 0.1948, 0.1115, 0.00186, 0.06573999999999999, 0.0226, 0.09274, 0.02399, 0.1362, 0.0594, 0.06155, 0.02688, 0.01288, 0.01063, 0.01236, 0.02685, 0.02475, 0.02495, 0.2197, 0.0683, 0.2283, 0.02297, 0.03344, 0.01974, 0.0014609999999999998, 0.003681, 0.002758, 0.0045590000000000006, 0.01583, 0.014469999999999997, 0.04052, 0.013669999999999998, 0.0, 0.004473, 0.01123, 0.113, 0.1975, 0.01342, 0.06726, 0.1155, 0.038, 0.2565, 0.01994, 0.03193, 0.01765, 0.001546, 0.1478, 0.1799, 0.1204, 0.07107000000000001, 0.005006, 0.0009737, 0.007756, 0.1508, 0.03738, 0.106, 0.02511, 0.2308, 0.08007, 0.08422, 0.05397, 0.1863, 0.040060000000000005, 0.03581, 0.0075099999999999984, 0.04608, 0.02587, 0.01171, 0.008306000000000001, 0.2914, 0.3368, 0.1235, 0.04505, 0.103, 0.09603, 0.01502, 0.04721, 0.0271, 0.001194, 0.03344, 0.02688, 0.05862000000000001, 0.02181, 0.09799, 0.1641, 0.04392, 0.1168, 0.2448, 0.1811, 0.03393, 0.1932, 0.1527, 0.02556, 0.06651, 0.228, 0.01271, 0.04249, 0.1689, 0.079, 0.035460000000000005, 0.07943, 0.058920000000000014, 0.05077, 0.0839, 0.06838999999999999, 0.02045, 0.1007, 0.1856, 0.01923, 0.0, 0.1891, 0.281, 0.04783, 0.026810000000000004, 0.0858, 0.0739, 0.02712, 0.02853, 0.3189, 0.026060000000000003, 0.04057, 0.03296, 0.02109, 0.04944, 0.055, 0.06126, 0.1201, 0.03211, 0.02783, 0.03046, 0.03735, 0.06859, 0.04686, 0.02555, 0.02047, 0.1522, 0.0236, 0.008955, 0.05485, 0.145, 0.07097, 0.09657, 0.008934000000000001, 0.00247, 0.06335, 0.03614, 0.01369, 0.01402, 0.2733, 0.07741, 0.2133, 0.1594, 0.033460000000000004, 0.1126, 0.01797, 0.03534, 0.01342, 0.02087, 0.09457, 0.1204, 0.01055, 0.01993, 0.109, 0.05441, 0.1698, 0.04069, 0.08817, 0.1572, 0.08777, 0.1655, 0.04055, 0.06895, 0.02966, 0.02819, 0.0716, 0.02772, 0.01206, 0.01541, 0.1007, 0.3635, 0.03476, 0.03367, 0.04859, 0.101, 0.1085, 0.01479, 0.2136, 0.102, 0.029480000000000006, 0.02367, 0.05539, 0.0, 0.05115, 0.05835, 0.05063, 0.02224, 0.05308, 0.2236, 0.02916, 0.02995, 0.05786, 0.04548, 0.1191, 0.1544, 0.051920000000000015, 0.2256, 0.04279, 0.03649, 0.01714, 0.04445, 0.117, 0.007173000000000001, 0.018000000000000002, 0.06824, 0.08017, 0.03609, 0.1491, 0.2188, 0.07721, 0.1357, 0.059279999999999985, 0.1676, 0.0973, 0.1188, 0.08175, 0.04063, 0.05526, 0.203, 0.06726, 0.03416, 0.1445, 0.08222, 0.07486, 0.04302, 0.1569, 0.1411, 0.04825, 0.0388, 0.033319999999999995, 0.231, 0.005067, 0.05385, 0.0233, 0.02565, 0.042010000000000006, 0.02958, 0.101, 0.03781, 0.052820000000000006, 0.042, 0.017519999999999997, 0.1523, 0.05263, 0.2085, 0.1463, 0.04515, 0.0, 0.09252, 0.06737, 0.1009, 0.04105, 0.02987, 0.03688, 0.02974, 0.01012, 0.04358, 0.02337, 0.01548, 0.0, 0.04824, 0.01997, 0.03996, 0.06195, 0.05999, 0.005025, 0.0, 0.1029, 0.1112, 0.04462, 0.0, 0.255, 0.3174, 0.2439, 0.14400000000000002, 0.09251, 0.3514, 0.0]}, {\"mode\": \"lines\", \"name\": \"decision boundary\", \"type\": \"scatter\", \"x\": [550, 600, 650, 700, 750], \"y\": [0.41661, 0.3011275, 0.18563, 0.0701, -0.045341]}],\n",
       "                        {\"template\": {\"data\": {\"bar\": [{\"error_x\": {\"color\": \"#2a3f5f\"}, \"error_y\": {\"color\": \"#2a3f5f\"}, \"marker\": {\"line\": {\"color\": \"#E5ECF6\", \"width\": 0.5}}, \"type\": \"bar\"}], \"barpolar\": [{\"marker\": {\"line\": {\"color\": \"#E5ECF6\", \"width\": 0.5}}, \"type\": \"barpolar\"}], \"carpet\": [{\"aaxis\": {\"endlinecolor\": \"#2a3f5f\", \"gridcolor\": \"white\", \"linecolor\": \"white\", \"minorgridcolor\": \"white\", \"startlinecolor\": \"#2a3f5f\"}, \"baxis\": {\"endlinecolor\": \"#2a3f5f\", \"gridcolor\": \"white\", \"linecolor\": \"white\", \"minorgridcolor\": \"white\", \"startlinecolor\": \"#2a3f5f\"}, \"type\": \"carpet\"}], \"choropleth\": [{\"colorbar\": {\"outlinewidth\": 0, \"ticks\": \"\"}, \"type\": \"choropleth\"}], \"contour\": [{\"colorbar\": {\"outlinewidth\": 0, \"ticks\": \"\"}, \"colorscale\": [[0.0, \"#0d0887\"], [0.1111111111111111, \"#46039f\"], [0.2222222222222222, \"#7201a8\"], [0.3333333333333333, \"#9c179e\"], [0.4444444444444444, \"#bd3786\"], [0.5555555555555556, \"#d8576b\"], [0.6666666666666666, \"#ed7953\"], [0.7777777777777778, \"#fb9f3a\"], [0.8888888888888888, \"#fdca26\"], [1.0, \"#f0f921\"]], \"type\": \"contour\"}], \"contourcarpet\": [{\"colorbar\": {\"outlinewidth\": 0, \"ticks\": \"\"}, \"type\": \"contourcarpet\"}], \"heatmap\": [{\"colorbar\": {\"outlinewidth\": 0, \"ticks\": \"\"}, \"colorscale\": [[0.0, \"#0d0887\"], [0.1111111111111111, \"#46039f\"], [0.2222222222222222, \"#7201a8\"], [0.3333333333333333, \"#9c179e\"], [0.4444444444444444, \"#bd3786\"], [0.5555555555555556, \"#d8576b\"], [0.6666666666666666, \"#ed7953\"], [0.7777777777777778, \"#fb9f3a\"], [0.8888888888888888, \"#fdca26\"], [1.0, \"#f0f921\"]], \"type\": \"heatmap\"}], \"heatmapgl\": [{\"colorbar\": {\"outlinewidth\": 0, \"ticks\": \"\"}, \"colorscale\": [[0.0, \"#0d0887\"], [0.1111111111111111, \"#46039f\"], [0.2222222222222222, \"#7201a8\"], [0.3333333333333333, \"#9c179e\"], [0.4444444444444444, \"#bd3786\"], [0.5555555555555556, \"#d8576b\"], [0.6666666666666666, \"#ed7953\"], [0.7777777777777778, \"#fb9f3a\"], [0.8888888888888888, \"#fdca26\"], [1.0, \"#f0f921\"]], \"type\": \"heatmapgl\"}], \"histogram\": [{\"marker\": {\"colorbar\": {\"outlinewidth\": 0, \"ticks\": \"\"}}, \"type\": \"histogram\"}], \"histogram2d\": [{\"colorbar\": {\"outlinewidth\": 0, \"ticks\": \"\"}, \"colorscale\": [[0.0, \"#0d0887\"], [0.1111111111111111, \"#46039f\"], [0.2222222222222222, \"#7201a8\"], [0.3333333333333333, \"#9c179e\"], [0.4444444444444444, \"#bd3786\"], [0.5555555555555556, \"#d8576b\"], [0.6666666666666666, \"#ed7953\"], [0.7777777777777778, \"#fb9f3a\"], [0.8888888888888888, \"#fdca26\"], [1.0, \"#f0f921\"]], \"type\": \"histogram2d\"}], \"histogram2dcontour\": [{\"colorbar\": {\"outlinewidth\": 0, \"ticks\": \"\"}, \"colorscale\": [[0.0, \"#0d0887\"], [0.1111111111111111, \"#46039f\"], [0.2222222222222222, \"#7201a8\"], [0.3333333333333333, \"#9c179e\"], [0.4444444444444444, \"#bd3786\"], [0.5555555555555556, \"#d8576b\"], [0.6666666666666666, \"#ed7953\"], [0.7777777777777778, \"#fb9f3a\"], [0.8888888888888888, \"#fdca26\"], [1.0, \"#f0f921\"]], \"type\": \"histogram2dcontour\"}], \"mesh3d\": [{\"colorbar\": {\"outlinewidth\": 0, \"ticks\": \"\"}, \"type\": \"mesh3d\"}], \"parcoords\": [{\"line\": {\"colorbar\": {\"outlinewidth\": 0, \"ticks\": \"\"}}, \"type\": \"parcoords\"}], \"pie\": [{\"automargin\": true, \"type\": \"pie\"}], \"scatter\": [{\"marker\": {\"colorbar\": {\"outlinewidth\": 0, \"ticks\": \"\"}}, \"type\": \"scatter\"}], \"scatter3d\": [{\"line\": {\"colorbar\": {\"outlinewidth\": 0, \"ticks\": \"\"}}, \"marker\": {\"colorbar\": {\"outlinewidth\": 0, \"ticks\": \"\"}}, \"type\": \"scatter3d\"}], \"scattercarpet\": [{\"marker\": {\"colorbar\": {\"outlinewidth\": 0, \"ticks\": \"\"}}, \"type\": \"scattercarpet\"}], \"scattergeo\": [{\"marker\": {\"colorbar\": {\"outlinewidth\": 0, \"ticks\": \"\"}}, \"type\": \"scattergeo\"}], \"scattergl\": [{\"marker\": {\"colorbar\": {\"outlinewidth\": 0, \"ticks\": \"\"}}, \"type\": \"scattergl\"}], \"scattermapbox\": [{\"marker\": {\"colorbar\": {\"outlinewidth\": 0, \"ticks\": \"\"}}, \"type\": \"scattermapbox\"}], \"scatterpolar\": [{\"marker\": {\"colorbar\": {\"outlinewidth\": 0, \"ticks\": \"\"}}, \"type\": \"scatterpolar\"}], \"scatterpolargl\": [{\"marker\": {\"colorbar\": {\"outlinewidth\": 0, \"ticks\": \"\"}}, \"type\": \"scatterpolargl\"}], \"scatterternary\": [{\"marker\": {\"colorbar\": {\"outlinewidth\": 0, \"ticks\": \"\"}}, \"type\": \"scatterternary\"}], \"surface\": [{\"colorbar\": {\"outlinewidth\": 0, \"ticks\": \"\"}, \"colorscale\": [[0.0, \"#0d0887\"], [0.1111111111111111, \"#46039f\"], [0.2222222222222222, \"#7201a8\"], [0.3333333333333333, \"#9c179e\"], [0.4444444444444444, \"#bd3786\"], [0.5555555555555556, \"#d8576b\"], [0.6666666666666666, \"#ed7953\"], [0.7777777777777778, \"#fb9f3a\"], [0.8888888888888888, \"#fdca26\"], [1.0, \"#f0f921\"]], \"type\": \"surface\"}], \"table\": [{\"cells\": {\"fill\": {\"color\": \"#EBF0F8\"}, \"line\": {\"color\": \"white\"}}, \"header\": {\"fill\": {\"color\": \"#C8D4E3\"}, \"line\": {\"color\": \"white\"}}, \"type\": \"table\"}]}, \"layout\": {\"annotationdefaults\": {\"arrowcolor\": \"#2a3f5f\", \"arrowhead\": 0, \"arrowwidth\": 1}, \"coloraxis\": {\"colorbar\": {\"outlinewidth\": 0, \"ticks\": \"\"}}, \"colorscale\": {\"diverging\": [[0, \"#8e0152\"], [0.1, \"#c51b7d\"], [0.2, \"#de77ae\"], [0.3, \"#f1b6da\"], [0.4, \"#fde0ef\"], [0.5, \"#f7f7f7\"], [0.6, \"#e6f5d0\"], [0.7, \"#b8e186\"], [0.8, \"#7fbc41\"], [0.9, \"#4d9221\"], [1, \"#276419\"]], \"sequential\": [[0.0, \"#0d0887\"], [0.1111111111111111, \"#46039f\"], [0.2222222222222222, \"#7201a8\"], [0.3333333333333333, \"#9c179e\"], [0.4444444444444444, \"#bd3786\"], [0.5555555555555556, \"#d8576b\"], [0.6666666666666666, \"#ed7953\"], [0.7777777777777778, \"#fb9f3a\"], [0.8888888888888888, \"#fdca26\"], [1.0, \"#f0f921\"]], \"sequentialminus\": [[0.0, \"#0d0887\"], [0.1111111111111111, \"#46039f\"], [0.2222222222222222, \"#7201a8\"], [0.3333333333333333, \"#9c179e\"], [0.4444444444444444, \"#bd3786\"], [0.5555555555555556, \"#d8576b\"], [0.6666666666666666, \"#ed7953\"], [0.7777777777777778, \"#fb9f3a\"], [0.8888888888888888, \"#fdca26\"], [1.0, \"#f0f921\"]]}, \"colorway\": [\"#636efa\", \"#EF553B\", \"#00cc96\", \"#ab63fa\", \"#FFA15A\", \"#19d3f3\", \"#FF6692\", \"#B6E880\", \"#FF97FF\", \"#FECB52\"], \"font\": {\"color\": \"#2a3f5f\"}, \"geo\": {\"bgcolor\": \"white\", \"lakecolor\": \"white\", \"landcolor\": \"#E5ECF6\", \"showlakes\": true, \"showland\": true, \"subunitcolor\": \"white\"}, \"hoverlabel\": {\"align\": \"left\"}, \"hovermode\": \"closest\", \"mapbox\": {\"style\": \"light\"}, \"paper_bgcolor\": \"white\", \"plot_bgcolor\": \"#E5ECF6\", \"polar\": {\"angularaxis\": {\"gridcolor\": \"white\", \"linecolor\": \"white\", \"ticks\": \"\"}, \"bgcolor\": \"#E5ECF6\", \"radialaxis\": {\"gridcolor\": \"white\", \"linecolor\": \"white\", \"ticks\": \"\"}}, \"scene\": {\"xaxis\": {\"backgroundcolor\": \"#E5ECF6\", \"gridcolor\": \"white\", \"gridwidth\": 2, \"linecolor\": \"white\", \"showbackground\": true, \"ticks\": \"\", \"zerolinecolor\": \"white\"}, \"yaxis\": {\"backgroundcolor\": \"#E5ECF6\", \"gridcolor\": \"white\", \"gridwidth\": 2, \"linecolor\": \"white\", \"showbackground\": true, \"ticks\": \"\", \"zerolinecolor\": \"white\"}, \"zaxis\": {\"backgroundcolor\": \"#E5ECF6\", \"gridcolor\": \"white\", \"gridwidth\": 2, \"linecolor\": \"white\", \"showbackground\": true, \"ticks\": \"\", \"zerolinecolor\": \"white\"}}, \"shapedefaults\": {\"line\": {\"color\": \"#2a3f5f\"}}, \"ternary\": {\"aaxis\": {\"gridcolor\": \"white\", \"linecolor\": \"white\", \"ticks\": \"\"}, \"baxis\": {\"gridcolor\": \"white\", \"linecolor\": \"white\", \"ticks\": \"\"}, \"bgcolor\": \"#E5ECF6\", \"caxis\": {\"gridcolor\": \"white\", \"linecolor\": \"white\", \"ticks\": \"\"}}, \"title\": {\"x\": 0.05}, \"xaxis\": {\"automargin\": true, \"gridcolor\": \"white\", \"linecolor\": \"white\", \"ticks\": \"\", \"title\": {\"standoff\": 15}, \"zerolinecolor\": \"white\", \"zerolinewidth\": 2}, \"yaxis\": {\"automargin\": true, \"gridcolor\": \"white\", \"linecolor\": \"white\", \"ticks\": \"\", \"title\": {\"standoff\": 15}, \"zerolinecolor\": \"white\", \"zerolinewidth\": 2}}}, \"title\": {\"text\": \"Is it cancerous?\"}, \"xaxis\": {\"title\": {\"text\": \"mean area\"}}, \"yaxis\": {\"range\": [0, 0.5], \"title\": {\"text\": \"mean concavity\"}}},\n",
       "                        {\"responsive\": true}\n",
       "                    ).then(function(){\n",
       "                            \n",
       "var gd = document.getElementById('8e1ebc3c-f136-4b44-913d-fafaf3ddfbeb');\n",
       "var x = new MutationObserver(function (mutations, observer) {{\n",
       "        var display = window.getComputedStyle(gd).display;\n",
       "        if (!display || display === 'none') {{\n",
       "            console.log([gd, 'removed!']);\n",
       "            Plotly.purge(gd);\n",
       "            observer.disconnect();\n",
       "        }}\n",
       "}});\n",
       "\n",
       "// Listen for the removal of the full notebook cells\n",
       "var notebookContainer = gd.closest('#notebook-container');\n",
       "if (notebookContainer) {{\n",
       "    x.observe(notebookContainer, {childList: true});\n",
       "}}\n",
       "\n",
       "// Listen for the clearing of the current output cell\n",
       "var outputEl = gd.closest('.output');\n",
       "if (outputEl) {{\n",
       "    x.observe(outputEl, {childList: true});\n",
       "}}\n",
       "\n",
       "                        })\n",
       "                };\n",
       "                });\n",
       "            </script>\n",
       "        </div>"
      ]
     },
     "metadata": {},
     "output_type": "display_data"
    }
   ],
   "source": [
    "go.Figure(data)"
   ]
  },
  {
   "cell_type": "code",
   "execution_count": null,
   "metadata": {},
   "outputs": [],
   "source": []
  }
 ],
 "metadata": {
  "kernelspec": {
   "display_name": "Python 3",
   "language": "python",
   "name": "python3"
  },
  "language_info": {
   "codemirror_mode": {
    "name": "ipython",
    "version": 3
   },
   "file_extension": ".py",
   "mimetype": "text/x-python",
   "name": "python",
   "nbconvert_exporter": "python",
   "pygments_lexer": "ipython3",
   "version": "3.7.4"
  }
 },
 "nbformat": 4,
 "nbformat_minor": 4
}
