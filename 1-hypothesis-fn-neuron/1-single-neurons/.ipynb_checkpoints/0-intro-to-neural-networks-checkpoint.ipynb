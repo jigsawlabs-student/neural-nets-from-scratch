{
 "cells": [
  {
   "cell_type": "markdown",
   "metadata": {},
   "source": [
    "# Intro to Deep Learning"
   ]
  },
  {
   "cell_type": "markdown",
   "metadata": {},
   "source": [
    "### Introduction"
   ]
  },
  {
   "cell_type": "markdown",
   "metadata": {},
   "source": [
    "In the last lesson we saw the general process for machine learning.  How does a machine learning model make predictions?  Well it looks at what occured with past observations, and from there it finds a hypothesis function that's predicts what will happen going forward."
   ]
  },
  {
   "cell_type": "markdown",
   "metadata": {},
   "source": [
    "This sounds a bit like the way humans learn, doesn't it?"
   ]
  },
  {
   "cell_type": "markdown",
   "metadata": {},
   "source": [
    "Neural networks were created with the human machine learning process in mind.  And by looking at the way neurons in the human brain communicate to ultimately form thoughts.  Through doing this neural networks have been able to make new advances in the field of machine learning - like labeling pictures, text, or sound waves."
   ]
  },
  {
   "cell_type": "markdown",
   "metadata": {},
   "source": [
    "In learning about neural networks, we'll learn about the same components of machine learning algorithms in general: namely the training procedure and the hypothesis function."
   ]
  },
  {
   "cell_type": "markdown",
   "metadata": {},
   "source": [
    "Let's get started."
   ]
  },
  {
   "cell_type": "markdown",
   "metadata": {},
   "source": [
    "### Beginning with a network"
   ]
  },
  {
   "cell_type": "markdown",
   "metadata": {},
   "source": [
    "This is a real neural network.  Somehow the neural network gets inputs that are sensory like shapes, colors and smells and is able to form an output on the other end like should I eat that.  "
   ]
  },
  {
   "cell_type": "markdown",
   "metadata": {},
   "source": [
    "<img src=\"./mit-neurons.jpg\" width=\"50%\">"
   ]
  },
  {
   "cell_type": "markdown",
   "metadata": {},
   "source": [
    "Take a look at a representation of an artificial neural network below.  Each of the blue dots represent a different neuron, and the lines are the connections between neurons.  We can imagine that our first layer of neurons observe sensory inputs like colors and smells.  This information is passed along to the second layer which perhaps combines the information from the first layer to detect if what's in front of us is food.  And then finally, we have all the way to the right is a decision.  If the top neuron fires we eat what's in front of us, and if the bottom one fires we dont."
   ]
  },
  {
   "cell_type": "markdown",
   "metadata": {},
   "source": [
    "<img src=\"./artificial-network.png\" width=\"50%\">"
   ]
  },
  {
   "cell_type": "markdown",
   "metadata": {},
   "source": [
    "The point is that a neural network, natural or artificial, operates in layers.  And each layer is responsible for a judgment more abstract than the one before it, until ultimately we get to an final output: \n",
    "\n",
    "* is this tasty or not?  \n",
    "* Is this music classical or not?  \n",
    "* What letter is this?\n",
    "\n",
    "In each of the questions above, we can imagine higher levels of abstraction along the way."
   ]
  },
  {
   "cell_type": "markdown",
   "metadata": {},
   "source": [
    "But this idea of neurons working together in layers is something that we'll come back to.  For right now, let's zoom in on a single neuron."
   ]
  }
 ],
 "metadata": {
  "kernelspec": {
   "display_name": "Python 3",
   "language": "python",
   "name": "python3"
  },
  "language_info": {
   "codemirror_mode": {
    "name": "ipython",
    "version": 3
   },
   "file_extension": ".py",
   "mimetype": "text/x-python",
   "name": "python",
   "nbconvert_exporter": "python",
   "pygments_lexer": "ipython3",
   "version": "3.7.4"
  }
 },
 "nbformat": 4,
 "nbformat_minor": 4
}
