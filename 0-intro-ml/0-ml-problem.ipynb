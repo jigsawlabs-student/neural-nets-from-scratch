{
 "cells": [
  {
   "cell_type": "markdown",
   "metadata": {},
   "source": [
    "# The machine learning problem"
   ]
  },
  {
   "cell_type": "markdown",
   "metadata": {},
   "source": [
    "### A classic computer programming problem"
   ]
  },
  {
   "cell_type": "markdown",
   "metadata": {},
   "source": [
    "This is the problem that computer programming is designed to solve.\n",
    "\n",
    "1. Understand a real world procedure, or set of rules\n",
    "2. Translate those rules into code, so that code can follow that process"
   ]
  },
  {
   "cell_type": "markdown",
   "metadata": {},
   "source": [
    "For example, let's assume that we are writing a computer program to see if someone is qualified for a driver's license.  The standard legal driving age is 16 years old.  \n",
    "\n",
    "Let's translate this into code."
   ]
  },
  {
   "cell_type": "code",
   "execution_count": 1,
   "metadata": {},
   "outputs": [],
   "source": [
    "def legal_driving_age(age):\n",
    "    return age >= 16"
   ]
  },
  {
   "cell_type": "code",
   "execution_count": 2,
   "metadata": {},
   "outputs": [
    {
     "data": {
      "text/plain": [
       "True"
      ]
     },
     "execution_count": 2,
     "metadata": {},
     "output_type": "execute_result"
    }
   ],
   "source": [
    "legal_driving_age(14)\n",
    "# False\n",
    "legal_driving_age(16)\n",
    "# True"
   ]
  },
  {
   "cell_type": "markdown",
   "metadata": {},
   "source": [
    "### The limits of coding"
   ]
  },
  {
   "cell_type": "markdown",
   "metadata": {},
   "source": [
    "Now let's try to write a new program.  \n",
    "\n",
    "Let's write a program that predicts whether there will be a Hurricane in Miami next Friday."
   ]
  },
  {
   "cell_type": "code",
   "execution_count": 3,
   "metadata": {},
   "outputs": [],
   "source": [
    "# go for it"
   ]
  },
  {
   "cell_type": "markdown",
   "metadata": {},
   "source": [
    "Do you see the difference?  With the `legal_driving_age` function, we know that the input to the function is `age`, and we know how to use a person's age to determine if he can legally drive.  But with the hurricane problem, we have questions. \n",
    "1. What are the inputs to our function?\n",
    "    * The weather, the windspeed, the season\n",
    "2. And then how do each of these factors combine?  "
   ]
  },
  {
   "cell_type": "markdown",
   "metadata": {},
   "source": [
    "So unlike our legal driving age problem, here we do not start off knowing the underlying logic that determines the outcome. "
   ]
  },
  {
   "cell_type": "markdown",
   "metadata": {},
   "source": [
    "This difference becomes even more apparent if we think about some of the problems that neural networks can solve."
   ]
  },
  {
   "cell_type": "markdown",
   "metadata": {},
   "source": [
    "<img src=\"https://storage.cloud.google.com/curriculum-assets/nn-from-scratch/mnist.png\" width=\"40%\">"
   ]
  },
  {
   "cell_type": "markdown",
   "metadata": {},
   "source": [
    "Write a program that identifies the digit in a set of handwritten numbers - like those seen above.  Here again, it's difficult to know what to provide as the various inputs that distinguish one digit from the other.  Yet, somehow, machine learning can solve this problem.  And in fact, by the end of these lessons, we will have written a neural network that solves this problem.\n",
    "\n",
    "In the next lesson, we'll learn more about how."
   ]
  },
  {
   "cell_type": "markdown",
   "metadata": {},
   "source": [
    "### Summary\n",
    "\n",
    "In this lesson, we saw learned the types of problems that machine learning can help us solve.  We saw this in comparison to coding.  In standard programming, the programming work begins after understanding a set of rules.  With machine learning, we are trying to make a prediction of if something will occur, and do not start off knowing how to make that prediction.  We use machine learning to discover how to predict whether something will occur.  "
   ]
  },
  {
   "cell_type": "markdown",
   "metadata": {},
   "source": [
    "<center>\n",
    "<a href=\"https://www.jigsawlabs.io/free\" style=\"position: center\"><img src=\"https://storage.cloud.google.com/curriculum-assets/curriculum-assets.nosync/mom-files/jigsaw-labs.png\" width=\"15%\" style=\"text-align: center\"></a>\n",
    "</center>"
   ]
  }
 ],
 "metadata": {
  "kernelspec": {
   "display_name": "Python 3",
   "language": "python",
   "name": "python3"
  },
  "language_info": {
   "codemirror_mode": {
    "name": "ipython",
    "version": 3
   },
   "file_extension": ".py",
   "mimetype": "text/x-python",
   "name": "python",
   "nbconvert_exporter": "python",
   "pygments_lexer": "ipython3",
   "version": "3.8.3"
  }
 },
 "nbformat": 4,
 "nbformat_minor": 4
}
