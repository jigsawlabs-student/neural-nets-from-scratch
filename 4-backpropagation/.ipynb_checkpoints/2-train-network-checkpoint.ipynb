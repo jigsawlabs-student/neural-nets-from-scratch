{
 "cells": [
  {
   "cell_type": "markdown",
   "metadata": {},
   "source": [
    "# Training our Network"
   ]
  },
  {
   "cell_type": "markdown",
   "metadata": {},
   "source": [
    "### Introduction"
   ]
  },
  {
   "cell_type": "markdown",
   "metadata": {},
   "source": [
    "Now that we understand the components of our neural network, it's finally time to train our neural network.  In training our network, we'll need to use both the `feed_forward` function which makes predictions, as well as the back propagation function which will tell us how to update our parameters, the weight matrices and bias vectors of our linear layers."
   ]
  },
  {
   "cell_type": "markdown",
   "metadata": {},
   "source": [
    "### Architecting our Network"
   ]
  },
  {
   "cell_type": "markdown",
   "metadata": {},
   "source": [
    "In this lesson, we'll build a neural network that looks like the following:"
   ]
  },
  {
   "cell_type": "markdown",
   "metadata": {},
   "source": [
    "$$\n",
    "\\begin{aligned}\n",
    "z_1 & = xW_1 + b_1 \\\\\n",
    "a_1 & = \\sigma(z_1) \\\\\n",
    "z_2 & = a_1W_2 + b_2 \\\\\n",
    "\\end{aligned}\n",
    "$$"
   ]
  },
  {
   "cell_type": "markdown",
   "metadata": {},
   "source": [
    "We have a linear layer, which is passed into the activation layer, here the sigmoid function.  And then the ouputs from the activation layer are fed into our second linear layer, which makes predictions."
   ]
  },
  {
   "cell_type": "markdown",
   "metadata": {},
   "source": [
    "### Constructing our Weight Matrices"
   ]
  },
  {
   "cell_type": "markdown",
   "metadata": {},
   "source": [
    "Ok, let's load up our data."
   ]
  },
  {
   "cell_type": "code",
   "execution_count": 4,
   "metadata": {},
   "outputs": [],
   "source": [
    "from sklearn.datasets import make_moons\n",
    "import numpy as np\n",
    "np.random.seed(0)\n",
    "X, y = make_moons(200, noise=0.20)"
   ]
  },
  {
   "cell_type": "code",
   "execution_count": 5,
   "metadata": {},
   "outputs": [
    {
     "data": {
      "text/plain": [
       "(200, 2)"
      ]
     },
     "execution_count": 5,
     "metadata": {},
     "output_type": "execute_result"
    }
   ],
   "source": [
    "X.shape"
   ]
  },
  {
   "cell_type": "markdown",
   "metadata": {},
   "source": [
    "A quick inspection of the training data shows that we have two hundred observations, and that each observation has two features."
   ]
  },
  {
   "cell_type": "code",
   "execution_count": 6,
   "metadata": {},
   "outputs": [
    {
     "data": {
      "text/plain": [
       "array([[0.74346118, 0.46465633]])"
      ]
     },
     "execution_count": 6,
     "metadata": {},
     "output_type": "execute_result"
    }
   ],
   "source": [
    "X[:1]"
   ]
  },
  {
   "cell_type": "markdown",
   "metadata": {},
   "source": [
    "Now let's move onto constructing the weights and biases for our neural network.  Remember our network has the following architecture:"
   ]
  },
  {
   "cell_type": "markdown",
   "metadata": {},
   "source": [
    "$$\n",
    "\\begin{aligned}\n",
    "z_1 & = xW_1 + b_1 \\\\\n",
    "a_1 & = \\sigma(z_1) \\\\\n",
    "z_2 & = a_1W_2 + b_2 \\\\\n",
    "\\end{aligned}\n",
    "$$"
   ]
  },
  {
   "cell_type": "markdown",
   "metadata": {},
   "source": [
    "So we need our first weight matrix to have two rows, one for each feature, and we'll decide to have three neurons in that first layer.  \n",
    "\n",
    "For the second linear layer, because the network is fully connected, the number of inputs to each neuron equals the number of neurons in the previous layer.  Because the second layer is also our output layer, we have two columns -- one for each neuron, to predict each of the potential outputs."
   ]
  },
  {
   "cell_type": "markdown",
   "metadata": {},
   "source": [
    "> The divisor helps with the initialization weights - but is beyond the scope of these lessons."
   ]
  },
  {
   "cell_type": "code",
   "execution_count": 7,
   "metadata": {},
   "outputs": [],
   "source": [
    "import numpy as np\n",
    "np.random.seed(0)\n",
    "\n",
    "def init_model(n_features, neur_l1, neur_out):\n",
    "    W1 = np.random.randn(n_features, neur_l1) / np.sqrt(n_features)\n",
    "    b1 = np.zeros((1, neur_l1))\n",
    "    W2 = np.random.randn(neur_l1, neur_out) / np.sqrt(neur_l1)\n",
    "    b2 = np.zeros((1, neur_out))\n",
    "    model = {'W1': W1, 'b1': b1, 'W2': W2, 'b2': b2}\n",
    "    return model"
   ]
  },
  {
   "cell_type": "markdown",
   "metadata": {},
   "source": [
    "Now let's initialize the model. "
   ]
  },
  {
   "cell_type": "code",
   "execution_count": 8,
   "metadata": {},
   "outputs": [],
   "source": [
    "# n_features = 2 n_neurons_l1 = 3 n_neurons_ouput = 2 \n",
    "model = init_model(2, 3, 2)\n",
    "# model"
   ]
  },
  {
   "cell_type": "markdown",
   "metadata": {},
   "source": [
    "> Look at the model by uncommenting the last line."
   ]
  },
  {
   "cell_type": "markdown",
   "metadata": {},
   "source": [
    "### The forward method"
   ]
  },
  {
   "cell_type": "markdown",
   "metadata": {},
   "source": [
    "We can translate the above into code with the `feed_forward` method."
   ]
  },
  {
   "cell_type": "code",
   "execution_count": 9,
   "metadata": {},
   "outputs": [],
   "source": [
    "import numpy as np\n",
    "def sigma(x):\n",
    "    return 1/(1 + np.exp(-x))"
   ]
  },
  {
   "cell_type": "code",
   "execution_count": 10,
   "metadata": {},
   "outputs": [],
   "source": [
    "def forward(X, model):\n",
    "    W1, b1, W2, b2 = tuple(model.values())\n",
    "    z1 = X.dot(W1) + b1 \n",
    "    a1 = sigma(z1)\n",
    "    z2 = a1.dot(W2) + b2\n",
    "    return (z1, a1, z2)"
   ]
  },
  {
   "cell_type": "markdown",
   "metadata": {},
   "source": [
    "> Here we return the prediction $z_2$ from the model, as well as $z_1$ and $a_1$ as we will need them later when in computing the gradients."
   ]
  },
  {
   "cell_type": "code",
   "execution_count": 11,
   "metadata": {},
   "outputs": [
    {
     "data": {
      "text/plain": [
       "(array([[1.66364522, 0.82397314, 0.19343284]]),\n",
       " array([[0.84072672, 0.69507908, 0.54820799]]),\n",
       " array([[0.46533583, 0.55159625]]))"
      ]
     },
     "execution_count": 11,
     "metadata": {},
     "output_type": "execute_result"
    }
   ],
   "source": [
    "forward(X[:1], model)"
   ]
  },
  {
   "cell_type": "markdown",
   "metadata": {},
   "source": [
    "> The last array shows our predictions ($z_2$) for our neural network."
   ]
  },
  {
   "cell_type": "markdown",
   "metadata": {},
   "source": [
    "### Our Data and a Loss Function"
   ]
  },
  {
   "cell_type": "markdown",
   "metadata": {},
   "source": [
    "Let's quickly walk through our loss, feel free to break down the code further if you prefer."
   ]
  },
  {
   "cell_type": "code",
   "execution_count": 12,
   "metadata": {},
   "outputs": [],
   "source": [
    "def scalar_to_index(val, num_options = 2):\n",
    "    y_ar = [0]*num_options\n",
    "    y_ar[val] = 1\n",
    "    return y_ar\n",
    "\n",
    "Y = np.stack([scalar_to_index(y_val) for y_val in y])"
   ]
  },
  {
   "cell_type": "markdown",
   "metadata": {},
   "source": [
    "Above we translate the original form of our targets:"
   ]
  },
  {
   "cell_type": "code",
   "execution_count": 13,
   "metadata": {},
   "outputs": [
    {
     "data": {
      "text/plain": [
       "array([0, 1, 1])"
      ]
     },
     "execution_count": 13,
     "metadata": {},
     "output_type": "execute_result"
    }
   ],
   "source": [
    "y[:3]"
   ]
  },
  {
   "cell_type": "markdown",
   "metadata": {},
   "source": [
    "To the following:"
   ]
  },
  {
   "cell_type": "code",
   "execution_count": 14,
   "metadata": {},
   "outputs": [
    {
     "data": {
      "text/plain": [
       "array([[1, 0],\n",
       "       [0, 1],\n",
       "       [0, 1]])"
      ]
     },
     "execution_count": 14,
     "metadata": {},
     "output_type": "execute_result"
    }
   ],
   "source": [
    "Y[:3]"
   ]
  },
  {
   "cell_type": "markdown",
   "metadata": {},
   "source": [
    "Now each observation has two columns to represent the target.  Above, the `[1, 0]` in the first row means that the target was a 0.  As there was a 1 in the 0 index.  And that the first observation **was not** a `1`, as there was a 0 in the 1 index."
   ]
  },
  {
   "cell_type": "markdown",
   "metadata": {},
   "source": [
    "We use this in our calculate loss function, so that we can compare our predictions to the observations."
   ]
  },
  {
   "cell_type": "code",
   "execution_count": 15,
   "metadata": {},
   "outputs": [],
   "source": [
    "def calculate_loss(Y, Y_hat):\n",
    "    total_error = ((Y - Y_hat)**2).sum()\n",
    "    return total_error"
   ]
  },
  {
   "cell_type": "markdown",
   "metadata": {},
   "source": [
    "This is the loss function that we'll use to see how well our function is doing. "
   ]
  },
  {
   "cell_type": "markdown",
   "metadata": {},
   "source": [
    "### Moving to Gradients"
   ]
  },
  {
   "cell_type": "markdown",
   "metadata": {},
   "source": [
    "We go through the calculation of gradients in a dedicated lesson.  Let's copy and paste the code from there below."
   ]
  },
  {
   "cell_type": "code",
   "execution_count": 16,
   "metadata": {},
   "outputs": [],
   "source": [
    "def backwards(z1, a1, W2, Y, Y_hat, X):\n",
    "    dloss = (Y_hat - Y)\n",
    "    dW2 = (a1.T).dot(dloss)\n",
    "    db2 = np.sum(dloss, axis=0, keepdims=True)\n",
    "    da1 = dloss.dot(W2.T) \n",
    "    d_sigma = sigma(z1)*(1 - sigma(z1))*da1\n",
    "    dW1 = np.dot(X.T, d_sigma)\n",
    "    db1 = np.sum(d_sigma, axis=0)\n",
    "    return (dW1, db1, dW2, db2)"
   ]
  },
  {
   "cell_type": "markdown",
   "metadata": {},
   "source": [
    "We also need to define the sigmoid function (named `sigma`), as our backwards function relies on it.  "
   ]
  },
  {
   "cell_type": "code",
   "execution_count": 17,
   "metadata": {},
   "outputs": [],
   "source": [
    "def sigma(x): return 1/(1 + np.exp(-x))"
   ]
  },
  {
   "cell_type": "markdown",
   "metadata": {},
   "source": [
    "One more note about the above functin, note that it returns a tuple of the gradients of all of our parameters -- $W1$, $b1$, $W2$, $b2$.  It does not *update* the parameters itself.  It just calculates the derivatives."
   ]
  },
  {
   "cell_type": "markdown",
   "metadata": {},
   "source": [
    "The updating occurs in the `step` function.  The step function takes in the parameters of the current version of the neural network, as well as the amount to update them by, and updates the parameters accordingly.  We also pass through our learning rate, eta, $\\eta$."
   ]
  },
  {
   "cell_type": "code",
   "execution_count": 18,
   "metadata": {},
   "outputs": [],
   "source": [
    "eta = .001\n",
    "def step(W1, b1, W2, b2, dW2, db2, dW1, db1, eta):\n",
    "    W1 = W1 -eta * dW1\n",
    "    b1 = b1 -eta * db1\n",
    "    W2 = W2 -eta * dW2\n",
    "    b2 = b2 -eta * db2\n",
    "    model = { 'W1': W1, 'b1': b1, 'W2': W2, 'b2': b2}\n",
    "    return model"
   ]
  },
  {
   "cell_type": "markdown",
   "metadata": {},
   "source": [
    "### Train Model"
   ]
  },
  {
   "cell_type": "code",
   "execution_count": 19,
   "metadata": {},
   "outputs": [],
   "source": [
    "def train_model(model, X, Y, n_steps=20000, print_loss=False):\n",
    "    for i in range(0, n_steps):          \n",
    "        W1, b1, W2, b2 = tuple(model.values())\n",
    "        (z1, a1, y_hats) = forward(X, model)\n",
    "        dW1, db1, dW2, db2 = backwards(z1, a1, W2, Y, y_hats, X)\n",
    "        model = step(W1, b1, W2, b2, dW2, db2, dW1, db1, eta)\n",
    "        if print_loss and i % 1000 == 0:\n",
    "          print(\"Loss after iteration %i: %f\" %(i, calculate_loss(Y, y_hats)))\n",
    "    return model"
   ]
  },
  {
   "cell_type": "markdown",
   "metadata": {},
   "source": [
    "Let's take a moment to follow the procedure here.  We begin by initializing the model, and then take a number of steps, just like we did with gradient descent in one dimension.  In each step, we start with the parameters of the model.  We make predictions with the model with the `forward` function.  Then with the `backwards` function we calculate the gradient that minimizes the cost curve.  Then we take update our parameters by an amount proportional to the gradient in the step function.  After a certain number of steps we return the model, which contains our parameters."
   ]
  },
  {
   "cell_type": "markdown",
   "metadata": {},
   "source": [
    "### Executing the model"
   ]
  },
  {
   "cell_type": "markdown",
   "metadata": {},
   "source": [
    "Ok, time to run the model.  Note that we just like in gradient descent, we take multiple step sizes to minimize our cost function.  We specify the number of steps, but feel free to change this number."
   ]
  },
  {
   "cell_type": "code",
   "execution_count": 20,
   "metadata": {},
   "outputs": [],
   "source": [
    "initial_model = init_model(2, 3, 2)"
   ]
  },
  {
   "cell_type": "code",
   "execution_count": 21,
   "metadata": {},
   "outputs": [
    {
     "name": "stdout",
     "output_type": "stream",
     "text": [
      "Loss after iteration 0: 475.240545\n",
      "Loss after iteration 1000: 39.755335\n",
      "Loss after iteration 2000: 39.483163\n",
      "Loss after iteration 3000: 39.125230\n",
      "Loss after iteration 4000: 38.662951\n",
      "Loss after iteration 5000: 37.978124\n",
      "Loss after iteration 6000: 36.065406\n",
      "Loss after iteration 7000: 29.679789\n",
      "Loss after iteration 8000: 23.759767\n",
      "Loss after iteration 9000: 22.229779\n",
      "Loss after iteration 10000: 21.786216\n",
      "Loss after iteration 11000: 21.613394\n",
      "Loss after iteration 12000: 21.535944\n",
      "Loss after iteration 13000: 21.490618\n",
      "Loss after iteration 14000: 21.450111\n",
      "Loss after iteration 15000: 21.400281\n",
      "Loss after iteration 16000: 21.328711\n",
      "Loss after iteration 17000: 21.217920\n",
      "Loss after iteration 18000: 21.041957\n",
      "Loss after iteration 19000: 20.770505\n",
      "Loss after iteration 20000: 20.385841\n",
      "Loss after iteration 21000: 19.903950\n",
      "Loss after iteration 22000: 19.377323\n",
      "Loss after iteration 23000: 18.872117\n",
      "Loss after iteration 24000: 18.436879\n",
      "Loss after iteration 25000: 18.086618\n",
      "Loss after iteration 26000: 17.809569\n",
      "Loss after iteration 27000: 17.583208\n",
      "Loss after iteration 28000: 17.385893\n",
      "Loss after iteration 29000: 17.201640\n"
     ]
    }
   ],
   "source": [
    "model = train_model(initial_model, X, Y, n_steps=30000, print_loss=True)"
   ]
  },
  {
   "cell_type": "markdown",
   "metadata": {},
   "source": [
    "Now let's see how well we did."
   ]
  },
  {
   "cell_type": "code",
   "execution_count": 22,
   "metadata": {},
   "outputs": [
    {
     "data": {
      "image/png": "[encoded data removed]",
      "text/plain": [
       "<Figure size 720x576 with 1 Axes>"
      ]
     },
     "metadata": {
      "needs_background": "light"
     },
     "output_type": "display_data"
    }
   ],
   "source": [
    "import matplotlib.pyplot as plt\n",
    "import matplotlib\n",
    "import numpy as np\n",
    "# Display plots inline and change default figure size\n",
    "%matplotlib inline\n",
    "matplotlib.rcParams['figure.figsize'] = (10.0, 8.0)\n",
    "\n",
    "def plot_decision_boundary(pred_func, X):\n",
    "    x_min, x_max = X[:, 0].min() - .5, X[:, 0].max() + .5\n",
    "    y_min, y_max = X[:, 1].min() - .5, X[:, 1].max() + .5\n",
    "    h = 0.01\n",
    "    xx, yy = np.meshgrid(np.arange(x_min, x_max, h), np.arange(y_min, y_max, h))\n",
    "    Z = pred_func(np.c_[xx.ravel(), yy.ravel()])\n",
    "    Z = Z.reshape(xx.shape)\n",
    "    plt.contourf(xx, yy, Z, cmap=plt.cm.Spectral)\n",
    "    plt.scatter(X[:, 0], X[:, 1], c=y, cmap=plt.cm.Spectral)\n",
    "\n",
    "def predict(model, x):\n",
    "    W1, b1, W2, b2 = tuple(model.values())\n",
    "    (z1, a1, y_hats) = forward(x, model)\n",
    "    return np.argmax(y_hats, axis=1)\n",
    "\n",
    "# Plot the decision boundary\n",
    "plot_decision_boundary(lambda x: predict(model, x), X)\n",
    "# plt.title(\"Decision Boundary for hidden layer size 3\")"
   ]
  },
  {
   "cell_type": "markdown",
   "metadata": {},
   "source": [
    "We can train the fit the model to the data even more by increasing the number of `epochs`."
   ]
  },
  {
   "cell_type": "markdown",
   "metadata": {},
   "source": [
    "### Summary"
   ]
  },
  {
   "cell_type": "markdown",
   "metadata": {},
   "source": [
    "In this lesson, we built our neural network.  The heart of the code is our train model function: "
   ]
  },
  {
   "cell_type": "markdown",
   "metadata": {},
   "source": [
    "```python\n",
    "def train_model(model, X, Y, n_steps=20000, print_loss=False):\n",
    "    for i in range(0, n_steps):          \n",
    "        W1, b1, W2, b2 = tuple(model.values())\n",
    "        (z1, a1, y_hats) = forward(X, W1, b1, W2, b2)\n",
    "        dW1, db1, dW2, db2 = backwards(z1, a1, W2, Y, y_hats, X)\n",
    "        model = step(W1, b1, W2, b2, dW2, db2, dW1, db1, eta)\n",
    "        if print_loss and i % 1000 == 0:\n",
    "          print(\"Loss after iteration %i: %f\" %(i, calculate_loss(Y, y_hats)))\n",
    "    return model\n",
    "```"
   ]
  },
  {
   "cell_type": "markdown",
   "metadata": {},
   "source": [
    "See how well you can explain each of the steps involved.  Great work!"
   ]
  },
  {
   "cell_type": "markdown",
   "metadata": {},
   "source": [
    "### Resources"
   ]
  },
  {
   "cell_type": "markdown",
   "metadata": {},
   "source": [
    "* [Code derived from wildml blog post](http://www.wildml.com/2015/09/implementing-a-neural-network-from-scratch/)\n",
    "\n",
    "* [gradient of bias](https://datascience.stackexchange.com/questions/20139/gradients-for-bias-terms-in-backpropagation)\n",
    "\n",
    "* If interested in a different loss function, look at [cross entropy](https://towardsdatascience.com/understanding-binary-cross-entropy-log-loss-a-visual-explanation-a3ac6025181a)"
   ]
  }
 ],
 "metadata": {
  "kernelspec": {
   "display_name": "Python 3",
   "language": "python",
   "name": "python3"
  },
  "language_info": {
   "codemirror_mode": {
    "name": "ipython",
    "version": 3
   },
   "file_extension": ".py",
   "mimetype": "text/x-python",
   "name": "python",
   "nbconvert_exporter": "python",
   "pygments_lexer": "ipython3",
   "version": "3.7.4"
  }
 },
 "nbformat": 4,
 "nbformat_minor": 4
}
