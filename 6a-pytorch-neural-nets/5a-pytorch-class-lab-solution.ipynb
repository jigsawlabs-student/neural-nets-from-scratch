{
 "cells": [
  {
   "cell_type": "markdown",
   "metadata": {},
   "source": [
    "# Pytorch Class Lab"
   ]
  },
  {
   "cell_type": "markdown",
   "metadata": {},
   "source": [
    "### Introduction "
   ]
  },
  {
   "cell_type": "markdown",
   "metadata": {},
   "source": [
    "In this lesson, we'll become more familiar with working initializing a neural network in Pytorch with classes.  Let's get started."
   ]
  },
  {
   "cell_type": "markdown",
   "metadata": {},
   "source": [
    "### Defining a Class"
   ]
  },
  {
   "cell_type": "markdown",
   "metadata": {},
   "source": [
    "Begin by defining a Pytorch class with three layers.  The class should have attributes of $W1$, $W2$, and $W3$ each of which point to a different linear layer."
   ]
  },
  {
   "cell_type": "markdown",
   "metadata": {},
   "source": [
    "> The input layer should take in `28*28` features, with 64 neurons.  The second layer should have 16 neurons, and the last layer should make 10 predictions for each observation."
   ]
  },
  {
   "cell_type": "code",
   "execution_count": 3,
   "metadata": {},
   "outputs": [],
   "source": [
    "import torch.nn as nn\n",
    "import torch.nn.functional as F\n",
    "class Net(nn.Module):\n",
    "    def __init__(self):\n",
    "        super().__init__()\n",
    "        self.W1 = nn.Linear(28*28, 64)\n",
    "        self.W2 = nn.Linear(64, 16)\n",
    "        self.W3 = nn.Linear(16, 10)\n",
    "        \n",
    "    def forward(self, X):\n",
    "        A1 = torch.sigmoid(self.W1(X))\n",
    "        A2 = torch.sigmoid(self.W2(A1))\n",
    "        Z3 = torch.sigmoid(self.W3(A2))\n",
    "        return F.log_softmax(Z3, dim = 1)"
   ]
  },
  {
   "cell_type": "code",
   "execution_count": 4,
   "metadata": {},
   "outputs": [
    {
     "data": {
      "text/plain": [
       "Net(\n",
       "  (W1): Linear(in_features=784, out_features=64, bias=True)\n",
       "  (W2): Linear(in_features=64, out_features=16, bias=True)\n",
       "  (W3): Linear(in_features=16, out_features=10, bias=True)\n",
       ")"
      ]
     },
     "execution_count": 4,
     "metadata": {},
     "output_type": "execute_result"
    }
   ],
   "source": [
    "import torch\n",
    "torch.manual_seed(12)\n",
    "\n",
    "neural_net = Net()\n",
    "\n",
    "neural_net\n",
    "\n",
    "# Net(\n",
    "#   (W1): Linear(in_features=784, out_features=64, bias=True)\n",
    "#   (W2): Linear(in_features=64, out_features=16, bias=True)\n",
    "#   (W3): Linear(in_features=16, out_features=10, bias=True)\n",
    "# )\n"
   ]
  },
  {
   "cell_type": "markdown",
   "metadata": {},
   "source": [
    "Next, write the `forward` function.  It should pass each the first two layers through the sigmoid function.  Then the last layer should be a `log_softmax` activation function.  Set `dim = 1` in the `log_softmax` function.\n",
    "\n",
    "> The `log_softmax` function is the same as the softmax function except that the log is then applied to softmax.  It is often used in a neural network.\n",
    "\n",
    "Ok, here is an observation."
   ]
  },
  {
   "cell_type": "code",
   "execution_count": 6,
   "metadata": {},
   "outputs": [],
   "source": [
    "import torch\n",
    "torch.manual_seed(12)\n",
    "x = torch.randn(1, 784)"
   ]
  },
  {
   "cell_type": "code",
   "execution_count": 7,
   "metadata": {},
   "outputs": [
    {
     "data": {
      "text/plain": [
       "torch.Size([1, 784])"
      ]
     },
     "execution_count": 7,
     "metadata": {},
     "output_type": "execute_result"
    }
   ],
   "source": [
    "x.shape"
   ]
  },
  {
   "cell_type": "code",
   "execution_count": 8,
   "metadata": {},
   "outputs": [
    {
     "data": {
      "text/plain": [
       "tensor([[-2.2135, -2.4482, -2.2330, -2.3596, -2.3348, -2.2169, -2.3197, -2.3751,\n",
       "         -2.2690, -2.2820]], grad_fn=<LogSoftmaxBackward>)"
      ]
     },
     "execution_count": 8,
     "metadata": {},
     "output_type": "execute_result"
    }
   ],
   "source": [
    "predictions = neural_net(x)\n",
    "\n",
    "predictions\n",
    "\n",
    "# tensor([[-2.2135, -2.4482, -2.2330, -2.3596, -2.3348, -2.2169, -2.3197, -2.3751,\n",
    "#          -2.2690, -2.2820]], grad_fn=<LogSoftmaxBackward>)"
   ]
  },
  {
   "cell_type": "markdown",
   "metadata": {},
   "source": [
    "We can translate these predictions into probabilities by passing the outputs to the exponent function."
   ]
  },
  {
   "cell_type": "code",
   "execution_count": 9,
   "metadata": {},
   "outputs": [
    {
     "data": {
      "text/plain": [
       "tensor([[0.1093, 0.0864, 0.1072, 0.0945, 0.0968, 0.1089, 0.0983, 0.0930, 0.1034,\n",
       "         0.1021]], grad_fn=<ExpBackward>)"
      ]
     },
     "execution_count": 9,
     "metadata": {},
     "output_type": "execute_result"
    }
   ],
   "source": [
    "torch.exp(predictions)\n",
    "\n",
    "# tensor([[0.1093, 0.0864, 0.1072, 0.0945, 0.0968, 0.1089, 0.0983, 0.0930, 0.1034,\n",
    "#          0.1021]], grad_fn=<ExpBackward>)"
   ]
  },
  {
   "cell_type": "markdown",
   "metadata": {},
   "source": [
    "### Exploring BackPropagation"
   ]
  },
  {
   "cell_type": "markdown",
   "metadata": {},
   "source": [
    "Notice that our prediction tensor has a gradient function associated with it.  This is because the predictions come from a linear layer that automatically has the `requires_grad = True` option set."
   ]
  },
  {
   "cell_type": "code",
   "execution_count": 107,
   "metadata": {},
   "outputs": [
    {
     "data": {
      "text/plain": [
       "tensor([[-2.4225, -2.2919, -2.1338, -2.3123, -2.1192, -2.4466, -2.2972, -2.4385,\n",
       "         -2.2620, -2.3632]], grad_fn=<LogSoftmaxBackward>)"
      ]
     },
     "execution_count": 107,
     "metadata": {},
     "output_type": "execute_result"
    }
   ],
   "source": [
    "predictions"
   ]
  },
  {
   "cell_type": "markdown",
   "metadata": {},
   "source": [
    "Ultimately, we'll need to pass these predictions to a loss function."
   ]
  },
  {
   "cell_type": "markdown",
   "metadata": {},
   "source": [
    "> Let's initialize the cross entropy loss from pytorch's nn module."
   ]
  },
  {
   "cell_type": "code",
   "execution_count": 108,
   "metadata": {},
   "outputs": [],
   "source": [
    "loss = nn.CrossEntropyLoss()"
   ]
  },
  {
   "cell_type": "code",
   "execution_count": 109,
   "metadata": {},
   "outputs": [
    {
     "data": {
      "text/plain": [
       "tensor([0])"
      ]
     },
     "execution_count": 109,
     "metadata": {},
     "output_type": "execute_result"
    }
   ],
   "source": [
    "y_actual = torch.tensor(0).view(1)\n",
    "y_actual"
   ]
  },
  {
   "cell_type": "markdown",
   "metadata": {},
   "source": [
    "Our cross entropy `loss` function initialized above takes predictions and the actual value.  "
   ]
  },
  {
   "cell_type": "code",
   "execution_count": 110,
   "metadata": {},
   "outputs": [
    {
     "data": {
      "text/plain": [
       "tensor(2.4225, grad_fn=<NllLossBackward>)"
      ]
     },
     "execution_count": 110,
     "metadata": {},
     "output_type": "execute_result"
    }
   ],
   "source": [
    "loss(predictions, torch.tensor(0).view(1))"
   ]
  },
  {
   "cell_type": "markdown",
   "metadata": {},
   "source": [
    "Notice that it returns a tensor with a gradient function.  So if we wish to calculate the gradient of the parameters in our linear layer on the cort function we should be able to do so."
   ]
  },
  {
   "cell_type": "code",
   "execution_count": 111,
   "metadata": {},
   "outputs": [
    {
     "data": {
      "text/plain": [
       "tensor(2.4225, grad_fn=<NllLossBackward>)"
      ]
     },
     "execution_count": 111,
     "metadata": {},
     "output_type": "execute_result"
    }
   ],
   "source": [
    "cost = loss(predictions, torch.tensor(0).view(1))\n",
    "cost"
   ]
  },
  {
   "cell_type": "markdown",
   "metadata": {},
   "source": [
    "First, have pytorch perform back-propagation."
   ]
  },
  {
   "cell_type": "code",
   "execution_count": 112,
   "metadata": {},
   "outputs": [],
   "source": [
    "cost.backward()"
   ]
  },
  {
   "cell_type": "markdown",
   "metadata": {},
   "source": [
    "We can now look at the parameters and see that our gradient has been calculated."
   ]
  },
  {
   "cell_type": "markdown",
   "metadata": {},
   "source": [
    "> Comment and uncomment the line below."
   ]
  },
  {
   "cell_type": "code",
   "execution_count": 114,
   "metadata": {},
   "outputs": [],
   "source": [
    "# for i in neural_net.parameters():\n",
    "#     print(i.grad)"
   ]
  },
  {
   "cell_type": "markdown",
   "metadata": {},
   "source": [
    "And let's take a look at the parameters of our neural network.  Use similar code to look at the parameters of the neural network.\n",
    "\n",
    "> Copy the first few weights of the first linear layer below for safe-keeping."
   ]
  },
  {
   "cell_type": "code",
   "execution_count": 117,
   "metadata": {},
   "outputs": [],
   "source": [
    "\n",
    "# #"
   ]
  },
  {
   "cell_type": "markdown",
   "metadata": {},
   "source": [
    "Now to actually make a change and update our parameters, we need to initialize an optimizer."
   ]
  },
  {
   "cell_type": "code",
   "execution_count": 118,
   "metadata": {},
   "outputs": [
    {
     "data": {
      "text/plain": [
       "Adam (\n",
       "Parameter Group 0\n",
       "    amsgrad: False\n",
       "    betas: (0.9, 0.999)\n",
       "    eps: 1e-08\n",
       "    lr: 0.0005\n",
       "    weight_decay: 0\n",
       ")"
      ]
     },
     "execution_count": 118,
     "metadata": {},
     "output_type": "execute_result"
    }
   ],
   "source": [
    "import torch.optim as optim\n",
    "adam = optim.Adam(neural_net.parameters(), lr=0.0005)\n",
    "adam"
   ]
  },
  {
   "cell_type": "markdown",
   "metadata": {},
   "source": [
    "And call the `step` function on the `adam` optimizer.  This will update the parameters by the gradient times the learning rate."
   ]
  },
  {
   "cell_type": "code",
   "execution_count": 119,
   "metadata": {},
   "outputs": [],
   "source": []
  },
  {
   "cell_type": "markdown",
   "metadata": {},
   "source": [
    "Then take another look at the parameters.  We should see that the parameters have been updated."
   ]
  },
  {
   "cell_type": "markdown",
   "metadata": {},
   "source": [
    "> Uncomment the cells below when done."
   ]
  },
  {
   "cell_type": "code",
   "execution_count": 121,
   "metadata": {},
   "outputs": [],
   "source": [
    "# for i in neural_net.parameters():\n",
    "#     print(i)\n",
    "    \n",
    "# -0.0290, -0.0104, -0.0239"
   ]
  },
  {
   "cell_type": "markdown",
   "metadata": {},
   "source": [
    "If we want to remove these gradients we should call cost."
   ]
  },
  {
   "cell_type": "code",
   "execution_count": 122,
   "metadata": {},
   "outputs": [],
   "source": [
    "neural_net.zero_grad()"
   ]
  },
  {
   "cell_type": "markdown",
   "metadata": {},
   "source": [
    "Now, let's take another look at the gradients of our neural net parameters.  Print them out below."
   ]
  },
  {
   "cell_type": "code",
   "execution_count": 124,
   "metadata": {},
   "outputs": [],
   "source": [
    "# for i in neural_net.parameters():\n",
    "#     print(i.grad)"
   ]
  },
  {
   "cell_type": "markdown",
   "metadata": {},
   "source": [
    "We can see that they are all zero."
   ]
  },
  {
   "cell_type": "markdown",
   "metadata": {},
   "source": [
    "### Summary"
   ]
  },
  {
   "cell_type": "markdown",
   "metadata": {},
   "source": [
    "In this lesson, we practiced creating an object oriented neural network in Pytorch.  We saw that creating the neural network meant defining two functions: \n",
    "\n",
    "* The `init` function where we define our linear layers and \n",
    "* The `forward` function where we specify a forward pass through the data\n",
    "\n",
    "Then we explored performing backpropagation to have Pytorch calculate the gradient of our linear layers in Pytorch.  Once we calculated the cost, we called `backward()` to perform backpropagation.  Then we saw we could update our parameters through the `adam.step()` function.  Finally, we cleared the gradients through the `neural_net.zero_grad()` function."
   ]
  },
  {
   "cell_type": "code",
   "execution_count": null,
   "metadata": {},
   "outputs": [],
   "source": []
  }
 ],
 "metadata": {
  "kernelspec": {
   "display_name": "Python 3",
   "language": "python",
   "name": "python3"
  },
  "language_info": {
   "codemirror_mode": {
    "name": "ipython",
    "version": 3
   },
   "file_extension": ".py",
   "mimetype": "text/x-python",
   "name": "python",
   "nbconvert_exporter": "python",
   "pygments_lexer": "ipython3",
   "version": "3.7.4"
  }
 },
 "nbformat": 4,
 "nbformat_minor": 4
}
